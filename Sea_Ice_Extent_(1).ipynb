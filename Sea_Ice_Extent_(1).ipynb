{
  "nbformat": 4,
  "nbformat_minor": 0,
  "metadata": {
    "interpreter": {
      "hash": "63fd5069d213b44bf678585dea6b12cceca9941eaf7f819626cde1f2670de90d"
    },
    "kernelspec": {
      "display_name": "Python 3.9.6 64-bit",
      "name": "python3"
    },
    "language_info": {
      "codemirror_mode": {
        "name": "ipython",
        "version": 3
      },
      "file_extension": ".py",
      "mimetype": "text/x-python",
      "name": "python",
      "nbconvert_exporter": "python",
      "pygments_lexer": "ipython3",
      "version": "3.9.6"
    },
    "colab": {
      "name": "Sea_Ice_Extent_(1).ipynb",
      "provenance": [],
      "collapsed_sections": [],
      "include_colab_link": true
    }
  },
  "cells": [
    {
      "cell_type": "markdown",
      "metadata": {
        "id": "view-in-github",
        "colab_type": "text"
      },
      "source": [
        "<a href=\"https://colab.research.google.com/github/PedroCanoM/Idal_ia3/blob/main/Sea_Ice_Extent_(1).ipynb\" target=\"_parent\"><img src=\"https://colab.research.google.com/assets/colab-badge.svg\" alt=\"Open In Colab\"/></a>"
      ]
    },
    {
      "cell_type": "markdown",
      "metadata": {
        "id": "eYSUw59a9gOm"
      },
      "source": [
        "### 1. Read and clean the data.\n",
        "Load the monthly sea ice extent (SIE) monthly data provided in the file 'SeaIce.txt'. Note variables ``extent`` (SIE) and ``area`` should be greater or equal than zero. Detect possible outliers and clean the data.  "
      ]
    },
    {
      "cell_type": "markdown",
      "metadata": {
        "id": "ONh4KRLl9gOj"
      },
      "source": [
        "\n",
        "### Climate Change and Sea Ice Extent\n",
        "\n",
        "We want to answer the question: Has there been a decrease in the amount of ice in the last years?\n",
        "\n",
        "For that we will use the sea ice extent measurements (in millions of square km) from the [National Snow & Ice Data Center](https://nsidc.org).\n",
        "\n",
        "We perform the following processing steps:\n",
        "1. Read and clean the data.\n",
        "2. Normalize the Sea Ice Extent (SIE) data and visualize its temporal trend.\n",
        "3. Compute the SIE temporal trend as a simple linear regression (OLS) and quantitatively evaluate it.\n",
        "4. Estimate the sea ice extent for 2025.\n"
      ]
    },
    {
      "cell_type": "code",
      "metadata": {
        "id": "ghb0QYrV9gOn"
      },
      "source": [
        "import pandas as pd\n",
        "import numpy as np\n",
        "import plotly.graph_objects as go\n",
        "import plotly.express as px\n",
        "import seaborn as sns\n",
        "import datetime as dt\n",
        "import statsmodels.api as sm"
      ],
      "execution_count": 78,
      "outputs": []
    },
    {
      "cell_type": "code",
      "metadata": {
        "colab": {
          "base_uri": "https://localhost:8080/",
          "height": 206
        },
        "id": "orEfoCu_9gOo",
        "outputId": "ceba1ac0-216a-432f-d8e7-dee186a43e4d"
      },
      "source": [
        "#cargamos los datos\n",
        "df = pd.read_csv('SeaIce.txt', sep='\\s+')\n",
        "df.head()"
      ],
      "execution_count": 36,
      "outputs": [
        {
          "output_type": "execute_result",
          "data": {
            "text/html": [
              "<div>\n",
              "<style scoped>\n",
              "    .dataframe tbody tr th:only-of-type {\n",
              "        vertical-align: middle;\n",
              "    }\n",
              "\n",
              "    .dataframe tbody tr th {\n",
              "        vertical-align: top;\n",
              "    }\n",
              "\n",
              "    .dataframe thead th {\n",
              "        text-align: right;\n",
              "    }\n",
              "</style>\n",
              "<table border=\"1\" class=\"dataframe\">\n",
              "  <thead>\n",
              "    <tr style=\"text-align: right;\">\n",
              "      <th></th>\n",
              "      <th>year</th>\n",
              "      <th>mo</th>\n",
              "      <th>data_type</th>\n",
              "      <th>region</th>\n",
              "      <th>extent</th>\n",
              "      <th>area</th>\n",
              "    </tr>\n",
              "  </thead>\n",
              "  <tbody>\n",
              "    <tr>\n",
              "      <th>0</th>\n",
              "      <td>1979</td>\n",
              "      <td>1</td>\n",
              "      <td>Goddard</td>\n",
              "      <td>N</td>\n",
              "      <td>15.54</td>\n",
              "      <td>12.33</td>\n",
              "    </tr>\n",
              "    <tr>\n",
              "      <th>1</th>\n",
              "      <td>1980</td>\n",
              "      <td>1</td>\n",
              "      <td>Goddard</td>\n",
              "      <td>N</td>\n",
              "      <td>14.96</td>\n",
              "      <td>11.85</td>\n",
              "    </tr>\n",
              "    <tr>\n",
              "      <th>2</th>\n",
              "      <td>1981</td>\n",
              "      <td>1</td>\n",
              "      <td>Goddard</td>\n",
              "      <td>N</td>\n",
              "      <td>15.03</td>\n",
              "      <td>11.82</td>\n",
              "    </tr>\n",
              "    <tr>\n",
              "      <th>3</th>\n",
              "      <td>1982</td>\n",
              "      <td>1</td>\n",
              "      <td>Goddard</td>\n",
              "      <td>N</td>\n",
              "      <td>15.26</td>\n",
              "      <td>12.11</td>\n",
              "    </tr>\n",
              "    <tr>\n",
              "      <th>4</th>\n",
              "      <td>1983</td>\n",
              "      <td>1</td>\n",
              "      <td>Goddard</td>\n",
              "      <td>N</td>\n",
              "      <td>15.10</td>\n",
              "      <td>11.92</td>\n",
              "    </tr>\n",
              "  </tbody>\n",
              "</table>\n",
              "</div>"
            ],
            "text/plain": [
              "   year  mo data_type region  extent   area\n",
              "0  1979   1   Goddard      N   15.54  12.33\n",
              "1  1980   1   Goddard      N   14.96  11.85\n",
              "2  1981   1   Goddard      N   15.03  11.82\n",
              "3  1982   1   Goddard      N   15.26  12.11\n",
              "4  1983   1   Goddard      N   15.10  11.92"
            ]
          },
          "metadata": {},
          "execution_count": 36
        }
      ]
    },
    {
      "cell_type": "code",
      "metadata": {
        "colab": {
          "base_uri": "https://localhost:8080/"
        },
        "id": "oGETWZzQ9gOp",
        "outputId": "ac5271c3-b8ee-4a38-8bae-c7c1f092272d"
      },
      "source": [
        "df.info()"
      ],
      "execution_count": 37,
      "outputs": [
        {
          "output_type": "stream",
          "name": "stdout",
          "text": [
            "<class 'pandas.core.frame.DataFrame'>\n",
            "RangeIndex: 424 entries, 0 to 423\n",
            "Data columns (total 6 columns):\n",
            " #   Column     Non-Null Count  Dtype  \n",
            "---  ------     --------------  -----  \n",
            " 0   year       424 non-null    int64  \n",
            " 1   mo         424 non-null    int64  \n",
            " 2   data_type  424 non-null    object \n",
            " 3   region     424 non-null    object \n",
            " 4   extent     424 non-null    float64\n",
            " 5   area       424 non-null    float64\n",
            "dtypes: float64(2), int64(2), object(2)\n",
            "memory usage: 20.0+ KB\n"
          ]
        }
      ]
    },
    {
      "cell_type": "code",
      "metadata": {
        "colab": {
          "base_uri": "https://localhost:8080/"
        },
        "id": "iTAnO-M_9gOq",
        "outputId": "d50cb114-36d6-41cb-95d3-d4d2e814807f"
      },
      "source": [
        "#La unidad de las observaciones en extent y area es el millon de kilómetros cuadrados.\n",
        "#Que sean floats podría indicarnos que no incluyen valores extraños. Después buscaremos outlaiers.\n",
        "#Comprobamos que no hayan valores extraños en las otras columnas.\n",
        "for col in ['year', 'mo', 'data_type', 'region']:\n",
        "    print(f'Columna {col}:')\n",
        "    print(df[col].value_counts(), '\\n')"
      ],
      "execution_count": 38,
      "outputs": [
        {
          "output_type": "stream",
          "name": "stdout",
          "text": [
            "Columna year:\n",
            "1996    12\n",
            "1988    12\n",
            "1994    12\n",
            "1993    12\n",
            "1992    12\n",
            "1991    12\n",
            "1990    12\n",
            "1989    12\n",
            "1987    12\n",
            "2013    12\n",
            "1986    12\n",
            "1985    12\n",
            "1984    12\n",
            "1983    12\n",
            "1982    12\n",
            "1981    12\n",
            "1995    12\n",
            "1997    12\n",
            "1979    12\n",
            "2006    12\n",
            "2012    12\n",
            "2011    12\n",
            "2010    12\n",
            "2009    12\n",
            "2008    12\n",
            "2007    12\n",
            "2005    12\n",
            "1998    12\n",
            "2004    12\n",
            "2003    12\n",
            "2002    12\n",
            "2001    12\n",
            "2000    12\n",
            "1999    12\n",
            "1980    12\n",
            "2014     2\n",
            "1978     2\n",
            "Name: year, dtype: int64 \n",
            "\n",
            "Columna mo:\n",
            "12    36\n",
            "11    36\n",
            "2     36\n",
            "1     36\n",
            "10    35\n",
            "9     35\n",
            "8     35\n",
            "7     35\n",
            "6     35\n",
            "5     35\n",
            "4     35\n",
            "3     35\n",
            "Name: mo, dtype: int64 \n",
            "\n",
            "Columna data_type:\n",
            "Goddard    409\n",
            "NRTSI-G     13\n",
            "-9999        2\n",
            "Name: data_type, dtype: int64 \n",
            "\n",
            "Columna region:\n",
            "N    424\n",
            "Name: region, dtype: int64 \n",
            "\n"
          ]
        }
      ]
    },
    {
      "cell_type": "code",
      "metadata": {
        "colab": {
          "base_uri": "https://localhost:8080/"
        },
        "id": "T-AxvXUX9gOq",
        "outputId": "2a0801b7-9e7d-431a-a3a4-33624f7d5764"
      },
      "source": [
        "#Observamos que las entradas en las columnas de año y mes tienen sentido. \n",
        "#La columna region no es informativa.\n",
        "#En la columna data_type nos indican cuales han sido los datos diarios en los que se ha basado el cálculo de los\n",
        "# valores mensuales (https://nsidc.org/sites/nsidc.org/files/G02135-V3.0_0.pdf#18). Existen tres observaciones, dos \n",
        "# (Goddarm, NRTSI-G) válidas y otra (-9999) que es un error. Quitamos estas últimas.\n",
        "df=df[df['data_type'] != '-9999']\n",
        "df['data_type'].value_counts()"
      ],
      "execution_count": 39,
      "outputs": [
        {
          "output_type": "execute_result",
          "data": {
            "text/plain": [
              "Goddard    409\n",
              "NRTSI-G     13\n",
              "Name: data_type, dtype: int64"
            ]
          },
          "metadata": {},
          "execution_count": 39
        }
      ]
    },
    {
      "cell_type": "code",
      "metadata": {
        "colab": {
          "base_uri": "https://localhost:8080/"
        },
        "id": "nlJxaMng9gOr",
        "outputId": "33a4029f-c34d-4947-ea60-069388f05055"
      },
      "source": [
        "#Buscamos outlaiers en extent y area. Consideraremos outlaiers aquellos valores que se alejen 1.5 veces el rango intercuartílico por debajo de Q1 y por arriba de Q3\n",
        "def get_outlaiers(x):\n",
        "    q1, q3 = x.quantile((0.25, 0.75))\n",
        "    iqr = q3 - q1\n",
        "\n",
        "    return(x[(x < q1 -  1.5*iqr) | (x > q3 +  1.5*iqr)])\n",
        "\n",
        "print(len(get_outlaiers(df['extent'])), len(get_outlaiers(df['area'])))\n",
        "#No encontramos outlaiers."
      ],
      "execution_count": 40,
      "outputs": [
        {
          "output_type": "stream",
          "name": "stdout",
          "text": [
            "0 0\n"
          ]
        }
      ]
    },
    {
      "cell_type": "code",
      "metadata": {
        "colab": {
          "base_uri": "https://localhost:8080/",
          "height": 206
        },
        "id": "9MTh_ZST9gOr",
        "outputId": "5585b7f0-6ca9-419c-da70-fecab2ec9819"
      },
      "source": [
        "#Quitamos la columna region.\n",
        "del df['region']\n",
        "df.head()"
      ],
      "execution_count": 41,
      "outputs": [
        {
          "output_type": "execute_result",
          "data": {
            "text/html": [
              "<div>\n",
              "<style scoped>\n",
              "    .dataframe tbody tr th:only-of-type {\n",
              "        vertical-align: middle;\n",
              "    }\n",
              "\n",
              "    .dataframe tbody tr th {\n",
              "        vertical-align: top;\n",
              "    }\n",
              "\n",
              "    .dataframe thead th {\n",
              "        text-align: right;\n",
              "    }\n",
              "</style>\n",
              "<table border=\"1\" class=\"dataframe\">\n",
              "  <thead>\n",
              "    <tr style=\"text-align: right;\">\n",
              "      <th></th>\n",
              "      <th>year</th>\n",
              "      <th>mo</th>\n",
              "      <th>data_type</th>\n",
              "      <th>extent</th>\n",
              "      <th>area</th>\n",
              "    </tr>\n",
              "  </thead>\n",
              "  <tbody>\n",
              "    <tr>\n",
              "      <th>0</th>\n",
              "      <td>1979</td>\n",
              "      <td>1</td>\n",
              "      <td>Goddard</td>\n",
              "      <td>15.54</td>\n",
              "      <td>12.33</td>\n",
              "    </tr>\n",
              "    <tr>\n",
              "      <th>1</th>\n",
              "      <td>1980</td>\n",
              "      <td>1</td>\n",
              "      <td>Goddard</td>\n",
              "      <td>14.96</td>\n",
              "      <td>11.85</td>\n",
              "    </tr>\n",
              "    <tr>\n",
              "      <th>2</th>\n",
              "      <td>1981</td>\n",
              "      <td>1</td>\n",
              "      <td>Goddard</td>\n",
              "      <td>15.03</td>\n",
              "      <td>11.82</td>\n",
              "    </tr>\n",
              "    <tr>\n",
              "      <th>3</th>\n",
              "      <td>1982</td>\n",
              "      <td>1</td>\n",
              "      <td>Goddard</td>\n",
              "      <td>15.26</td>\n",
              "      <td>12.11</td>\n",
              "    </tr>\n",
              "    <tr>\n",
              "      <th>4</th>\n",
              "      <td>1983</td>\n",
              "      <td>1</td>\n",
              "      <td>Goddard</td>\n",
              "      <td>15.10</td>\n",
              "      <td>11.92</td>\n",
              "    </tr>\n",
              "  </tbody>\n",
              "</table>\n",
              "</div>"
            ],
            "text/plain": [
              "   year  mo data_type  extent   area\n",
              "0  1979   1   Goddard   15.54  12.33\n",
              "1  1980   1   Goddard   14.96  11.85\n",
              "2  1981   1   Goddard   15.03  11.82\n",
              "3  1982   1   Goddard   15.26  12.11\n",
              "4  1983   1   Goddard   15.10  11.92"
            ]
          },
          "metadata": {},
          "execution_count": 41
        }
      ]
    },
    {
      "cell_type": "code",
      "metadata": {
        "colab": {
          "base_uri": "https://localhost:8080/",
          "height": 833
        },
        "id": "UsNyClcl9gOs",
        "outputId": "172ced3c-92f5-4fb8-fea8-380c39135bda"
      },
      "source": [
        "#Añadimos una columna con las fechas\n",
        "dates = df.iloc[:,0:2].copy()\n",
        "dates.columns = ['year', 'month']\n",
        "dates['day']=[1]*len(dates)\n",
        "\n",
        "df['date']=pd.to_datetime(dates, format=\"\")\n",
        "df.head(25)"
      ],
      "execution_count": 42,
      "outputs": [
        {
          "output_type": "execute_result",
          "data": {
            "text/html": [
              "<div>\n",
              "<style scoped>\n",
              "    .dataframe tbody tr th:only-of-type {\n",
              "        vertical-align: middle;\n",
              "    }\n",
              "\n",
              "    .dataframe tbody tr th {\n",
              "        vertical-align: top;\n",
              "    }\n",
              "\n",
              "    .dataframe thead th {\n",
              "        text-align: right;\n",
              "    }\n",
              "</style>\n",
              "<table border=\"1\" class=\"dataframe\">\n",
              "  <thead>\n",
              "    <tr style=\"text-align: right;\">\n",
              "      <th></th>\n",
              "      <th>year</th>\n",
              "      <th>mo</th>\n",
              "      <th>data_type</th>\n",
              "      <th>extent</th>\n",
              "      <th>area</th>\n",
              "      <th>date</th>\n",
              "    </tr>\n",
              "  </thead>\n",
              "  <tbody>\n",
              "    <tr>\n",
              "      <th>0</th>\n",
              "      <td>1979</td>\n",
              "      <td>1</td>\n",
              "      <td>Goddard</td>\n",
              "      <td>15.54</td>\n",
              "      <td>12.33</td>\n",
              "      <td>1979-01-01</td>\n",
              "    </tr>\n",
              "    <tr>\n",
              "      <th>1</th>\n",
              "      <td>1980</td>\n",
              "      <td>1</td>\n",
              "      <td>Goddard</td>\n",
              "      <td>14.96</td>\n",
              "      <td>11.85</td>\n",
              "      <td>1980-01-01</td>\n",
              "    </tr>\n",
              "    <tr>\n",
              "      <th>2</th>\n",
              "      <td>1981</td>\n",
              "      <td>1</td>\n",
              "      <td>Goddard</td>\n",
              "      <td>15.03</td>\n",
              "      <td>11.82</td>\n",
              "      <td>1981-01-01</td>\n",
              "    </tr>\n",
              "    <tr>\n",
              "      <th>3</th>\n",
              "      <td>1982</td>\n",
              "      <td>1</td>\n",
              "      <td>Goddard</td>\n",
              "      <td>15.26</td>\n",
              "      <td>12.11</td>\n",
              "      <td>1982-01-01</td>\n",
              "    </tr>\n",
              "    <tr>\n",
              "      <th>4</th>\n",
              "      <td>1983</td>\n",
              "      <td>1</td>\n",
              "      <td>Goddard</td>\n",
              "      <td>15.10</td>\n",
              "      <td>11.92</td>\n",
              "      <td>1983-01-01</td>\n",
              "    </tr>\n",
              "    <tr>\n",
              "      <th>5</th>\n",
              "      <td>1984</td>\n",
              "      <td>1</td>\n",
              "      <td>Goddard</td>\n",
              "      <td>14.61</td>\n",
              "      <td>11.60</td>\n",
              "      <td>1984-01-01</td>\n",
              "    </tr>\n",
              "    <tr>\n",
              "      <th>6</th>\n",
              "      <td>1985</td>\n",
              "      <td>1</td>\n",
              "      <td>Goddard</td>\n",
              "      <td>14.86</td>\n",
              "      <td>11.60</td>\n",
              "      <td>1985-01-01</td>\n",
              "    </tr>\n",
              "    <tr>\n",
              "      <th>7</th>\n",
              "      <td>1986</td>\n",
              "      <td>1</td>\n",
              "      <td>Goddard</td>\n",
              "      <td>15.02</td>\n",
              "      <td>11.79</td>\n",
              "      <td>1986-01-01</td>\n",
              "    </tr>\n",
              "    <tr>\n",
              "      <th>8</th>\n",
              "      <td>1987</td>\n",
              "      <td>1</td>\n",
              "      <td>Goddard</td>\n",
              "      <td>15.20</td>\n",
              "      <td>11.81</td>\n",
              "      <td>1987-01-01</td>\n",
              "    </tr>\n",
              "    <tr>\n",
              "      <th>10</th>\n",
              "      <td>1989</td>\n",
              "      <td>1</td>\n",
              "      <td>Goddard</td>\n",
              "      <td>15.12</td>\n",
              "      <td>13.11</td>\n",
              "      <td>1989-01-01</td>\n",
              "    </tr>\n",
              "    <tr>\n",
              "      <th>11</th>\n",
              "      <td>1990</td>\n",
              "      <td>1</td>\n",
              "      <td>Goddard</td>\n",
              "      <td>14.95</td>\n",
              "      <td>12.72</td>\n",
              "      <td>1990-01-01</td>\n",
              "    </tr>\n",
              "    <tr>\n",
              "      <th>12</th>\n",
              "      <td>1991</td>\n",
              "      <td>1</td>\n",
              "      <td>Goddard</td>\n",
              "      <td>14.46</td>\n",
              "      <td>12.49</td>\n",
              "      <td>1991-01-01</td>\n",
              "    </tr>\n",
              "    <tr>\n",
              "      <th>13</th>\n",
              "      <td>1992</td>\n",
              "      <td>1</td>\n",
              "      <td>Goddard</td>\n",
              "      <td>14.72</td>\n",
              "      <td>12.54</td>\n",
              "      <td>1992-01-01</td>\n",
              "    </tr>\n",
              "    <tr>\n",
              "      <th>14</th>\n",
              "      <td>1993</td>\n",
              "      <td>1</td>\n",
              "      <td>Goddard</td>\n",
              "      <td>15.08</td>\n",
              "      <td>12.85</td>\n",
              "      <td>1993-01-01</td>\n",
              "    </tr>\n",
              "    <tr>\n",
              "      <th>15</th>\n",
              "      <td>1994</td>\n",
              "      <td>1</td>\n",
              "      <td>Goddard</td>\n",
              "      <td>14.82</td>\n",
              "      <td>12.80</td>\n",
              "      <td>1994-01-01</td>\n",
              "    </tr>\n",
              "    <tr>\n",
              "      <th>16</th>\n",
              "      <td>1995</td>\n",
              "      <td>1</td>\n",
              "      <td>Goddard</td>\n",
              "      <td>14.62</td>\n",
              "      <td>12.72</td>\n",
              "      <td>1995-01-01</td>\n",
              "    </tr>\n",
              "    <tr>\n",
              "      <th>17</th>\n",
              "      <td>1996</td>\n",
              "      <td>1</td>\n",
              "      <td>Goddard</td>\n",
              "      <td>14.21</td>\n",
              "      <td>12.07</td>\n",
              "      <td>1996-01-01</td>\n",
              "    </tr>\n",
              "    <tr>\n",
              "      <th>18</th>\n",
              "      <td>1997</td>\n",
              "      <td>1</td>\n",
              "      <td>Goddard</td>\n",
              "      <td>14.47</td>\n",
              "      <td>12.30</td>\n",
              "      <td>1997-01-01</td>\n",
              "    </tr>\n",
              "    <tr>\n",
              "      <th>19</th>\n",
              "      <td>1998</td>\n",
              "      <td>1</td>\n",
              "      <td>Goddard</td>\n",
              "      <td>14.81</td>\n",
              "      <td>12.73</td>\n",
              "      <td>1998-01-01</td>\n",
              "    </tr>\n",
              "    <tr>\n",
              "      <th>20</th>\n",
              "      <td>1999</td>\n",
              "      <td>1</td>\n",
              "      <td>Goddard</td>\n",
              "      <td>14.47</td>\n",
              "      <td>12.54</td>\n",
              "      <td>1999-01-01</td>\n",
              "    </tr>\n",
              "    <tr>\n",
              "      <th>21</th>\n",
              "      <td>2000</td>\n",
              "      <td>1</td>\n",
              "      <td>Goddard</td>\n",
              "      <td>14.41</td>\n",
              "      <td>12.22</td>\n",
              "      <td>2000-01-01</td>\n",
              "    </tr>\n",
              "    <tr>\n",
              "      <th>22</th>\n",
              "      <td>2001</td>\n",
              "      <td>1</td>\n",
              "      <td>Goddard</td>\n",
              "      <td>14.31</td>\n",
              "      <td>12.27</td>\n",
              "      <td>2001-01-01</td>\n",
              "    </tr>\n",
              "    <tr>\n",
              "      <th>23</th>\n",
              "      <td>2002</td>\n",
              "      <td>1</td>\n",
              "      <td>Goddard</td>\n",
              "      <td>14.45</td>\n",
              "      <td>12.19</td>\n",
              "      <td>2002-01-01</td>\n",
              "    </tr>\n",
              "    <tr>\n",
              "      <th>24</th>\n",
              "      <td>2003</td>\n",
              "      <td>1</td>\n",
              "      <td>Goddard</td>\n",
              "      <td>14.46</td>\n",
              "      <td>12.21</td>\n",
              "      <td>2003-01-01</td>\n",
              "    </tr>\n",
              "    <tr>\n",
              "      <th>25</th>\n",
              "      <td>2004</td>\n",
              "      <td>1</td>\n",
              "      <td>Goddard</td>\n",
              "      <td>14.03</td>\n",
              "      <td>12.19</td>\n",
              "      <td>2004-01-01</td>\n",
              "    </tr>\n",
              "  </tbody>\n",
              "</table>\n",
              "</div>"
            ],
            "text/plain": [
              "    year  mo data_type  extent   area       date\n",
              "0   1979   1   Goddard   15.54  12.33 1979-01-01\n",
              "1   1980   1   Goddard   14.96  11.85 1980-01-01\n",
              "2   1981   1   Goddard   15.03  11.82 1981-01-01\n",
              "3   1982   1   Goddard   15.26  12.11 1982-01-01\n",
              "4   1983   1   Goddard   15.10  11.92 1983-01-01\n",
              "5   1984   1   Goddard   14.61  11.60 1984-01-01\n",
              "6   1985   1   Goddard   14.86  11.60 1985-01-01\n",
              "7   1986   1   Goddard   15.02  11.79 1986-01-01\n",
              "8   1987   1   Goddard   15.20  11.81 1987-01-01\n",
              "10  1989   1   Goddard   15.12  13.11 1989-01-01\n",
              "11  1990   1   Goddard   14.95  12.72 1990-01-01\n",
              "12  1991   1   Goddard   14.46  12.49 1991-01-01\n",
              "13  1992   1   Goddard   14.72  12.54 1992-01-01\n",
              "14  1993   1   Goddard   15.08  12.85 1993-01-01\n",
              "15  1994   1   Goddard   14.82  12.80 1994-01-01\n",
              "16  1995   1   Goddard   14.62  12.72 1995-01-01\n",
              "17  1996   1   Goddard   14.21  12.07 1996-01-01\n",
              "18  1997   1   Goddard   14.47  12.30 1997-01-01\n",
              "19  1998   1   Goddard   14.81  12.73 1998-01-01\n",
              "20  1999   1   Goddard   14.47  12.54 1999-01-01\n",
              "21  2000   1   Goddard   14.41  12.22 2000-01-01\n",
              "22  2001   1   Goddard   14.31  12.27 2001-01-01\n",
              "23  2002   1   Goddard   14.45  12.19 2002-01-01\n",
              "24  2003   1   Goddard   14.46  12.21 2003-01-01\n",
              "25  2004   1   Goddard   14.03  12.19 2004-01-01"
            ]
          },
          "metadata": {},
          "execution_count": 42
        }
      ]
    },
    {
      "cell_type": "code",
      "metadata": {
        "id": "C8Jz8E0-4PBx"
      },
      "source": [
        "#reiniciamos los índices\n",
        "df=df.reset_index()\n",
        "del df['index']"
      ],
      "execution_count": 43,
      "outputs": []
    },
    {
      "cell_type": "markdown",
      "metadata": {
        "id": "Cd2NKzgb9gOs"
      },
      "source": [
        "### 2. Normalize the SIE data and visualize its temporal trend.\n",
        "\n",
        "Visualize there is a monthly dependence of SIE, explore the linear relationship using ``lmplot``.\n",
        "Compute the mean and variance of SIE for each month."
      ]
    },
    {
      "cell_type": "code",
      "metadata": {
        "colab": {
          "base_uri": "https://localhost:8080/",
          "height": 967
        },
        "id": "m5GiNsAT9gOs",
        "outputId": "87d88b8f-46cc-48a3-bb78-c547a7448751"
      },
      "source": [
        "#Comenzamos presentando algunas gráficas para visualizar la evolución de extend por meses (dentro de cada año),\n",
        "#y por años (durante todo el periodo de estudio).\n",
        "\n",
        "years = df.sort_values('year').year.unique()\n",
        "months = np.arange(12) + 1\n",
        "z = []\n",
        "\n",
        "for year in years:\n",
        "    aux = []\n",
        "    for month in months:\n",
        "        try:\n",
        "            aux.append(df[(df['year'] == year) & (df['mo'] == month)]['extent'].iloc[0])\n",
        "        except:\n",
        "            aux.append(None)\n",
        "    z.append(aux)\n",
        "\n",
        "fig = go.Figure(data=go.Heatmap(\n",
        "    z=z,\n",
        "    x=months,\n",
        "    y = years,\n",
        "    colorscale = 'Ice'\n",
        "    ))\n",
        "fig.layout.height = 950\n",
        "fig.show()\n",
        "\n",
        "#En el mapa de calor vemos como los valores más pequeños de SIE se dan en los últimos meses del verano (agosto y septiembre),\n",
        "#mientras que los mayores se encuentran en los últimos meses del invierno (febrero, marzo).\n",
        "#Los cambios entre valores máximos y mínimos no parecen ocurrir bruscamente.\n",
        "#Respecto al desarrollo por años, podemos ver como, en los últimos años del estudio, la cantidad de hielo ha\n",
        "#disminuido respecto a los primeros. Esta variación es más evidente en los meses de verano.\n",
        "#"
      ],
      "execution_count": 44,
      "outputs": [
        {
          "output_type": "display_data",
          "data": {
            "text/html": [
              "<html>\n",
              "<head><meta charset=\"utf-8\" /></head>\n",
              "<body>\n",
              "    <div>\n",
              "            <script src=\"https://cdnjs.cloudflare.com/ajax/libs/mathjax/2.7.5/MathJax.js?config=TeX-AMS-MML_SVG\"></script><script type=\"text/javascript\">if (window.MathJax) {MathJax.Hub.Config({SVG: {font: \"STIX-Web\"}});}</script>\n",
              "                <script type=\"text/javascript\">window.PlotlyConfig = {MathJaxConfig: 'local'};</script>\n",
              "        <script src=\"https://cdn.plot.ly/plotly-latest.min.js\"></script>    \n",
              "            <div id=\"4b27fe0e-7258-4c8e-bbaa-b5ed8898b641\" class=\"plotly-graph-div\" style=\"height:950px; width:100%;\"></div>\n",
              "            <script type=\"text/javascript\">\n",
              "                \n",
              "                    window.PLOTLYENV=window.PLOTLYENV || {};\n",
              "                    \n",
              "                if (document.getElementById(\"4b27fe0e-7258-4c8e-bbaa-b5ed8898b641\")) {\n",
              "                    Plotly.newPlot(\n",
              "                        '4b27fe0e-7258-4c8e-bbaa-b5ed8898b641',\n",
              "                        [{\"colorscale\": [[0.0, \"rgb(3, 5, 18)\"], [0.09090909090909091, \"rgb(25, 25, 51)\"], [0.18181818181818182, \"rgb(44, 42, 87)\"], [0.2727272727272727, \"rgb(58, 60, 125)\"], [0.36363636363636365, \"rgb(62, 83, 160)\"], [0.45454545454545453, \"rgb(62, 109, 178)\"], [0.5454545454545454, \"rgb(72, 134, 187)\"], [0.6363636363636364, \"rgb(89, 159, 196)\"], [0.7272727272727273, \"rgb(114, 184, 205)\"], [0.8181818181818182, \"rgb(149, 207, 216)\"], [0.9090909090909091, \"rgb(192, 229, 232)\"], [1.0, \"rgb(234, 252, 253)\"]], \"type\": \"heatmap\", \"x\": [1, 2, 3, 4, 5, 6, 7, 8, 9, 10, 11, 12], \"y\": [1978, 1979, 1980, 1981, 1982, 1983, 1984, 1985, 1986, 1987, 1988, 1989, 1990, 1991, 1992, 1993, 1994, 1995, 1996, 1997, 1998, 1999, 2000, 2001, 2002, 2003, 2004, 2005, 2006, 2007, 2008, 2009, 2010, 2011, 2012, 2013, 2014], \"z\": [[null, null, null, null, null, null, null, null, null, null, 12.01, 14.12], [15.54, 16.31, 16.45, 15.46, 14.06, 12.59, 10.47, 8.15, 7.2, 9.39, 11.16, 13.54], [14.96, 15.98, 16.13, 15.49, 14.04, 12.31, 10.39, 8.04, 7.85, 9.46, 11.69, 13.72], [15.03, 15.65, 15.61, 15.12, 13.9, 12.57, 10.62, 7.86, 7.25, 9.19, 11.17, 13.74], [15.26, 16.06, 16.15, 15.57, 14.17, 12.69, 10.75, 8.26, 7.45, 9.98, 11.91, 13.83], [15.1, 16.02, 16.1, 15.3, 13.54, 12.36, 10.91, 8.36, 7.52, 9.64, 11.64, 13.44], [14.61, 15.32, 15.62, 15.15, 13.68, 12.2, 10.15, 7.87, 7.17, 8.84, 11.29, 13.18], [14.86, 15.67, 16.06, 15.34, 14.23, 12.4, 10.09, 7.46, 6.93, 8.88, 11.39, 13.19], [15.02, 15.89, 16.08, 15.15, 13.52, 12.1, 10.47, 8.01, 7.54, 9.89, 11.78, 13.4], [15.2, 16.11, 15.95, 15.33, 13.81, 12.57, 9.98, 7.69, 7.48, 9.29, 11.52, null], [null, 15.61, 16.13, 15.21, 13.69, 12.02, 10.04, 7.9, 7.49, 9.47, 11.69, 13.78], [15.12, 15.56, 15.52, 14.44, 12.98, 12.31, 10.38, 7.92, 7.04, 9.52, 11.5, 13.47], [14.95, 15.56, 15.88, 14.68, 13.3, 11.68, 9.62, 6.82, 6.24, 9.35, 11.31, 13.27], [14.46, 15.26, 15.5, 14.93, 13.51, 12.23, 9.68, 7.4, 6.55, 9.16, 11.12, 13.17], [14.72, 15.5, 15.47, 14.7, 13.25, 12.13, 10.61, 7.86, 7.55, 9.6, 11.87, 13.46], [15.08, 15.73, 15.88, 15.18, 13.54, 11.99, 9.66, 7.29, 6.5, 9.18, 11.73, 13.52], [14.82, 15.61, 15.58, 14.95, 13.73, 12.1, 10.22, 7.61, 7.18, 9.48, 11.3, 13.53], [14.62, 15.24, 15.32, 14.59, 13.04, 11.55, 9.15, 6.68, 6.13, 8.94, 10.97, 12.98], [14.21, 15.17, 15.13, 14.22, 13.06, 12.1, 10.36, 8.17, 7.88, 9.39, 10.56, 13.14], [14.47, 15.52, 15.58, 14.59, 13.32, 11.91, 9.59, 7.3, 6.74, 8.76, 10.91, 13.29], [14.81, 15.77, 15.66, 14.89, 13.8, 11.85, 9.62, 7.49, 6.56, 8.85, 10.75, 13.26], [14.47, 15.37, 15.4, 15.13, 13.86, 12.1, 9.59, 7.38, 6.24, 9.1, 10.99, 12.88], [14.41, 15.18, 15.27, 14.63, 13.18, 11.71, 9.75, 7.21, 6.32, 8.92, 10.54, 12.81], [14.31, 15.27, 15.61, 14.86, 13.72, 11.69, 9.22, 7.47, 6.75, 8.59, 10.92, 12.84], [14.45, 15.36, 15.44, 14.37, 13.12, 11.69, 9.49, 6.53, 5.96, 8.81, 10.78, 12.82], [14.46, 15.25, 15.49, 14.57, 13.0, 11.77, 9.46, 6.85, 6.15, 8.65, 10.29, 12.82], [14.03, 14.93, 15.05, 14.11, 12.58, 11.51, 9.6, 6.83, 6.05, 8.48, 10.65, 12.72], [13.66, 14.36, 14.74, 14.07, 12.99, 11.29, 8.93, 6.3, 5.57, 8.45, 10.47, 12.47], [13.6, 14.42, 14.43, 13.97, 12.62, 11.06, 8.67, 6.52, 5.92, 8.33, 9.84, 12.27], [13.77, 14.53, 14.65, 13.87, 12.89, 11.49, 8.13, 5.36, 4.3, 6.77, 10.05, 12.39], [14.05, 15.01, 15.22, 14.42, 13.19, 11.36, 8.99, 6.05, 4.73, 8.42, 10.62, 12.52], [14.08, 14.85, 15.14, 14.57, 13.4, 11.46, 8.8, 6.28, 5.39, 7.52, 10.27, 12.51], [13.8, 14.59, 15.11, 14.7, 13.11, 10.82, 8.36, 6.01, 4.93, 7.71, 9.88, 12.02], [13.57, 14.38, 14.58, 14.16, 12.81, 10.99, 7.91, 5.55, 4.63, 7.14, 10.0, 12.4], [13.77, 14.59, 15.24, 14.72, 13.12, 10.92, 7.93, 4.71, 3.63, 7.07, 9.92, 12.2], [13.78, 14.69, 15.04, 14.37, 13.1, 11.58, 8.45, 6.09, 5.35, 8.1, 10.24, 12.38], [13.73, 14.44, null, null, null, null, null, null, null, null, null, null]]}],\n",
              "                        {\"height\": 950, \"template\": {\"data\": {\"bar\": [{\"error_x\": {\"color\": \"#2a3f5f\"}, \"error_y\": {\"color\": \"#2a3f5f\"}, \"marker\": {\"line\": {\"color\": \"#E5ECF6\", \"width\": 0.5}}, \"type\": \"bar\"}], \"barpolar\": [{\"marker\": {\"line\": {\"color\": \"#E5ECF6\", \"width\": 0.5}}, \"type\": \"barpolar\"}], \"carpet\": [{\"aaxis\": {\"endlinecolor\": \"#2a3f5f\", \"gridcolor\": \"white\", \"linecolor\": \"white\", \"minorgridcolor\": \"white\", \"startlinecolor\": \"#2a3f5f\"}, \"baxis\": {\"endlinecolor\": \"#2a3f5f\", \"gridcolor\": \"white\", \"linecolor\": \"white\", \"minorgridcolor\": \"white\", \"startlinecolor\": \"#2a3f5f\"}, \"type\": \"carpet\"}], \"choropleth\": [{\"colorbar\": {\"outlinewidth\": 0, \"ticks\": \"\"}, \"type\": \"choropleth\"}], \"contour\": [{\"colorbar\": {\"outlinewidth\": 0, \"ticks\": \"\"}, \"colorscale\": [[0.0, \"#0d0887\"], [0.1111111111111111, \"#46039f\"], [0.2222222222222222, \"#7201a8\"], [0.3333333333333333, \"#9c179e\"], [0.4444444444444444, \"#bd3786\"], [0.5555555555555556, \"#d8576b\"], [0.6666666666666666, \"#ed7953\"], [0.7777777777777778, \"#fb9f3a\"], [0.8888888888888888, \"#fdca26\"], [1.0, \"#f0f921\"]], \"type\": \"contour\"}], \"contourcarpet\": [{\"colorbar\": {\"outlinewidth\": 0, \"ticks\": \"\"}, \"type\": \"contourcarpet\"}], \"heatmap\": [{\"colorbar\": {\"outlinewidth\": 0, \"ticks\": \"\"}, \"colorscale\": [[0.0, \"#0d0887\"], [0.1111111111111111, \"#46039f\"], [0.2222222222222222, \"#7201a8\"], [0.3333333333333333, \"#9c179e\"], [0.4444444444444444, \"#bd3786\"], [0.5555555555555556, \"#d8576b\"], [0.6666666666666666, \"#ed7953\"], [0.7777777777777778, \"#fb9f3a\"], [0.8888888888888888, \"#fdca26\"], [1.0, \"#f0f921\"]], \"type\": \"heatmap\"}], \"heatmapgl\": [{\"colorbar\": {\"outlinewidth\": 0, \"ticks\": \"\"}, \"colorscale\": [[0.0, \"#0d0887\"], [0.1111111111111111, \"#46039f\"], [0.2222222222222222, \"#7201a8\"], [0.3333333333333333, \"#9c179e\"], [0.4444444444444444, \"#bd3786\"], [0.5555555555555556, \"#d8576b\"], [0.6666666666666666, \"#ed7953\"], [0.7777777777777778, \"#fb9f3a\"], [0.8888888888888888, \"#fdca26\"], [1.0, \"#f0f921\"]], \"type\": \"heatmapgl\"}], \"histogram\": [{\"marker\": {\"colorbar\": {\"outlinewidth\": 0, \"ticks\": \"\"}}, \"type\": \"histogram\"}], \"histogram2d\": [{\"colorbar\": {\"outlinewidth\": 0, \"ticks\": \"\"}, \"colorscale\": [[0.0, \"#0d0887\"], [0.1111111111111111, \"#46039f\"], [0.2222222222222222, \"#7201a8\"], [0.3333333333333333, \"#9c179e\"], [0.4444444444444444, \"#bd3786\"], [0.5555555555555556, \"#d8576b\"], [0.6666666666666666, \"#ed7953\"], [0.7777777777777778, \"#fb9f3a\"], [0.8888888888888888, \"#fdca26\"], [1.0, \"#f0f921\"]], \"type\": \"histogram2d\"}], \"histogram2dcontour\": [{\"colorbar\": {\"outlinewidth\": 0, \"ticks\": \"\"}, \"colorscale\": [[0.0, \"#0d0887\"], [0.1111111111111111, \"#46039f\"], [0.2222222222222222, \"#7201a8\"], [0.3333333333333333, \"#9c179e\"], [0.4444444444444444, \"#bd3786\"], [0.5555555555555556, \"#d8576b\"], [0.6666666666666666, \"#ed7953\"], [0.7777777777777778, \"#fb9f3a\"], [0.8888888888888888, \"#fdca26\"], [1.0, \"#f0f921\"]], \"type\": \"histogram2dcontour\"}], \"mesh3d\": [{\"colorbar\": {\"outlinewidth\": 0, \"ticks\": \"\"}, \"type\": \"mesh3d\"}], \"parcoords\": [{\"line\": {\"colorbar\": {\"outlinewidth\": 0, \"ticks\": \"\"}}, \"type\": \"parcoords\"}], \"pie\": [{\"automargin\": true, \"type\": \"pie\"}], \"scatter\": [{\"marker\": {\"colorbar\": {\"outlinewidth\": 0, \"ticks\": \"\"}}, \"type\": \"scatter\"}], \"scatter3d\": [{\"line\": {\"colorbar\": {\"outlinewidth\": 0, \"ticks\": \"\"}}, \"marker\": {\"colorbar\": {\"outlinewidth\": 0, \"ticks\": \"\"}}, \"type\": \"scatter3d\"}], \"scattercarpet\": [{\"marker\": {\"colorbar\": {\"outlinewidth\": 0, \"ticks\": \"\"}}, \"type\": \"scattercarpet\"}], \"scattergeo\": [{\"marker\": {\"colorbar\": {\"outlinewidth\": 0, \"ticks\": \"\"}}, \"type\": \"scattergeo\"}], \"scattergl\": [{\"marker\": {\"colorbar\": {\"outlinewidth\": 0, \"ticks\": \"\"}}, \"type\": \"scattergl\"}], \"scattermapbox\": [{\"marker\": {\"colorbar\": {\"outlinewidth\": 0, \"ticks\": \"\"}}, \"type\": \"scattermapbox\"}], \"scatterpolar\": [{\"marker\": {\"colorbar\": {\"outlinewidth\": 0, \"ticks\": \"\"}}, \"type\": \"scatterpolar\"}], \"scatterpolargl\": [{\"marker\": {\"colorbar\": {\"outlinewidth\": 0, \"ticks\": \"\"}}, \"type\": \"scatterpolargl\"}], \"scatterternary\": [{\"marker\": {\"colorbar\": {\"outlinewidth\": 0, \"ticks\": \"\"}}, \"type\": \"scatterternary\"}], \"surface\": [{\"colorbar\": {\"outlinewidth\": 0, \"ticks\": \"\"}, \"colorscale\": [[0.0, \"#0d0887\"], [0.1111111111111111, \"#46039f\"], [0.2222222222222222, \"#7201a8\"], [0.3333333333333333, \"#9c179e\"], [0.4444444444444444, \"#bd3786\"], [0.5555555555555556, \"#d8576b\"], [0.6666666666666666, \"#ed7953\"], [0.7777777777777778, \"#fb9f3a\"], [0.8888888888888888, \"#fdca26\"], [1.0, \"#f0f921\"]], \"type\": \"surface\"}], \"table\": [{\"cells\": {\"fill\": {\"color\": \"#EBF0F8\"}, \"line\": {\"color\": \"white\"}}, \"header\": {\"fill\": {\"color\": \"#C8D4E3\"}, \"line\": {\"color\": \"white\"}}, \"type\": \"table\"}]}, \"layout\": {\"annotationdefaults\": {\"arrowcolor\": \"#2a3f5f\", \"arrowhead\": 0, \"arrowwidth\": 1}, \"coloraxis\": {\"colorbar\": {\"outlinewidth\": 0, \"ticks\": \"\"}}, \"colorscale\": {\"diverging\": [[0, \"#8e0152\"], [0.1, \"#c51b7d\"], [0.2, \"#de77ae\"], [0.3, \"#f1b6da\"], [0.4, \"#fde0ef\"], [0.5, \"#f7f7f7\"], [0.6, \"#e6f5d0\"], [0.7, \"#b8e186\"], [0.8, \"#7fbc41\"], [0.9, \"#4d9221\"], [1, \"#276419\"]], \"sequential\": [[0.0, \"#0d0887\"], [0.1111111111111111, \"#46039f\"], [0.2222222222222222, \"#7201a8\"], [0.3333333333333333, \"#9c179e\"], [0.4444444444444444, \"#bd3786\"], [0.5555555555555556, \"#d8576b\"], [0.6666666666666666, \"#ed7953\"], [0.7777777777777778, \"#fb9f3a\"], [0.8888888888888888, \"#fdca26\"], [1.0, \"#f0f921\"]], \"sequentialminus\": [[0.0, \"#0d0887\"], [0.1111111111111111, \"#46039f\"], [0.2222222222222222, \"#7201a8\"], [0.3333333333333333, \"#9c179e\"], [0.4444444444444444, \"#bd3786\"], [0.5555555555555556, \"#d8576b\"], [0.6666666666666666, \"#ed7953\"], [0.7777777777777778, \"#fb9f3a\"], [0.8888888888888888, \"#fdca26\"], [1.0, \"#f0f921\"]]}, \"colorway\": [\"#636efa\", \"#EF553B\", \"#00cc96\", \"#ab63fa\", \"#FFA15A\", \"#19d3f3\", \"#FF6692\", \"#B6E880\", \"#FF97FF\", \"#FECB52\"], \"font\": {\"color\": \"#2a3f5f\"}, \"geo\": {\"bgcolor\": \"white\", \"lakecolor\": \"white\", \"landcolor\": \"#E5ECF6\", \"showlakes\": true, \"showland\": true, \"subunitcolor\": \"white\"}, \"hoverlabel\": {\"align\": \"left\"}, \"hovermode\": \"closest\", \"mapbox\": {\"style\": \"light\"}, \"paper_bgcolor\": \"white\", \"plot_bgcolor\": \"#E5ECF6\", \"polar\": {\"angularaxis\": {\"gridcolor\": \"white\", \"linecolor\": \"white\", \"ticks\": \"\"}, \"bgcolor\": \"#E5ECF6\", \"radialaxis\": {\"gridcolor\": \"white\", \"linecolor\": \"white\", \"ticks\": \"\"}}, \"scene\": {\"xaxis\": {\"backgroundcolor\": \"#E5ECF6\", \"gridcolor\": \"white\", \"gridwidth\": 2, \"linecolor\": \"white\", \"showbackground\": true, \"ticks\": \"\", \"zerolinecolor\": \"white\"}, \"yaxis\": {\"backgroundcolor\": \"#E5ECF6\", \"gridcolor\": \"white\", \"gridwidth\": 2, \"linecolor\": \"white\", \"showbackground\": true, \"ticks\": \"\", \"zerolinecolor\": \"white\"}, \"zaxis\": {\"backgroundcolor\": \"#E5ECF6\", \"gridcolor\": \"white\", \"gridwidth\": 2, \"linecolor\": \"white\", \"showbackground\": true, \"ticks\": \"\", \"zerolinecolor\": \"white\"}}, \"shapedefaults\": {\"line\": {\"color\": \"#2a3f5f\"}}, \"ternary\": {\"aaxis\": {\"gridcolor\": \"white\", \"linecolor\": \"white\", \"ticks\": \"\"}, \"baxis\": {\"gridcolor\": \"white\", \"linecolor\": \"white\", \"ticks\": \"\"}, \"bgcolor\": \"#E5ECF6\", \"caxis\": {\"gridcolor\": \"white\", \"linecolor\": \"white\", \"ticks\": \"\"}}, \"title\": {\"x\": 0.05}, \"xaxis\": {\"automargin\": true, \"gridcolor\": \"white\", \"linecolor\": \"white\", \"ticks\": \"\", \"title\": {\"standoff\": 15}, \"zerolinecolor\": \"white\", \"zerolinewidth\": 2}, \"yaxis\": {\"automargin\": true, \"gridcolor\": \"white\", \"linecolor\": \"white\", \"ticks\": \"\", \"title\": {\"standoff\": 15}, \"zerolinecolor\": \"white\", \"zerolinewidth\": 2}}}},\n",
              "                        {\"responsive\": true}\n",
              "                    ).then(function(){\n",
              "                            \n",
              "var gd = document.getElementById('4b27fe0e-7258-4c8e-bbaa-b5ed8898b641');\n",
              "var x = new MutationObserver(function (mutations, observer) {{\n",
              "        var display = window.getComputedStyle(gd).display;\n",
              "        if (!display || display === 'none') {{\n",
              "            console.log([gd, 'removed!']);\n",
              "            Plotly.purge(gd);\n",
              "            observer.disconnect();\n",
              "        }}\n",
              "}});\n",
              "\n",
              "// Listen for the removal of the full notebook cells\n",
              "var notebookContainer = gd.closest('#notebook-container');\n",
              "if (notebookContainer) {{\n",
              "    x.observe(notebookContainer, {childList: true});\n",
              "}}\n",
              "\n",
              "// Listen for the clearing of the current output cell\n",
              "var outputEl = gd.closest('.output');\n",
              "if (outputEl) {{\n",
              "    x.observe(outputEl, {childList: true});\n",
              "}}\n",
              "\n",
              "                        })\n",
              "                };\n",
              "                \n",
              "            </script>\n",
              "        </div>\n",
              "</body>\n",
              "</html>"
            ]
          },
          "metadata": {}
        }
      ]
    },
    {
      "cell_type": "code",
      "metadata": {
        "colab": {
          "base_uri": "https://localhost:8080/"
        },
        "id": "b5P077dLCt92",
        "outputId": "64389917-250f-435e-db10-15ae35a1b76f"
      },
      "source": [
        "#Ahora mostraremos la distribución durante un año y la mensual a lo largo de todos los años en gráficas dinámica.\n",
        "#Para ellos eliminamos los años con pocos datos y completamos los que casi tengan 12.\n",
        "\n",
        "#identificamos los años con algún mes faltante\n",
        "aux = df['year'].value_counts()\n",
        "ms = aux[aux.values<12]\n",
        "ys = df[df['year'].isin(ms.index)]['year'].unique()\n",
        "\n",
        "#identificamos los meses faltantes\n",
        "months = set(np.arange(12) + 1)\n",
        "empty_y_m=dict()\n",
        "for y in ys:\n",
        "    empty_months = months - set(df['mo'][df['year'] == y])\n",
        "    empty_y_m[y] = empty_months\n",
        "\n",
        "print(empty_y_m)\n",
        "    "
      ],
      "execution_count": 45,
      "outputs": [
        {
          "output_type": "stream",
          "name": "stdout",
          "text": [
            "{1987: {12}, 2014: {3, 4, 5, 6, 7, 8, 9, 10, 11, 12}, 1988: {1}, 1978: {1, 2, 3, 4, 5, 6, 7, 8, 9, 10}}\n"
          ]
        }
      ]
    },
    {
      "cell_type": "code",
      "metadata": {
        "colab": {
          "base_uri": "https://localhost:8080/",
          "height": 223
        },
        "id": "YVIoIYWKI1Et",
        "outputId": "7bd28f8d-4324-4d8f-8dc1-2fb6aac3588e"
      },
      "source": [
        "#Consideramos que a 2014 y a 1978, les faltan demasiados meses y eliminamos esas observaciones.\n",
        "df1 = df[~df['year'].isin((2014, 1978))].copy()\n",
        "df1 = df1.reset_index(drop=True)\n",
        "print(len(df1))\n",
        "df1.tail()"
      ],
      "execution_count": 46,
      "outputs": [
        {
          "output_type": "stream",
          "name": "stdout",
          "text": [
            "418\n"
          ]
        },
        {
          "output_type": "execute_result",
          "data": {
            "text/html": [
              "<div>\n",
              "<style scoped>\n",
              "    .dataframe tbody tr th:only-of-type {\n",
              "        vertical-align: middle;\n",
              "    }\n",
              "\n",
              "    .dataframe tbody tr th {\n",
              "        vertical-align: top;\n",
              "    }\n",
              "\n",
              "    .dataframe thead th {\n",
              "        text-align: right;\n",
              "    }\n",
              "</style>\n",
              "<table border=\"1\" class=\"dataframe\">\n",
              "  <thead>\n",
              "    <tr style=\"text-align: right;\">\n",
              "      <th></th>\n",
              "      <th>year</th>\n",
              "      <th>mo</th>\n",
              "      <th>data_type</th>\n",
              "      <th>extent</th>\n",
              "      <th>area</th>\n",
              "      <th>date</th>\n",
              "    </tr>\n",
              "  </thead>\n",
              "  <tbody>\n",
              "    <tr>\n",
              "      <th>413</th>\n",
              "      <td>2009</td>\n",
              "      <td>12</td>\n",
              "      <td>Goddard</td>\n",
              "      <td>12.51</td>\n",
              "      <td>10.25</td>\n",
              "      <td>2009-12-01</td>\n",
              "    </tr>\n",
              "    <tr>\n",
              "      <th>414</th>\n",
              "      <td>2010</td>\n",
              "      <td>12</td>\n",
              "      <td>Goddard</td>\n",
              "      <td>12.02</td>\n",
              "      <td>10.08</td>\n",
              "      <td>2010-12-01</td>\n",
              "    </tr>\n",
              "    <tr>\n",
              "      <th>415</th>\n",
              "      <td>2011</td>\n",
              "      <td>12</td>\n",
              "      <td>Goddard</td>\n",
              "      <td>12.40</td>\n",
              "      <td>10.28</td>\n",
              "      <td>2011-12-01</td>\n",
              "    </tr>\n",
              "    <tr>\n",
              "      <th>416</th>\n",
              "      <td>2012</td>\n",
              "      <td>12</td>\n",
              "      <td>Goddard</td>\n",
              "      <td>12.20</td>\n",
              "      <td>10.11</td>\n",
              "      <td>2012-12-01</td>\n",
              "    </tr>\n",
              "    <tr>\n",
              "      <th>417</th>\n",
              "      <td>2013</td>\n",
              "      <td>12</td>\n",
              "      <td>NRTSI-G</td>\n",
              "      <td>12.38</td>\n",
              "      <td>10.48</td>\n",
              "      <td>2013-12-01</td>\n",
              "    </tr>\n",
              "  </tbody>\n",
              "</table>\n",
              "</div>"
            ],
            "text/plain": [
              "     year  mo data_type  extent   area       date\n",
              "413  2009  12   Goddard   12.51  10.25 2009-12-01\n",
              "414  2010  12   Goddard   12.02  10.08 2010-12-01\n",
              "415  2011  12   Goddard   12.40  10.28 2011-12-01\n",
              "416  2012  12   Goddard   12.20  10.11 2012-12-01\n",
              "417  2013  12   NRTSI-G   12.38  10.48 2013-12-01"
            ]
          },
          "metadata": {},
          "execution_count": 46
        }
      ]
    },
    {
      "cell_type": "code",
      "metadata": {
        "id": "JEYV24J05WIn"
      },
      "source": [
        "del empty_y_m[2014]\n",
        "del empty_y_m[1978]"
      ],
      "execution_count": 47,
      "outputs": []
    },
    {
      "cell_type": "code",
      "metadata": {
        "colab": {
          "base_uri": "https://localhost:8080/",
          "height": 223
        },
        "id": "_3WOVbIOJOSD",
        "outputId": "77290139-0beb-48cf-b247-1ac20d18fa10"
      },
      "source": [
        "#A 1987 y a 1988 les faltan diciembre y enero respectivamente. Añadiremos esas observaciones asignando a extent y a area la media de los valores\n",
        "#de esos mismos meses los 6 años de alrededor.\n",
        "\n",
        "for y, ms in empty_y_m.items():\n",
        "  for m in ms: #en caso de que hubiera más de un mes\n",
        "\n",
        "    e = df1['extent'][(df1['year'].isin(range(y-3, y+4))) & (df1['mo'] == m)].mean()\n",
        "    a = df1['area'][(df1['year'].isin(range(y-3, y+4))) & (df1['mo'] == m)].mean()\n",
        "\n",
        "    df1.loc[len(df1)] = [y, m, 'Created', e, a, pd.Timestamp(year = y, month = m, day =1 )]\n",
        "\n",
        "print(len(df1))\n",
        "df1.tail()\n"
      ],
      "execution_count": 48,
      "outputs": [
        {
          "output_type": "stream",
          "name": "stdout",
          "text": [
            "420\n"
          ]
        },
        {
          "output_type": "execute_result",
          "data": {
            "text/html": [
              "<div>\n",
              "<style scoped>\n",
              "    .dataframe tbody tr th:only-of-type {\n",
              "        vertical-align: middle;\n",
              "    }\n",
              "\n",
              "    .dataframe tbody tr th {\n",
              "        vertical-align: top;\n",
              "    }\n",
              "\n",
              "    .dataframe thead th {\n",
              "        text-align: right;\n",
              "    }\n",
              "</style>\n",
              "<table border=\"1\" class=\"dataframe\">\n",
              "  <thead>\n",
              "    <tr style=\"text-align: right;\">\n",
              "      <th></th>\n",
              "      <th>year</th>\n",
              "      <th>mo</th>\n",
              "      <th>data_type</th>\n",
              "      <th>extent</th>\n",
              "      <th>area</th>\n",
              "      <th>date</th>\n",
              "    </tr>\n",
              "  </thead>\n",
              "  <tbody>\n",
              "    <tr>\n",
              "      <th>415</th>\n",
              "      <td>2011</td>\n",
              "      <td>12</td>\n",
              "      <td>Goddard</td>\n",
              "      <td>12.400000</td>\n",
              "      <td>10.280000</td>\n",
              "      <td>2011-12-01</td>\n",
              "    </tr>\n",
              "    <tr>\n",
              "      <th>416</th>\n",
              "      <td>2012</td>\n",
              "      <td>12</td>\n",
              "      <td>Goddard</td>\n",
              "      <td>12.200000</td>\n",
              "      <td>10.110000</td>\n",
              "      <td>2012-12-01</td>\n",
              "    </tr>\n",
              "    <tr>\n",
              "      <th>417</th>\n",
              "      <td>2013</td>\n",
              "      <td>12</td>\n",
              "      <td>NRTSI-G</td>\n",
              "      <td>12.380000</td>\n",
              "      <td>10.480000</td>\n",
              "      <td>2013-12-01</td>\n",
              "    </tr>\n",
              "    <tr>\n",
              "      <th>418</th>\n",
              "      <td>1987</td>\n",
              "      <td>12</td>\n",
              "      <td>Created</td>\n",
              "      <td>13.381667</td>\n",
              "      <td>10.945000</td>\n",
              "      <td>1987-12-01</td>\n",
              "    </tr>\n",
              "    <tr>\n",
              "      <th>419</th>\n",
              "      <td>1988</td>\n",
              "      <td>1</td>\n",
              "      <td>Created</td>\n",
              "      <td>14.935000</td>\n",
              "      <td>12.253333</td>\n",
              "      <td>1988-01-01</td>\n",
              "    </tr>\n",
              "  </tbody>\n",
              "</table>\n",
              "</div>"
            ],
            "text/plain": [
              "     year  mo data_type     extent       area       date\n",
              "415  2011  12   Goddard  12.400000  10.280000 2011-12-01\n",
              "416  2012  12   Goddard  12.200000  10.110000 2012-12-01\n",
              "417  2013  12   NRTSI-G  12.380000  10.480000 2013-12-01\n",
              "418  1987  12   Created  13.381667  10.945000 1987-12-01\n",
              "419  1988   1   Created  14.935000  12.253333 1988-01-01"
            ]
          },
          "metadata": {},
          "execution_count": 48
        }
      ]
    },
    {
      "cell_type": "code",
      "metadata": {
        "colab": {
          "base_uri": "https://localhost:8080/",
          "height": 542
        },
        "id": "XJ5nk7evWrVE",
        "outputId": "d7e11283-b8fc-44c2-b090-2cda6d915081"
      },
      "source": [
        "df1 = df1.sort_values('date')\n",
        "px.line(df1, x = 'mo', y = 'extent',\n",
        "  animation_frame = \"year\", \n",
        "  range_y=[df1['extent'].min()-0.25, df1['extent'].max()+0.25],\n",
        "  labels = {'mo' : 'Month', 'extent' : 'Extent', 'year' : 'Year'} )\n",
        "\n",
        "#Vemos la evolución dentro de cada año. Comprovamos que es \n",
        "#aparentemente suave y periódica de invierno a invierno.\n",
        "#El máximo de SIE se da en marzo y el mínimo en septiembre, en la mayoría de años.\n",
        "#Si avanzamos en el tiempo, apreciamos como la SIE de cada mes \n",
        "#se ha ido reduciendo con el paso del tiempo, pese a presentar fluctuaciones año\n",
        "# a año. "
      ],
      "execution_count": 49,
      "outputs": [
        {
          "output_type": "display_data",
          "data": {
            "text/html": [
              "<html>\n",
              "<head><meta charset=\"utf-8\" /></head>\n",
              "<body>\n",
              "    <div>\n",
              "            <script src=\"https://cdnjs.cloudflare.com/ajax/libs/mathjax/2.7.5/MathJax.js?config=TeX-AMS-MML_SVG\"></script><script type=\"text/javascript\">if (window.MathJax) {MathJax.Hub.Config({SVG: {font: \"STIX-Web\"}});}</script>\n",
              "                <script type=\"text/javascript\">window.PlotlyConfig = {MathJaxConfig: 'local'};</script>\n",
              "        <script src=\"https://cdn.plot.ly/plotly-latest.min.js\"></script>    \n",
              "            <div id=\"c654c3ff-7216-477d-92e2-3619d777dde2\" class=\"plotly-graph-div\" style=\"height:525px; width:100%;\"></div>\n",
              "            <script type=\"text/javascript\">\n",
              "                \n",
              "                    window.PLOTLYENV=window.PLOTLYENV || {};\n",
              "                    \n",
              "                if (document.getElementById(\"c654c3ff-7216-477d-92e2-3619d777dde2\")) {\n",
              "                    Plotly.newPlot(\n",
              "                        'c654c3ff-7216-477d-92e2-3619d777dde2',\n",
              "                        [{\"hoverlabel\": {\"namelength\": 0}, \"hovertemplate\": \"Year=1979<br>Month=%{x}<br>Extent=%{y}\", \"legendgroup\": \"\", \"line\": {\"color\": \"#636efa\", \"dash\": \"solid\"}, \"mode\": \"lines\", \"name\": \"\", \"showlegend\": false, \"type\": \"scatter\", \"x\": [1, 2, 3, 4, 5, 6, 7, 8, 9, 10, 11, 12], \"xaxis\": \"x\", \"y\": [15.54, 16.31, 16.45, 15.46, 14.06, 12.59, 10.47, 8.15, 7.2, 9.39, 11.16, 13.54], \"yaxis\": \"y\"}],\n",
              "                        {\"legend\": {\"tracegroupgap\": 0}, \"margin\": {\"t\": 60}, \"sliders\": [{\"active\": 0, \"currentvalue\": {\"prefix\": \"Year=\"}, \"len\": 0.9, \"pad\": {\"b\": 10, \"t\": 60}, \"steps\": [{\"args\": [[\"1979\"], {\"frame\": {\"duration\": 0, \"redraw\": false}, \"fromcurrent\": true, \"mode\": \"immediate\", \"transition\": {\"duration\": 0, \"easing\": \"linear\"}}], \"label\": \"1979\", \"method\": \"animate\"}, {\"args\": [[\"1980\"], {\"frame\": {\"duration\": 0, \"redraw\": false}, \"fromcurrent\": true, \"mode\": \"immediate\", \"transition\": {\"duration\": 0, \"easing\": \"linear\"}}], \"label\": \"1980\", \"method\": \"animate\"}, {\"args\": [[\"1981\"], {\"frame\": {\"duration\": 0, \"redraw\": false}, \"fromcurrent\": true, \"mode\": \"immediate\", \"transition\": {\"duration\": 0, \"easing\": \"linear\"}}], \"label\": \"1981\", \"method\": \"animate\"}, {\"args\": [[\"1982\"], {\"frame\": {\"duration\": 0, \"redraw\": false}, \"fromcurrent\": true, \"mode\": \"immediate\", \"transition\": {\"duration\": 0, \"easing\": \"linear\"}}], \"label\": \"1982\", \"method\": \"animate\"}, {\"args\": [[\"1983\"], {\"frame\": {\"duration\": 0, \"redraw\": false}, \"fromcurrent\": true, \"mode\": \"immediate\", \"transition\": {\"duration\": 0, \"easing\": \"linear\"}}], \"label\": \"1983\", \"method\": \"animate\"}, {\"args\": [[\"1984\"], {\"frame\": {\"duration\": 0, \"redraw\": false}, \"fromcurrent\": true, \"mode\": \"immediate\", \"transition\": {\"duration\": 0, \"easing\": \"linear\"}}], \"label\": \"1984\", \"method\": \"animate\"}, {\"args\": [[\"1985\"], {\"frame\": {\"duration\": 0, \"redraw\": false}, \"fromcurrent\": true, \"mode\": \"immediate\", \"transition\": {\"duration\": 0, \"easing\": \"linear\"}}], \"label\": \"1985\", \"method\": \"animate\"}, {\"args\": [[\"1986\"], {\"frame\": {\"duration\": 0, \"redraw\": false}, \"fromcurrent\": true, \"mode\": \"immediate\", \"transition\": {\"duration\": 0, \"easing\": \"linear\"}}], \"label\": \"1986\", \"method\": \"animate\"}, {\"args\": [[\"1987\"], {\"frame\": {\"duration\": 0, \"redraw\": false}, \"fromcurrent\": true, \"mode\": \"immediate\", \"transition\": {\"duration\": 0, \"easing\": \"linear\"}}], \"label\": \"1987\", \"method\": \"animate\"}, {\"args\": [[\"1988\"], {\"frame\": {\"duration\": 0, \"redraw\": false}, \"fromcurrent\": true, \"mode\": \"immediate\", \"transition\": {\"duration\": 0, \"easing\": \"linear\"}}], \"label\": \"1988\", \"method\": \"animate\"}, {\"args\": [[\"1989\"], {\"frame\": {\"duration\": 0, \"redraw\": false}, \"fromcurrent\": true, \"mode\": \"immediate\", \"transition\": {\"duration\": 0, \"easing\": \"linear\"}}], \"label\": \"1989\", \"method\": \"animate\"}, {\"args\": [[\"1990\"], {\"frame\": {\"duration\": 0, \"redraw\": false}, \"fromcurrent\": true, \"mode\": \"immediate\", \"transition\": {\"duration\": 0, \"easing\": \"linear\"}}], \"label\": \"1990\", \"method\": \"animate\"}, {\"args\": [[\"1991\"], {\"frame\": {\"duration\": 0, \"redraw\": false}, \"fromcurrent\": true, \"mode\": \"immediate\", \"transition\": {\"duration\": 0, \"easing\": \"linear\"}}], \"label\": \"1991\", \"method\": \"animate\"}, {\"args\": [[\"1992\"], {\"frame\": {\"duration\": 0, \"redraw\": false}, \"fromcurrent\": true, \"mode\": \"immediate\", \"transition\": {\"duration\": 0, \"easing\": \"linear\"}}], \"label\": \"1992\", \"method\": \"animate\"}, {\"args\": [[\"1993\"], {\"frame\": {\"duration\": 0, \"redraw\": false}, \"fromcurrent\": true, \"mode\": \"immediate\", \"transition\": {\"duration\": 0, \"easing\": \"linear\"}}], \"label\": \"1993\", \"method\": \"animate\"}, {\"args\": [[\"1994\"], {\"frame\": {\"duration\": 0, \"redraw\": false}, \"fromcurrent\": true, \"mode\": \"immediate\", \"transition\": {\"duration\": 0, \"easing\": \"linear\"}}], \"label\": \"1994\", \"method\": \"animate\"}, {\"args\": [[\"1995\"], {\"frame\": {\"duration\": 0, \"redraw\": false}, \"fromcurrent\": true, \"mode\": \"immediate\", \"transition\": {\"duration\": 0, \"easing\": \"linear\"}}], \"label\": \"1995\", \"method\": \"animate\"}, {\"args\": [[\"1996\"], {\"frame\": {\"duration\": 0, \"redraw\": false}, \"fromcurrent\": true, \"mode\": \"immediate\", \"transition\": {\"duration\": 0, \"easing\": \"linear\"}}], \"label\": \"1996\", \"method\": \"animate\"}, {\"args\": [[\"1997\"], {\"frame\": {\"duration\": 0, \"redraw\": false}, \"fromcurrent\": true, \"mode\": \"immediate\", \"transition\": {\"duration\": 0, \"easing\": \"linear\"}}], \"label\": \"1997\", \"method\": \"animate\"}, {\"args\": [[\"1998\"], {\"frame\": {\"duration\": 0, \"redraw\": false}, \"fromcurrent\": true, \"mode\": \"immediate\", \"transition\": {\"duration\": 0, \"easing\": \"linear\"}}], \"label\": \"1998\", \"method\": \"animate\"}, {\"args\": [[\"1999\"], {\"frame\": {\"duration\": 0, \"redraw\": false}, \"fromcurrent\": true, \"mode\": \"immediate\", \"transition\": {\"duration\": 0, \"easing\": \"linear\"}}], \"label\": \"1999\", \"method\": \"animate\"}, {\"args\": [[\"2000\"], {\"frame\": {\"duration\": 0, \"redraw\": false}, \"fromcurrent\": true, \"mode\": \"immediate\", \"transition\": {\"duration\": 0, \"easing\": \"linear\"}}], \"label\": \"2000\", \"method\": \"animate\"}, {\"args\": [[\"2001\"], {\"frame\": {\"duration\": 0, \"redraw\": false}, \"fromcurrent\": true, \"mode\": \"immediate\", \"transition\": {\"duration\": 0, \"easing\": \"linear\"}}], \"label\": \"2001\", \"method\": \"animate\"}, {\"args\": [[\"2002\"], {\"frame\": {\"duration\": 0, \"redraw\": false}, \"fromcurrent\": true, \"mode\": \"immediate\", \"transition\": {\"duration\": 0, \"easing\": \"linear\"}}], \"label\": \"2002\", \"method\": \"animate\"}, {\"args\": [[\"2003\"], {\"frame\": {\"duration\": 0, \"redraw\": false}, \"fromcurrent\": true, \"mode\": \"immediate\", \"transition\": {\"duration\": 0, \"easing\": \"linear\"}}], \"label\": \"2003\", \"method\": \"animate\"}, {\"args\": [[\"2004\"], {\"frame\": {\"duration\": 0, \"redraw\": false}, \"fromcurrent\": true, \"mode\": \"immediate\", \"transition\": {\"duration\": 0, \"easing\": \"linear\"}}], \"label\": \"2004\", \"method\": \"animate\"}, {\"args\": [[\"2005\"], {\"frame\": {\"duration\": 0, \"redraw\": false}, \"fromcurrent\": true, \"mode\": \"immediate\", \"transition\": {\"duration\": 0, \"easing\": \"linear\"}}], \"label\": \"2005\", \"method\": \"animate\"}, {\"args\": [[\"2006\"], {\"frame\": {\"duration\": 0, \"redraw\": false}, \"fromcurrent\": true, \"mode\": \"immediate\", \"transition\": {\"duration\": 0, \"easing\": \"linear\"}}], \"label\": \"2006\", \"method\": \"animate\"}, {\"args\": [[\"2007\"], {\"frame\": {\"duration\": 0, \"redraw\": false}, \"fromcurrent\": true, \"mode\": \"immediate\", \"transition\": {\"duration\": 0, \"easing\": \"linear\"}}], \"label\": \"2007\", \"method\": \"animate\"}, {\"args\": [[\"2008\"], {\"frame\": {\"duration\": 0, \"redraw\": false}, \"fromcurrent\": true, \"mode\": \"immediate\", \"transition\": {\"duration\": 0, \"easing\": \"linear\"}}], \"label\": \"2008\", \"method\": \"animate\"}, {\"args\": [[\"2009\"], {\"frame\": {\"duration\": 0, \"redraw\": false}, \"fromcurrent\": true, \"mode\": \"immediate\", \"transition\": {\"duration\": 0, \"easing\": \"linear\"}}], \"label\": \"2009\", \"method\": \"animate\"}, {\"args\": [[\"2010\"], {\"frame\": {\"duration\": 0, \"redraw\": false}, \"fromcurrent\": true, \"mode\": \"immediate\", \"transition\": {\"duration\": 0, \"easing\": \"linear\"}}], \"label\": \"2010\", \"method\": \"animate\"}, {\"args\": [[\"2011\"], {\"frame\": {\"duration\": 0, \"redraw\": false}, \"fromcurrent\": true, \"mode\": \"immediate\", \"transition\": {\"duration\": 0, \"easing\": \"linear\"}}], \"label\": \"2011\", \"method\": \"animate\"}, {\"args\": [[\"2012\"], {\"frame\": {\"duration\": 0, \"redraw\": false}, \"fromcurrent\": true, \"mode\": \"immediate\", \"transition\": {\"duration\": 0, \"easing\": \"linear\"}}], \"label\": \"2012\", \"method\": \"animate\"}, {\"args\": [[\"2013\"], {\"frame\": {\"duration\": 0, \"redraw\": false}, \"fromcurrent\": true, \"mode\": \"immediate\", \"transition\": {\"duration\": 0, \"easing\": \"linear\"}}], \"label\": \"2013\", \"method\": \"animate\"}], \"x\": 0.1, \"xanchor\": \"left\", \"y\": 0, \"yanchor\": \"top\"}], \"template\": {\"data\": {\"bar\": [{\"error_x\": {\"color\": \"#2a3f5f\"}, \"error_y\": {\"color\": \"#2a3f5f\"}, \"marker\": {\"line\": {\"color\": \"#E5ECF6\", \"width\": 0.5}}, \"type\": \"bar\"}], \"barpolar\": [{\"marker\": {\"line\": {\"color\": \"#E5ECF6\", \"width\": 0.5}}, \"type\": \"barpolar\"}], \"carpet\": [{\"aaxis\": {\"endlinecolor\": \"#2a3f5f\", \"gridcolor\": \"white\", \"linecolor\": \"white\", \"minorgridcolor\": \"white\", \"startlinecolor\": \"#2a3f5f\"}, \"baxis\": {\"endlinecolor\": \"#2a3f5f\", \"gridcolor\": \"white\", \"linecolor\": \"white\", \"minorgridcolor\": \"white\", \"startlinecolor\": \"#2a3f5f\"}, \"type\": \"carpet\"}], \"choropleth\": [{\"colorbar\": {\"outlinewidth\": 0, \"ticks\": \"\"}, \"type\": \"choropleth\"}], \"contour\": [{\"colorbar\": {\"outlinewidth\": 0, \"ticks\": \"\"}, \"colorscale\": [[0.0, \"#0d0887\"], [0.1111111111111111, \"#46039f\"], [0.2222222222222222, \"#7201a8\"], [0.3333333333333333, \"#9c179e\"], [0.4444444444444444, \"#bd3786\"], [0.5555555555555556, \"#d8576b\"], [0.6666666666666666, \"#ed7953\"], [0.7777777777777778, \"#fb9f3a\"], [0.8888888888888888, \"#fdca26\"], [1.0, \"#f0f921\"]], \"type\": \"contour\"}], \"contourcarpet\": [{\"colorbar\": {\"outlinewidth\": 0, \"ticks\": \"\"}, \"type\": \"contourcarpet\"}], \"heatmap\": [{\"colorbar\": {\"outlinewidth\": 0, \"ticks\": \"\"}, \"colorscale\": [[0.0, \"#0d0887\"], [0.1111111111111111, \"#46039f\"], [0.2222222222222222, \"#7201a8\"], [0.3333333333333333, \"#9c179e\"], [0.4444444444444444, \"#bd3786\"], [0.5555555555555556, \"#d8576b\"], [0.6666666666666666, \"#ed7953\"], [0.7777777777777778, \"#fb9f3a\"], [0.8888888888888888, \"#fdca26\"], [1.0, \"#f0f921\"]], \"type\": \"heatmap\"}], \"heatmapgl\": [{\"colorbar\": {\"outlinewidth\": 0, \"ticks\": \"\"}, \"colorscale\": [[0.0, \"#0d0887\"], [0.1111111111111111, \"#46039f\"], [0.2222222222222222, \"#7201a8\"], [0.3333333333333333, \"#9c179e\"], [0.4444444444444444, \"#bd3786\"], [0.5555555555555556, \"#d8576b\"], [0.6666666666666666, \"#ed7953\"], [0.7777777777777778, \"#fb9f3a\"], [0.8888888888888888, \"#fdca26\"], [1.0, \"#f0f921\"]], \"type\": \"heatmapgl\"}], \"histogram\": [{\"marker\": {\"colorbar\": {\"outlinewidth\": 0, \"ticks\": \"\"}}, \"type\": \"histogram\"}], \"histogram2d\": [{\"colorbar\": {\"outlinewidth\": 0, \"ticks\": \"\"}, \"colorscale\": [[0.0, \"#0d0887\"], [0.1111111111111111, \"#46039f\"], [0.2222222222222222, \"#7201a8\"], [0.3333333333333333, \"#9c179e\"], [0.4444444444444444, \"#bd3786\"], [0.5555555555555556, \"#d8576b\"], [0.6666666666666666, \"#ed7953\"], [0.7777777777777778, \"#fb9f3a\"], [0.8888888888888888, \"#fdca26\"], [1.0, \"#f0f921\"]], \"type\": \"histogram2d\"}], \"histogram2dcontour\": [{\"colorbar\": {\"outlinewidth\": 0, \"ticks\": \"\"}, \"colorscale\": [[0.0, \"#0d0887\"], [0.1111111111111111, \"#46039f\"], [0.2222222222222222, \"#7201a8\"], [0.3333333333333333, \"#9c179e\"], [0.4444444444444444, \"#bd3786\"], [0.5555555555555556, \"#d8576b\"], [0.6666666666666666, \"#ed7953\"], [0.7777777777777778, \"#fb9f3a\"], [0.8888888888888888, \"#fdca26\"], [1.0, \"#f0f921\"]], \"type\": \"histogram2dcontour\"}], \"mesh3d\": [{\"colorbar\": {\"outlinewidth\": 0, \"ticks\": \"\"}, \"type\": \"mesh3d\"}], \"parcoords\": [{\"line\": {\"colorbar\": {\"outlinewidth\": 0, \"ticks\": \"\"}}, \"type\": \"parcoords\"}], \"pie\": [{\"automargin\": true, \"type\": \"pie\"}], \"scatter\": [{\"marker\": {\"colorbar\": {\"outlinewidth\": 0, \"ticks\": \"\"}}, \"type\": \"scatter\"}], \"scatter3d\": [{\"line\": {\"colorbar\": {\"outlinewidth\": 0, \"ticks\": \"\"}}, \"marker\": {\"colorbar\": {\"outlinewidth\": 0, \"ticks\": \"\"}}, \"type\": \"scatter3d\"}], \"scattercarpet\": [{\"marker\": {\"colorbar\": {\"outlinewidth\": 0, \"ticks\": \"\"}}, \"type\": \"scattercarpet\"}], \"scattergeo\": [{\"marker\": {\"colorbar\": {\"outlinewidth\": 0, \"ticks\": \"\"}}, \"type\": \"scattergeo\"}], \"scattergl\": [{\"marker\": {\"colorbar\": {\"outlinewidth\": 0, \"ticks\": \"\"}}, \"type\": \"scattergl\"}], \"scattermapbox\": [{\"marker\": {\"colorbar\": {\"outlinewidth\": 0, \"ticks\": \"\"}}, \"type\": \"scattermapbox\"}], \"scatterpolar\": [{\"marker\": {\"colorbar\": {\"outlinewidth\": 0, \"ticks\": \"\"}}, \"type\": \"scatterpolar\"}], \"scatterpolargl\": [{\"marker\": {\"colorbar\": {\"outlinewidth\": 0, \"ticks\": \"\"}}, \"type\": \"scatterpolargl\"}], \"scatterternary\": [{\"marker\": {\"colorbar\": {\"outlinewidth\": 0, \"ticks\": \"\"}}, \"type\": \"scatterternary\"}], \"surface\": [{\"colorbar\": {\"outlinewidth\": 0, \"ticks\": \"\"}, \"colorscale\": [[0.0, \"#0d0887\"], [0.1111111111111111, \"#46039f\"], [0.2222222222222222, \"#7201a8\"], [0.3333333333333333, \"#9c179e\"], [0.4444444444444444, \"#bd3786\"], [0.5555555555555556, \"#d8576b\"], [0.6666666666666666, \"#ed7953\"], [0.7777777777777778, \"#fb9f3a\"], [0.8888888888888888, \"#fdca26\"], [1.0, \"#f0f921\"]], \"type\": \"surface\"}], \"table\": [{\"cells\": {\"fill\": {\"color\": \"#EBF0F8\"}, \"line\": {\"color\": \"white\"}}, \"header\": {\"fill\": {\"color\": \"#C8D4E3\"}, \"line\": {\"color\": \"white\"}}, \"type\": \"table\"}]}, \"layout\": {\"annotationdefaults\": {\"arrowcolor\": \"#2a3f5f\", \"arrowhead\": 0, \"arrowwidth\": 1}, \"coloraxis\": {\"colorbar\": {\"outlinewidth\": 0, \"ticks\": \"\"}}, \"colorscale\": {\"diverging\": [[0, \"#8e0152\"], [0.1, \"#c51b7d\"], [0.2, \"#de77ae\"], [0.3, \"#f1b6da\"], [0.4, \"#fde0ef\"], [0.5, \"#f7f7f7\"], [0.6, \"#e6f5d0\"], [0.7, \"#b8e186\"], [0.8, \"#7fbc41\"], [0.9, \"#4d9221\"], [1, \"#276419\"]], \"sequential\": [[0.0, \"#0d0887\"], [0.1111111111111111, \"#46039f\"], [0.2222222222222222, \"#7201a8\"], [0.3333333333333333, \"#9c179e\"], [0.4444444444444444, \"#bd3786\"], [0.5555555555555556, \"#d8576b\"], [0.6666666666666666, \"#ed7953\"], [0.7777777777777778, \"#fb9f3a\"], [0.8888888888888888, \"#fdca26\"], [1.0, \"#f0f921\"]], \"sequentialminus\": [[0.0, \"#0d0887\"], [0.1111111111111111, \"#46039f\"], [0.2222222222222222, \"#7201a8\"], [0.3333333333333333, \"#9c179e\"], [0.4444444444444444, \"#bd3786\"], [0.5555555555555556, \"#d8576b\"], [0.6666666666666666, \"#ed7953\"], [0.7777777777777778, \"#fb9f3a\"], [0.8888888888888888, \"#fdca26\"], [1.0, \"#f0f921\"]]}, \"colorway\": [\"#636efa\", \"#EF553B\", \"#00cc96\", \"#ab63fa\", \"#FFA15A\", \"#19d3f3\", \"#FF6692\", \"#B6E880\", \"#FF97FF\", \"#FECB52\"], \"font\": {\"color\": \"#2a3f5f\"}, \"geo\": {\"bgcolor\": \"white\", \"lakecolor\": \"white\", \"landcolor\": \"#E5ECF6\", \"showlakes\": true, \"showland\": true, \"subunitcolor\": \"white\"}, \"hoverlabel\": {\"align\": \"left\"}, \"hovermode\": \"closest\", \"mapbox\": {\"style\": \"light\"}, \"paper_bgcolor\": \"white\", \"plot_bgcolor\": \"#E5ECF6\", \"polar\": {\"angularaxis\": {\"gridcolor\": \"white\", \"linecolor\": \"white\", \"ticks\": \"\"}, \"bgcolor\": \"#E5ECF6\", \"radialaxis\": {\"gridcolor\": \"white\", \"linecolor\": \"white\", \"ticks\": \"\"}}, \"scene\": {\"xaxis\": {\"backgroundcolor\": \"#E5ECF6\", \"gridcolor\": \"white\", \"gridwidth\": 2, \"linecolor\": \"white\", \"showbackground\": true, \"ticks\": \"\", \"zerolinecolor\": \"white\"}, \"yaxis\": {\"backgroundcolor\": \"#E5ECF6\", \"gridcolor\": \"white\", \"gridwidth\": 2, \"linecolor\": \"white\", \"showbackground\": true, \"ticks\": \"\", \"zerolinecolor\": \"white\"}, \"zaxis\": {\"backgroundcolor\": \"#E5ECF6\", \"gridcolor\": \"white\", \"gridwidth\": 2, \"linecolor\": \"white\", \"showbackground\": true, \"ticks\": \"\", \"zerolinecolor\": \"white\"}}, \"shapedefaults\": {\"line\": {\"color\": \"#2a3f5f\"}}, \"ternary\": {\"aaxis\": {\"gridcolor\": \"white\", \"linecolor\": \"white\", \"ticks\": \"\"}, \"baxis\": {\"gridcolor\": \"white\", \"linecolor\": \"white\", \"ticks\": \"\"}, \"bgcolor\": \"#E5ECF6\", \"caxis\": {\"gridcolor\": \"white\", \"linecolor\": \"white\", \"ticks\": \"\"}}, \"title\": {\"x\": 0.05}, \"xaxis\": {\"automargin\": true, \"gridcolor\": \"white\", \"linecolor\": \"white\", \"ticks\": \"\", \"title\": {\"standoff\": 15}, \"zerolinecolor\": \"white\", \"zerolinewidth\": 2}, \"yaxis\": {\"automargin\": true, \"gridcolor\": \"white\", \"linecolor\": \"white\", \"ticks\": \"\", \"title\": {\"standoff\": 15}, \"zerolinecolor\": \"white\", \"zerolinewidth\": 2}}}, \"updatemenus\": [{\"buttons\": [{\"args\": [null, {\"frame\": {\"duration\": 500, \"redraw\": false}, \"fromcurrent\": true, \"mode\": \"immediate\", \"transition\": {\"duration\": 500, \"easing\": \"linear\"}}], \"label\": \"&#9654;\", \"method\": \"animate\"}, {\"args\": [[null], {\"frame\": {\"duration\": 0, \"redraw\": false}, \"fromcurrent\": true, \"mode\": \"immediate\", \"transition\": {\"duration\": 0, \"easing\": \"linear\"}}], \"label\": \"&#9724;\", \"method\": \"animate\"}], \"direction\": \"left\", \"pad\": {\"r\": 10, \"t\": 70}, \"showactive\": false, \"type\": \"buttons\", \"x\": 0.1, \"xanchor\": \"right\", \"y\": 0, \"yanchor\": \"top\"}], \"xaxis\": {\"anchor\": \"y\", \"domain\": [0.0, 1.0], \"title\": {\"text\": \"Month\"}}, \"yaxis\": {\"anchor\": \"x\", \"domain\": [0.0, 1.0], \"range\": [3.38, 16.7], \"title\": {\"text\": \"Extent\"}}},\n",
              "                        {\"responsive\": true}\n",
              "                    ).then(function(){\n",
              "                            Plotly.addFrames('c654c3ff-7216-477d-92e2-3619d777dde2', [{\"data\": [{\"hoverlabel\": {\"namelength\": 0}, \"hovertemplate\": \"Year=1979<br>Month=%{x}<br>Extent=%{y}\", \"legendgroup\": \"\", \"line\": {\"color\": \"#636efa\", \"dash\": \"solid\"}, \"mode\": \"lines\", \"name\": \"\", \"showlegend\": false, \"x\": [1, 2, 3, 4, 5, 6, 7, 8, 9, 10, 11, 12], \"xaxis\": \"x\", \"y\": [15.54, 16.31, 16.45, 15.46, 14.06, 12.59, 10.47, 8.15, 7.2, 9.39, 11.16, 13.54], \"yaxis\": \"y\", \"type\": \"scatter\"}], \"name\": \"1979\"}, {\"data\": [{\"hoverlabel\": {\"namelength\": 0}, \"hovertemplate\": \"Year=1980<br>Month=%{x}<br>Extent=%{y}\", \"legendgroup\": \"\", \"line\": {\"color\": \"#636efa\", \"dash\": \"solid\"}, \"mode\": \"lines\", \"name\": \"\", \"showlegend\": false, \"x\": [1, 2, 3, 4, 5, 6, 7, 8, 9, 10, 11, 12], \"xaxis\": \"x\", \"y\": [14.96, 15.98, 16.13, 15.49, 14.04, 12.31, 10.39, 8.04, 7.85, 9.46, 11.69, 13.72], \"yaxis\": \"y\", \"type\": \"scatter\"}], \"name\": \"1980\"}, {\"data\": [{\"hoverlabel\": {\"namelength\": 0}, \"hovertemplate\": \"Year=1981<br>Month=%{x}<br>Extent=%{y}\", \"legendgroup\": \"\", \"line\": {\"color\": \"#636efa\", \"dash\": \"solid\"}, \"mode\": \"lines\", \"name\": \"\", \"showlegend\": false, \"x\": [1, 2, 3, 4, 5, 6, 7, 8, 9, 10, 11, 12], \"xaxis\": \"x\", \"y\": [15.03, 15.65, 15.61, 15.12, 13.9, 12.57, 10.62, 7.86, 7.25, 9.19, 11.17, 13.74], \"yaxis\": \"y\", \"type\": \"scatter\"}], \"name\": \"1981\"}, {\"data\": [{\"hoverlabel\": {\"namelength\": 0}, \"hovertemplate\": \"Year=1982<br>Month=%{x}<br>Extent=%{y}\", \"legendgroup\": \"\", \"line\": {\"color\": \"#636efa\", \"dash\": \"solid\"}, \"mode\": \"lines\", \"name\": \"\", \"showlegend\": false, \"x\": [1, 2, 3, 4, 5, 6, 7, 8, 9, 10, 11, 12], \"xaxis\": \"x\", \"y\": [15.26, 16.06, 16.15, 15.57, 14.17, 12.69, 10.75, 8.26, 7.45, 9.98, 11.91, 13.83], \"yaxis\": \"y\", \"type\": \"scatter\"}], \"name\": \"1982\"}, {\"data\": [{\"hoverlabel\": {\"namelength\": 0}, \"hovertemplate\": \"Year=1983<br>Month=%{x}<br>Extent=%{y}\", \"legendgroup\": \"\", \"line\": {\"color\": \"#636efa\", \"dash\": \"solid\"}, \"mode\": \"lines\", \"name\": \"\", \"showlegend\": false, \"x\": [1, 2, 3, 4, 5, 6, 7, 8, 9, 10, 11, 12], \"xaxis\": \"x\", \"y\": [15.1, 16.02, 16.1, 15.3, 13.54, 12.36, 10.91, 8.36, 7.52, 9.64, 11.64, 13.44], \"yaxis\": \"y\", \"type\": \"scatter\"}], \"name\": \"1983\"}, {\"data\": [{\"hoverlabel\": {\"namelength\": 0}, \"hovertemplate\": \"Year=1984<br>Month=%{x}<br>Extent=%{y}\", \"legendgroup\": \"\", \"line\": {\"color\": \"#636efa\", \"dash\": \"solid\"}, \"mode\": \"lines\", \"name\": \"\", \"showlegend\": false, \"x\": [1, 2, 3, 4, 5, 6, 7, 8, 9, 10, 11, 12], \"xaxis\": \"x\", \"y\": [14.61, 15.32, 15.62, 15.15, 13.68, 12.2, 10.15, 7.87, 7.17, 8.84, 11.29, 13.18], \"yaxis\": \"y\", \"type\": \"scatter\"}], \"name\": \"1984\"}, {\"data\": [{\"hoverlabel\": {\"namelength\": 0}, \"hovertemplate\": \"Year=1985<br>Month=%{x}<br>Extent=%{y}\", \"legendgroup\": \"\", \"line\": {\"color\": \"#636efa\", \"dash\": \"solid\"}, \"mode\": \"lines\", \"name\": \"\", \"showlegend\": false, \"x\": [1, 2, 3, 4, 5, 6, 7, 8, 9, 10, 11, 12], \"xaxis\": \"x\", \"y\": [14.86, 15.67, 16.06, 15.34, 14.23, 12.4, 10.09, 7.46, 6.93, 8.88, 11.39, 13.19], \"yaxis\": \"y\", \"type\": \"scatter\"}], \"name\": \"1985\"}, {\"data\": [{\"hoverlabel\": {\"namelength\": 0}, \"hovertemplate\": \"Year=1986<br>Month=%{x}<br>Extent=%{y}\", \"legendgroup\": \"\", \"line\": {\"color\": \"#636efa\", \"dash\": \"solid\"}, \"mode\": \"lines\", \"name\": \"\", \"showlegend\": false, \"x\": [1, 2, 3, 4, 5, 6, 7, 8, 9, 10, 11, 12], \"xaxis\": \"x\", \"y\": [15.02, 15.89, 16.08, 15.15, 13.52, 12.1, 10.47, 8.01, 7.54, 9.89, 11.78, 13.4], \"yaxis\": \"y\", \"type\": \"scatter\"}], \"name\": \"1986\"}, {\"data\": [{\"hoverlabel\": {\"namelength\": 0}, \"hovertemplate\": \"Year=1987<br>Month=%{x}<br>Extent=%{y}\", \"legendgroup\": \"\", \"line\": {\"color\": \"#636efa\", \"dash\": \"solid\"}, \"mode\": \"lines\", \"name\": \"\", \"showlegend\": false, \"x\": [1, 2, 3, 4, 5, 6, 7, 8, 9, 10, 11, 12], \"xaxis\": \"x\", \"y\": [15.2, 16.11, 15.95, 15.33, 13.81, 12.57, 9.98, 7.69, 7.48, 9.29, 11.52, 13.381666666666666], \"yaxis\": \"y\", \"type\": \"scatter\"}], \"name\": \"1987\"}, {\"data\": [{\"hoverlabel\": {\"namelength\": 0}, \"hovertemplate\": \"Year=1988<br>Month=%{x}<br>Extent=%{y}\", \"legendgroup\": \"\", \"line\": {\"color\": \"#636efa\", \"dash\": \"solid\"}, \"mode\": \"lines\", \"name\": \"\", \"showlegend\": false, \"x\": [1, 2, 3, 4, 5, 6, 7, 8, 9, 10, 11, 12], \"xaxis\": \"x\", \"y\": [14.934999999999997, 15.61, 16.13, 15.21, 13.69, 12.02, 10.04, 7.9, 7.49, 9.47, 11.69, 13.78], \"yaxis\": \"y\", \"type\": \"scatter\"}], \"name\": \"1988\"}, {\"data\": [{\"hoverlabel\": {\"namelength\": 0}, \"hovertemplate\": \"Year=1989<br>Month=%{x}<br>Extent=%{y}\", \"legendgroup\": \"\", \"line\": {\"color\": \"#636efa\", \"dash\": \"solid\"}, \"mode\": \"lines\", \"name\": \"\", \"showlegend\": false, \"x\": [1, 2, 3, 4, 5, 6, 7, 8, 9, 10, 11, 12], \"xaxis\": \"x\", \"y\": [15.12, 15.56, 15.52, 14.44, 12.98, 12.31, 10.38, 7.92, 7.04, 9.52, 11.5, 13.47], \"yaxis\": \"y\", \"type\": \"scatter\"}], \"name\": \"1989\"}, {\"data\": [{\"hoverlabel\": {\"namelength\": 0}, \"hovertemplate\": \"Year=1990<br>Month=%{x}<br>Extent=%{y}\", \"legendgroup\": \"\", \"line\": {\"color\": \"#636efa\", \"dash\": \"solid\"}, \"mode\": \"lines\", \"name\": \"\", \"showlegend\": false, \"x\": [1, 2, 3, 4, 5, 6, 7, 8, 9, 10, 11, 12], \"xaxis\": \"x\", \"y\": [14.95, 15.56, 15.88, 14.68, 13.3, 11.68, 9.62, 6.82, 6.24, 9.35, 11.31, 13.27], \"yaxis\": \"y\", \"type\": \"scatter\"}], \"name\": \"1990\"}, {\"data\": [{\"hoverlabel\": {\"namelength\": 0}, \"hovertemplate\": \"Year=1991<br>Month=%{x}<br>Extent=%{y}\", \"legendgroup\": \"\", \"line\": {\"color\": \"#636efa\", \"dash\": \"solid\"}, \"mode\": \"lines\", \"name\": \"\", \"showlegend\": false, \"x\": [1, 2, 3, 4, 5, 6, 7, 8, 9, 10, 11, 12], \"xaxis\": \"x\", \"y\": [14.46, 15.26, 15.5, 14.93, 13.51, 12.23, 9.68, 7.4, 6.55, 9.16, 11.12, 13.17], \"yaxis\": \"y\", \"type\": \"scatter\"}], \"name\": \"1991\"}, {\"data\": [{\"hoverlabel\": {\"namelength\": 0}, \"hovertemplate\": \"Year=1992<br>Month=%{x}<br>Extent=%{y}\", \"legendgroup\": \"\", \"line\": {\"color\": \"#636efa\", \"dash\": \"solid\"}, \"mode\": \"lines\", \"name\": \"\", \"showlegend\": false, \"x\": [1, 2, 3, 4, 5, 6, 7, 8, 9, 10, 11, 12], \"xaxis\": \"x\", \"y\": [14.72, 15.5, 15.47, 14.7, 13.25, 12.13, 10.61, 7.86, 7.55, 9.6, 11.87, 13.46], \"yaxis\": \"y\", \"type\": \"scatter\"}], \"name\": \"1992\"}, {\"data\": [{\"hoverlabel\": {\"namelength\": 0}, \"hovertemplate\": \"Year=1993<br>Month=%{x}<br>Extent=%{y}\", \"legendgroup\": \"\", \"line\": {\"color\": \"#636efa\", \"dash\": \"solid\"}, \"mode\": \"lines\", \"name\": \"\", \"showlegend\": false, \"x\": [1, 2, 3, 4, 5, 6, 7, 8, 9, 10, 11, 12], \"xaxis\": \"x\", \"y\": [15.08, 15.73, 15.88, 15.18, 13.54, 11.99, 9.66, 7.29, 6.5, 9.18, 11.73, 13.52], \"yaxis\": \"y\", \"type\": \"scatter\"}], \"name\": \"1993\"}, {\"data\": [{\"hoverlabel\": {\"namelength\": 0}, \"hovertemplate\": \"Year=1994<br>Month=%{x}<br>Extent=%{y}\", \"legendgroup\": \"\", \"line\": {\"color\": \"#636efa\", \"dash\": \"solid\"}, \"mode\": \"lines\", \"name\": \"\", \"showlegend\": false, \"x\": [1, 2, 3, 4, 5, 6, 7, 8, 9, 10, 11, 12], \"xaxis\": \"x\", \"y\": [14.82, 15.61, 15.58, 14.95, 13.73, 12.1, 10.22, 7.61, 7.18, 9.48, 11.3, 13.53], \"yaxis\": \"y\", \"type\": \"scatter\"}], \"name\": \"1994\"}, {\"data\": [{\"hoverlabel\": {\"namelength\": 0}, \"hovertemplate\": \"Year=1995<br>Month=%{x}<br>Extent=%{y}\", \"legendgroup\": \"\", \"line\": {\"color\": \"#636efa\", \"dash\": \"solid\"}, \"mode\": \"lines\", \"name\": \"\", \"showlegend\": false, \"x\": [1, 2, 3, 4, 5, 6, 7, 8, 9, 10, 11, 12], \"xaxis\": \"x\", \"y\": [14.62, 15.24, 15.32, 14.59, 13.04, 11.55, 9.15, 6.68, 6.13, 8.94, 10.97, 12.98], \"yaxis\": \"y\", \"type\": \"scatter\"}], \"name\": \"1995\"}, {\"data\": [{\"hoverlabel\": {\"namelength\": 0}, \"hovertemplate\": \"Year=1996<br>Month=%{x}<br>Extent=%{y}\", \"legendgroup\": \"\", \"line\": {\"color\": \"#636efa\", \"dash\": \"solid\"}, \"mode\": \"lines\", \"name\": \"\", \"showlegend\": false, \"x\": [1, 2, 3, 4, 5, 6, 7, 8, 9, 10, 11, 12], \"xaxis\": \"x\", \"y\": [14.21, 15.17, 15.13, 14.22, 13.06, 12.1, 10.36, 8.17, 7.88, 9.39, 10.56, 13.14], \"yaxis\": \"y\", \"type\": \"scatter\"}], \"name\": \"1996\"}, {\"data\": [{\"hoverlabel\": {\"namelength\": 0}, \"hovertemplate\": \"Year=1997<br>Month=%{x}<br>Extent=%{y}\", \"legendgroup\": \"\", \"line\": {\"color\": \"#636efa\", \"dash\": \"solid\"}, \"mode\": \"lines\", \"name\": \"\", \"showlegend\": false, \"x\": [1, 2, 3, 4, 5, 6, 7, 8, 9, 10, 11, 12], \"xaxis\": \"x\", \"y\": [14.47, 15.52, 15.58, 14.59, 13.32, 11.91, 9.59, 7.3, 6.74, 8.76, 10.91, 13.29], \"yaxis\": \"y\", \"type\": \"scatter\"}], \"name\": \"1997\"}, {\"data\": [{\"hoverlabel\": {\"namelength\": 0}, \"hovertemplate\": \"Year=1998<br>Month=%{x}<br>Extent=%{y}\", \"legendgroup\": \"\", \"line\": {\"color\": \"#636efa\", \"dash\": \"solid\"}, \"mode\": \"lines\", \"name\": \"\", \"showlegend\": false, \"x\": [1, 2, 3, 4, 5, 6, 7, 8, 9, 10, 11, 12], \"xaxis\": \"x\", \"y\": [14.81, 15.77, 15.66, 14.89, 13.8, 11.85, 9.62, 7.49, 6.56, 8.85, 10.75, 13.26], \"yaxis\": \"y\", \"type\": \"scatter\"}], \"name\": \"1998\"}, {\"data\": [{\"hoverlabel\": {\"namelength\": 0}, \"hovertemplate\": \"Year=1999<br>Month=%{x}<br>Extent=%{y}\", \"legendgroup\": \"\", \"line\": {\"color\": \"#636efa\", \"dash\": \"solid\"}, \"mode\": \"lines\", \"name\": \"\", \"showlegend\": false, \"x\": [1, 2, 3, 4, 5, 6, 7, 8, 9, 10, 11, 12], \"xaxis\": \"x\", \"y\": [14.47, 15.37, 15.4, 15.13, 13.86, 12.1, 9.59, 7.38, 6.24, 9.1, 10.99, 12.88], \"yaxis\": \"y\", \"type\": \"scatter\"}], \"name\": \"1999\"}, {\"data\": [{\"hoverlabel\": {\"namelength\": 0}, \"hovertemplate\": \"Year=2000<br>Month=%{x}<br>Extent=%{y}\", \"legendgroup\": \"\", \"line\": {\"color\": \"#636efa\", \"dash\": \"solid\"}, \"mode\": \"lines\", \"name\": \"\", \"showlegend\": false, \"x\": [1, 2, 3, 4, 5, 6, 7, 8, 9, 10, 11, 12], \"xaxis\": \"x\", \"y\": [14.41, 15.18, 15.27, 14.63, 13.18, 11.71, 9.75, 7.21, 6.32, 8.92, 10.54, 12.81], \"yaxis\": \"y\", \"type\": \"scatter\"}], \"name\": \"2000\"}, {\"data\": [{\"hoverlabel\": {\"namelength\": 0}, \"hovertemplate\": \"Year=2001<br>Month=%{x}<br>Extent=%{y}\", \"legendgroup\": \"\", \"line\": {\"color\": \"#636efa\", \"dash\": \"solid\"}, \"mode\": \"lines\", \"name\": \"\", \"showlegend\": false, \"x\": [1, 2, 3, 4, 5, 6, 7, 8, 9, 10, 11, 12], \"xaxis\": \"x\", \"y\": [14.31, 15.27, 15.61, 14.86, 13.72, 11.69, 9.22, 7.47, 6.75, 8.59, 10.92, 12.84], \"yaxis\": \"y\", \"type\": \"scatter\"}], \"name\": \"2001\"}, {\"data\": [{\"hoverlabel\": {\"namelength\": 0}, \"hovertemplate\": \"Year=2002<br>Month=%{x}<br>Extent=%{y}\", \"legendgroup\": \"\", \"line\": {\"color\": \"#636efa\", \"dash\": \"solid\"}, \"mode\": \"lines\", \"name\": \"\", \"showlegend\": false, \"x\": [1, 2, 3, 4, 5, 6, 7, 8, 9, 10, 11, 12], \"xaxis\": \"x\", \"y\": [14.45, 15.36, 15.44, 14.37, 13.12, 11.69, 9.49, 6.53, 5.96, 8.81, 10.78, 12.82], \"yaxis\": \"y\", \"type\": \"scatter\"}], \"name\": \"2002\"}, {\"data\": [{\"hoverlabel\": {\"namelength\": 0}, \"hovertemplate\": \"Year=2003<br>Month=%{x}<br>Extent=%{y}\", \"legendgroup\": \"\", \"line\": {\"color\": \"#636efa\", \"dash\": \"solid\"}, \"mode\": \"lines\", \"name\": \"\", \"showlegend\": false, \"x\": [1, 2, 3, 4, 5, 6, 7, 8, 9, 10, 11, 12], \"xaxis\": \"x\", \"y\": [14.46, 15.25, 15.49, 14.57, 13.0, 11.77, 9.46, 6.85, 6.15, 8.65, 10.29, 12.82], \"yaxis\": \"y\", \"type\": \"scatter\"}], \"name\": \"2003\"}, {\"data\": [{\"hoverlabel\": {\"namelength\": 0}, \"hovertemplate\": \"Year=2004<br>Month=%{x}<br>Extent=%{y}\", \"legendgroup\": \"\", \"line\": {\"color\": \"#636efa\", \"dash\": \"solid\"}, \"mode\": \"lines\", \"name\": \"\", \"showlegend\": false, \"x\": [1, 2, 3, 4, 5, 6, 7, 8, 9, 10, 11, 12], \"xaxis\": \"x\", \"y\": [14.03, 14.93, 15.05, 14.11, 12.58, 11.51, 9.6, 6.83, 6.05, 8.48, 10.65, 12.72], \"yaxis\": \"y\", \"type\": \"scatter\"}], \"name\": \"2004\"}, {\"data\": [{\"hoverlabel\": {\"namelength\": 0}, \"hovertemplate\": \"Year=2005<br>Month=%{x}<br>Extent=%{y}\", \"legendgroup\": \"\", \"line\": {\"color\": \"#636efa\", \"dash\": \"solid\"}, \"mode\": \"lines\", \"name\": \"\", \"showlegend\": false, \"x\": [1, 2, 3, 4, 5, 6, 7, 8, 9, 10, 11, 12], \"xaxis\": \"x\", \"y\": [13.66, 14.36, 14.74, 14.07, 12.99, 11.29, 8.93, 6.3, 5.57, 8.45, 10.47, 12.47], \"yaxis\": \"y\", \"type\": \"scatter\"}], \"name\": \"2005\"}, {\"data\": [{\"hoverlabel\": {\"namelength\": 0}, \"hovertemplate\": \"Year=2006<br>Month=%{x}<br>Extent=%{y}\", \"legendgroup\": \"\", \"line\": {\"color\": \"#636efa\", \"dash\": \"solid\"}, \"mode\": \"lines\", \"name\": \"\", \"showlegend\": false, \"x\": [1, 2, 3, 4, 5, 6, 7, 8, 9, 10, 11, 12], \"xaxis\": \"x\", \"y\": [13.6, 14.42, 14.43, 13.97, 12.62, 11.06, 8.67, 6.52, 5.92, 8.33, 9.84, 12.27], \"yaxis\": \"y\", \"type\": \"scatter\"}], \"name\": \"2006\"}, {\"data\": [{\"hoverlabel\": {\"namelength\": 0}, \"hovertemplate\": \"Year=2007<br>Month=%{x}<br>Extent=%{y}\", \"legendgroup\": \"\", \"line\": {\"color\": \"#636efa\", \"dash\": \"solid\"}, \"mode\": \"lines\", \"name\": \"\", \"showlegend\": false, \"x\": [1, 2, 3, 4, 5, 6, 7, 8, 9, 10, 11, 12], \"xaxis\": \"x\", \"y\": [13.77, 14.53, 14.65, 13.87, 12.89, 11.49, 8.13, 5.36, 4.3, 6.77, 10.05, 12.39], \"yaxis\": \"y\", \"type\": \"scatter\"}], \"name\": \"2007\"}, {\"data\": [{\"hoverlabel\": {\"namelength\": 0}, \"hovertemplate\": \"Year=2008<br>Month=%{x}<br>Extent=%{y}\", \"legendgroup\": \"\", \"line\": {\"color\": \"#636efa\", \"dash\": \"solid\"}, \"mode\": \"lines\", \"name\": \"\", \"showlegend\": false, \"x\": [1, 2, 3, 4, 5, 6, 7, 8, 9, 10, 11, 12], \"xaxis\": \"x\", \"y\": [14.05, 15.01, 15.22, 14.42, 13.19, 11.36, 8.99, 6.05, 4.73, 8.42, 10.62, 12.52], \"yaxis\": \"y\", \"type\": \"scatter\"}], \"name\": \"2008\"}, {\"data\": [{\"hoverlabel\": {\"namelength\": 0}, \"hovertemplate\": \"Year=2009<br>Month=%{x}<br>Extent=%{y}\", \"legendgroup\": \"\", \"line\": {\"color\": \"#636efa\", \"dash\": \"solid\"}, \"mode\": \"lines\", \"name\": \"\", \"showlegend\": false, \"x\": [1, 2, 3, 4, 5, 6, 7, 8, 9, 10, 11, 12], \"xaxis\": \"x\", \"y\": [14.08, 14.85, 15.14, 14.57, 13.4, 11.46, 8.8, 6.28, 5.39, 7.52, 10.27, 12.51], \"yaxis\": \"y\", \"type\": \"scatter\"}], \"name\": \"2009\"}, {\"data\": [{\"hoverlabel\": {\"namelength\": 0}, \"hovertemplate\": \"Year=2010<br>Month=%{x}<br>Extent=%{y}\", \"legendgroup\": \"\", \"line\": {\"color\": \"#636efa\", \"dash\": \"solid\"}, \"mode\": \"lines\", \"name\": \"\", \"showlegend\": false, \"x\": [1, 2, 3, 4, 5, 6, 7, 8, 9, 10, 11, 12], \"xaxis\": \"x\", \"y\": [13.8, 14.59, 15.11, 14.7, 13.11, 10.82, 8.36, 6.01, 4.93, 7.71, 9.88, 12.02], \"yaxis\": \"y\", \"type\": \"scatter\"}], \"name\": \"2010\"}, {\"data\": [{\"hoverlabel\": {\"namelength\": 0}, \"hovertemplate\": \"Year=2011<br>Month=%{x}<br>Extent=%{y}\", \"legendgroup\": \"\", \"line\": {\"color\": \"#636efa\", \"dash\": \"solid\"}, \"mode\": \"lines\", \"name\": \"\", \"showlegend\": false, \"x\": [1, 2, 3, 4, 5, 6, 7, 8, 9, 10, 11, 12], \"xaxis\": \"x\", \"y\": [13.57, 14.38, 14.58, 14.16, 12.81, 10.99, 7.91, 5.55, 4.63, 7.14, 10.0, 12.4], \"yaxis\": \"y\", \"type\": \"scatter\"}], \"name\": \"2011\"}, {\"data\": [{\"hoverlabel\": {\"namelength\": 0}, \"hovertemplate\": \"Year=2012<br>Month=%{x}<br>Extent=%{y}\", \"legendgroup\": \"\", \"line\": {\"color\": \"#636efa\", \"dash\": \"solid\"}, \"mode\": \"lines\", \"name\": \"\", \"showlegend\": false, \"x\": [1, 2, 3, 4, 5, 6, 7, 8, 9, 10, 11, 12], \"xaxis\": \"x\", \"y\": [13.77, 14.59, 15.24, 14.72, 13.12, 10.92, 7.93, 4.71, 3.63, 7.07, 9.92, 12.2], \"yaxis\": \"y\", \"type\": \"scatter\"}], \"name\": \"2012\"}, {\"data\": [{\"hoverlabel\": {\"namelength\": 0}, \"hovertemplate\": \"Year=2013<br>Month=%{x}<br>Extent=%{y}\", \"legendgroup\": \"\", \"line\": {\"color\": \"#636efa\", \"dash\": \"solid\"}, \"mode\": \"lines\", \"name\": \"\", \"showlegend\": false, \"x\": [1, 2, 3, 4, 5, 6, 7, 8, 9, 10, 11, 12], \"xaxis\": \"x\", \"y\": [13.78, 14.69, 15.04, 14.37, 13.1, 11.58, 8.45, 6.09, 5.35, 8.1, 10.24, 12.38], \"yaxis\": \"y\", \"type\": \"scatter\"}], \"name\": \"2013\"}]);\n",
              "                        }).then(function(){\n",
              "                            \n",
              "var gd = document.getElementById('c654c3ff-7216-477d-92e2-3619d777dde2');\n",
              "var x = new MutationObserver(function (mutations, observer) {{\n",
              "        var display = window.getComputedStyle(gd).display;\n",
              "        if (!display || display === 'none') {{\n",
              "            console.log([gd, 'removed!']);\n",
              "            Plotly.purge(gd);\n",
              "            observer.disconnect();\n",
              "        }}\n",
              "}});\n",
              "\n",
              "// Listen for the removal of the full notebook cells\n",
              "var notebookContainer = gd.closest('#notebook-container');\n",
              "if (notebookContainer) {{\n",
              "    x.observe(notebookContainer, {childList: true});\n",
              "}}\n",
              "\n",
              "// Listen for the clearing of the current output cell\n",
              "var outputEl = gd.closest('.output');\n",
              "if (outputEl) {{\n",
              "    x.observe(outputEl, {childList: true});\n",
              "}}\n",
              "\n",
              "                        })\n",
              "                };\n",
              "                \n",
              "            </script>\n",
              "        </div>\n",
              "</body>\n",
              "</html>"
            ]
          },
          "metadata": {}
        }
      ]
    },
    {
      "cell_type": "code",
      "metadata": {
        "colab": {
          "base_uri": "https://localhost:8080/",
          "height": 542
        },
        "id": "sGTzVuNFeSiS",
        "outputId": "a77b7b3f-c8fc-4f68-976f-613a746fb121"
      },
      "source": [
        "px.scatter(df1, x = 'year', y = 'extent',\n",
        "  animation_frame = \"mo\", \n",
        "  range_y=[df1['extent'].min()-0.25,df1['extent'].max()+0.25],\n",
        "  labels = {'mo': 'Month', 'extent':'Extent', 'year':'Year'})\n",
        "\n",
        "#Vemos la evolución de cada mes a lo largo de todo el periodo de estudio.\n",
        "#Confirmando lo que veíamos antes, el SIE de cada mes ha disminuyendo a lo largo del\n",
        "#del tiempo, siguiendo una evolución oscilatoria.\n",
        "#La animación nos muestra la tendencia estacional."
      ],
      "execution_count": 50,
      "outputs": [
        {
          "output_type": "display_data",
          "data": {
            "text/html": [
              "<html>\n",
              "<head><meta charset=\"utf-8\" /></head>\n",
              "<body>\n",
              "    <div>\n",
              "            <script src=\"https://cdnjs.cloudflare.com/ajax/libs/mathjax/2.7.5/MathJax.js?config=TeX-AMS-MML_SVG\"></script><script type=\"text/javascript\">if (window.MathJax) {MathJax.Hub.Config({SVG: {font: \"STIX-Web\"}});}</script>\n",
              "                <script type=\"text/javascript\">window.PlotlyConfig = {MathJaxConfig: 'local'};</script>\n",
              "        <script src=\"https://cdn.plot.ly/plotly-latest.min.js\"></script>    \n",
              "            <div id=\"288336a1-46b8-49f0-aa0a-a5cb6035a9f8\" class=\"plotly-graph-div\" style=\"height:525px; width:100%;\"></div>\n",
              "            <script type=\"text/javascript\">\n",
              "                \n",
              "                    window.PLOTLYENV=window.PLOTLYENV || {};\n",
              "                    \n",
              "                if (document.getElementById(\"288336a1-46b8-49f0-aa0a-a5cb6035a9f8\")) {\n",
              "                    Plotly.newPlot(\n",
              "                        '288336a1-46b8-49f0-aa0a-a5cb6035a9f8',\n",
              "                        [{\"hoverlabel\": {\"namelength\": 0}, \"hovertemplate\": \"Month=1<br>Year=%{x}<br>Extent=%{y}\", \"legendgroup\": \"\", \"marker\": {\"color\": \"#636efa\", \"symbol\": \"circle\"}, \"mode\": \"markers\", \"name\": \"\", \"showlegend\": false, \"type\": \"scatter\", \"x\": [1979, 1980, 1981, 1982, 1983, 1984, 1985, 1986, 1987, 1988, 1989, 1990, 1991, 1992, 1993, 1994, 1995, 1996, 1997, 1998, 1999, 2000, 2001, 2002, 2003, 2004, 2005, 2006, 2007, 2008, 2009, 2010, 2011, 2012, 2013], \"xaxis\": \"x\", \"y\": [15.54, 14.96, 15.03, 15.26, 15.1, 14.61, 14.86, 15.02, 15.2, 14.934999999999997, 15.12, 14.95, 14.46, 14.72, 15.08, 14.82, 14.62, 14.21, 14.47, 14.81, 14.47, 14.41, 14.31, 14.45, 14.46, 14.03, 13.66, 13.6, 13.77, 14.05, 14.08, 13.8, 13.57, 13.77, 13.78], \"yaxis\": \"y\"}],\n",
              "                        {\"legend\": {\"tracegroupgap\": 0}, \"margin\": {\"t\": 60}, \"sliders\": [{\"active\": 0, \"currentvalue\": {\"prefix\": \"Month=\"}, \"len\": 0.9, \"pad\": {\"b\": 10, \"t\": 60}, \"steps\": [{\"args\": [[\"1\"], {\"frame\": {\"duration\": 0, \"redraw\": false}, \"fromcurrent\": true, \"mode\": \"immediate\", \"transition\": {\"duration\": 0, \"easing\": \"linear\"}}], \"label\": \"1\", \"method\": \"animate\"}, {\"args\": [[\"2\"], {\"frame\": {\"duration\": 0, \"redraw\": false}, \"fromcurrent\": true, \"mode\": \"immediate\", \"transition\": {\"duration\": 0, \"easing\": \"linear\"}}], \"label\": \"2\", \"method\": \"animate\"}, {\"args\": [[\"3\"], {\"frame\": {\"duration\": 0, \"redraw\": false}, \"fromcurrent\": true, \"mode\": \"immediate\", \"transition\": {\"duration\": 0, \"easing\": \"linear\"}}], \"label\": \"3\", \"method\": \"animate\"}, {\"args\": [[\"4\"], {\"frame\": {\"duration\": 0, \"redraw\": false}, \"fromcurrent\": true, \"mode\": \"immediate\", \"transition\": {\"duration\": 0, \"easing\": \"linear\"}}], \"label\": \"4\", \"method\": \"animate\"}, {\"args\": [[\"5\"], {\"frame\": {\"duration\": 0, \"redraw\": false}, \"fromcurrent\": true, \"mode\": \"immediate\", \"transition\": {\"duration\": 0, \"easing\": \"linear\"}}], \"label\": \"5\", \"method\": \"animate\"}, {\"args\": [[\"6\"], {\"frame\": {\"duration\": 0, \"redraw\": false}, \"fromcurrent\": true, \"mode\": \"immediate\", \"transition\": {\"duration\": 0, \"easing\": \"linear\"}}], \"label\": \"6\", \"method\": \"animate\"}, {\"args\": [[\"7\"], {\"frame\": {\"duration\": 0, \"redraw\": false}, \"fromcurrent\": true, \"mode\": \"immediate\", \"transition\": {\"duration\": 0, \"easing\": \"linear\"}}], \"label\": \"7\", \"method\": \"animate\"}, {\"args\": [[\"8\"], {\"frame\": {\"duration\": 0, \"redraw\": false}, \"fromcurrent\": true, \"mode\": \"immediate\", \"transition\": {\"duration\": 0, \"easing\": \"linear\"}}], \"label\": \"8\", \"method\": \"animate\"}, {\"args\": [[\"9\"], {\"frame\": {\"duration\": 0, \"redraw\": false}, \"fromcurrent\": true, \"mode\": \"immediate\", \"transition\": {\"duration\": 0, \"easing\": \"linear\"}}], \"label\": \"9\", \"method\": \"animate\"}, {\"args\": [[\"10\"], {\"frame\": {\"duration\": 0, \"redraw\": false}, \"fromcurrent\": true, \"mode\": \"immediate\", \"transition\": {\"duration\": 0, \"easing\": \"linear\"}}], \"label\": \"10\", \"method\": \"animate\"}, {\"args\": [[\"11\"], {\"frame\": {\"duration\": 0, \"redraw\": false}, \"fromcurrent\": true, \"mode\": \"immediate\", \"transition\": {\"duration\": 0, \"easing\": \"linear\"}}], \"label\": \"11\", \"method\": \"animate\"}, {\"args\": [[\"12\"], {\"frame\": {\"duration\": 0, \"redraw\": false}, \"fromcurrent\": true, \"mode\": \"immediate\", \"transition\": {\"duration\": 0, \"easing\": \"linear\"}}], \"label\": \"12\", \"method\": \"animate\"}], \"x\": 0.1, \"xanchor\": \"left\", \"y\": 0, \"yanchor\": \"top\"}], \"template\": {\"data\": {\"bar\": [{\"error_x\": {\"color\": \"#2a3f5f\"}, \"error_y\": {\"color\": \"#2a3f5f\"}, \"marker\": {\"line\": {\"color\": \"#E5ECF6\", \"width\": 0.5}}, \"type\": \"bar\"}], \"barpolar\": [{\"marker\": {\"line\": {\"color\": \"#E5ECF6\", \"width\": 0.5}}, \"type\": \"barpolar\"}], \"carpet\": [{\"aaxis\": {\"endlinecolor\": \"#2a3f5f\", \"gridcolor\": \"white\", \"linecolor\": \"white\", \"minorgridcolor\": \"white\", \"startlinecolor\": \"#2a3f5f\"}, \"baxis\": {\"endlinecolor\": \"#2a3f5f\", \"gridcolor\": \"white\", \"linecolor\": \"white\", \"minorgridcolor\": \"white\", \"startlinecolor\": \"#2a3f5f\"}, \"type\": \"carpet\"}], \"choropleth\": [{\"colorbar\": {\"outlinewidth\": 0, \"ticks\": \"\"}, \"type\": \"choropleth\"}], \"contour\": [{\"colorbar\": {\"outlinewidth\": 0, \"ticks\": \"\"}, \"colorscale\": [[0.0, \"#0d0887\"], [0.1111111111111111, \"#46039f\"], [0.2222222222222222, \"#7201a8\"], [0.3333333333333333, \"#9c179e\"], [0.4444444444444444, \"#bd3786\"], [0.5555555555555556, \"#d8576b\"], [0.6666666666666666, \"#ed7953\"], [0.7777777777777778, \"#fb9f3a\"], [0.8888888888888888, \"#fdca26\"], [1.0, \"#f0f921\"]], \"type\": \"contour\"}], \"contourcarpet\": [{\"colorbar\": {\"outlinewidth\": 0, \"ticks\": \"\"}, \"type\": \"contourcarpet\"}], \"heatmap\": [{\"colorbar\": {\"outlinewidth\": 0, \"ticks\": \"\"}, \"colorscale\": [[0.0, \"#0d0887\"], [0.1111111111111111, \"#46039f\"], [0.2222222222222222, \"#7201a8\"], [0.3333333333333333, \"#9c179e\"], [0.4444444444444444, \"#bd3786\"], [0.5555555555555556, \"#d8576b\"], [0.6666666666666666, \"#ed7953\"], [0.7777777777777778, \"#fb9f3a\"], [0.8888888888888888, \"#fdca26\"], [1.0, \"#f0f921\"]], \"type\": \"heatmap\"}], \"heatmapgl\": [{\"colorbar\": {\"outlinewidth\": 0, \"ticks\": \"\"}, \"colorscale\": [[0.0, \"#0d0887\"], [0.1111111111111111, \"#46039f\"], [0.2222222222222222, \"#7201a8\"], [0.3333333333333333, \"#9c179e\"], [0.4444444444444444, \"#bd3786\"], [0.5555555555555556, \"#d8576b\"], [0.6666666666666666, \"#ed7953\"], [0.7777777777777778, \"#fb9f3a\"], [0.8888888888888888, \"#fdca26\"], [1.0, \"#f0f921\"]], \"type\": \"heatmapgl\"}], \"histogram\": [{\"marker\": {\"colorbar\": {\"outlinewidth\": 0, \"ticks\": \"\"}}, \"type\": \"histogram\"}], \"histogram2d\": [{\"colorbar\": {\"outlinewidth\": 0, \"ticks\": \"\"}, \"colorscale\": [[0.0, \"#0d0887\"], [0.1111111111111111, \"#46039f\"], [0.2222222222222222, \"#7201a8\"], [0.3333333333333333, \"#9c179e\"], [0.4444444444444444, \"#bd3786\"], [0.5555555555555556, \"#d8576b\"], [0.6666666666666666, \"#ed7953\"], [0.7777777777777778, \"#fb9f3a\"], [0.8888888888888888, \"#fdca26\"], [1.0, \"#f0f921\"]], \"type\": \"histogram2d\"}], \"histogram2dcontour\": [{\"colorbar\": {\"outlinewidth\": 0, \"ticks\": \"\"}, \"colorscale\": [[0.0, \"#0d0887\"], [0.1111111111111111, \"#46039f\"], [0.2222222222222222, \"#7201a8\"], [0.3333333333333333, \"#9c179e\"], [0.4444444444444444, \"#bd3786\"], [0.5555555555555556, \"#d8576b\"], [0.6666666666666666, \"#ed7953\"], [0.7777777777777778, \"#fb9f3a\"], [0.8888888888888888, \"#fdca26\"], [1.0, \"#f0f921\"]], \"type\": \"histogram2dcontour\"}], \"mesh3d\": [{\"colorbar\": {\"outlinewidth\": 0, \"ticks\": \"\"}, \"type\": \"mesh3d\"}], \"parcoords\": [{\"line\": {\"colorbar\": {\"outlinewidth\": 0, \"ticks\": \"\"}}, \"type\": \"parcoords\"}], \"pie\": [{\"automargin\": true, \"type\": \"pie\"}], \"scatter\": [{\"marker\": {\"colorbar\": {\"outlinewidth\": 0, \"ticks\": \"\"}}, \"type\": \"scatter\"}], \"scatter3d\": [{\"line\": {\"colorbar\": {\"outlinewidth\": 0, \"ticks\": \"\"}}, \"marker\": {\"colorbar\": {\"outlinewidth\": 0, \"ticks\": \"\"}}, \"type\": \"scatter3d\"}], \"scattercarpet\": [{\"marker\": {\"colorbar\": {\"outlinewidth\": 0, \"ticks\": \"\"}}, \"type\": \"scattercarpet\"}], \"scattergeo\": [{\"marker\": {\"colorbar\": {\"outlinewidth\": 0, \"ticks\": \"\"}}, \"type\": \"scattergeo\"}], \"scattergl\": [{\"marker\": {\"colorbar\": {\"outlinewidth\": 0, \"ticks\": \"\"}}, \"type\": \"scattergl\"}], \"scattermapbox\": [{\"marker\": {\"colorbar\": {\"outlinewidth\": 0, \"ticks\": \"\"}}, \"type\": \"scattermapbox\"}], \"scatterpolar\": [{\"marker\": {\"colorbar\": {\"outlinewidth\": 0, \"ticks\": \"\"}}, \"type\": \"scatterpolar\"}], \"scatterpolargl\": [{\"marker\": {\"colorbar\": {\"outlinewidth\": 0, \"ticks\": \"\"}}, \"type\": \"scatterpolargl\"}], \"scatterternary\": [{\"marker\": {\"colorbar\": {\"outlinewidth\": 0, \"ticks\": \"\"}}, \"type\": \"scatterternary\"}], \"surface\": [{\"colorbar\": {\"outlinewidth\": 0, \"ticks\": \"\"}, \"colorscale\": [[0.0, \"#0d0887\"], [0.1111111111111111, \"#46039f\"], [0.2222222222222222, \"#7201a8\"], [0.3333333333333333, \"#9c179e\"], [0.4444444444444444, \"#bd3786\"], [0.5555555555555556, \"#d8576b\"], [0.6666666666666666, \"#ed7953\"], [0.7777777777777778, \"#fb9f3a\"], [0.8888888888888888, \"#fdca26\"], [1.0, \"#f0f921\"]], \"type\": \"surface\"}], \"table\": [{\"cells\": {\"fill\": {\"color\": \"#EBF0F8\"}, \"line\": {\"color\": \"white\"}}, \"header\": {\"fill\": {\"color\": \"#C8D4E3\"}, \"line\": {\"color\": \"white\"}}, \"type\": \"table\"}]}, \"layout\": {\"annotationdefaults\": {\"arrowcolor\": \"#2a3f5f\", \"arrowhead\": 0, \"arrowwidth\": 1}, \"coloraxis\": {\"colorbar\": {\"outlinewidth\": 0, \"ticks\": \"\"}}, \"colorscale\": {\"diverging\": [[0, \"#8e0152\"], [0.1, \"#c51b7d\"], [0.2, \"#de77ae\"], [0.3, \"#f1b6da\"], [0.4, \"#fde0ef\"], [0.5, \"#f7f7f7\"], [0.6, \"#e6f5d0\"], [0.7, \"#b8e186\"], [0.8, \"#7fbc41\"], [0.9, \"#4d9221\"], [1, \"#276419\"]], \"sequential\": [[0.0, \"#0d0887\"], [0.1111111111111111, \"#46039f\"], [0.2222222222222222, \"#7201a8\"], [0.3333333333333333, \"#9c179e\"], [0.4444444444444444, \"#bd3786\"], [0.5555555555555556, \"#d8576b\"], [0.6666666666666666, \"#ed7953\"], [0.7777777777777778, \"#fb9f3a\"], [0.8888888888888888, \"#fdca26\"], [1.0, \"#f0f921\"]], \"sequentialminus\": [[0.0, \"#0d0887\"], [0.1111111111111111, \"#46039f\"], [0.2222222222222222, \"#7201a8\"], [0.3333333333333333, \"#9c179e\"], [0.4444444444444444, \"#bd3786\"], [0.5555555555555556, \"#d8576b\"], [0.6666666666666666, \"#ed7953\"], [0.7777777777777778, \"#fb9f3a\"], [0.8888888888888888, \"#fdca26\"], [1.0, \"#f0f921\"]]}, \"colorway\": [\"#636efa\", \"#EF553B\", \"#00cc96\", \"#ab63fa\", \"#FFA15A\", \"#19d3f3\", \"#FF6692\", \"#B6E880\", \"#FF97FF\", \"#FECB52\"], \"font\": {\"color\": \"#2a3f5f\"}, \"geo\": {\"bgcolor\": \"white\", \"lakecolor\": \"white\", \"landcolor\": \"#E5ECF6\", \"showlakes\": true, \"showland\": true, \"subunitcolor\": \"white\"}, \"hoverlabel\": {\"align\": \"left\"}, \"hovermode\": \"closest\", \"mapbox\": {\"style\": \"light\"}, \"paper_bgcolor\": \"white\", \"plot_bgcolor\": \"#E5ECF6\", \"polar\": {\"angularaxis\": {\"gridcolor\": \"white\", \"linecolor\": \"white\", \"ticks\": \"\"}, \"bgcolor\": \"#E5ECF6\", \"radialaxis\": {\"gridcolor\": \"white\", \"linecolor\": \"white\", \"ticks\": \"\"}}, \"scene\": {\"xaxis\": {\"backgroundcolor\": \"#E5ECF6\", \"gridcolor\": \"white\", \"gridwidth\": 2, \"linecolor\": \"white\", \"showbackground\": true, \"ticks\": \"\", \"zerolinecolor\": \"white\"}, \"yaxis\": {\"backgroundcolor\": \"#E5ECF6\", \"gridcolor\": \"white\", \"gridwidth\": 2, \"linecolor\": \"white\", \"showbackground\": true, \"ticks\": \"\", \"zerolinecolor\": \"white\"}, \"zaxis\": {\"backgroundcolor\": \"#E5ECF6\", \"gridcolor\": \"white\", \"gridwidth\": 2, \"linecolor\": \"white\", \"showbackground\": true, \"ticks\": \"\", \"zerolinecolor\": \"white\"}}, \"shapedefaults\": {\"line\": {\"color\": \"#2a3f5f\"}}, \"ternary\": {\"aaxis\": {\"gridcolor\": \"white\", \"linecolor\": \"white\", \"ticks\": \"\"}, \"baxis\": {\"gridcolor\": \"white\", \"linecolor\": \"white\", \"ticks\": \"\"}, \"bgcolor\": \"#E5ECF6\", \"caxis\": {\"gridcolor\": \"white\", \"linecolor\": \"white\", \"ticks\": \"\"}}, \"title\": {\"x\": 0.05}, \"xaxis\": {\"automargin\": true, \"gridcolor\": \"white\", \"linecolor\": \"white\", \"ticks\": \"\", \"title\": {\"standoff\": 15}, \"zerolinecolor\": \"white\", \"zerolinewidth\": 2}, \"yaxis\": {\"automargin\": true, \"gridcolor\": \"white\", \"linecolor\": \"white\", \"ticks\": \"\", \"title\": {\"standoff\": 15}, \"zerolinecolor\": \"white\", \"zerolinewidth\": 2}}}, \"updatemenus\": [{\"buttons\": [{\"args\": [null, {\"frame\": {\"duration\": 500, \"redraw\": false}, \"fromcurrent\": true, \"mode\": \"immediate\", \"transition\": {\"duration\": 500, \"easing\": \"linear\"}}], \"label\": \"&#9654;\", \"method\": \"animate\"}, {\"args\": [[null], {\"frame\": {\"duration\": 0, \"redraw\": false}, \"fromcurrent\": true, \"mode\": \"immediate\", \"transition\": {\"duration\": 0, \"easing\": \"linear\"}}], \"label\": \"&#9724;\", \"method\": \"animate\"}], \"direction\": \"left\", \"pad\": {\"r\": 10, \"t\": 70}, \"showactive\": false, \"type\": \"buttons\", \"x\": 0.1, \"xanchor\": \"right\", \"y\": 0, \"yanchor\": \"top\"}], \"xaxis\": {\"anchor\": \"y\", \"domain\": [0.0, 1.0], \"title\": {\"text\": \"Year\"}}, \"yaxis\": {\"anchor\": \"x\", \"domain\": [0.0, 1.0], \"range\": [3.38, 16.7], \"title\": {\"text\": \"Extent\"}}},\n",
              "                        {\"responsive\": true}\n",
              "                    ).then(function(){\n",
              "                            Plotly.addFrames('288336a1-46b8-49f0-aa0a-a5cb6035a9f8', [{\"data\": [{\"hoverlabel\": {\"namelength\": 0}, \"hovertemplate\": \"Month=1<br>Year=%{x}<br>Extent=%{y}\", \"legendgroup\": \"\", \"marker\": {\"color\": \"#636efa\", \"symbol\": \"circle\"}, \"mode\": \"markers\", \"name\": \"\", \"showlegend\": false, \"x\": [1979, 1980, 1981, 1982, 1983, 1984, 1985, 1986, 1987, 1988, 1989, 1990, 1991, 1992, 1993, 1994, 1995, 1996, 1997, 1998, 1999, 2000, 2001, 2002, 2003, 2004, 2005, 2006, 2007, 2008, 2009, 2010, 2011, 2012, 2013], \"xaxis\": \"x\", \"y\": [15.54, 14.96, 15.03, 15.26, 15.1, 14.61, 14.86, 15.02, 15.2, 14.934999999999997, 15.12, 14.95, 14.46, 14.72, 15.08, 14.82, 14.62, 14.21, 14.47, 14.81, 14.47, 14.41, 14.31, 14.45, 14.46, 14.03, 13.66, 13.6, 13.77, 14.05, 14.08, 13.8, 13.57, 13.77, 13.78], \"yaxis\": \"y\", \"type\": \"scatter\"}], \"name\": \"1\"}, {\"data\": [{\"hoverlabel\": {\"namelength\": 0}, \"hovertemplate\": \"Month=2<br>Year=%{x}<br>Extent=%{y}\", \"legendgroup\": \"\", \"marker\": {\"color\": \"#636efa\", \"symbol\": \"circle\"}, \"mode\": \"markers\", \"name\": \"\", \"showlegend\": false, \"x\": [1979, 1980, 1981, 1982, 1983, 1984, 1985, 1986, 1987, 1988, 1989, 1990, 1991, 1992, 1993, 1994, 1995, 1996, 1997, 1998, 1999, 2000, 2001, 2002, 2003, 2004, 2005, 2006, 2007, 2008, 2009, 2010, 2011, 2012, 2013], \"xaxis\": \"x\", \"y\": [16.31, 15.98, 15.65, 16.06, 16.02, 15.32, 15.67, 15.89, 16.11, 15.61, 15.56, 15.56, 15.26, 15.5, 15.73, 15.61, 15.24, 15.17, 15.52, 15.77, 15.37, 15.18, 15.27, 15.36, 15.25, 14.93, 14.36, 14.42, 14.53, 15.01, 14.85, 14.59, 14.38, 14.59, 14.69], \"yaxis\": \"y\", \"type\": \"scatter\"}], \"name\": \"2\"}, {\"data\": [{\"hoverlabel\": {\"namelength\": 0}, \"hovertemplate\": \"Month=3<br>Year=%{x}<br>Extent=%{y}\", \"legendgroup\": \"\", \"marker\": {\"color\": \"#636efa\", \"symbol\": \"circle\"}, \"mode\": \"markers\", \"name\": \"\", \"showlegend\": false, \"x\": [1979, 1980, 1981, 1982, 1983, 1984, 1985, 1986, 1987, 1988, 1989, 1990, 1991, 1992, 1993, 1994, 1995, 1996, 1997, 1998, 1999, 2000, 2001, 2002, 2003, 2004, 2005, 2006, 2007, 2008, 2009, 2010, 2011, 2012, 2013], \"xaxis\": \"x\", \"y\": [16.45, 16.13, 15.61, 16.15, 16.1, 15.62, 16.06, 16.08, 15.95, 16.13, 15.52, 15.88, 15.5, 15.47, 15.88, 15.58, 15.32, 15.13, 15.58, 15.66, 15.4, 15.27, 15.61, 15.44, 15.49, 15.05, 14.74, 14.43, 14.65, 15.22, 15.14, 15.11, 14.58, 15.24, 15.04], \"yaxis\": \"y\", \"type\": \"scatter\"}], \"name\": \"3\"}, {\"data\": [{\"hoverlabel\": {\"namelength\": 0}, \"hovertemplate\": \"Month=4<br>Year=%{x}<br>Extent=%{y}\", \"legendgroup\": \"\", \"marker\": {\"color\": \"#636efa\", \"symbol\": \"circle\"}, \"mode\": \"markers\", \"name\": \"\", \"showlegend\": false, \"x\": [1979, 1980, 1981, 1982, 1983, 1984, 1985, 1986, 1987, 1988, 1989, 1990, 1991, 1992, 1993, 1994, 1995, 1996, 1997, 1998, 1999, 2000, 2001, 2002, 2003, 2004, 2005, 2006, 2007, 2008, 2009, 2010, 2011, 2012, 2013], \"xaxis\": \"x\", \"y\": [15.46, 15.49, 15.12, 15.57, 15.3, 15.15, 15.34, 15.15, 15.33, 15.21, 14.44, 14.68, 14.93, 14.7, 15.18, 14.95, 14.59, 14.22, 14.59, 14.89, 15.13, 14.63, 14.86, 14.37, 14.57, 14.11, 14.07, 13.97, 13.87, 14.42, 14.57, 14.7, 14.16, 14.72, 14.37], \"yaxis\": \"y\", \"type\": \"scatter\"}], \"name\": \"4\"}, {\"data\": [{\"hoverlabel\": {\"namelength\": 0}, \"hovertemplate\": \"Month=5<br>Year=%{x}<br>Extent=%{y}\", \"legendgroup\": \"\", \"marker\": {\"color\": \"#636efa\", \"symbol\": \"circle\"}, \"mode\": \"markers\", \"name\": \"\", \"showlegend\": false, \"x\": [1979, 1980, 1981, 1982, 1983, 1984, 1985, 1986, 1987, 1988, 1989, 1990, 1991, 1992, 1993, 1994, 1995, 1996, 1997, 1998, 1999, 2000, 2001, 2002, 2003, 2004, 2005, 2006, 2007, 2008, 2009, 2010, 2011, 2012, 2013], \"xaxis\": \"x\", \"y\": [14.06, 14.04, 13.9, 14.17, 13.54, 13.68, 14.23, 13.52, 13.81, 13.69, 12.98, 13.3, 13.51, 13.25, 13.54, 13.73, 13.04, 13.06, 13.32, 13.8, 13.86, 13.18, 13.72, 13.12, 13.0, 12.58, 12.99, 12.62, 12.89, 13.19, 13.4, 13.11, 12.81, 13.12, 13.1], \"yaxis\": \"y\", \"type\": \"scatter\"}], \"name\": \"5\"}, {\"data\": [{\"hoverlabel\": {\"namelength\": 0}, \"hovertemplate\": \"Month=6<br>Year=%{x}<br>Extent=%{y}\", \"legendgroup\": \"\", \"marker\": {\"color\": \"#636efa\", \"symbol\": \"circle\"}, \"mode\": \"markers\", \"name\": \"\", \"showlegend\": false, \"x\": [1979, 1980, 1981, 1982, 1983, 1984, 1985, 1986, 1987, 1988, 1989, 1990, 1991, 1992, 1993, 1994, 1995, 1996, 1997, 1998, 1999, 2000, 2001, 2002, 2003, 2004, 2005, 2006, 2007, 2008, 2009, 2010, 2011, 2012, 2013], \"xaxis\": \"x\", \"y\": [12.59, 12.31, 12.57, 12.69, 12.36, 12.2, 12.4, 12.1, 12.57, 12.02, 12.31, 11.68, 12.23, 12.13, 11.99, 12.1, 11.55, 12.1, 11.91, 11.85, 12.1, 11.71, 11.69, 11.69, 11.77, 11.51, 11.29, 11.06, 11.49, 11.36, 11.46, 10.82, 10.99, 10.92, 11.58], \"yaxis\": \"y\", \"type\": \"scatter\"}], \"name\": \"6\"}, {\"data\": [{\"hoverlabel\": {\"namelength\": 0}, \"hovertemplate\": \"Month=7<br>Year=%{x}<br>Extent=%{y}\", \"legendgroup\": \"\", \"marker\": {\"color\": \"#636efa\", \"symbol\": \"circle\"}, \"mode\": \"markers\", \"name\": \"\", \"showlegend\": false, \"x\": [1979, 1980, 1981, 1982, 1983, 1984, 1985, 1986, 1987, 1988, 1989, 1990, 1991, 1992, 1993, 1994, 1995, 1996, 1997, 1998, 1999, 2000, 2001, 2002, 2003, 2004, 2005, 2006, 2007, 2008, 2009, 2010, 2011, 2012, 2013], \"xaxis\": \"x\", \"y\": [10.47, 10.39, 10.62, 10.75, 10.91, 10.15, 10.09, 10.47, 9.98, 10.04, 10.38, 9.62, 9.68, 10.61, 9.66, 10.22, 9.15, 10.36, 9.59, 9.62, 9.59, 9.75, 9.22, 9.49, 9.46, 9.6, 8.93, 8.67, 8.13, 8.99, 8.8, 8.36, 7.91, 7.93, 8.45], \"yaxis\": \"y\", \"type\": \"scatter\"}], \"name\": \"7\"}, {\"data\": [{\"hoverlabel\": {\"namelength\": 0}, \"hovertemplate\": \"Month=8<br>Year=%{x}<br>Extent=%{y}\", \"legendgroup\": \"\", \"marker\": {\"color\": \"#636efa\", \"symbol\": \"circle\"}, \"mode\": \"markers\", \"name\": \"\", \"showlegend\": false, \"x\": [1979, 1980, 1981, 1982, 1983, 1984, 1985, 1986, 1987, 1988, 1989, 1990, 1991, 1992, 1993, 1994, 1995, 1996, 1997, 1998, 1999, 2000, 2001, 2002, 2003, 2004, 2005, 2006, 2007, 2008, 2009, 2010, 2011, 2012, 2013], \"xaxis\": \"x\", \"y\": [8.15, 8.04, 7.86, 8.26, 8.36, 7.87, 7.46, 8.01, 7.69, 7.9, 7.92, 6.82, 7.4, 7.86, 7.29, 7.61, 6.68, 8.17, 7.3, 7.49, 7.38, 7.21, 7.47, 6.53, 6.85, 6.83, 6.3, 6.52, 5.36, 6.05, 6.28, 6.01, 5.55, 4.71, 6.09], \"yaxis\": \"y\", \"type\": \"scatter\"}], \"name\": \"8\"}, {\"data\": [{\"hoverlabel\": {\"namelength\": 0}, \"hovertemplate\": \"Month=9<br>Year=%{x}<br>Extent=%{y}\", \"legendgroup\": \"\", \"marker\": {\"color\": \"#636efa\", \"symbol\": \"circle\"}, \"mode\": \"markers\", \"name\": \"\", \"showlegend\": false, \"x\": [1979, 1980, 1981, 1982, 1983, 1984, 1985, 1986, 1987, 1988, 1989, 1990, 1991, 1992, 1993, 1994, 1995, 1996, 1997, 1998, 1999, 2000, 2001, 2002, 2003, 2004, 2005, 2006, 2007, 2008, 2009, 2010, 2011, 2012, 2013], \"xaxis\": \"x\", \"y\": [7.2, 7.85, 7.25, 7.45, 7.52, 7.17, 6.93, 7.54, 7.48, 7.49, 7.04, 6.24, 6.55, 7.55, 6.5, 7.18, 6.13, 7.88, 6.74, 6.56, 6.24, 6.32, 6.75, 5.96, 6.15, 6.05, 5.57, 5.92, 4.3, 4.73, 5.39, 4.93, 4.63, 3.63, 5.35], \"yaxis\": \"y\", \"type\": \"scatter\"}], \"name\": \"9\"}, {\"data\": [{\"hoverlabel\": {\"namelength\": 0}, \"hovertemplate\": \"Month=10<br>Year=%{x}<br>Extent=%{y}\", \"legendgroup\": \"\", \"marker\": {\"color\": \"#636efa\", \"symbol\": \"circle\"}, \"mode\": \"markers\", \"name\": \"\", \"showlegend\": false, \"x\": [1979, 1980, 1981, 1982, 1983, 1984, 1985, 1986, 1987, 1988, 1989, 1990, 1991, 1992, 1993, 1994, 1995, 1996, 1997, 1998, 1999, 2000, 2001, 2002, 2003, 2004, 2005, 2006, 2007, 2008, 2009, 2010, 2011, 2012, 2013], \"xaxis\": \"x\", \"y\": [9.39, 9.46, 9.19, 9.98, 9.64, 8.84, 8.88, 9.89, 9.29, 9.47, 9.52, 9.35, 9.16, 9.6, 9.18, 9.48, 8.94, 9.39, 8.76, 8.85, 9.1, 8.92, 8.59, 8.81, 8.65, 8.48, 8.45, 8.33, 6.77, 8.42, 7.52, 7.71, 7.14, 7.07, 8.1], \"yaxis\": \"y\", \"type\": \"scatter\"}], \"name\": \"10\"}, {\"data\": [{\"hoverlabel\": {\"namelength\": 0}, \"hovertemplate\": \"Month=11<br>Year=%{x}<br>Extent=%{y}\", \"legendgroup\": \"\", \"marker\": {\"color\": \"#636efa\", \"symbol\": \"circle\"}, \"mode\": \"markers\", \"name\": \"\", \"showlegend\": false, \"x\": [1979, 1980, 1981, 1982, 1983, 1984, 1985, 1986, 1987, 1988, 1989, 1990, 1991, 1992, 1993, 1994, 1995, 1996, 1997, 1998, 1999, 2000, 2001, 2002, 2003, 2004, 2005, 2006, 2007, 2008, 2009, 2010, 2011, 2012, 2013], \"xaxis\": \"x\", \"y\": [11.16, 11.69, 11.17, 11.91, 11.64, 11.29, 11.39, 11.78, 11.52, 11.69, 11.5, 11.31, 11.12, 11.87, 11.73, 11.3, 10.97, 10.56, 10.91, 10.75, 10.99, 10.54, 10.92, 10.78, 10.29, 10.65, 10.47, 9.84, 10.05, 10.62, 10.27, 9.88, 10.0, 9.92, 10.24], \"yaxis\": \"y\", \"type\": \"scatter\"}], \"name\": \"11\"}, {\"data\": [{\"hoverlabel\": {\"namelength\": 0}, \"hovertemplate\": \"Month=12<br>Year=%{x}<br>Extent=%{y}\", \"legendgroup\": \"\", \"marker\": {\"color\": \"#636efa\", \"symbol\": \"circle\"}, \"mode\": \"markers\", \"name\": \"\", \"showlegend\": false, \"x\": [1979, 1980, 1981, 1982, 1983, 1984, 1985, 1986, 1987, 1988, 1989, 1990, 1991, 1992, 1993, 1994, 1995, 1996, 1997, 1998, 1999, 2000, 2001, 2002, 2003, 2004, 2005, 2006, 2007, 2008, 2009, 2010, 2011, 2012, 2013], \"xaxis\": \"x\", \"y\": [13.54, 13.72, 13.74, 13.83, 13.44, 13.18, 13.19, 13.4, 13.381666666666666, 13.78, 13.47, 13.27, 13.17, 13.46, 13.52, 13.53, 12.98, 13.14, 13.29, 13.26, 12.88, 12.81, 12.84, 12.82, 12.82, 12.72, 12.47, 12.27, 12.39, 12.52, 12.51, 12.02, 12.4, 12.2, 12.38], \"yaxis\": \"y\", \"type\": \"scatter\"}], \"name\": \"12\"}]);\n",
              "                        }).then(function(){\n",
              "                            \n",
              "var gd = document.getElementById('288336a1-46b8-49f0-aa0a-a5cb6035a9f8');\n",
              "var x = new MutationObserver(function (mutations, observer) {{\n",
              "        var display = window.getComputedStyle(gd).display;\n",
              "        if (!display || display === 'none') {{\n",
              "            console.log([gd, 'removed!']);\n",
              "            Plotly.purge(gd);\n",
              "            observer.disconnect();\n",
              "        }}\n",
              "}});\n",
              "\n",
              "// Listen for the removal of the full notebook cells\n",
              "var notebookContainer = gd.closest('#notebook-container');\n",
              "if (notebookContainer) {{\n",
              "    x.observe(notebookContainer, {childList: true});\n",
              "}}\n",
              "\n",
              "// Listen for the clearing of the current output cell\n",
              "var outputEl = gd.closest('.output');\n",
              "if (outputEl) {{\n",
              "    x.observe(outputEl, {childList: true});\n",
              "}}\n",
              "\n",
              "                        })\n",
              "                };\n",
              "                \n",
              "            </script>\n",
              "        </div>\n",
              "</body>\n",
              "</html>"
            ]
          },
          "metadata": {}
        }
      ]
    },
    {
      "cell_type": "code",
      "metadata": {
        "colab": {
          "base_uri": "https://localhost:8080/",
          "height": 611
        },
        "id": "BGxHc_Pk7l26",
        "outputId": "1c9646c0-b5da-4772-a095-302ad046fe20"
      },
      "source": [
        "px.scatter(df1, x = 'year', y = 'extent',\n",
        "  animation_frame = \"mo\", opacity = 0.65,\n",
        "  trendline='ols', trendline_color_override='darkblue',\n",
        "  range_y=[df1['extent'].min()-0.25,df1['extent'].max()+0.25],\n",
        "  labels = {'mo': 'Month', 'extent':'Extent', 'year':'Year'})\n",
        "#También podemos obtener las gráficas anteriores, añadiendo un \n",
        "#ajuste por mínimos cuadrados. Todas las rectas tienen pendiente\n",
        "#negativa, lo que apoya la idea de que el SIE se ha ido reduciendo\n",
        "#con los años.\n",
        "#Como esperábamos, la recta con las imágenes más altas es la correspondiente\n",
        "#a marzo, y la más baja, la de septiembre. Además, esta última es la que tiene la \n",
        "#pendiente más pronunciada.\n",
        "#"
      ],
      "execution_count": 51,
      "outputs": [
        {
          "output_type": "stream",
          "name": "stderr",
          "text": [
            "/usr/local/lib/python3.7/dist-packages/statsmodels/tools/_testing.py:19: FutureWarning:\n",
            "\n",
            "pandas.util.testing is deprecated. Use the functions in the public API at pandas.testing instead.\n",
            "\n"
          ]
        },
        {
          "output_type": "display_data",
          "data": {
            "text/html": [
              "<html>\n",
              "<head><meta charset=\"utf-8\" /></head>\n",
              "<body>\n",
              "    <div>\n",
              "            <script src=\"https://cdnjs.cloudflare.com/ajax/libs/mathjax/2.7.5/MathJax.js?config=TeX-AMS-MML_SVG\"></script><script type=\"text/javascript\">if (window.MathJax) {MathJax.Hub.Config({SVG: {font: \"STIX-Web\"}});}</script>\n",
              "                <script type=\"text/javascript\">window.PlotlyConfig = {MathJaxConfig: 'local'};</script>\n",
              "        <script src=\"https://cdn.plot.ly/plotly-latest.min.js\"></script>    \n",
              "            <div id=\"728ffa9d-8adb-4ab7-aad1-3dd49e665648\" class=\"plotly-graph-div\" style=\"height:525px; width:100%;\"></div>\n",
              "            <script type=\"text/javascript\">\n",
              "                \n",
              "                    window.PLOTLYENV=window.PLOTLYENV || {};\n",
              "                    \n",
              "                if (document.getElementById(\"728ffa9d-8adb-4ab7-aad1-3dd49e665648\")) {\n",
              "                    Plotly.newPlot(\n",
              "                        '728ffa9d-8adb-4ab7-aad1-3dd49e665648',\n",
              "                        [{\"hoverlabel\": {\"namelength\": 0}, \"hovertemplate\": \"Month=1<br>Year=%{x}<br>Extent=%{y}\", \"legendgroup\": \"\", \"marker\": {\"color\": \"#636efa\", \"opacity\": 0.65, \"symbol\": \"circle\"}, \"mode\": \"markers\", \"name\": \"\", \"showlegend\": false, \"type\": \"scatter\", \"x\": [1979, 1980, 1981, 1982, 1983, 1984, 1985, 1986, 1987, 1988, 1989, 1990, 1991, 1992, 1993, 1994, 1995, 1996, 1997, 1998, 1999, 2000, 2001, 2002, 2003, 2004, 2005, 2006, 2007, 2008, 2009, 2010, 2011, 2012, 2013], \"xaxis\": \"x\", \"y\": [15.54, 14.96, 15.03, 15.26, 15.1, 14.61, 14.86, 15.02, 15.2, 14.934999999999997, 15.12, 14.95, 14.46, 14.72, 15.08, 14.82, 14.62, 14.21, 14.47, 14.81, 14.47, 14.41, 14.31, 14.45, 14.46, 14.03, 13.66, 13.6, 13.77, 14.05, 14.08, 13.8, 13.57, 13.77, 13.78], \"yaxis\": \"y\"}, {\"hoverlabel\": {\"namelength\": 0}, \"hovertemplate\": \"<b>OLS trendline</b><br>extent = -0.047669 * year + 109.662115<br>R<sup>2</sup>=0.813582<br><br>Month=1<br>Year=%{x}<br>Extent=%{y} <b>(trend)</b>\", \"legendgroup\": \"\", \"line\": {\"color\": \"darkblue\"}, \"marker\": {\"color\": \"#636efa\", \"symbol\": \"circle\"}, \"mode\": \"lines\", \"name\": \"\", \"showlegend\": false, \"type\": \"scatter\", \"x\": [1979, 1980, 1981, 1982, 1983, 1984, 1985, 1986, 1987, 1988, 1989, 1990, 1991, 1992, 1993, 1994, 1995, 1996, 1997, 1998, 1999, 2000, 2001, 2002, 2003, 2004, 2005, 2006, 2007, 2008, 2009, 2010, 2011, 2012, 2013], \"xaxis\": \"x\", \"y\": [15.324238095238272, 15.276568627451155, 15.228899159664039, 15.181229691876936, 15.13356022408982, 15.085890756302703, 15.038221288515587, 14.99055182072847, 14.942882352941353, 14.895212885154237, 14.847543417367135, 14.799873949580018, 14.752204481792901, 14.704535014005785, 14.656865546218668, 14.609196078431552, 14.561526610644435, 14.513857142857333, 14.466187675070216, 14.4185182072831, 14.370848739495983, 14.323179271708867, 14.27550980392175, 14.227840336134634, 14.180170868347531, 14.132501400560415, 14.084831932773298, 14.037162464986181, 13.989492997199065, 13.941823529411948, 13.894154061624832, 13.84648459383773, 13.798815126050613, 13.751145658263496, 13.70347619047638], \"yaxis\": \"y\"}],\n",
              "                        {\"legend\": {\"tracegroupgap\": 0}, \"margin\": {\"t\": 60}, \"sliders\": [{\"active\": 0, \"currentvalue\": {\"prefix\": \"Month=\"}, \"len\": 0.9, \"pad\": {\"b\": 10, \"t\": 60}, \"steps\": [{\"args\": [[\"1\"], {\"frame\": {\"duration\": 0, \"redraw\": false}, \"fromcurrent\": true, \"mode\": \"immediate\", \"transition\": {\"duration\": 0, \"easing\": \"linear\"}}], \"label\": \"1\", \"method\": \"animate\"}, {\"args\": [[\"2\"], {\"frame\": {\"duration\": 0, \"redraw\": false}, \"fromcurrent\": true, \"mode\": \"immediate\", \"transition\": {\"duration\": 0, \"easing\": \"linear\"}}], \"label\": \"2\", \"method\": \"animate\"}, {\"args\": [[\"3\"], {\"frame\": {\"duration\": 0, \"redraw\": false}, \"fromcurrent\": true, \"mode\": \"immediate\", \"transition\": {\"duration\": 0, \"easing\": \"linear\"}}], \"label\": \"3\", \"method\": \"animate\"}, {\"args\": [[\"4\"], {\"frame\": {\"duration\": 0, \"redraw\": false}, \"fromcurrent\": true, \"mode\": \"immediate\", \"transition\": {\"duration\": 0, \"easing\": \"linear\"}}], \"label\": \"4\", \"method\": \"animate\"}, {\"args\": [[\"5\"], {\"frame\": {\"duration\": 0, \"redraw\": false}, \"fromcurrent\": true, \"mode\": \"immediate\", \"transition\": {\"duration\": 0, \"easing\": \"linear\"}}], \"label\": \"5\", \"method\": \"animate\"}, {\"args\": [[\"6\"], {\"frame\": {\"duration\": 0, \"redraw\": false}, \"fromcurrent\": true, \"mode\": \"immediate\", \"transition\": {\"duration\": 0, \"easing\": \"linear\"}}], \"label\": \"6\", \"method\": \"animate\"}, {\"args\": [[\"7\"], {\"frame\": {\"duration\": 0, \"redraw\": false}, \"fromcurrent\": true, \"mode\": \"immediate\", \"transition\": {\"duration\": 0, \"easing\": \"linear\"}}], \"label\": \"7\", \"method\": \"animate\"}, {\"args\": [[\"8\"], {\"frame\": {\"duration\": 0, \"redraw\": false}, \"fromcurrent\": true, \"mode\": \"immediate\", \"transition\": {\"duration\": 0, \"easing\": \"linear\"}}], \"label\": \"8\", \"method\": \"animate\"}, {\"args\": [[\"9\"], {\"frame\": {\"duration\": 0, \"redraw\": false}, \"fromcurrent\": true, \"mode\": \"immediate\", \"transition\": {\"duration\": 0, \"easing\": \"linear\"}}], \"label\": \"9\", \"method\": \"animate\"}, {\"args\": [[\"10\"], {\"frame\": {\"duration\": 0, \"redraw\": false}, \"fromcurrent\": true, \"mode\": \"immediate\", \"transition\": {\"duration\": 0, \"easing\": \"linear\"}}], \"label\": \"10\", \"method\": \"animate\"}, {\"args\": [[\"11\"], {\"frame\": {\"duration\": 0, \"redraw\": false}, \"fromcurrent\": true, \"mode\": \"immediate\", \"transition\": {\"duration\": 0, \"easing\": \"linear\"}}], \"label\": \"11\", \"method\": \"animate\"}, {\"args\": [[\"12\"], {\"frame\": {\"duration\": 0, \"redraw\": false}, \"fromcurrent\": true, \"mode\": \"immediate\", \"transition\": {\"duration\": 0, \"easing\": \"linear\"}}], \"label\": \"12\", \"method\": \"animate\"}], \"x\": 0.1, \"xanchor\": \"left\", \"y\": 0, \"yanchor\": \"top\"}], \"template\": {\"data\": {\"bar\": [{\"error_x\": {\"color\": \"#2a3f5f\"}, \"error_y\": {\"color\": \"#2a3f5f\"}, \"marker\": {\"line\": {\"color\": \"#E5ECF6\", \"width\": 0.5}}, \"type\": \"bar\"}], \"barpolar\": [{\"marker\": {\"line\": {\"color\": \"#E5ECF6\", \"width\": 0.5}}, \"type\": \"barpolar\"}], \"carpet\": [{\"aaxis\": {\"endlinecolor\": \"#2a3f5f\", \"gridcolor\": \"white\", \"linecolor\": \"white\", \"minorgridcolor\": \"white\", \"startlinecolor\": \"#2a3f5f\"}, \"baxis\": {\"endlinecolor\": \"#2a3f5f\", \"gridcolor\": \"white\", \"linecolor\": \"white\", \"minorgridcolor\": \"white\", \"startlinecolor\": \"#2a3f5f\"}, \"type\": \"carpet\"}], \"choropleth\": [{\"colorbar\": {\"outlinewidth\": 0, \"ticks\": \"\"}, \"type\": \"choropleth\"}], \"contour\": [{\"colorbar\": {\"outlinewidth\": 0, \"ticks\": \"\"}, \"colorscale\": [[0.0, \"#0d0887\"], [0.1111111111111111, \"#46039f\"], [0.2222222222222222, \"#7201a8\"], [0.3333333333333333, \"#9c179e\"], [0.4444444444444444, \"#bd3786\"], [0.5555555555555556, \"#d8576b\"], [0.6666666666666666, \"#ed7953\"], [0.7777777777777778, \"#fb9f3a\"], [0.8888888888888888, \"#fdca26\"], [1.0, \"#f0f921\"]], \"type\": \"contour\"}], \"contourcarpet\": [{\"colorbar\": {\"outlinewidth\": 0, \"ticks\": \"\"}, \"type\": \"contourcarpet\"}], \"heatmap\": [{\"colorbar\": {\"outlinewidth\": 0, \"ticks\": \"\"}, \"colorscale\": [[0.0, \"#0d0887\"], [0.1111111111111111, \"#46039f\"], [0.2222222222222222, \"#7201a8\"], [0.3333333333333333, \"#9c179e\"], [0.4444444444444444, \"#bd3786\"], [0.5555555555555556, \"#d8576b\"], [0.6666666666666666, \"#ed7953\"], [0.7777777777777778, \"#fb9f3a\"], [0.8888888888888888, \"#fdca26\"], [1.0, \"#f0f921\"]], \"type\": \"heatmap\"}], \"heatmapgl\": [{\"colorbar\": {\"outlinewidth\": 0, \"ticks\": \"\"}, \"colorscale\": [[0.0, \"#0d0887\"], [0.1111111111111111, \"#46039f\"], [0.2222222222222222, \"#7201a8\"], [0.3333333333333333, \"#9c179e\"], [0.4444444444444444, \"#bd3786\"], [0.5555555555555556, \"#d8576b\"], [0.6666666666666666, \"#ed7953\"], [0.7777777777777778, \"#fb9f3a\"], [0.8888888888888888, \"#fdca26\"], [1.0, \"#f0f921\"]], \"type\": \"heatmapgl\"}], \"histogram\": [{\"marker\": {\"colorbar\": {\"outlinewidth\": 0, \"ticks\": \"\"}}, \"type\": \"histogram\"}], \"histogram2d\": [{\"colorbar\": {\"outlinewidth\": 0, \"ticks\": \"\"}, \"colorscale\": [[0.0, \"#0d0887\"], [0.1111111111111111, \"#46039f\"], [0.2222222222222222, \"#7201a8\"], [0.3333333333333333, \"#9c179e\"], [0.4444444444444444, \"#bd3786\"], [0.5555555555555556, \"#d8576b\"], [0.6666666666666666, \"#ed7953\"], [0.7777777777777778, \"#fb9f3a\"], [0.8888888888888888, \"#fdca26\"], [1.0, \"#f0f921\"]], \"type\": \"histogram2d\"}], \"histogram2dcontour\": [{\"colorbar\": {\"outlinewidth\": 0, \"ticks\": \"\"}, \"colorscale\": [[0.0, \"#0d0887\"], [0.1111111111111111, \"#46039f\"], [0.2222222222222222, \"#7201a8\"], [0.3333333333333333, \"#9c179e\"], [0.4444444444444444, \"#bd3786\"], [0.5555555555555556, \"#d8576b\"], [0.6666666666666666, \"#ed7953\"], [0.7777777777777778, \"#fb9f3a\"], [0.8888888888888888, \"#fdca26\"], [1.0, \"#f0f921\"]], \"type\": \"histogram2dcontour\"}], \"mesh3d\": [{\"colorbar\": {\"outlinewidth\": 0, \"ticks\": \"\"}, \"type\": \"mesh3d\"}], \"parcoords\": [{\"line\": {\"colorbar\": {\"outlinewidth\": 0, \"ticks\": \"\"}}, \"type\": \"parcoords\"}], \"pie\": [{\"automargin\": true, \"type\": \"pie\"}], \"scatter\": [{\"marker\": {\"colorbar\": {\"outlinewidth\": 0, \"ticks\": \"\"}}, \"type\": \"scatter\"}], \"scatter3d\": [{\"line\": {\"colorbar\": {\"outlinewidth\": 0, \"ticks\": \"\"}}, \"marker\": {\"colorbar\": {\"outlinewidth\": 0, \"ticks\": \"\"}}, \"type\": \"scatter3d\"}], \"scattercarpet\": [{\"marker\": {\"colorbar\": {\"outlinewidth\": 0, \"ticks\": \"\"}}, \"type\": \"scattercarpet\"}], \"scattergeo\": [{\"marker\": {\"colorbar\": {\"outlinewidth\": 0, \"ticks\": \"\"}}, \"type\": \"scattergeo\"}], \"scattergl\": [{\"marker\": {\"colorbar\": {\"outlinewidth\": 0, \"ticks\": \"\"}}, \"type\": \"scattergl\"}], \"scattermapbox\": [{\"marker\": {\"colorbar\": {\"outlinewidth\": 0, \"ticks\": \"\"}}, \"type\": \"scattermapbox\"}], \"scatterpolar\": [{\"marker\": {\"colorbar\": {\"outlinewidth\": 0, \"ticks\": \"\"}}, \"type\": \"scatterpolar\"}], \"scatterpolargl\": [{\"marker\": {\"colorbar\": {\"outlinewidth\": 0, \"ticks\": \"\"}}, \"type\": \"scatterpolargl\"}], \"scatterternary\": [{\"marker\": {\"colorbar\": {\"outlinewidth\": 0, \"ticks\": \"\"}}, \"type\": \"scatterternary\"}], \"surface\": [{\"colorbar\": {\"outlinewidth\": 0, \"ticks\": \"\"}, \"colorscale\": [[0.0, \"#0d0887\"], [0.1111111111111111, \"#46039f\"], [0.2222222222222222, \"#7201a8\"], [0.3333333333333333, \"#9c179e\"], [0.4444444444444444, \"#bd3786\"], [0.5555555555555556, \"#d8576b\"], [0.6666666666666666, \"#ed7953\"], [0.7777777777777778, \"#fb9f3a\"], [0.8888888888888888, \"#fdca26\"], [1.0, \"#f0f921\"]], \"type\": \"surface\"}], \"table\": [{\"cells\": {\"fill\": {\"color\": \"#EBF0F8\"}, \"line\": {\"color\": \"white\"}}, \"header\": {\"fill\": {\"color\": \"#C8D4E3\"}, \"line\": {\"color\": \"white\"}}, \"type\": \"table\"}]}, \"layout\": {\"annotationdefaults\": {\"arrowcolor\": \"#2a3f5f\", \"arrowhead\": 0, \"arrowwidth\": 1}, \"coloraxis\": {\"colorbar\": {\"outlinewidth\": 0, \"ticks\": \"\"}}, \"colorscale\": {\"diverging\": [[0, \"#8e0152\"], [0.1, \"#c51b7d\"], [0.2, \"#de77ae\"], [0.3, \"#f1b6da\"], [0.4, \"#fde0ef\"], [0.5, \"#f7f7f7\"], [0.6, \"#e6f5d0\"], [0.7, \"#b8e186\"], [0.8, \"#7fbc41\"], [0.9, \"#4d9221\"], [1, \"#276419\"]], \"sequential\": [[0.0, \"#0d0887\"], [0.1111111111111111, \"#46039f\"], [0.2222222222222222, \"#7201a8\"], [0.3333333333333333, \"#9c179e\"], [0.4444444444444444, \"#bd3786\"], [0.5555555555555556, \"#d8576b\"], [0.6666666666666666, \"#ed7953\"], [0.7777777777777778, \"#fb9f3a\"], [0.8888888888888888, \"#fdca26\"], [1.0, \"#f0f921\"]], \"sequentialminus\": [[0.0, \"#0d0887\"], [0.1111111111111111, \"#46039f\"], [0.2222222222222222, \"#7201a8\"], [0.3333333333333333, \"#9c179e\"], [0.4444444444444444, \"#bd3786\"], [0.5555555555555556, \"#d8576b\"], [0.6666666666666666, \"#ed7953\"], [0.7777777777777778, \"#fb9f3a\"], [0.8888888888888888, \"#fdca26\"], [1.0, \"#f0f921\"]]}, \"colorway\": [\"#636efa\", \"#EF553B\", \"#00cc96\", \"#ab63fa\", \"#FFA15A\", \"#19d3f3\", \"#FF6692\", \"#B6E880\", \"#FF97FF\", \"#FECB52\"], \"font\": {\"color\": \"#2a3f5f\"}, \"geo\": {\"bgcolor\": \"white\", \"lakecolor\": \"white\", \"landcolor\": \"#E5ECF6\", \"showlakes\": true, \"showland\": true, \"subunitcolor\": \"white\"}, \"hoverlabel\": {\"align\": \"left\"}, \"hovermode\": \"closest\", \"mapbox\": {\"style\": \"light\"}, \"paper_bgcolor\": \"white\", \"plot_bgcolor\": \"#E5ECF6\", \"polar\": {\"angularaxis\": {\"gridcolor\": \"white\", \"linecolor\": \"white\", \"ticks\": \"\"}, \"bgcolor\": \"#E5ECF6\", \"radialaxis\": {\"gridcolor\": \"white\", \"linecolor\": \"white\", \"ticks\": \"\"}}, \"scene\": {\"xaxis\": {\"backgroundcolor\": \"#E5ECF6\", \"gridcolor\": \"white\", \"gridwidth\": 2, \"linecolor\": \"white\", \"showbackground\": true, \"ticks\": \"\", \"zerolinecolor\": \"white\"}, \"yaxis\": {\"backgroundcolor\": \"#E5ECF6\", \"gridcolor\": \"white\", \"gridwidth\": 2, \"linecolor\": \"white\", \"showbackground\": true, \"ticks\": \"\", \"zerolinecolor\": \"white\"}, \"zaxis\": {\"backgroundcolor\": \"#E5ECF6\", \"gridcolor\": \"white\", \"gridwidth\": 2, \"linecolor\": \"white\", \"showbackground\": true, \"ticks\": \"\", \"zerolinecolor\": \"white\"}}, \"shapedefaults\": {\"line\": {\"color\": \"#2a3f5f\"}}, \"ternary\": {\"aaxis\": {\"gridcolor\": \"white\", \"linecolor\": \"white\", \"ticks\": \"\"}, \"baxis\": {\"gridcolor\": \"white\", \"linecolor\": \"white\", \"ticks\": \"\"}, \"bgcolor\": \"#E5ECF6\", \"caxis\": {\"gridcolor\": \"white\", \"linecolor\": \"white\", \"ticks\": \"\"}}, \"title\": {\"x\": 0.05}, \"xaxis\": {\"automargin\": true, \"gridcolor\": \"white\", \"linecolor\": \"white\", \"ticks\": \"\", \"title\": {\"standoff\": 15}, \"zerolinecolor\": \"white\", \"zerolinewidth\": 2}, \"yaxis\": {\"automargin\": true, \"gridcolor\": \"white\", \"linecolor\": \"white\", \"ticks\": \"\", \"title\": {\"standoff\": 15}, \"zerolinecolor\": \"white\", \"zerolinewidth\": 2}}}, \"updatemenus\": [{\"buttons\": [{\"args\": [null, {\"frame\": {\"duration\": 500, \"redraw\": false}, \"fromcurrent\": true, \"mode\": \"immediate\", \"transition\": {\"duration\": 500, \"easing\": \"linear\"}}], \"label\": \"&#9654;\", \"method\": \"animate\"}, {\"args\": [[null], {\"frame\": {\"duration\": 0, \"redraw\": false}, \"fromcurrent\": true, \"mode\": \"immediate\", \"transition\": {\"duration\": 0, \"easing\": \"linear\"}}], \"label\": \"&#9724;\", \"method\": \"animate\"}], \"direction\": \"left\", \"pad\": {\"r\": 10, \"t\": 70}, \"showactive\": false, \"type\": \"buttons\", \"x\": 0.1, \"xanchor\": \"right\", \"y\": 0, \"yanchor\": \"top\"}], \"xaxis\": {\"anchor\": \"y\", \"domain\": [0.0, 1.0], \"title\": {\"text\": \"Year\"}}, \"yaxis\": {\"anchor\": \"x\", \"domain\": [0.0, 1.0], \"range\": [3.38, 16.7], \"title\": {\"text\": \"Extent\"}}},\n",
              "                        {\"responsive\": true}\n",
              "                    ).then(function(){\n",
              "                            Plotly.addFrames('728ffa9d-8adb-4ab7-aad1-3dd49e665648', [{\"data\": [{\"hoverlabel\": {\"namelength\": 0}, \"hovertemplate\": \"Month=1<br>Year=%{x}<br>Extent=%{y}\", \"legendgroup\": \"\", \"marker\": {\"color\": \"#636efa\", \"opacity\": 0.65, \"symbol\": \"circle\"}, \"mode\": \"markers\", \"name\": \"\", \"showlegend\": false, \"x\": [1979, 1980, 1981, 1982, 1983, 1984, 1985, 1986, 1987, 1988, 1989, 1990, 1991, 1992, 1993, 1994, 1995, 1996, 1997, 1998, 1999, 2000, 2001, 2002, 2003, 2004, 2005, 2006, 2007, 2008, 2009, 2010, 2011, 2012, 2013], \"xaxis\": \"x\", \"y\": [15.54, 14.96, 15.03, 15.26, 15.1, 14.61, 14.86, 15.02, 15.2, 14.934999999999997, 15.12, 14.95, 14.46, 14.72, 15.08, 14.82, 14.62, 14.21, 14.47, 14.81, 14.47, 14.41, 14.31, 14.45, 14.46, 14.03, 13.66, 13.6, 13.77, 14.05, 14.08, 13.8, 13.57, 13.77, 13.78], \"yaxis\": \"y\", \"type\": \"scatter\"}, {\"hoverlabel\": {\"namelength\": 0}, \"hovertemplate\": \"<b>OLS trendline</b><br>extent = -0.047669 * year + 109.662115<br>R<sup>2</sup>=0.813582<br><br>Month=1<br>Year=%{x}<br>Extent=%{y} <b>(trend)</b>\", \"legendgroup\": \"\", \"line\": {\"color\": \"darkblue\"}, \"marker\": {\"color\": \"#636efa\", \"symbol\": \"circle\"}, \"mode\": \"lines\", \"name\": \"\", \"showlegend\": false, \"x\": [1979, 1980, 1981, 1982, 1983, 1984, 1985, 1986, 1987, 1988, 1989, 1990, 1991, 1992, 1993, 1994, 1995, 1996, 1997, 1998, 1999, 2000, 2001, 2002, 2003, 2004, 2005, 2006, 2007, 2008, 2009, 2010, 2011, 2012, 2013], \"xaxis\": \"x\", \"y\": [15.324238095238272, 15.276568627451155, 15.228899159664039, 15.181229691876936, 15.13356022408982, 15.085890756302703, 15.038221288515587, 14.99055182072847, 14.942882352941353, 14.895212885154237, 14.847543417367135, 14.799873949580018, 14.752204481792901, 14.704535014005785, 14.656865546218668, 14.609196078431552, 14.561526610644435, 14.513857142857333, 14.466187675070216, 14.4185182072831, 14.370848739495983, 14.323179271708867, 14.27550980392175, 14.227840336134634, 14.180170868347531, 14.132501400560415, 14.084831932773298, 14.037162464986181, 13.989492997199065, 13.941823529411948, 13.894154061624832, 13.84648459383773, 13.798815126050613, 13.751145658263496, 13.70347619047638], \"yaxis\": \"y\", \"type\": \"scatter\"}], \"name\": \"1\"}, {\"data\": [{\"hoverlabel\": {\"namelength\": 0}, \"hovertemplate\": \"Month=2<br>Year=%{x}<br>Extent=%{y}\", \"legendgroup\": \"\", \"marker\": {\"color\": \"#636efa\", \"opacity\": 0.65, \"symbol\": \"circle\"}, \"mode\": \"markers\", \"name\": \"\", \"showlegend\": false, \"x\": [1979, 1980, 1981, 1982, 1983, 1984, 1985, 1986, 1987, 1988, 1989, 1990, 1991, 1992, 1993, 1994, 1995, 1996, 1997, 1998, 1999, 2000, 2001, 2002, 2003, 2004, 2005, 2006, 2007, 2008, 2009, 2010, 2011, 2012, 2013], \"xaxis\": \"x\", \"y\": [16.31, 15.98, 15.65, 16.06, 16.02, 15.32, 15.67, 15.89, 16.11, 15.61, 15.56, 15.56, 15.26, 15.5, 15.73, 15.61, 15.24, 15.17, 15.52, 15.77, 15.37, 15.18, 15.27, 15.36, 15.25, 14.93, 14.36, 14.42, 14.53, 15.01, 14.85, 14.59, 14.38, 14.59, 14.69], \"yaxis\": \"y\", \"type\": \"scatter\"}, {\"hoverlabel\": {\"namelength\": 0}, \"hovertemplate\": \"<b>OLS trendline</b><br>extent = -0.045336 * year + 105.814353<br>R<sup>2</sup>=0.764786<br><br>Month=2<br>Year=%{x}<br>Extent=%{y} <b>(trend)</b>\", \"legendgroup\": \"\", \"line\": {\"color\": \"darkblue\"}, \"marker\": {\"color\": \"#636efa\", \"symbol\": \"circle\"}, \"mode\": \"lines\", \"name\": \"\", \"showlegend\": false, \"x\": [1979, 1980, 1981, 1982, 1983, 1984, 1985, 1986, 1987, 1988, 1989, 1990, 1991, 1992, 1993, 1994, 1995, 1996, 1997, 1998, 1999, 2000, 2001, 2002, 2003, 2004, 2005, 2006, 2007, 2008, 2009, 2010, 2011, 2012, 2013], \"xaxis\": \"x\", \"y\": [16.09414285714297, 16.04880672268918, 16.003470588235402, 15.958134453781625, 15.912798319327834, 15.867462184874057, 15.82212605042028, 15.77678991596649, 15.731453781512712, 15.686117647058936, 15.640781512605145, 15.595445378151368, 15.550109243697591, 15.504773109243814, 15.459436974790023, 15.414100840336246, 15.36876470588247, 15.323428571428678, 15.278092436974902, 15.232756302521125, 15.187420168067334, 15.142084033613557, 15.09674789915978, 15.051411764705989, 15.006075630252212, 14.960739495798435, 14.915403361344644, 14.870067226890868, 14.82473109243709, 14.7793949579833, 14.734058823529523, 14.688722689075746, 14.64338655462197, 14.598050420168178, 14.552714285714401], \"yaxis\": \"y\", \"type\": \"scatter\"}], \"name\": \"2\"}, {\"data\": [{\"hoverlabel\": {\"namelength\": 0}, \"hovertemplate\": \"Month=3<br>Year=%{x}<br>Extent=%{y}\", \"legendgroup\": \"\", \"marker\": {\"color\": \"#636efa\", \"opacity\": 0.65, \"symbol\": \"circle\"}, \"mode\": \"markers\", \"name\": \"\", \"showlegend\": false, \"x\": [1979, 1980, 1981, 1982, 1983, 1984, 1985, 1986, 1987, 1988, 1989, 1990, 1991, 1992, 1993, 1994, 1995, 1996, 1997, 1998, 1999, 2000, 2001, 2002, 2003, 2004, 2005, 2006, 2007, 2008, 2009, 2010, 2011, 2012, 2013], \"xaxis\": \"x\", \"y\": [16.45, 16.13, 15.61, 16.15, 16.1, 15.62, 16.06, 16.08, 15.95, 16.13, 15.52, 15.88, 15.5, 15.47, 15.88, 15.58, 15.32, 15.13, 15.58, 15.66, 15.4, 15.27, 15.61, 15.44, 15.49, 15.05, 14.74, 14.43, 14.65, 15.22, 15.14, 15.11, 14.58, 15.24, 15.04], \"yaxis\": \"y\", \"type\": \"scatter\"}, {\"hoverlabel\": {\"namelength\": 0}, \"hovertemplate\": \"<b>OLS trendline</b><br>extent = -0.039541 * year + 94.414784<br>R<sup>2</sup>=0.692063<br><br>Month=3<br>Year=%{x}<br>Extent=%{y} <b>(trend)</b>\", \"legendgroup\": \"\", \"line\": {\"color\": \"darkblue\"}, \"marker\": {\"color\": \"#636efa\", \"symbol\": \"circle\"}, \"mode\": \"lines\", \"name\": \"\", \"showlegend\": false, \"x\": [1979, 1980, 1981, 1982, 1983, 1984, 1985, 1986, 1987, 1988, 1989, 1990, 1991, 1992, 1993, 1994, 1995, 1996, 1997, 1998, 1999, 2000, 2001, 2002, 2003, 2004, 2005, 2006, 2007, 2008, 2009, 2010, 2011, 2012, 2013], \"xaxis\": \"x\", \"y\": [16.163904761904945, 16.124364145658447, 16.08482352941195, 16.04528291316545, 16.005742296918953, 15.966201680672455, 15.926661064425957, 15.88712044817946, 15.847579831932961, 15.808039215686463, 15.768498599439965, 15.728957983193467, 15.68941736694697, 15.649876750700471, 15.610336134453974, 15.570795518207476, 15.531254901960978, 15.49171428571448, 15.452173669467982, 15.412633053221484, 15.373092436974986, 15.333551820728488, 15.29401120448199, 15.254470588235492, 15.214929971988994, 15.175389355742496, 15.135848739495998, 15.0963081232495, 15.056767507003002, 15.017226890756504, 14.977686274510006, 14.938145658263508, 14.89860504201701, 14.859064425770512, 14.819523809524014], \"yaxis\": \"y\", \"type\": \"scatter\"}], \"name\": \"3\"}, {\"data\": [{\"hoverlabel\": {\"namelength\": 0}, \"hovertemplate\": \"Month=4<br>Year=%{x}<br>Extent=%{y}\", \"legendgroup\": \"\", \"marker\": {\"color\": \"#636efa\", \"opacity\": 0.65, \"symbol\": \"circle\"}, \"mode\": \"markers\", \"name\": \"\", \"showlegend\": false, \"x\": [1979, 1980, 1981, 1982, 1983, 1984, 1985, 1986, 1987, 1988, 1989, 1990, 1991, 1992, 1993, 1994, 1995, 1996, 1997, 1998, 1999, 2000, 2001, 2002, 2003, 2004, 2005, 2006, 2007, 2008, 2009, 2010, 2011, 2012, 2013], \"xaxis\": \"x\", \"y\": [15.46, 15.49, 15.12, 15.57, 15.3, 15.15, 15.34, 15.15, 15.33, 15.21, 14.44, 14.68, 14.93, 14.7, 15.18, 14.95, 14.59, 14.22, 14.59, 14.89, 15.13, 14.63, 14.86, 14.37, 14.57, 14.11, 14.07, 13.97, 13.87, 14.42, 14.57, 14.7, 14.16, 14.72, 14.37], \"yaxis\": \"y\", \"type\": \"scatter\"}, {\"hoverlabel\": {\"namelength\": 0}, \"hovertemplate\": \"<b>OLS trendline</b><br>extent = -0.035193 * year + 85.011782<br>R<sup>2</sup>=0.603821<br><br>Month=4<br>Year=%{x}<br>Extent=%{y} <b>(trend)</b>\", \"legendgroup\": \"\", \"line\": {\"color\": \"darkblue\"}, \"marker\": {\"color\": \"#636efa\", \"symbol\": \"circle\"}, \"mode\": \"lines\", \"name\": \"\", \"showlegend\": false, \"x\": [1979, 1980, 1981, 1982, 1983, 1984, 1985, 1986, 1987, 1988, 1989, 1990, 1991, 1992, 1993, 1994, 1995, 1996, 1997, 1998, 1999, 2000, 2001, 2002, 2003, 2004, 2005, 2006, 2007, 2008, 2009, 2010, 2011, 2012, 2013], \"xaxis\": \"x\", \"y\": [15.3642857142858, 15.329092436974875, 15.293899159663951, 15.258705882353027, 15.223512605042103, 15.188319327731179, 15.153126050420255, 15.117932773109331, 15.082739495798407, 15.047546218487483, 15.012352941176559, 14.977159663865635, 14.94196638655471, 14.906773109243787, 14.871579831932863, 14.836386554621939, 14.801193277311015, 14.76600000000009, 14.730806722689167, 14.695613445378243, 14.660420168067319, 14.625226890756394, 14.59003361344547, 14.554840336134546, 14.519647058823622, 14.484453781512698, 14.449260504201774, 14.414067226890836, 14.378873949579912, 14.343680672268988, 14.308487394958064, 14.27329411764714, 14.238100840336216, 14.202907563025292, 14.167714285714368], \"yaxis\": \"y\", \"type\": \"scatter\"}], \"name\": \"4\"}, {\"data\": [{\"hoverlabel\": {\"namelength\": 0}, \"hovertemplate\": \"Month=5<br>Year=%{x}<br>Extent=%{y}\", \"legendgroup\": \"\", \"marker\": {\"color\": \"#636efa\", \"opacity\": 0.65, \"symbol\": \"circle\"}, \"mode\": \"markers\", \"name\": \"\", \"showlegend\": false, \"x\": [1979, 1980, 1981, 1982, 1983, 1984, 1985, 1986, 1987, 1988, 1989, 1990, 1991, 1992, 1993, 1994, 1995, 1996, 1997, 1998, 1999, 2000, 2001, 2002, 2003, 2004, 2005, 2006, 2007, 2008, 2009, 2010, 2011, 2012, 2013], \"xaxis\": \"x\", \"y\": [14.06, 14.04, 13.9, 14.17, 13.54, 13.68, 14.23, 13.52, 13.81, 13.69, 12.98, 13.3, 13.51, 13.25, 13.54, 13.73, 13.04, 13.06, 13.32, 13.8, 13.86, 13.18, 13.72, 13.12, 13.0, 12.58, 12.99, 12.62, 12.89, 13.19, 13.4, 13.11, 12.81, 13.12, 13.1], \"yaxis\": \"y\", \"type\": \"scatter\"}, {\"hoverlabel\": {\"namelength\": 0}, \"hovertemplate\": \"<b>OLS trendline</b><br>extent = -0.030454 * year + 74.181748<br>R<sup>2</sup>=0.512795<br><br>Month=5<br>Year=%{x}<br>Extent=%{y} <b>(trend)</b>\", \"legendgroup\": \"\", \"line\": {\"color\": \"darkblue\"}, \"marker\": {\"color\": \"#636efa\", \"symbol\": \"circle\"}, \"mode\": \"lines\", \"name\": \"\", \"showlegend\": false, \"x\": [1979, 1980, 1981, 1982, 1983, 1984, 1985, 1986, 1987, 1988, 1989, 1990, 1991, 1992, 1993, 1994, 1995, 1996, 1997, 1998, 1999, 2000, 2001, 2002, 2003, 2004, 2005, 2006, 2007, 2008, 2009, 2010, 2011, 2012, 2013], \"xaxis\": \"x\", \"y\": [13.913714285714555, 13.88326050420195, 13.852806722689344, 13.822352941176739, 13.791899159664133, 13.761445378151528, 13.730991596638923, 13.700537815126317, 13.670084033613712, 13.639630252101107, 13.609176470588501, 13.578722689075896, 13.548268907563298, 13.517815126050692, 13.487361344538087, 13.456907563025482, 13.426453781512876, 13.39600000000027, 13.365546218487665, 13.33509243697506, 13.304638655462455, 13.27418487394985, 13.243731092437244, 13.213277310924639, 13.182823529412033, 13.152369747899435, 13.12191596638683, 13.091462184874224, 13.061008403361619, 13.030554621849014, 13.000100840336408, 12.969647058823803, 12.939193277311198, 12.908739495798592, 12.878285714285987], \"yaxis\": \"y\", \"type\": \"scatter\"}], \"name\": \"5\"}, {\"data\": [{\"hoverlabel\": {\"namelength\": 0}, \"hovertemplate\": \"Month=6<br>Year=%{x}<br>Extent=%{y}\", \"legendgroup\": \"\", \"marker\": {\"color\": \"#636efa\", \"opacity\": 0.65, \"symbol\": \"circle\"}, \"mode\": \"markers\", \"name\": \"\", \"showlegend\": false, \"x\": [1979, 1980, 1981, 1982, 1983, 1984, 1985, 1986, 1987, 1988, 1989, 1990, 1991, 1992, 1993, 1994, 1995, 1996, 1997, 1998, 1999, 2000, 2001, 2002, 2003, 2004, 2005, 2006, 2007, 2008, 2009, 2010, 2011, 2012, 2013], \"xaxis\": \"x\", \"y\": [12.59, 12.31, 12.57, 12.69, 12.36, 12.2, 12.4, 12.1, 12.57, 12.02, 12.31, 11.68, 12.23, 12.13, 11.99, 12.1, 11.55, 12.1, 11.91, 11.85, 12.1, 11.71, 11.69, 11.69, 11.77, 11.51, 11.29, 11.06, 11.49, 11.36, 11.46, 10.82, 10.99, 10.92, 11.58], \"yaxis\": \"y\", \"type\": \"scatter\"}, {\"hoverlabel\": {\"namelength\": 0}, \"hovertemplate\": \"<b>OLS trendline</b><br>extent = -0.043415 * year + 98.515473<br>R<sup>2</sup>=0.798275<br><br>Month=6<br>Year=%{x}<br>Extent=%{y} <b>(trend)</b>\", \"legendgroup\": \"\", \"line\": {\"color\": \"darkblue\"}, \"marker\": {\"color\": \"#636efa\", \"symbol\": \"circle\"}, \"mode\": \"lines\", \"name\": \"\", \"showlegend\": false, \"x\": [1979, 1980, 1981, 1982, 1983, 1984, 1985, 1986, 1987, 1988, 1989, 1990, 1991, 1992, 1993, 1994, 1995, 1996, 1997, 1998, 1999, 2000, 2001, 2002, 2003, 2004, 2005, 2006, 2007, 2008, 2009, 2010, 2011, 2012, 2013], \"xaxis\": \"x\", \"y\": [12.59804761904769, 12.554633053221352, 12.511218487395027, 12.467803921568688, 12.424389355742363, 12.380974789916039, 12.3375602240897, 12.294145658263375, 12.250731092437036, 12.207316526610711, 12.163901960784386, 12.120487394958047, 12.077072829131723, 12.033658263305398, 11.990243697479059, 11.946829131652734, 11.903414565826395, 11.86000000000007, 11.816585434173746, 11.773170868347407, 11.729756302521082, 11.686341736694743, 11.642927170868418, 11.599512605042094, 11.556098039215755, 11.51268347338943, 11.469268907563105, 11.425854341736766, 11.382439775910441, 11.339025210084102, 11.295610644257778, 11.252196078431453, 11.208781512605114, 11.16536694677879, 11.12195238095245], \"yaxis\": \"y\", \"type\": \"scatter\"}], \"name\": \"6\"}, {\"data\": [{\"hoverlabel\": {\"namelength\": 0}, \"hovertemplate\": \"Month=7<br>Year=%{x}<br>Extent=%{y}\", \"legendgroup\": \"\", \"marker\": {\"color\": \"#636efa\", \"opacity\": 0.65, \"symbol\": \"circle\"}, \"mode\": \"markers\", \"name\": \"\", \"showlegend\": false, \"x\": [1979, 1980, 1981, 1982, 1983, 1984, 1985, 1986, 1987, 1988, 1989, 1990, 1991, 1992, 1993, 1994, 1995, 1996, 1997, 1998, 1999, 2000, 2001, 2002, 2003, 2004, 2005, 2006, 2007, 2008, 2009, 2010, 2011, 2012, 2013], \"xaxis\": \"x\", \"y\": [10.47, 10.39, 10.62, 10.75, 10.91, 10.15, 10.09, 10.47, 9.98, 10.04, 10.38, 9.62, 9.68, 10.61, 9.66, 10.22, 9.15, 10.36, 9.59, 9.62, 9.59, 9.75, 9.22, 9.49, 9.46, 9.6, 8.93, 8.67, 8.13, 8.99, 8.8, 8.36, 7.91, 7.93, 8.45], \"yaxis\": \"y\", \"type\": \"scatter\"}, {\"hoverlabel\": {\"namelength\": 0}, \"hovertemplate\": \"<b>OLS trendline</b><br>extent = -0.071602 * year + 152.519216<br>R<sup>2</sup>=0.792612<br><br>Month=7<br>Year=%{x}<br>Extent=%{y} <b>(trend)</b>\", \"legendgroup\": \"\", \"line\": {\"color\": \"darkblue\"}, \"marker\": {\"color\": \"#636efa\", \"symbol\": \"circle\"}, \"mode\": \"lines\", \"name\": \"\", \"showlegend\": false, \"x\": [1979, 1980, 1981, 1982, 1983, 1984, 1985, 1986, 1987, 1988, 1989, 1990, 1991, 1992, 1993, 1994, 1995, 1996, 1997, 1998, 1999, 2000, 2001, 2002, 2003, 2004, 2005, 2006, 2007, 2008, 2009, 2010, 2011, 2012, 2013], \"xaxis\": \"x\", \"y\": [10.818380952380892, 10.746778711484524, 10.675176470588156, 10.603574229691816, 10.531971988795448, 10.460369747899108, 10.38876750700274, 10.317165266106372, 10.245563025210032, 10.173960784313664, 10.102358543417296, 10.030756302520956, 9.959154061624588, 9.88755182072822, 9.81594957983188, 9.744347338935512, 9.672745098039144, 9.601142857142804, 9.529540616246436, 9.457938375350068, 9.386336134453728, 9.31473389355736, 9.243131652660992, 9.171529411764652, 9.099927170868284, 9.028324929971944, 8.956722689075576, 8.885120448179208, 8.813518207282868, 8.7419159663865, 8.670313725490132, 8.598711484593792, 8.527109243697424, 8.455507002801056, 8.383904761904716], \"yaxis\": \"y\", \"type\": \"scatter\"}], \"name\": \"7\"}, {\"data\": [{\"hoverlabel\": {\"namelength\": 0}, \"hovertemplate\": \"Month=8<br>Year=%{x}<br>Extent=%{y}\", \"legendgroup\": \"\", \"marker\": {\"color\": \"#636efa\", \"opacity\": 0.65, \"symbol\": \"circle\"}, \"mode\": \"markers\", \"name\": \"\", \"showlegend\": false, \"x\": [1979, 1980, 1981, 1982, 1983, 1984, 1985, 1986, 1987, 1988, 1989, 1990, 1991, 1992, 1993, 1994, 1995, 1996, 1997, 1998, 1999, 2000, 2001, 2002, 2003, 2004, 2005, 2006, 2007, 2008, 2009, 2010, 2011, 2012, 2013], \"xaxis\": \"x\", \"y\": [8.15, 8.04, 7.86, 8.26, 8.36, 7.87, 7.46, 8.01, 7.69, 7.9, 7.92, 6.82, 7.4, 7.86, 7.29, 7.61, 6.68, 8.17, 7.3, 7.49, 7.38, 7.21, 7.47, 6.53, 6.85, 6.83, 6.3, 6.52, 5.36, 6.05, 6.28, 6.01, 5.55, 4.71, 6.09], \"yaxis\": \"y\", \"type\": \"scatter\"}, {\"hoverlabel\": {\"namelength\": 0}, \"hovertemplate\": \"<b>OLS trendline</b><br>extent = -0.076535 * year + 159.886174<br>R<sup>2</sup>=0.745896<br><br>Month=8<br>Year=%{x}<br>Extent=%{y} <b>(trend)</b>\", \"legendgroup\": \"\", \"line\": {\"color\": \"darkblue\"}, \"marker\": {\"color\": \"#636efa\", \"symbol\": \"circle\"}, \"mode\": \"lines\", \"name\": \"\", \"showlegend\": false, \"x\": [1979, 1980, 1981, 1982, 1983, 1984, 1985, 1986, 1987, 1988, 1989, 1990, 1991, 1992, 1993, 1994, 1995, 1996, 1997, 1998, 1999, 2000, 2001, 2002, 2003, 2004, 2005, 2006, 2007, 2008, 2009, 2010, 2011, 2012, 2013], \"xaxis\": \"x\", \"y\": [8.423380952380853, 8.346845938375253, 8.270310924369653, 8.193775910364053, 8.117240896358453, 8.040705882352853, 7.964170868347253, 7.887635854341653, 7.811100840336053, 7.734565826330453, 7.658030812324853, 7.581495798319253, 7.504960784313653, 7.428425770308053, 7.351890756302453, 7.275355742296824, 7.198820728291224, 7.122285714285624, 7.045750700280024, 6.969215686274424, 6.892680672268824, 6.816145658263224, 6.739610644257624, 6.663075630252024, 6.586540616246424, 6.510005602240824, 6.433470588235224, 6.356935574229624, 6.280400560224024, 6.203865546218424, 6.127330532212824, 6.050795518207195, 5.974260504201595, 5.897725490195995, 5.821190476190395], \"yaxis\": \"y\", \"type\": \"scatter\"}], \"name\": \"8\"}, {\"data\": [{\"hoverlabel\": {\"namelength\": 0}, \"hovertemplate\": \"Month=9<br>Year=%{x}<br>Extent=%{y}\", \"legendgroup\": \"\", \"marker\": {\"color\": \"#636efa\", \"opacity\": 0.65, \"symbol\": \"circle\"}, \"mode\": \"markers\", \"name\": \"\", \"showlegend\": false, \"x\": [1979, 1980, 1981, 1982, 1983, 1984, 1985, 1986, 1987, 1988, 1989, 1990, 1991, 1992, 1993, 1994, 1995, 1996, 1997, 1998, 1999, 2000, 2001, 2002, 2003, 2004, 2005, 2006, 2007, 2008, 2009, 2010, 2011, 2012, 2013], \"xaxis\": \"x\", \"y\": [7.2, 7.85, 7.25, 7.45, 7.52, 7.17, 6.93, 7.54, 7.48, 7.49, 7.04, 6.24, 6.55, 7.55, 6.5, 7.18, 6.13, 7.88, 6.74, 6.56, 6.24, 6.32, 6.75, 5.96, 6.15, 6.05, 5.57, 5.92, 4.3, 4.73, 5.39, 4.93, 4.63, 3.63, 5.35], \"yaxis\": \"y\", \"type\": \"scatter\"}, {\"hoverlabel\": {\"namelength\": 0}, \"hovertemplate\": \"<b>OLS trendline</b><br>extent = -0.088964 * year + 183.976174<br>R<sup>2</sup>=0.726482<br><br>Month=9<br>Year=%{x}<br>Extent=%{y} <b>(trend)</b>\", \"legendgroup\": \"\", \"line\": {\"color\": \"darkblue\"}, \"marker\": {\"color\": \"#636efa\", \"symbol\": \"circle\"}, \"mode\": \"lines\", \"name\": \"\", \"showlegend\": false, \"x\": [1979, 1980, 1981, 1982, 1983, 1984, 1985, 1986, 1987, 1988, 1989, 1990, 1991, 1992, 1993, 1994, 1995, 1996, 1997, 1998, 1999, 2000, 2001, 2002, 2003, 2004, 2005, 2006, 2007, 2008, 2009, 2010, 2011, 2012, 2013], \"xaxis\": \"x\", \"y\": [7.917238095238048, 7.82827450980389, 7.739310924369704, 7.650347338935546, 7.56138375350136, 7.472420168067202, 7.383456582633016, 7.294492997198859, 7.205529411764672, 7.116565826330515, 7.027602240896329, 6.938638655462142, 6.849675070027985, 6.760711484593799, 6.671747899159641, 6.582784313725455, 6.493820728291297, 6.404857142857111, 6.315893557422953, 6.226929971988767, 6.137966386554609, 6.049002801120423, 5.960039215686237, 5.871075630252079, 5.782112044817893, 5.693148459383735, 5.604184873949549, 5.5152212885153915, 5.426257703081205, 5.337294117647048, 5.2483305322128615, 5.159366946778704, 5.070403361344518, 4.98143977591036, 4.892476190476174], \"yaxis\": \"y\", \"type\": \"scatter\"}], \"name\": \"9\"}, {\"data\": [{\"hoverlabel\": {\"namelength\": 0}, \"hovertemplate\": \"Month=10<br>Year=%{x}<br>Extent=%{y}\", \"legendgroup\": \"\", \"marker\": {\"color\": \"#636efa\", \"opacity\": 0.65, \"symbol\": \"circle\"}, \"mode\": \"markers\", \"name\": \"\", \"showlegend\": false, \"x\": [1979, 1980, 1981, 1982, 1983, 1984, 1985, 1986, 1987, 1988, 1989, 1990, 1991, 1992, 1993, 1994, 1995, 1996, 1997, 1998, 1999, 2000, 2001, 2002, 2003, 2004, 2005, 2006, 2007, 2008, 2009, 2010, 2011, 2012, 2013], \"xaxis\": \"x\", \"y\": [9.39, 9.46, 9.19, 9.98, 9.64, 8.84, 8.88, 9.89, 9.29, 9.47, 9.52, 9.35, 9.16, 9.6, 9.18, 9.48, 8.94, 9.39, 8.76, 8.85, 9.1, 8.92, 8.59, 8.81, 8.65, 8.48, 8.45, 8.33, 6.77, 8.42, 7.52, 7.71, 7.14, 7.07, 8.1], \"yaxis\": \"y\", \"type\": \"scatter\"}, {\"hoverlabel\": {\"namelength\": 0}, \"hovertemplate\": \"<b>OLS trendline</b><br>extent = -0.063353 * year + 135.261613<br>R<sup>2</sup>=0.668549<br><br>Month=10<br>Year=%{x}<br>Extent=%{y} <b>(trend)</b>\", \"legendgroup\": \"\", \"line\": {\"color\": \"darkblue\"}, \"marker\": {\"color\": \"#636efa\", \"symbol\": \"circle\"}, \"mode\": \"lines\", \"name\": \"\", \"showlegend\": false, \"x\": [1979, 1980, 1981, 1982, 1983, 1984, 1985, 1986, 1987, 1988, 1989, 1990, 1991, 1992, 1993, 1994, 1995, 1996, 1997, 1998, 1999, 2000, 2001, 2002, 2003, 2004, 2005, 2006, 2007, 2008, 2009, 2010, 2011, 2012, 2013], \"xaxis\": \"x\", \"y\": [9.8861428571428, 9.822789915966325, 9.759436974789864, 9.696084033613388, 9.632731092436913, 9.569378151260452, 9.506025210083976, 9.442672268907515, 9.37931932773104, 9.315966386554564, 9.252613445378103, 9.189260504201627, 9.125907563025152, 9.06255462184869, 8.999201680672215, 8.935848739495754, 8.872495798319278, 8.809142857142803, 8.745789915966341, 8.682436974789866, 8.61908403361339, 8.555731092436929, 8.492378151260453, 8.429025210083992, 8.365672268907517, 8.302319327731041, 8.23896638655458, 8.175613445378104, 8.112260504201643, 8.048907563025168, 7.985554621848692, 7.922201680672231, 7.858848739495755, 7.79549579831928, 7.732142857142819], \"yaxis\": \"y\", \"type\": \"scatter\"}], \"name\": \"10\"}, {\"data\": [{\"hoverlabel\": {\"namelength\": 0}, \"hovertemplate\": \"Month=11<br>Year=%{x}<br>Extent=%{y}\", \"legendgroup\": \"\", \"marker\": {\"color\": \"#636efa\", \"opacity\": 0.65, \"symbol\": \"circle\"}, \"mode\": \"markers\", \"name\": \"\", \"showlegend\": false, \"x\": [1979, 1980, 1981, 1982, 1983, 1984, 1985, 1986, 1987, 1988, 1989, 1990, 1991, 1992, 1993, 1994, 1995, 1996, 1997, 1998, 1999, 2000, 2001, 2002, 2003, 2004, 2005, 2006, 2007, 2008, 2009, 2010, 2011, 2012, 2013], \"xaxis\": \"x\", \"y\": [11.16, 11.69, 11.17, 11.91, 11.64, 11.29, 11.39, 11.78, 11.52, 11.69, 11.5, 11.31, 11.12, 11.87, 11.73, 11.3, 10.97, 10.56, 10.91, 10.75, 10.99, 10.54, 10.92, 10.78, 10.29, 10.65, 10.47, 9.84, 10.05, 10.62, 10.27, 9.88, 10.0, 9.92, 10.24], \"yaxis\": \"y\", \"type\": \"scatter\"}, {\"hoverlabel\": {\"namelength\": 0}, \"hovertemplate\": \"<b>OLS trendline</b><br>extent = -0.052952 * year + 116.627810<br>R<sup>2</sup>=0.751845<br><br>Month=11<br>Year=%{x}<br>Extent=%{y} <b>(trend)</b>\", \"legendgroup\": \"\", \"line\": {\"color\": \"darkblue\"}, \"marker\": {\"color\": \"#636efa\", \"symbol\": \"circle\"}, \"mode\": \"lines\", \"name\": \"\", \"showlegend\": false, \"x\": [1979, 1980, 1981, 1982, 1983, 1984, 1985, 1986, 1987, 1988, 1989, 1990, 1991, 1992, 1993, 1994, 1995, 1996, 1997, 1998, 1999, 2000, 2001, 2002, 2003, 2004, 2005, 2006, 2007, 2008, 2009, 2010, 2011, 2012, 2013], \"xaxis\": \"x\", \"y\": [11.835047619047856, 11.78209523809548, 11.729142857143103, 11.676190476190726, 11.623238095238335, 11.570285714285959, 11.517333333333582, 11.464380952381191, 11.411428571428814, 11.358476190476438, 11.305523809524061, 11.25257142857167, 11.199619047619294, 11.146666666666917, 11.09371428571454, 11.04076190476215, 10.987809523809773, 10.934857142857396, 10.88190476190502, 10.828952380952629, 10.776000000000252, 10.723047619047875, 10.670095238095485, 10.617142857143108, 10.564190476190731, 10.511238095238355, 10.458285714285964, 10.405333333333587, 10.35238095238121, 10.299428571428834, 10.246476190476443, 10.193523809524066, 10.14057142857169, 10.087619047619313, 10.034666666666922], \"yaxis\": \"y\", \"type\": \"scatter\"}], \"name\": \"11\"}, {\"data\": [{\"hoverlabel\": {\"namelength\": 0}, \"hovertemplate\": \"Month=12<br>Year=%{x}<br>Extent=%{y}\", \"legendgroup\": \"\", \"marker\": {\"color\": \"#636efa\", \"opacity\": 0.65, \"symbol\": \"circle\"}, \"mode\": \"markers\", \"name\": \"\", \"showlegend\": false, \"x\": [1979, 1980, 1981, 1982, 1983, 1984, 1985, 1986, 1987, 1988, 1989, 1990, 1991, 1992, 1993, 1994, 1995, 1996, 1997, 1998, 1999, 2000, 2001, 2002, 2003, 2004, 2005, 2006, 2007, 2008, 2009, 2010, 2011, 2012, 2013], \"xaxis\": \"x\", \"y\": [13.54, 13.72, 13.74, 13.83, 13.44, 13.18, 13.19, 13.4, 13.381666666666666, 13.78, 13.47, 13.27, 13.17, 13.46, 13.52, 13.53, 12.98, 13.14, 13.29, 13.26, 12.88, 12.81, 12.84, 12.82, 12.82, 12.72, 12.47, 12.27, 12.39, 12.52, 12.51, 12.02, 12.4, 12.2, 12.38], \"yaxis\": \"y\", \"type\": \"scatter\"}, {\"hoverlabel\": {\"namelength\": 0}, \"hovertemplate\": \"<b>OLS trendline</b><br>extent = -0.044797 * year + 102.452983<br>R<sup>2</sup>=0.828317<br><br>Month=12<br>Year=%{x}<br>Extent=%{y} <b>(trend)</b>\", \"legendgroup\": \"\", \"line\": {\"color\": \"darkblue\"}, \"marker\": {\"color\": \"#636efa\", \"symbol\": \"circle\"}, \"mode\": \"lines\", \"name\": \"\", \"showlegend\": false, \"x\": [1979, 1980, 1981, 1982, 1983, 1984, 1985, 1986, 1987, 1988, 1989, 1990, 1991, 1992, 1993, 1994, 1995, 1996, 1997, 1998, 1999, 2000, 2001, 2002, 2003, 2004, 2005, 2006, 2007, 2008, 2009, 2010, 2011, 2012, 2013], \"xaxis\": \"x\", \"y\": [13.799880952381045, 13.755084033613542, 13.71028711484604, 13.665490196078537, 13.62069327731102, 13.575896358543517, 13.531099439776014, 13.486302521008497, 13.441505602240994, 13.396708683473491, 13.351911764705989, 13.307114845938472, 13.262317927170969, 13.217521008403466, 13.172724089635963, 13.127927170868446, 13.083130252100943, 13.03833333333344, 12.993536414565938, 12.94873949579842, 12.903942577030918, 12.859145658263415, 12.814348739495898, 12.769551820728395, 12.724754901960893, 12.67995798319339, 12.635161064425873, 12.59036414565837, 12.545567226890867, 12.500770308123364, 12.455973389355847, 12.411176470588345, 12.366379551820842, 12.321582633053339, 12.276785714285822], \"yaxis\": \"y\", \"type\": \"scatter\"}], \"name\": \"12\"}]);\n",
              "                        }).then(function(){\n",
              "                            \n",
              "var gd = document.getElementById('728ffa9d-8adb-4ab7-aad1-3dd49e665648');\n",
              "var x = new MutationObserver(function (mutations, observer) {{\n",
              "        var display = window.getComputedStyle(gd).display;\n",
              "        if (!display || display === 'none') {{\n",
              "            console.log([gd, 'removed!']);\n",
              "            Plotly.purge(gd);\n",
              "            observer.disconnect();\n",
              "        }}\n",
              "}});\n",
              "\n",
              "// Listen for the removal of the full notebook cells\n",
              "var notebookContainer = gd.closest('#notebook-container');\n",
              "if (notebookContainer) {{\n",
              "    x.observe(notebookContainer, {childList: true});\n",
              "}}\n",
              "\n",
              "// Listen for the clearing of the current output cell\n",
              "var outputEl = gd.closest('.output');\n",
              "if (outputEl) {{\n",
              "    x.observe(outputEl, {childList: true});\n",
              "}}\n",
              "\n",
              "                        })\n",
              "                };\n",
              "                \n",
              "            </script>\n",
              "        </div>\n",
              "</body>\n",
              "</html>"
            ]
          },
          "metadata": {}
        }
      ]
    },
    {
      "cell_type": "code",
      "metadata": {
        "colab": {
          "base_uri": "https://localhost:8080/",
          "height": 206
        },
        "id": "I6H7VzkC8YVM",
        "outputId": "f3d2a0c5-8126-4ba0-e6b3-8f96cf1c03dd"
      },
      "source": [
        "#Dibujamos a continuación una regresión lineal sobre la media del extent mensual\n",
        "#de cada año. \n",
        "aux1=df1.groupby(['year']).mean().reset_index()\n",
        "aux1.head()"
      ],
      "execution_count": 52,
      "outputs": [
        {
          "output_type": "execute_result",
          "data": {
            "text/html": [
              "<div>\n",
              "<style scoped>\n",
              "    .dataframe tbody tr th:only-of-type {\n",
              "        vertical-align: middle;\n",
              "    }\n",
              "\n",
              "    .dataframe tbody tr th {\n",
              "        vertical-align: top;\n",
              "    }\n",
              "\n",
              "    .dataframe thead th {\n",
              "        text-align: right;\n",
              "    }\n",
              "</style>\n",
              "<table border=\"1\" class=\"dataframe\">\n",
              "  <thead>\n",
              "    <tr style=\"text-align: right;\">\n",
              "      <th></th>\n",
              "      <th>year</th>\n",
              "      <th>mo</th>\n",
              "      <th>extent</th>\n",
              "      <th>area</th>\n",
              "    </tr>\n",
              "  </thead>\n",
              "  <tbody>\n",
              "    <tr>\n",
              "      <th>0</th>\n",
              "      <td>1979</td>\n",
              "      <td>6.5</td>\n",
              "      <td>12.526667</td>\n",
              "      <td>9.362500</td>\n",
              "    </tr>\n",
              "    <tr>\n",
              "      <th>1</th>\n",
              "      <td>1980</td>\n",
              "      <td>6.5</td>\n",
              "      <td>12.505000</td>\n",
              "      <td>9.311667</td>\n",
              "    </tr>\n",
              "    <tr>\n",
              "      <th>2</th>\n",
              "      <td>1981</td>\n",
              "      <td>6.5</td>\n",
              "      <td>12.309167</td>\n",
              "      <td>9.068333</td>\n",
              "    </tr>\n",
              "    <tr>\n",
              "      <th>3</th>\n",
              "      <td>1982</td>\n",
              "      <td>6.5</td>\n",
              "      <td>12.673333</td>\n",
              "      <td>9.450833</td>\n",
              "    </tr>\n",
              "    <tr>\n",
              "      <th>4</th>\n",
              "      <td>1983</td>\n",
              "      <td>6.5</td>\n",
              "      <td>12.494167</td>\n",
              "      <td>9.350833</td>\n",
              "    </tr>\n",
              "  </tbody>\n",
              "</table>\n",
              "</div>"
            ],
            "text/plain": [
              "   year   mo     extent      area\n",
              "0  1979  6.5  12.526667  9.362500\n",
              "1  1980  6.5  12.505000  9.311667\n",
              "2  1981  6.5  12.309167  9.068333\n",
              "3  1982  6.5  12.673333  9.450833\n",
              "4  1983  6.5  12.494167  9.350833"
            ]
          },
          "metadata": {},
          "execution_count": 52
        }
      ]
    },
    {
      "cell_type": "code",
      "metadata": {
        "colab": {
          "base_uri": "https://localhost:8080/",
          "height": 542
        },
        "id": "yu7Ye0mBBEBz",
        "outputId": "b8c476f6-3bcd-4c6e-f92b-6a1e75eda93b"
      },
      "source": [
        "px.scatter(aux1, x = 'year', y = 'extent',\n",
        "           opacity=0.65, trendline='ols', \n",
        "           trendline_color_override='darkblue')"
      ],
      "execution_count": 53,
      "outputs": [
        {
          "output_type": "display_data",
          "data": {
            "text/html": [
              "<html>\n",
              "<head><meta charset=\"utf-8\" /></head>\n",
              "<body>\n",
              "    <div>\n",
              "            <script src=\"https://cdnjs.cloudflare.com/ajax/libs/mathjax/2.7.5/MathJax.js?config=TeX-AMS-MML_SVG\"></script><script type=\"text/javascript\">if (window.MathJax) {MathJax.Hub.Config({SVG: {font: \"STIX-Web\"}});}</script>\n",
              "                <script type=\"text/javascript\">window.PlotlyConfig = {MathJaxConfig: 'local'};</script>\n",
              "        <script src=\"https://cdn.plot.ly/plotly-latest.min.js\"></script>    \n",
              "            <div id=\"71e7c060-4aa5-4867-b6e1-0f6dfbaa74c1\" class=\"plotly-graph-div\" style=\"height:525px; width:100%;\"></div>\n",
              "            <script type=\"text/javascript\">\n",
              "                \n",
              "                    window.PLOTLYENV=window.PLOTLYENV || {};\n",
              "                    \n",
              "                if (document.getElementById(\"71e7c060-4aa5-4867-b6e1-0f6dfbaa74c1\")) {\n",
              "                    Plotly.newPlot(\n",
              "                        '71e7c060-4aa5-4867-b6e1-0f6dfbaa74c1',\n",
              "                        [{\"hoverlabel\": {\"namelength\": 0}, \"hovertemplate\": \"year=%{x}<br>extent=%{y}\", \"legendgroup\": \"\", \"marker\": {\"color\": \"#636efa\", \"opacity\": 0.65, \"symbol\": \"circle\"}, \"mode\": \"markers\", \"name\": \"\", \"showlegend\": false, \"type\": \"scatter\", \"x\": [1979, 1980, 1981, 1982, 1983, 1984, 1985, 1986, 1987, 1988, 1989, 1990, 1991, 1992, 1993, 1994, 1995, 1996, 1997, 1998, 1999, 2000, 2001, 2002, 2003, 2004, 2005, 2006, 2007, 2008, 2009, 2010, 2011, 2012, 2013], \"xaxis\": \"x\", \"y\": [12.526666666666666, 12.505, 12.309166666666668, 12.673333333333334, 12.494166666666667, 12.090000000000002, 12.208333333333334, 12.404166666666667, 12.359305555555556, 12.330416666666666, 12.146666666666668, 11.888333333333334, 11.914166666666665, 12.226666666666667, 12.106666666666667, 12.175833333333332, 11.600833333333332, 11.949166666666665, 11.831666666666665, 11.942499999999997, 11.875833333333333, 11.660833333333334, 11.770833333333334, 11.568333333333333, 11.563333333333333, 11.378333333333336, 11.108333333333334, 10.970833333333333, 10.683333333333332, 11.215000000000002, 11.189166666666665, 10.92, 10.676666666666664, 10.651666666666666, 11.097499999999998], \"yaxis\": \"y\"}, {\"hoverlabel\": {\"namelength\": 0}, \"hovertemplate\": \"<b>OLS trendline</b><br>extent = -0.053318 * year + 118.193685<br>R<sup>2</sup>=0.871670<br><br>year=%{x}<br>extent=%{y} <b>(trend)</b>\", \"legendgroup\": \"\", \"line\": {\"color\": \"darkblue\"}, \"marker\": {\"color\": \"#636efa\", \"symbol\": \"circle\"}, \"mode\": \"lines\", \"name\": \"\", \"showlegend\": false, \"type\": \"scatter\", \"x\": [1979, 1980, 1981, 1982, 1983, 1984, 1985, 1986, 1987, 1988, 1989, 1990, 1991, 1992, 1993, 1994, 1995, 1996, 1997, 1998, 1999, 2000, 2001, 2002, 2003, 2004, 2005, 2006, 2007, 2008, 2009, 2010, 2011, 2012, 2013], \"xaxis\": \"x\", \"y\": [12.67820039682502, 12.624882819794209, 12.571565242763398, 12.518247665732574, 12.464930088701763, 12.411612511670953, 12.358294934640142, 12.304977357609332, 12.251659780578521, 12.19834220354771, 12.1450246265169, 12.09170704948609, 12.038389472455265, 11.985071895424454, 11.931754318393644, 11.878436741362833, 11.825119164332023, 11.771801587301212, 11.718484010270402, 11.665166433239591, 11.61184885620878, 11.558531279177956, 11.505213702147145, 11.451896125116335, 11.398578548085524, 11.345260971054714, 11.291943394023903, 11.238625816993093, 11.185308239962282, 11.131990662931472, 11.078673085900647, 11.025355508869836, 10.972037931839026, 10.918720354808215, 10.865402777777405], \"yaxis\": \"y\"}],\n",
              "                        {\"legend\": {\"tracegroupgap\": 0}, \"margin\": {\"t\": 60}, \"template\": {\"data\": {\"bar\": [{\"error_x\": {\"color\": \"#2a3f5f\"}, \"error_y\": {\"color\": \"#2a3f5f\"}, \"marker\": {\"line\": {\"color\": \"#E5ECF6\", \"width\": 0.5}}, \"type\": \"bar\"}], \"barpolar\": [{\"marker\": {\"line\": {\"color\": \"#E5ECF6\", \"width\": 0.5}}, \"type\": \"barpolar\"}], \"carpet\": [{\"aaxis\": {\"endlinecolor\": \"#2a3f5f\", \"gridcolor\": \"white\", \"linecolor\": \"white\", \"minorgridcolor\": \"white\", \"startlinecolor\": \"#2a3f5f\"}, \"baxis\": {\"endlinecolor\": \"#2a3f5f\", \"gridcolor\": \"white\", \"linecolor\": \"white\", \"minorgridcolor\": \"white\", \"startlinecolor\": \"#2a3f5f\"}, \"type\": \"carpet\"}], \"choropleth\": [{\"colorbar\": {\"outlinewidth\": 0, \"ticks\": \"\"}, \"type\": \"choropleth\"}], \"contour\": [{\"colorbar\": {\"outlinewidth\": 0, \"ticks\": \"\"}, \"colorscale\": [[0.0, \"#0d0887\"], [0.1111111111111111, \"#46039f\"], [0.2222222222222222, \"#7201a8\"], [0.3333333333333333, \"#9c179e\"], [0.4444444444444444, \"#bd3786\"], [0.5555555555555556, \"#d8576b\"], [0.6666666666666666, \"#ed7953\"], [0.7777777777777778, \"#fb9f3a\"], [0.8888888888888888, \"#fdca26\"], [1.0, \"#f0f921\"]], \"type\": \"contour\"}], \"contourcarpet\": [{\"colorbar\": {\"outlinewidth\": 0, \"ticks\": \"\"}, \"type\": \"contourcarpet\"}], \"heatmap\": [{\"colorbar\": {\"outlinewidth\": 0, \"ticks\": \"\"}, \"colorscale\": [[0.0, \"#0d0887\"], [0.1111111111111111, \"#46039f\"], [0.2222222222222222, \"#7201a8\"], [0.3333333333333333, \"#9c179e\"], [0.4444444444444444, \"#bd3786\"], [0.5555555555555556, \"#d8576b\"], [0.6666666666666666, \"#ed7953\"], [0.7777777777777778, \"#fb9f3a\"], [0.8888888888888888, \"#fdca26\"], [1.0, \"#f0f921\"]], \"type\": \"heatmap\"}], \"heatmapgl\": [{\"colorbar\": {\"outlinewidth\": 0, \"ticks\": \"\"}, \"colorscale\": [[0.0, \"#0d0887\"], [0.1111111111111111, \"#46039f\"], [0.2222222222222222, \"#7201a8\"], [0.3333333333333333, \"#9c179e\"], [0.4444444444444444, \"#bd3786\"], [0.5555555555555556, \"#d8576b\"], [0.6666666666666666, \"#ed7953\"], [0.7777777777777778, \"#fb9f3a\"], [0.8888888888888888, \"#fdca26\"], [1.0, \"#f0f921\"]], \"type\": \"heatmapgl\"}], \"histogram\": [{\"marker\": {\"colorbar\": {\"outlinewidth\": 0, \"ticks\": \"\"}}, \"type\": \"histogram\"}], \"histogram2d\": [{\"colorbar\": {\"outlinewidth\": 0, \"ticks\": \"\"}, \"colorscale\": [[0.0, \"#0d0887\"], [0.1111111111111111, \"#46039f\"], [0.2222222222222222, \"#7201a8\"], [0.3333333333333333, \"#9c179e\"], [0.4444444444444444, \"#bd3786\"], [0.5555555555555556, \"#d8576b\"], [0.6666666666666666, \"#ed7953\"], [0.7777777777777778, \"#fb9f3a\"], [0.8888888888888888, \"#fdca26\"], [1.0, \"#f0f921\"]], \"type\": \"histogram2d\"}], \"histogram2dcontour\": [{\"colorbar\": {\"outlinewidth\": 0, \"ticks\": \"\"}, \"colorscale\": [[0.0, \"#0d0887\"], [0.1111111111111111, \"#46039f\"], [0.2222222222222222, \"#7201a8\"], [0.3333333333333333, \"#9c179e\"], [0.4444444444444444, \"#bd3786\"], [0.5555555555555556, \"#d8576b\"], [0.6666666666666666, \"#ed7953\"], [0.7777777777777778, \"#fb9f3a\"], [0.8888888888888888, \"#fdca26\"], [1.0, \"#f0f921\"]], \"type\": \"histogram2dcontour\"}], \"mesh3d\": [{\"colorbar\": {\"outlinewidth\": 0, \"ticks\": \"\"}, \"type\": \"mesh3d\"}], \"parcoords\": [{\"line\": {\"colorbar\": {\"outlinewidth\": 0, \"ticks\": \"\"}}, \"type\": \"parcoords\"}], \"pie\": [{\"automargin\": true, \"type\": \"pie\"}], \"scatter\": [{\"marker\": {\"colorbar\": {\"outlinewidth\": 0, \"ticks\": \"\"}}, \"type\": \"scatter\"}], \"scatter3d\": [{\"line\": {\"colorbar\": {\"outlinewidth\": 0, \"ticks\": \"\"}}, \"marker\": {\"colorbar\": {\"outlinewidth\": 0, \"ticks\": \"\"}}, \"type\": \"scatter3d\"}], \"scattercarpet\": [{\"marker\": {\"colorbar\": {\"outlinewidth\": 0, \"ticks\": \"\"}}, \"type\": \"scattercarpet\"}], \"scattergeo\": [{\"marker\": {\"colorbar\": {\"outlinewidth\": 0, \"ticks\": \"\"}}, \"type\": \"scattergeo\"}], \"scattergl\": [{\"marker\": {\"colorbar\": {\"outlinewidth\": 0, \"ticks\": \"\"}}, \"type\": \"scattergl\"}], \"scattermapbox\": [{\"marker\": {\"colorbar\": {\"outlinewidth\": 0, \"ticks\": \"\"}}, \"type\": \"scattermapbox\"}], \"scatterpolar\": [{\"marker\": {\"colorbar\": {\"outlinewidth\": 0, \"ticks\": \"\"}}, \"type\": \"scatterpolar\"}], \"scatterpolargl\": [{\"marker\": {\"colorbar\": {\"outlinewidth\": 0, \"ticks\": \"\"}}, \"type\": \"scatterpolargl\"}], \"scatterternary\": [{\"marker\": {\"colorbar\": {\"outlinewidth\": 0, \"ticks\": \"\"}}, \"type\": \"scatterternary\"}], \"surface\": [{\"colorbar\": {\"outlinewidth\": 0, \"ticks\": \"\"}, \"colorscale\": [[0.0, \"#0d0887\"], [0.1111111111111111, \"#46039f\"], [0.2222222222222222, \"#7201a8\"], [0.3333333333333333, \"#9c179e\"], [0.4444444444444444, \"#bd3786\"], [0.5555555555555556, \"#d8576b\"], [0.6666666666666666, \"#ed7953\"], [0.7777777777777778, \"#fb9f3a\"], [0.8888888888888888, \"#fdca26\"], [1.0, \"#f0f921\"]], \"type\": \"surface\"}], \"table\": [{\"cells\": {\"fill\": {\"color\": \"#EBF0F8\"}, \"line\": {\"color\": \"white\"}}, \"header\": {\"fill\": {\"color\": \"#C8D4E3\"}, \"line\": {\"color\": \"white\"}}, \"type\": \"table\"}]}, \"layout\": {\"annotationdefaults\": {\"arrowcolor\": \"#2a3f5f\", \"arrowhead\": 0, \"arrowwidth\": 1}, \"coloraxis\": {\"colorbar\": {\"outlinewidth\": 0, \"ticks\": \"\"}}, \"colorscale\": {\"diverging\": [[0, \"#8e0152\"], [0.1, \"#c51b7d\"], [0.2, \"#de77ae\"], [0.3, \"#f1b6da\"], [0.4, \"#fde0ef\"], [0.5, \"#f7f7f7\"], [0.6, \"#e6f5d0\"], [0.7, \"#b8e186\"], [0.8, \"#7fbc41\"], [0.9, \"#4d9221\"], [1, \"#276419\"]], \"sequential\": [[0.0, \"#0d0887\"], [0.1111111111111111, \"#46039f\"], [0.2222222222222222, \"#7201a8\"], [0.3333333333333333, \"#9c179e\"], [0.4444444444444444, \"#bd3786\"], [0.5555555555555556, \"#d8576b\"], [0.6666666666666666, \"#ed7953\"], [0.7777777777777778, \"#fb9f3a\"], [0.8888888888888888, \"#fdca26\"], [1.0, \"#f0f921\"]], \"sequentialminus\": [[0.0, \"#0d0887\"], [0.1111111111111111, \"#46039f\"], [0.2222222222222222, \"#7201a8\"], [0.3333333333333333, \"#9c179e\"], [0.4444444444444444, \"#bd3786\"], [0.5555555555555556, \"#d8576b\"], [0.6666666666666666, \"#ed7953\"], [0.7777777777777778, \"#fb9f3a\"], [0.8888888888888888, \"#fdca26\"], [1.0, \"#f0f921\"]]}, \"colorway\": [\"#636efa\", \"#EF553B\", \"#00cc96\", \"#ab63fa\", \"#FFA15A\", \"#19d3f3\", \"#FF6692\", \"#B6E880\", \"#FF97FF\", \"#FECB52\"], \"font\": {\"color\": \"#2a3f5f\"}, \"geo\": {\"bgcolor\": \"white\", \"lakecolor\": \"white\", \"landcolor\": \"#E5ECF6\", \"showlakes\": true, \"showland\": true, \"subunitcolor\": \"white\"}, \"hoverlabel\": {\"align\": \"left\"}, \"hovermode\": \"closest\", \"mapbox\": {\"style\": \"light\"}, \"paper_bgcolor\": \"white\", \"plot_bgcolor\": \"#E5ECF6\", \"polar\": {\"angularaxis\": {\"gridcolor\": \"white\", \"linecolor\": \"white\", \"ticks\": \"\"}, \"bgcolor\": \"#E5ECF6\", \"radialaxis\": {\"gridcolor\": \"white\", \"linecolor\": \"white\", \"ticks\": \"\"}}, \"scene\": {\"xaxis\": {\"backgroundcolor\": \"#E5ECF6\", \"gridcolor\": \"white\", \"gridwidth\": 2, \"linecolor\": \"white\", \"showbackground\": true, \"ticks\": \"\", \"zerolinecolor\": \"white\"}, \"yaxis\": {\"backgroundcolor\": \"#E5ECF6\", \"gridcolor\": \"white\", \"gridwidth\": 2, \"linecolor\": \"white\", \"showbackground\": true, \"ticks\": \"\", \"zerolinecolor\": \"white\"}, \"zaxis\": {\"backgroundcolor\": \"#E5ECF6\", \"gridcolor\": \"white\", \"gridwidth\": 2, \"linecolor\": \"white\", \"showbackground\": true, \"ticks\": \"\", \"zerolinecolor\": \"white\"}}, \"shapedefaults\": {\"line\": {\"color\": \"#2a3f5f\"}}, \"ternary\": {\"aaxis\": {\"gridcolor\": \"white\", \"linecolor\": \"white\", \"ticks\": \"\"}, \"baxis\": {\"gridcolor\": \"white\", \"linecolor\": \"white\", \"ticks\": \"\"}, \"bgcolor\": \"#E5ECF6\", \"caxis\": {\"gridcolor\": \"white\", \"linecolor\": \"white\", \"ticks\": \"\"}}, \"title\": {\"x\": 0.05}, \"xaxis\": {\"automargin\": true, \"gridcolor\": \"white\", \"linecolor\": \"white\", \"ticks\": \"\", \"title\": {\"standoff\": 15}, \"zerolinecolor\": \"white\", \"zerolinewidth\": 2}, \"yaxis\": {\"automargin\": true, \"gridcolor\": \"white\", \"linecolor\": \"white\", \"ticks\": \"\", \"title\": {\"standoff\": 15}, \"zerolinecolor\": \"white\", \"zerolinewidth\": 2}}}, \"xaxis\": {\"anchor\": \"y\", \"domain\": [0.0, 1.0], \"title\": {\"text\": \"year\"}}, \"yaxis\": {\"anchor\": \"x\", \"domain\": [0.0, 1.0], \"title\": {\"text\": \"extent\"}}},\n",
              "                        {\"responsive\": true}\n",
              "                    ).then(function(){\n",
              "                            \n",
              "var gd = document.getElementById('71e7c060-4aa5-4867-b6e1-0f6dfbaa74c1');\n",
              "var x = new MutationObserver(function (mutations, observer) {{\n",
              "        var display = window.getComputedStyle(gd).display;\n",
              "        if (!display || display === 'none') {{\n",
              "            console.log([gd, 'removed!']);\n",
              "            Plotly.purge(gd);\n",
              "            observer.disconnect();\n",
              "        }}\n",
              "}});\n",
              "\n",
              "// Listen for the removal of the full notebook cells\n",
              "var notebookContainer = gd.closest('#notebook-container');\n",
              "if (notebookContainer) {{\n",
              "    x.observe(notebookContainer, {childList: true});\n",
              "}}\n",
              "\n",
              "// Listen for the clearing of the current output cell\n",
              "var outputEl = gd.closest('.output');\n",
              "if (outputEl) {{\n",
              "    x.observe(outputEl, {childList: true});\n",
              "}}\n",
              "\n",
              "                        })\n",
              "                };\n",
              "                \n",
              "            </script>\n",
              "        </div>\n",
              "</body>\n",
              "</html>"
            ]
          },
          "metadata": {}
        }
      ]
    },
    {
      "cell_type": "code",
      "metadata": {
        "colab": {
          "base_uri": "https://localhost:8080/",
          "height": 370
        },
        "id": "a8_SvK1pAn37",
        "outputId": "41dfa07f-f0e7-4ae2-f2ba-85f682715517"
      },
      "source": [
        "#Para visualizar los intervalos de confianza de la predicción utilizamos lmplot\n",
        "#De nuevo observamos la tendencia negativa del SIE.\n",
        "sns.set_style('whitegrid')\n",
        "sns.set_context('notebook', font_scale=1, rc={'lines.linewidth':2, 'font.family':[u'times']})\n",
        "sns.lmplot(data=aux1, x='year', y='extent', height=5.2, aspect=2.5)"
      ],
      "execution_count": 54,
      "outputs": [
        {
          "output_type": "execute_result",
          "data": {
            "text/plain": [
              "<seaborn.axisgrid.FacetGrid at 0x7fe58bff3050>"
            ]
          },
          "metadata": {},
          "execution_count": 54
        },
        {
          "output_type": "display_data",
          "data": {
            "image/png": "[encoded data removed]",
            "text/plain": [
              "<Figure size 936x374.4 with 1 Axes>"
            ]
          },
          "metadata": {}
        }
      ]
    },
    {
      "cell_type": "code",
      "metadata": {
        "colab": {
          "base_uri": "https://localhost:8080/",
          "height": 542
        },
        "id": "WjByUupiXSa6",
        "outputId": "e7e5f2a9-275c-4329-bf17-a3850717c178"
      },
      "source": [
        "#Podemos intentar ajustar una recta mediante mínimos cuadrados\n",
        "#a los datos mensuales originales de cada año. Pero, por lo visto\n",
        "#al dibujar los datos año a año, la aproximación\n",
        "#no será muy buena. De hecho, obtenemos un coeficiente\n",
        "#de determinación igual a 0.4, que nos indica que el ajuste no es muy bueno.\n",
        "#Además podemos intuir que septiembre y mayo son los meses de mayor y menos \n",
        "#variabilidad a lo largo de los años.\n",
        "px.scatter(df, x = 'mo', y = 'extent',\n",
        "           opacity=0.65, trendline='ols', \n",
        "           trendline_color_override='darkblue')"
      ],
      "execution_count": 55,
      "outputs": [
        {
          "output_type": "display_data",
          "data": {
            "text/html": [
              "<html>\n",
              "<head><meta charset=\"utf-8\" /></head>\n",
              "<body>\n",
              "    <div>\n",
              "            <script src=\"https://cdnjs.cloudflare.com/ajax/libs/mathjax/2.7.5/MathJax.js?config=TeX-AMS-MML_SVG\"></script><script type=\"text/javascript\">if (window.MathJax) {MathJax.Hub.Config({SVG: {font: \"STIX-Web\"}});}</script>\n",
              "                <script type=\"text/javascript\">window.PlotlyConfig = {MathJaxConfig: 'local'};</script>\n",
              "        <script src=\"https://cdn.plot.ly/plotly-latest.min.js\"></script>    \n",
              "            <div id=\"025679e9-6270-47d2-8688-8a745d398df9\" class=\"plotly-graph-div\" style=\"height:525px; width:100%;\"></div>\n",
              "            <script type=\"text/javascript\">\n",
              "                \n",
              "                    window.PLOTLYENV=window.PLOTLYENV || {};\n",
              "                    \n",
              "                if (document.getElementById(\"025679e9-6270-47d2-8688-8a745d398df9\")) {\n",
              "                    Plotly.newPlot(\n",
              "                        '025679e9-6270-47d2-8688-8a745d398df9',\n",
              "                        [{\"hoverlabel\": {\"namelength\": 0}, \"hovertemplate\": \"mo=%{x}<br>extent=%{y}\", \"legendgroup\": \"\", \"marker\": {\"color\": \"#636efa\", \"opacity\": 0.65, \"symbol\": \"circle\"}, \"mode\": \"markers\", \"name\": \"\", \"showlegend\": false, \"type\": \"scatter\", \"x\": [1, 1, 1, 1, 1, 1, 1, 1, 1, 1, 1, 1, 1, 1, 1, 1, 1, 1, 1, 1, 1, 1, 1, 1, 1, 1, 1, 1, 1, 1, 1, 1, 1, 1, 1, 2, 2, 2, 2, 2, 2, 2, 2, 2, 2, 2, 2, 2, 2, 2, 2, 2, 2, 2, 2, 2, 2, 2, 2, 2, 2, 2, 2, 2, 2, 2, 2, 2, 2, 2, 2, 3, 3, 3, 3, 3, 3, 3, 3, 3, 3, 3, 3, 3, 3, 3, 3, 3, 3, 3, 3, 3, 3, 3, 3, 3, 3, 3, 3, 3, 3, 3, 3, 3, 3, 3, 4, 4, 4, 4, 4, 4, 4, 4, 4, 4, 4, 4, 4, 4, 4, 4, 4, 4, 4, 4, 4, 4, 4, 4, 4, 4, 4, 4, 4, 4, 4, 4, 4, 4, 4, 5, 5, 5, 5, 5, 5, 5, 5, 5, 5, 5, 5, 5, 5, 5, 5, 5, 5, 5, 5, 5, 5, 5, 5, 5, 5, 5, 5, 5, 5, 5, 5, 5, 5, 5, 6, 6, 6, 6, 6, 6, 6, 6, 6, 6, 6, 6, 6, 6, 6, 6, 6, 6, 6, 6, 6, 6, 6, 6, 6, 6, 6, 6, 6, 6, 6, 6, 6, 6, 6, 7, 7, 7, 7, 7, 7, 7, 7, 7, 7, 7, 7, 7, 7, 7, 7, 7, 7, 7, 7, 7, 7, 7, 7, 7, 7, 7, 7, 7, 7, 7, 7, 7, 7, 7, 8, 8, 8, 8, 8, 8, 8, 8, 8, 8, 8, 8, 8, 8, 8, 8, 8, 8, 8, 8, 8, 8, 8, 8, 8, 8, 8, 8, 8, 8, 8, 8, 8, 8, 8, 9, 9, 9, 9, 9, 9, 9, 9, 9, 9, 9, 9, 9, 9, 9, 9, 9, 9, 9, 9, 9, 9, 9, 9, 9, 9, 9, 9, 9, 9, 9, 9, 9, 9, 9, 10, 10, 10, 10, 10, 10, 10, 10, 10, 10, 10, 10, 10, 10, 10, 10, 10, 10, 10, 10, 10, 10, 10, 10, 10, 10, 10, 10, 10, 10, 10, 10, 10, 10, 10, 11, 11, 11, 11, 11, 11, 11, 11, 11, 11, 11, 11, 11, 11, 11, 11, 11, 11, 11, 11, 11, 11, 11, 11, 11, 11, 11, 11, 11, 11, 11, 11, 11, 11, 11, 11, 12, 12, 12, 12, 12, 12, 12, 12, 12, 12, 12, 12, 12, 12, 12, 12, 12, 12, 12, 12, 12, 12, 12, 12, 12, 12, 12, 12, 12, 12, 12, 12, 12, 12, 12], \"xaxis\": \"x\", \"y\": [15.54, 14.96, 15.03, 15.26, 15.1, 14.61, 14.86, 15.02, 15.2, 15.12, 14.95, 14.46, 14.72, 15.08, 14.82, 14.62, 14.21, 14.47, 14.81, 14.47, 14.41, 14.31, 14.45, 14.46, 14.03, 13.66, 13.6, 13.77, 14.05, 14.08, 13.8, 13.57, 13.77, 13.78, 13.73, 16.31, 15.98, 15.65, 16.06, 16.02, 15.32, 15.67, 15.89, 16.11, 15.61, 15.56, 15.56, 15.26, 15.5, 15.73, 15.61, 15.24, 15.17, 15.52, 15.77, 15.37, 15.18, 15.27, 15.36, 15.25, 14.93, 14.36, 14.42, 14.53, 15.01, 14.85, 14.59, 14.38, 14.59, 14.69, 14.44, 16.45, 16.13, 15.61, 16.15, 16.1, 15.62, 16.06, 16.08, 15.95, 16.13, 15.52, 15.88, 15.5, 15.47, 15.88, 15.58, 15.32, 15.13, 15.58, 15.66, 15.4, 15.27, 15.61, 15.44, 15.49, 15.05, 14.74, 14.43, 14.65, 15.22, 15.14, 15.11, 14.58, 15.24, 15.04, 15.46, 15.49, 15.12, 15.57, 15.3, 15.15, 15.34, 15.15, 15.33, 15.21, 14.44, 14.68, 14.93, 14.7, 15.18, 14.95, 14.59, 14.22, 14.59, 14.89, 15.13, 14.63, 14.86, 14.37, 14.57, 14.11, 14.07, 13.97, 13.87, 14.42, 14.57, 14.7, 14.16, 14.72, 14.37, 14.06, 14.04, 13.9, 14.17, 13.54, 13.68, 14.23, 13.52, 13.81, 13.69, 12.98, 13.3, 13.51, 13.25, 13.54, 13.73, 13.04, 13.06, 13.32, 13.8, 13.86, 13.18, 13.72, 13.12, 13.0, 12.58, 12.99, 12.62, 12.89, 13.19, 13.4, 13.11, 12.81, 13.12, 13.1, 12.59, 12.31, 12.57, 12.69, 12.36, 12.2, 12.4, 12.1, 12.57, 12.02, 12.31, 11.68, 12.23, 12.13, 11.99, 12.1, 11.55, 12.1, 11.91, 11.85, 12.1, 11.71, 11.69, 11.69, 11.77, 11.51, 11.29, 11.06, 11.49, 11.36, 11.46, 10.82, 10.99, 10.92, 11.58, 10.47, 10.39, 10.62, 10.75, 10.91, 10.15, 10.09, 10.47, 9.98, 10.04, 10.38, 9.62, 9.68, 10.61, 9.66, 10.22, 9.15, 10.36, 9.59, 9.62, 9.59, 9.75, 9.22, 9.49, 9.46, 9.6, 8.93, 8.67, 8.13, 8.99, 8.8, 8.36, 7.91, 7.93, 8.45, 8.15, 8.04, 7.86, 8.26, 8.36, 7.87, 7.46, 8.01, 7.69, 7.9, 7.92, 6.82, 7.4, 7.86, 7.29, 7.61, 6.68, 8.17, 7.3, 7.49, 7.38, 7.21, 7.47, 6.53, 6.85, 6.83, 6.3, 6.52, 5.36, 6.05, 6.28, 6.01, 5.55, 4.71, 6.09, 7.2, 7.85, 7.25, 7.45, 7.52, 7.17, 6.93, 7.54, 7.48, 7.49, 7.04, 6.24, 6.55, 7.55, 6.5, 7.18, 6.13, 7.88, 6.74, 6.56, 6.24, 6.32, 6.75, 5.96, 6.15, 6.05, 5.57, 5.92, 4.3, 4.73, 5.39, 4.93, 4.63, 3.63, 5.35, 9.39, 9.46, 9.19, 9.98, 9.64, 8.84, 8.88, 9.89, 9.29, 9.47, 9.52, 9.35, 9.16, 9.6, 9.18, 9.48, 8.94, 9.39, 8.76, 8.85, 9.1, 8.92, 8.59, 8.81, 8.65, 8.48, 8.45, 8.33, 6.77, 8.42, 7.52, 7.71, 7.14, 7.07, 8.1, 12.01, 11.16, 11.69, 11.17, 11.91, 11.64, 11.29, 11.39, 11.78, 11.52, 11.69, 11.5, 11.31, 11.12, 11.87, 11.73, 11.3, 10.97, 10.56, 10.91, 10.75, 10.99, 10.54, 10.92, 10.78, 10.29, 10.65, 10.47, 9.84, 10.05, 10.62, 10.27, 9.88, 10.0, 9.92, 10.24, 14.12, 13.54, 13.72, 13.74, 13.83, 13.44, 13.18, 13.19, 13.4, 13.78, 13.47, 13.27, 13.17, 13.46, 13.52, 13.53, 12.98, 13.14, 13.29, 13.26, 12.88, 12.81, 12.84, 12.82, 12.82, 12.72, 12.47, 12.27, 12.39, 12.52, 12.51, 12.02, 12.4, 12.2, 12.38], \"yaxis\": \"y\"}, {\"hoverlabel\": {\"namelength\": 0}, \"hovertemplate\": \"<b>OLS trendline</b><br>extent = -0.573699 * mo + 15.506629<br>R<sup>2</sup>=0.405024<br><br>mo=%{x}<br>extent=%{y} <b>(trend)</b>\", \"legendgroup\": \"\", \"line\": {\"color\": \"darkblue\"}, \"marker\": {\"color\": \"#636efa\", \"symbol\": \"circle\"}, \"mode\": \"lines\", \"name\": \"\", \"showlegend\": false, \"type\": \"scatter\", \"x\": [1, 1, 1, 1, 1, 1, 1, 1, 1, 1, 1, 1, 1, 1, 1, 1, 1, 1, 1, 1, 1, 1, 1, 1, 1, 1, 1, 1, 1, 1, 1, 1, 1, 1, 1, 2, 2, 2, 2, 2, 2, 2, 2, 2, 2, 2, 2, 2, 2, 2, 2, 2, 2, 2, 2, 2, 2, 2, 2, 2, 2, 2, 2, 2, 2, 2, 2, 2, 2, 2, 2, 3, 3, 3, 3, 3, 3, 3, 3, 3, 3, 3, 3, 3, 3, 3, 3, 3, 3, 3, 3, 3, 3, 3, 3, 3, 3, 3, 3, 3, 3, 3, 3, 3, 3, 3, 4, 4, 4, 4, 4, 4, 4, 4, 4, 4, 4, 4, 4, 4, 4, 4, 4, 4, 4, 4, 4, 4, 4, 4, 4, 4, 4, 4, 4, 4, 4, 4, 4, 4, 4, 5, 5, 5, 5, 5, 5, 5, 5, 5, 5, 5, 5, 5, 5, 5, 5, 5, 5, 5, 5, 5, 5, 5, 5, 5, 5, 5, 5, 5, 5, 5, 5, 5, 5, 5, 6, 6, 6, 6, 6, 6, 6, 6, 6, 6, 6, 6, 6, 6, 6, 6, 6, 6, 6, 6, 6, 6, 6, 6, 6, 6, 6, 6, 6, 6, 6, 6, 6, 6, 6, 7, 7, 7, 7, 7, 7, 7, 7, 7, 7, 7, 7, 7, 7, 7, 7, 7, 7, 7, 7, 7, 7, 7, 7, 7, 7, 7, 7, 7, 7, 7, 7, 7, 7, 7, 8, 8, 8, 8, 8, 8, 8, 8, 8, 8, 8, 8, 8, 8, 8, 8, 8, 8, 8, 8, 8, 8, 8, 8, 8, 8, 8, 8, 8, 8, 8, 8, 8, 8, 8, 9, 9, 9, 9, 9, 9, 9, 9, 9, 9, 9, 9, 9, 9, 9, 9, 9, 9, 9, 9, 9, 9, 9, 9, 9, 9, 9, 9, 9, 9, 9, 9, 9, 9, 9, 10, 10, 10, 10, 10, 10, 10, 10, 10, 10, 10, 10, 10, 10, 10, 10, 10, 10, 10, 10, 10, 10, 10, 10, 10, 10, 10, 10, 10, 10, 10, 10, 10, 10, 10, 11, 11, 11, 11, 11, 11, 11, 11, 11, 11, 11, 11, 11, 11, 11, 11, 11, 11, 11, 11, 11, 11, 11, 11, 11, 11, 11, 11, 11, 11, 11, 11, 11, 11, 11, 11, 12, 12, 12, 12, 12, 12, 12, 12, 12, 12, 12, 12, 12, 12, 12, 12, 12, 12, 12, 12, 12, 12, 12, 12, 12, 12, 12, 12, 12, 12, 12, 12, 12, 12, 12], \"xaxis\": \"x\", \"y\": [14.93292928661972, 14.93292928661972, 14.93292928661972, 14.93292928661972, 14.93292928661972, 14.93292928661972, 14.93292928661972, 14.93292928661972, 14.93292928661972, 14.93292928661972, 14.93292928661972, 14.93292928661972, 14.93292928661972, 14.93292928661972, 14.93292928661972, 14.93292928661972, 14.93292928661972, 14.93292928661972, 14.93292928661972, 14.93292928661972, 14.93292928661972, 14.93292928661972, 14.93292928661972, 14.93292928661972, 14.93292928661972, 14.93292928661972, 14.93292928661972, 14.93292928661972, 14.93292928661972, 14.93292928661972, 14.93292928661972, 14.93292928661972, 14.93292928661972, 14.93292928661972, 14.93292928661972, 14.359229950577703, 14.359229950577703, 14.359229950577703, 14.359229950577703, 14.359229950577703, 14.359229950577703, 14.359229950577703, 14.359229950577703, 14.359229950577703, 14.359229950577703, 14.359229950577703, 14.359229950577703, 14.359229950577703, 14.359229950577703, 14.359229950577703, 14.359229950577703, 14.359229950577703, 14.359229950577703, 14.359229950577703, 14.359229950577703, 14.359229950577703, 14.359229950577703, 14.359229950577703, 14.359229950577703, 14.359229950577703, 14.359229950577703, 14.359229950577703, 14.359229950577703, 14.359229950577703, 14.359229950577703, 14.359229950577703, 14.359229950577703, 14.359229950577703, 14.359229950577703, 14.359229950577703, 14.359229950577703, 13.785530614535686, 13.785530614535686, 13.785530614535686, 13.785530614535686, 13.785530614535686, 13.785530614535686, 13.785530614535686, 13.785530614535686, 13.785530614535686, 13.785530614535686, 13.785530614535686, 13.785530614535686, 13.785530614535686, 13.785530614535686, 13.785530614535686, 13.785530614535686, 13.785530614535686, 13.785530614535686, 13.785530614535686, 13.785530614535686, 13.785530614535686, 13.785530614535686, 13.785530614535686, 13.785530614535686, 13.785530614535686, 13.785530614535686, 13.785530614535686, 13.785530614535686, 13.785530614535686, 13.785530614535686, 13.785530614535686, 13.785530614535686, 13.785530614535686, 13.785530614535686, 13.785530614535686, 13.21183127849367, 13.21183127849367, 13.21183127849367, 13.21183127849367, 13.21183127849367, 13.21183127849367, 13.21183127849367, 13.21183127849367, 13.21183127849367, 13.21183127849367, 13.21183127849367, 13.21183127849367, 13.21183127849367, 13.21183127849367, 13.21183127849367, 13.21183127849367, 13.21183127849367, 13.21183127849367, 13.21183127849367, 13.21183127849367, 13.21183127849367, 13.21183127849367, 13.21183127849367, 13.21183127849367, 13.21183127849367, 13.21183127849367, 13.21183127849367, 13.21183127849367, 13.21183127849367, 13.21183127849367, 13.21183127849367, 13.21183127849367, 13.21183127849367, 13.21183127849367, 13.21183127849367, 12.638131942451654, 12.638131942451654, 12.638131942451654, 12.638131942451654, 12.638131942451654, 12.638131942451654, 12.638131942451654, 12.638131942451654, 12.638131942451654, 12.638131942451654, 12.638131942451654, 12.638131942451654, 12.638131942451654, 12.638131942451654, 12.638131942451654, 12.638131942451654, 12.638131942451654, 12.638131942451654, 12.638131942451654, 12.638131942451654, 12.638131942451654, 12.638131942451654, 12.638131942451654, 12.638131942451654, 12.638131942451654, 12.638131942451654, 12.638131942451654, 12.638131942451654, 12.638131942451654, 12.638131942451654, 12.638131942451654, 12.638131942451654, 12.638131942451654, 12.638131942451654, 12.638131942451654, 12.064432606409637, 12.064432606409637, 12.064432606409637, 12.064432606409637, 12.064432606409637, 12.064432606409637, 12.064432606409637, 12.064432606409637, 12.064432606409637, 12.064432606409637, 12.064432606409637, 12.064432606409637, 12.064432606409637, 12.064432606409637, 12.064432606409637, 12.064432606409637, 12.064432606409637, 12.064432606409637, 12.064432606409637, 12.064432606409637, 12.064432606409637, 12.064432606409637, 12.064432606409637, 12.064432606409637, 12.064432606409637, 12.064432606409637, 12.064432606409637, 12.064432606409637, 12.064432606409637, 12.064432606409637, 12.064432606409637, 12.064432606409637, 12.064432606409637, 12.064432606409637, 12.064432606409637, 11.49073327036762, 11.49073327036762, 11.49073327036762, 11.49073327036762, 11.49073327036762, 11.49073327036762, 11.49073327036762, 11.49073327036762, 11.49073327036762, 11.49073327036762, 11.49073327036762, 11.49073327036762, 11.49073327036762, 11.49073327036762, 11.49073327036762, 11.49073327036762, 11.49073327036762, 11.49073327036762, 11.49073327036762, 11.49073327036762, 11.49073327036762, 11.49073327036762, 11.49073327036762, 11.49073327036762, 11.49073327036762, 11.49073327036762, 11.49073327036762, 11.49073327036762, 11.49073327036762, 11.49073327036762, 11.49073327036762, 11.49073327036762, 11.49073327036762, 11.49073327036762, 11.49073327036762, 10.917033934325604, 10.917033934325604, 10.917033934325604, 10.917033934325604, 10.917033934325604, 10.917033934325604, 10.917033934325604, 10.917033934325604, 10.917033934325604, 10.917033934325604, 10.917033934325604, 10.917033934325604, 10.917033934325604, 10.917033934325604, 10.917033934325604, 10.917033934325604, 10.917033934325604, 10.917033934325604, 10.917033934325604, 10.917033934325604, 10.917033934325604, 10.917033934325604, 10.917033934325604, 10.917033934325604, 10.917033934325604, 10.917033934325604, 10.917033934325604, 10.917033934325604, 10.917033934325604, 10.917033934325604, 10.917033934325604, 10.917033934325604, 10.917033934325604, 10.917033934325604, 10.917033934325604, 10.343334598283587, 10.343334598283587, 10.343334598283587, 10.343334598283587, 10.343334598283587, 10.343334598283587, 10.343334598283587, 10.343334598283587, 10.343334598283587, 10.343334598283587, 10.343334598283587, 10.343334598283587, 10.343334598283587, 10.343334598283587, 10.343334598283587, 10.343334598283587, 10.343334598283587, 10.343334598283587, 10.343334598283587, 10.343334598283587, 10.343334598283587, 10.343334598283587, 10.343334598283587, 10.343334598283587, 10.343334598283587, 10.343334598283587, 10.343334598283587, 10.343334598283587, 10.343334598283587, 10.343334598283587, 10.343334598283587, 10.343334598283587, 10.343334598283587, 10.343334598283587, 10.343334598283587, 9.76963526224157, 9.76963526224157, 9.76963526224157, 9.76963526224157, 9.76963526224157, 9.76963526224157, 9.76963526224157, 9.76963526224157, 9.76963526224157, 9.76963526224157, 9.76963526224157, 9.76963526224157, 9.76963526224157, 9.76963526224157, 9.76963526224157, 9.76963526224157, 9.76963526224157, 9.76963526224157, 9.76963526224157, 9.76963526224157, 9.76963526224157, 9.76963526224157, 9.76963526224157, 9.76963526224157, 9.76963526224157, 9.76963526224157, 9.76963526224157, 9.76963526224157, 9.76963526224157, 9.76963526224157, 9.76963526224157, 9.76963526224157, 9.76963526224157, 9.76963526224157, 9.76963526224157, 9.195935926199553, 9.195935926199553, 9.195935926199553, 9.195935926199553, 9.195935926199553, 9.195935926199553, 9.195935926199553, 9.195935926199553, 9.195935926199553, 9.195935926199553, 9.195935926199553, 9.195935926199553, 9.195935926199553, 9.195935926199553, 9.195935926199553, 9.195935926199553, 9.195935926199553, 9.195935926199553, 9.195935926199553, 9.195935926199553, 9.195935926199553, 9.195935926199553, 9.195935926199553, 9.195935926199553, 9.195935926199553, 9.195935926199553, 9.195935926199553, 9.195935926199553, 9.195935926199553, 9.195935926199553, 9.195935926199553, 9.195935926199553, 9.195935926199553, 9.195935926199553, 9.195935926199553, 9.195935926199553, 8.622236590157538, 8.622236590157538, 8.622236590157538, 8.622236590157538, 8.622236590157538, 8.622236590157538, 8.622236590157538, 8.622236590157538, 8.622236590157538, 8.622236590157538, 8.622236590157538, 8.622236590157538, 8.622236590157538, 8.622236590157538, 8.622236590157538, 8.622236590157538, 8.622236590157538, 8.622236590157538, 8.622236590157538, 8.622236590157538, 8.622236590157538, 8.622236590157538, 8.622236590157538, 8.622236590157538, 8.622236590157538, 8.622236590157538, 8.622236590157538, 8.622236590157538, 8.622236590157538, 8.622236590157538, 8.622236590157538, 8.622236590157538, 8.622236590157538, 8.622236590157538, 8.622236590157538], \"yaxis\": \"y\"}],\n",
              "                        {\"legend\": {\"tracegroupgap\": 0}, \"margin\": {\"t\": 60}, \"template\": {\"data\": {\"bar\": [{\"error_x\": {\"color\": \"#2a3f5f\"}, \"error_y\": {\"color\": \"#2a3f5f\"}, \"marker\": {\"line\": {\"color\": \"#E5ECF6\", \"width\": 0.5}}, \"type\": \"bar\"}], \"barpolar\": [{\"marker\": {\"line\": {\"color\": \"#E5ECF6\", \"width\": 0.5}}, \"type\": \"barpolar\"}], \"carpet\": [{\"aaxis\": {\"endlinecolor\": \"#2a3f5f\", \"gridcolor\": \"white\", \"linecolor\": \"white\", \"minorgridcolor\": \"white\", \"startlinecolor\": \"#2a3f5f\"}, \"baxis\": {\"endlinecolor\": \"#2a3f5f\", \"gridcolor\": \"white\", \"linecolor\": \"white\", \"minorgridcolor\": \"white\", \"startlinecolor\": \"#2a3f5f\"}, \"type\": \"carpet\"}], \"choropleth\": [{\"colorbar\": {\"outlinewidth\": 0, \"ticks\": \"\"}, \"type\": \"choropleth\"}], \"contour\": [{\"colorbar\": {\"outlinewidth\": 0, \"ticks\": \"\"}, \"colorscale\": [[0.0, \"#0d0887\"], [0.1111111111111111, \"#46039f\"], [0.2222222222222222, \"#7201a8\"], [0.3333333333333333, \"#9c179e\"], [0.4444444444444444, \"#bd3786\"], [0.5555555555555556, \"#d8576b\"], [0.6666666666666666, \"#ed7953\"], [0.7777777777777778, \"#fb9f3a\"], [0.8888888888888888, \"#fdca26\"], [1.0, \"#f0f921\"]], \"type\": \"contour\"}], \"contourcarpet\": [{\"colorbar\": {\"outlinewidth\": 0, \"ticks\": \"\"}, \"type\": \"contourcarpet\"}], \"heatmap\": [{\"colorbar\": {\"outlinewidth\": 0, \"ticks\": \"\"}, \"colorscale\": [[0.0, \"#0d0887\"], [0.1111111111111111, \"#46039f\"], [0.2222222222222222, \"#7201a8\"], [0.3333333333333333, \"#9c179e\"], [0.4444444444444444, \"#bd3786\"], [0.5555555555555556, \"#d8576b\"], [0.6666666666666666, \"#ed7953\"], [0.7777777777777778, \"#fb9f3a\"], [0.8888888888888888, \"#fdca26\"], [1.0, \"#f0f921\"]], \"type\": \"heatmap\"}], \"heatmapgl\": [{\"colorbar\": {\"outlinewidth\": 0, \"ticks\": \"\"}, \"colorscale\": [[0.0, \"#0d0887\"], [0.1111111111111111, \"#46039f\"], [0.2222222222222222, \"#7201a8\"], [0.3333333333333333, \"#9c179e\"], [0.4444444444444444, \"#bd3786\"], [0.5555555555555556, \"#d8576b\"], [0.6666666666666666, \"#ed7953\"], [0.7777777777777778, \"#fb9f3a\"], [0.8888888888888888, \"#fdca26\"], [1.0, \"#f0f921\"]], \"type\": \"heatmapgl\"}], \"histogram\": [{\"marker\": {\"colorbar\": {\"outlinewidth\": 0, \"ticks\": \"\"}}, \"type\": \"histogram\"}], \"histogram2d\": [{\"colorbar\": {\"outlinewidth\": 0, \"ticks\": \"\"}, \"colorscale\": [[0.0, \"#0d0887\"], [0.1111111111111111, \"#46039f\"], [0.2222222222222222, \"#7201a8\"], [0.3333333333333333, \"#9c179e\"], [0.4444444444444444, \"#bd3786\"], [0.5555555555555556, \"#d8576b\"], [0.6666666666666666, \"#ed7953\"], [0.7777777777777778, \"#fb9f3a\"], [0.8888888888888888, \"#fdca26\"], [1.0, \"#f0f921\"]], \"type\": \"histogram2d\"}], \"histogram2dcontour\": [{\"colorbar\": {\"outlinewidth\": 0, \"ticks\": \"\"}, \"colorscale\": [[0.0, \"#0d0887\"], [0.1111111111111111, \"#46039f\"], [0.2222222222222222, \"#7201a8\"], [0.3333333333333333, \"#9c179e\"], [0.4444444444444444, \"#bd3786\"], [0.5555555555555556, \"#d8576b\"], [0.6666666666666666, \"#ed7953\"], [0.7777777777777778, \"#fb9f3a\"], [0.8888888888888888, \"#fdca26\"], [1.0, \"#f0f921\"]], \"type\": \"histogram2dcontour\"}], \"mesh3d\": [{\"colorbar\": {\"outlinewidth\": 0, \"ticks\": \"\"}, \"type\": \"mesh3d\"}], \"parcoords\": [{\"line\": {\"colorbar\": {\"outlinewidth\": 0, \"ticks\": \"\"}}, \"type\": \"parcoords\"}], \"pie\": [{\"automargin\": true, \"type\": \"pie\"}], \"scatter\": [{\"marker\": {\"colorbar\": {\"outlinewidth\": 0, \"ticks\": \"\"}}, \"type\": \"scatter\"}], \"scatter3d\": [{\"line\": {\"colorbar\": {\"outlinewidth\": 0, \"ticks\": \"\"}}, \"marker\": {\"colorbar\": {\"outlinewidth\": 0, \"ticks\": \"\"}}, \"type\": \"scatter3d\"}], \"scattercarpet\": [{\"marker\": {\"colorbar\": {\"outlinewidth\": 0, \"ticks\": \"\"}}, \"type\": \"scattercarpet\"}], \"scattergeo\": [{\"marker\": {\"colorbar\": {\"outlinewidth\": 0, \"ticks\": \"\"}}, \"type\": \"scattergeo\"}], \"scattergl\": [{\"marker\": {\"colorbar\": {\"outlinewidth\": 0, \"ticks\": \"\"}}, \"type\": \"scattergl\"}], \"scattermapbox\": [{\"marker\": {\"colorbar\": {\"outlinewidth\": 0, \"ticks\": \"\"}}, \"type\": \"scattermapbox\"}], \"scatterpolar\": [{\"marker\": {\"colorbar\": {\"outlinewidth\": 0, \"ticks\": \"\"}}, \"type\": \"scatterpolar\"}], \"scatterpolargl\": [{\"marker\": {\"colorbar\": {\"outlinewidth\": 0, \"ticks\": \"\"}}, \"type\": \"scatterpolargl\"}], \"scatterternary\": [{\"marker\": {\"colorbar\": {\"outlinewidth\": 0, \"ticks\": \"\"}}, \"type\": \"scatterternary\"}], \"surface\": [{\"colorbar\": {\"outlinewidth\": 0, \"ticks\": \"\"}, \"colorscale\": [[0.0, \"#0d0887\"], [0.1111111111111111, \"#46039f\"], [0.2222222222222222, \"#7201a8\"], [0.3333333333333333, \"#9c179e\"], [0.4444444444444444, \"#bd3786\"], [0.5555555555555556, \"#d8576b\"], [0.6666666666666666, \"#ed7953\"], [0.7777777777777778, \"#fb9f3a\"], [0.8888888888888888, \"#fdca26\"], [1.0, \"#f0f921\"]], \"type\": \"surface\"}], \"table\": [{\"cells\": {\"fill\": {\"color\": \"#EBF0F8\"}, \"line\": {\"color\": \"white\"}}, \"header\": {\"fill\": {\"color\": \"#C8D4E3\"}, \"line\": {\"color\": \"white\"}}, \"type\": \"table\"}]}, \"layout\": {\"annotationdefaults\": {\"arrowcolor\": \"#2a3f5f\", \"arrowhead\": 0, \"arrowwidth\": 1}, \"coloraxis\": {\"colorbar\": {\"outlinewidth\": 0, \"ticks\": \"\"}}, \"colorscale\": {\"diverging\": [[0, \"#8e0152\"], [0.1, \"#c51b7d\"], [0.2, \"#de77ae\"], [0.3, \"#f1b6da\"], [0.4, \"#fde0ef\"], [0.5, \"#f7f7f7\"], [0.6, \"#e6f5d0\"], [0.7, \"#b8e186\"], [0.8, \"#7fbc41\"], [0.9, \"#4d9221\"], [1, \"#276419\"]], \"sequential\": [[0.0, \"#0d0887\"], [0.1111111111111111, \"#46039f\"], [0.2222222222222222, \"#7201a8\"], [0.3333333333333333, \"#9c179e\"], [0.4444444444444444, \"#bd3786\"], [0.5555555555555556, \"#d8576b\"], [0.6666666666666666, \"#ed7953\"], [0.7777777777777778, \"#fb9f3a\"], [0.8888888888888888, \"#fdca26\"], [1.0, \"#f0f921\"]], \"sequentialminus\": [[0.0, \"#0d0887\"], [0.1111111111111111, \"#46039f\"], [0.2222222222222222, \"#7201a8\"], [0.3333333333333333, \"#9c179e\"], [0.4444444444444444, \"#bd3786\"], [0.5555555555555556, \"#d8576b\"], [0.6666666666666666, \"#ed7953\"], [0.7777777777777778, \"#fb9f3a\"], [0.8888888888888888, \"#fdca26\"], [1.0, \"#f0f921\"]]}, \"colorway\": [\"#636efa\", \"#EF553B\", \"#00cc96\", \"#ab63fa\", \"#FFA15A\", \"#19d3f3\", \"#FF6692\", \"#B6E880\", \"#FF97FF\", \"#FECB52\"], \"font\": {\"color\": \"#2a3f5f\"}, \"geo\": {\"bgcolor\": \"white\", \"lakecolor\": \"white\", \"landcolor\": \"#E5ECF6\", \"showlakes\": true, \"showland\": true, \"subunitcolor\": \"white\"}, \"hoverlabel\": {\"align\": \"left\"}, \"hovermode\": \"closest\", \"mapbox\": {\"style\": \"light\"}, \"paper_bgcolor\": \"white\", \"plot_bgcolor\": \"#E5ECF6\", \"polar\": {\"angularaxis\": {\"gridcolor\": \"white\", \"linecolor\": \"white\", \"ticks\": \"\"}, \"bgcolor\": \"#E5ECF6\", \"radialaxis\": {\"gridcolor\": \"white\", \"linecolor\": \"white\", \"ticks\": \"\"}}, \"scene\": {\"xaxis\": {\"backgroundcolor\": \"#E5ECF6\", \"gridcolor\": \"white\", \"gridwidth\": 2, \"linecolor\": \"white\", \"showbackground\": true, \"ticks\": \"\", \"zerolinecolor\": \"white\"}, \"yaxis\": {\"backgroundcolor\": \"#E5ECF6\", \"gridcolor\": \"white\", \"gridwidth\": 2, \"linecolor\": \"white\", \"showbackground\": true, \"ticks\": \"\", \"zerolinecolor\": \"white\"}, \"zaxis\": {\"backgroundcolor\": \"#E5ECF6\", \"gridcolor\": \"white\", \"gridwidth\": 2, \"linecolor\": \"white\", \"showbackground\": true, \"ticks\": \"\", \"zerolinecolor\": \"white\"}}, \"shapedefaults\": {\"line\": {\"color\": \"#2a3f5f\"}}, \"ternary\": {\"aaxis\": {\"gridcolor\": \"white\", \"linecolor\": \"white\", \"ticks\": \"\"}, \"baxis\": {\"gridcolor\": \"white\", \"linecolor\": \"white\", \"ticks\": \"\"}, \"bgcolor\": \"#E5ECF6\", \"caxis\": {\"gridcolor\": \"white\", \"linecolor\": \"white\", \"ticks\": \"\"}}, \"title\": {\"x\": 0.05}, \"xaxis\": {\"automargin\": true, \"gridcolor\": \"white\", \"linecolor\": \"white\", \"ticks\": \"\", \"title\": {\"standoff\": 15}, \"zerolinecolor\": \"white\", \"zerolinewidth\": 2}, \"yaxis\": {\"automargin\": true, \"gridcolor\": \"white\", \"linecolor\": \"white\", \"ticks\": \"\", \"title\": {\"standoff\": 15}, \"zerolinecolor\": \"white\", \"zerolinewidth\": 2}}}, \"xaxis\": {\"anchor\": \"y\", \"domain\": [0.0, 1.0], \"title\": {\"text\": \"mo\"}}, \"yaxis\": {\"anchor\": \"x\", \"domain\": [0.0, 1.0], \"title\": {\"text\": \"extent\"}}},\n",
              "                        {\"responsive\": true}\n",
              "                    ).then(function(){\n",
              "                            \n",
              "var gd = document.getElementById('025679e9-6270-47d2-8688-8a745d398df9');\n",
              "var x = new MutationObserver(function (mutations, observer) {{\n",
              "        var display = window.getComputedStyle(gd).display;\n",
              "        if (!display || display === 'none') {{\n",
              "            console.log([gd, 'removed!']);\n",
              "            Plotly.purge(gd);\n",
              "            observer.disconnect();\n",
              "        }}\n",
              "}});\n",
              "\n",
              "// Listen for the removal of the full notebook cells\n",
              "var notebookContainer = gd.closest('#notebook-container');\n",
              "if (notebookContainer) {{\n",
              "    x.observe(notebookContainer, {childList: true});\n",
              "}}\n",
              "\n",
              "// Listen for the clearing of the current output cell\n",
              "var outputEl = gd.closest('.output');\n",
              "if (outputEl) {{\n",
              "    x.observe(outputEl, {childList: true});\n",
              "}}\n",
              "\n",
              "                        })\n",
              "                };\n",
              "                \n",
              "            </script>\n",
              "        </div>\n",
              "</body>\n",
              "</html>"
            ]
          },
          "metadata": {}
        }
      ]
    },
    {
      "cell_type": "code",
      "metadata": {
        "colab": {
          "base_uri": "https://localhost:8080/",
          "height": 370
        },
        "id": "KLpcYGDTdEJJ",
        "outputId": "63f9b3f6-0887-4d9e-ecb2-1e2c54dd7b85"
      },
      "source": [
        "#Obtenemos un mejor resultado realizando un ajuste por\n",
        "#mínimos cuadrados con un polinomio de tercer grado\n",
        "sns.lmplot(data=df, x = 'mo', y = 'extent', height=5.2, aspect=2.5, order = 3)"
      ],
      "execution_count": 56,
      "outputs": [
        {
          "output_type": "execute_result",
          "data": {
            "text/plain": [
              "<seaborn.axisgrid.FacetGrid at 0x7fe57aee8b50>"
            ]
          },
          "metadata": {},
          "execution_count": 56
        },
        {
          "output_type": "display_data",
          "data": {
            "image/png": "[encoded data removed]",
            "text/plain": [
              "<Figure size 936x374.4 with 1 Axes>"
            ]
          },
          "metadata": {}
        }
      ]
    },
    {
      "cell_type": "code",
      "metadata": {
        "colab": {
          "base_uri": "https://localhost:8080/",
          "height": 542
        },
        "id": "a171Qo5yrTI2",
        "outputId": "9b07daf4-d1ce-415a-b354-2a8193af2fd6"
      },
      "source": [
        "#Un problema similar tenemos al intentar ajustar una recta\n",
        "#a los datos de extent ordenados por fecha.\n",
        "#Tenemos un coeficiente de determinación igual a 0.33\n",
        "#Esto es debido al comportamiento estacional de extent.\n",
        "fig = px.scatter(df, x = 'date', y = 'extent',\n",
        "           opacity=0.65, trendline='ols', \n",
        "           trendline_color_override='darkblue')\n",
        "\n",
        "fig.update_xaxes(rangeslider_visible = True)\n",
        "fig.show()"
      ],
      "execution_count": 57,
      "outputs": [
        {
          "output_type": "display_data",
          "data": {
            "text/html": [
              "<html>\n",
              "<head><meta charset=\"utf-8\" /></head>\n",
              "<body>\n",
              "    <div>\n",
              "            <script src=\"https://cdnjs.cloudflare.com/ajax/libs/mathjax/2.7.5/MathJax.js?config=TeX-AMS-MML_SVG\"></script><script type=\"text/javascript\">if (window.MathJax) {MathJax.Hub.Config({SVG: {font: \"STIX-Web\"}});}</script>\n",
              "                <script type=\"text/javascript\">window.PlotlyConfig = {MathJaxConfig: 'local'};</script>\n",
              "        <script src=\"https://cdn.plot.ly/plotly-latest.min.js\"></script>    \n",
              "            <div id=\"7f29e9f8-5a20-4f26-9be0-9b0c65ed284b\" class=\"plotly-graph-div\" style=\"height:525px; width:100%;\"></div>\n",
              "            <script type=\"text/javascript\">\n",
              "                \n",
              "                    window.PLOTLYENV=window.PLOTLYENV || {};\n",
              "                    \n",
              "                if (document.getElementById(\"7f29e9f8-5a20-4f26-9be0-9b0c65ed284b\")) {\n",
              "                    Plotly.newPlot(\n",
              "                        '7f29e9f8-5a20-4f26-9be0-9b0c65ed284b',\n",
              "                        [{\"hoverlabel\": {\"namelength\": 0}, \"hovertemplate\": \"date=%{x}<br>extent=%{y}\", \"legendgroup\": \"\", \"marker\": {\"color\": \"#636efa\", \"opacity\": 0.65, \"symbol\": \"circle\"}, \"mode\": \"markers\", \"name\": \"\", \"showlegend\": false, \"type\": \"scatter\", \"x\": [\"1979-01-01T00:00:00\", \"1980-01-01T00:00:00\", \"1981-01-01T00:00:00\", \"1982-01-01T00:00:00\", \"1983-01-01T00:00:00\", \"1984-01-01T00:00:00\", \"1985-01-01T00:00:00\", \"1986-01-01T00:00:00\", \"1987-01-01T00:00:00\", \"1989-01-01T00:00:00\", \"1990-01-01T00:00:00\", \"1991-01-01T00:00:00\", \"1992-01-01T00:00:00\", \"1993-01-01T00:00:00\", \"1994-01-01T00:00:00\", \"1995-01-01T00:00:00\", \"1996-01-01T00:00:00\", \"1997-01-01T00:00:00\", \"1998-01-01T00:00:00\", \"1999-01-01T00:00:00\", \"2000-01-01T00:00:00\", \"2001-01-01T00:00:00\", \"2002-01-01T00:00:00\", \"2003-01-01T00:00:00\", \"2004-01-01T00:00:00\", \"2005-01-01T00:00:00\", \"2006-01-01T00:00:00\", \"2007-01-01T00:00:00\", \"2008-01-01T00:00:00\", \"2009-01-01T00:00:00\", \"2010-01-01T00:00:00\", \"2011-01-01T00:00:00\", \"2012-01-01T00:00:00\", \"2013-01-01T00:00:00\", \"2014-01-01T00:00:00\", \"1979-02-01T00:00:00\", \"1980-02-01T00:00:00\", \"1981-02-01T00:00:00\", \"1982-02-01T00:00:00\", \"1983-02-01T00:00:00\", \"1984-02-01T00:00:00\", \"1985-02-01T00:00:00\", \"1986-02-01T00:00:00\", \"1987-02-01T00:00:00\", \"1988-02-01T00:00:00\", \"1989-02-01T00:00:00\", \"1990-02-01T00:00:00\", \"1991-02-01T00:00:00\", \"1992-02-01T00:00:00\", \"1993-02-01T00:00:00\", \"1994-02-01T00:00:00\", \"1995-02-01T00:00:00\", \"1996-02-01T00:00:00\", \"1997-02-01T00:00:00\", \"1998-02-01T00:00:00\", \"1999-02-01T00:00:00\", \"2000-02-01T00:00:00\", \"2001-02-01T00:00:00\", \"2002-02-01T00:00:00\", \"2003-02-01T00:00:00\", \"2004-02-01T00:00:00\", \"2005-02-01T00:00:00\", \"2006-02-01T00:00:00\", \"2007-02-01T00:00:00\", \"2008-02-01T00:00:00\", \"2009-02-01T00:00:00\", \"2010-02-01T00:00:00\", \"2011-02-01T00:00:00\", \"2012-02-01T00:00:00\", \"2013-02-01T00:00:00\", \"2014-02-01T00:00:00\", \"1979-03-01T00:00:00\", \"1980-03-01T00:00:00\", \"1981-03-01T00:00:00\", \"1982-03-01T00:00:00\", \"1983-03-01T00:00:00\", \"1984-03-01T00:00:00\", \"1985-03-01T00:00:00\", \"1986-03-01T00:00:00\", \"1987-03-01T00:00:00\", \"1988-03-01T00:00:00\", \"1989-03-01T00:00:00\", \"1990-03-01T00:00:00\", \"1991-03-01T00:00:00\", \"1992-03-01T00:00:00\", \"1993-03-01T00:00:00\", \"1994-03-01T00:00:00\", \"1995-03-01T00:00:00\", \"1996-03-01T00:00:00\", \"1997-03-01T00:00:00\", \"1998-03-01T00:00:00\", \"1999-03-01T00:00:00\", \"2000-03-01T00:00:00\", \"2001-03-01T00:00:00\", \"2002-03-01T00:00:00\", \"2003-03-01T00:00:00\", \"2004-03-01T00:00:00\", \"2005-03-01T00:00:00\", \"2006-03-01T00:00:00\", \"2007-03-01T00:00:00\", \"2008-03-01T00:00:00\", \"2009-03-01T00:00:00\", \"2010-03-01T00:00:00\", \"2011-03-01T00:00:00\", \"2012-03-01T00:00:00\", \"2013-03-01T00:00:00\", \"1979-04-01T00:00:00\", \"1980-04-01T00:00:00\", \"1981-04-01T00:00:00\", \"1982-04-01T00:00:00\", \"1983-04-01T00:00:00\", \"1984-04-01T00:00:00\", \"1985-04-01T00:00:00\", \"1986-04-01T00:00:00\", \"1987-04-01T00:00:00\", \"1988-04-01T00:00:00\", \"1989-04-01T00:00:00\", \"1990-04-01T00:00:00\", \"1991-04-01T00:00:00\", \"1992-04-01T00:00:00\", \"1993-04-01T00:00:00\", \"1994-04-01T00:00:00\", \"1995-04-01T00:00:00\", \"1996-04-01T00:00:00\", \"1997-04-01T00:00:00\", \"1998-04-01T00:00:00\", \"1999-04-01T00:00:00\", \"2000-04-01T00:00:00\", \"2001-04-01T00:00:00\", \"2002-04-01T00:00:00\", \"2003-04-01T00:00:00\", \"2004-04-01T00:00:00\", \"2005-04-01T00:00:00\", \"2006-04-01T00:00:00\", \"2007-04-01T00:00:00\", \"2008-04-01T00:00:00\", \"2009-04-01T00:00:00\", \"2010-04-01T00:00:00\", \"2011-04-01T00:00:00\", \"2012-04-01T00:00:00\", \"2013-04-01T00:00:00\", \"1979-05-01T00:00:00\", \"1980-05-01T00:00:00\", \"1981-05-01T00:00:00\", \"1982-05-01T00:00:00\", \"1983-05-01T00:00:00\", \"1984-05-01T00:00:00\", \"1985-05-01T00:00:00\", \"1986-05-01T00:00:00\", \"1987-05-01T00:00:00\", \"1988-05-01T00:00:00\", \"1989-05-01T00:00:00\", \"1990-05-01T00:00:00\", \"1991-05-01T00:00:00\", \"1992-05-01T00:00:00\", \"1993-05-01T00:00:00\", \"1994-05-01T00:00:00\", \"1995-05-01T00:00:00\", \"1996-05-01T00:00:00\", \"1997-05-01T00:00:00\", \"1998-05-01T00:00:00\", \"1999-05-01T00:00:00\", \"2000-05-01T00:00:00\", \"2001-05-01T00:00:00\", \"2002-05-01T00:00:00\", \"2003-05-01T00:00:00\", \"2004-05-01T00:00:00\", \"2005-05-01T00:00:00\", \"2006-05-01T00:00:00\", \"2007-05-01T00:00:00\", \"2008-05-01T00:00:00\", \"2009-05-01T00:00:00\", \"2010-05-01T00:00:00\", \"2011-05-01T00:00:00\", \"2012-05-01T00:00:00\", \"2013-05-01T00:00:00\", \"1979-06-01T00:00:00\", \"1980-06-01T00:00:00\", \"1981-06-01T00:00:00\", \"1982-06-01T00:00:00\", \"1983-06-01T00:00:00\", \"1984-06-01T00:00:00\", \"1985-06-01T00:00:00\", \"1986-06-01T00:00:00\", \"1987-06-01T00:00:00\", \"1988-06-01T00:00:00\", \"1989-06-01T00:00:00\", \"1990-06-01T00:00:00\", \"1991-06-01T00:00:00\", \"1992-06-01T00:00:00\", \"1993-06-01T00:00:00\", \"1994-06-01T00:00:00\", \"1995-06-01T00:00:00\", \"1996-06-01T00:00:00\", \"1997-06-01T00:00:00\", \"1998-06-01T00:00:00\", \"1999-06-01T00:00:00\", \"2000-06-01T00:00:00\", \"2001-06-01T00:00:00\", \"2002-06-01T00:00:00\", \"2003-06-01T00:00:00\", \"2004-06-01T00:00:00\", \"2005-06-01T00:00:00\", \"2006-06-01T00:00:00\", \"2007-06-01T00:00:00\", \"2008-06-01T00:00:00\", \"2009-06-01T00:00:00\", \"2010-06-01T00:00:00\", \"2011-06-01T00:00:00\", \"2012-06-01T00:00:00\", \"2013-06-01T00:00:00\", \"1979-07-01T00:00:00\", \"1980-07-01T00:00:00\", \"1981-07-01T00:00:00\", \"1982-07-01T00:00:00\", \"1983-07-01T00:00:00\", \"1984-07-01T00:00:00\", \"1985-07-01T00:00:00\", \"1986-07-01T00:00:00\", \"1987-07-01T00:00:00\", \"1988-07-01T00:00:00\", \"1989-07-01T00:00:00\", \"1990-07-01T00:00:00\", \"1991-07-01T00:00:00\", \"1992-07-01T00:00:00\", \"1993-07-01T00:00:00\", \"1994-07-01T00:00:00\", \"1995-07-01T00:00:00\", \"1996-07-01T00:00:00\", \"1997-07-01T00:00:00\", \"1998-07-01T00:00:00\", \"1999-07-01T00:00:00\", \"2000-07-01T00:00:00\", \"2001-07-01T00:00:00\", \"2002-07-01T00:00:00\", \"2003-07-01T00:00:00\", \"2004-07-01T00:00:00\", \"2005-07-01T00:00:00\", \"2006-07-01T00:00:00\", \"2007-07-01T00:00:00\", \"2008-07-01T00:00:00\", \"2009-07-01T00:00:00\", \"2010-07-01T00:00:00\", \"2011-07-01T00:00:00\", \"2012-07-01T00:00:00\", \"2013-07-01T00:00:00\", \"1979-08-01T00:00:00\", \"1980-08-01T00:00:00\", \"1981-08-01T00:00:00\", \"1982-08-01T00:00:00\", \"1983-08-01T00:00:00\", \"1984-08-01T00:00:00\", \"1985-08-01T00:00:00\", \"1986-08-01T00:00:00\", \"1987-08-01T00:00:00\", \"1988-08-01T00:00:00\", \"1989-08-01T00:00:00\", \"1990-08-01T00:00:00\", \"1991-08-01T00:00:00\", \"1992-08-01T00:00:00\", \"1993-08-01T00:00:00\", \"1994-08-01T00:00:00\", \"1995-08-01T00:00:00\", \"1996-08-01T00:00:00\", \"1997-08-01T00:00:00\", \"1998-08-01T00:00:00\", \"1999-08-01T00:00:00\", \"2000-08-01T00:00:00\", \"2001-08-01T00:00:00\", \"2002-08-01T00:00:00\", \"2003-08-01T00:00:00\", \"2004-08-01T00:00:00\", \"2005-08-01T00:00:00\", \"2006-08-01T00:00:00\", \"2007-08-01T00:00:00\", \"2008-08-01T00:00:00\", \"2009-08-01T00:00:00\", \"2010-08-01T00:00:00\", \"2011-08-01T00:00:00\", \"2012-08-01T00:00:00\", \"2013-08-01T00:00:00\", \"1979-09-01T00:00:00\", \"1980-09-01T00:00:00\", \"1981-09-01T00:00:00\", \"1982-09-01T00:00:00\", \"1983-09-01T00:00:00\", \"1984-09-01T00:00:00\", \"1985-09-01T00:00:00\", \"1986-09-01T00:00:00\", \"1987-09-01T00:00:00\", \"1988-09-01T00:00:00\", \"1989-09-01T00:00:00\", \"1990-09-01T00:00:00\", \"1991-09-01T00:00:00\", \"1992-09-01T00:00:00\", \"1993-09-01T00:00:00\", \"1994-09-01T00:00:00\", \"1995-09-01T00:00:00\", \"1996-09-01T00:00:00\", \"1997-09-01T00:00:00\", \"1998-09-01T00:00:00\", \"1999-09-01T00:00:00\", \"2000-09-01T00:00:00\", \"2001-09-01T00:00:00\", \"2002-09-01T00:00:00\", \"2003-09-01T00:00:00\", \"2004-09-01T00:00:00\", \"2005-09-01T00:00:00\", \"2006-09-01T00:00:00\", \"2007-09-01T00:00:00\", \"2008-09-01T00:00:00\", \"2009-09-01T00:00:00\", \"2010-09-01T00:00:00\", \"2011-09-01T00:00:00\", \"2012-09-01T00:00:00\", \"2013-09-01T00:00:00\", \"1979-10-01T00:00:00\", \"1980-10-01T00:00:00\", \"1981-10-01T00:00:00\", \"1982-10-01T00:00:00\", \"1983-10-01T00:00:00\", \"1984-10-01T00:00:00\", \"1985-10-01T00:00:00\", \"1986-10-01T00:00:00\", \"1987-10-01T00:00:00\", \"1988-10-01T00:00:00\", \"1989-10-01T00:00:00\", \"1990-10-01T00:00:00\", \"1991-10-01T00:00:00\", \"1992-10-01T00:00:00\", \"1993-10-01T00:00:00\", \"1994-10-01T00:00:00\", \"1995-10-01T00:00:00\", \"1996-10-01T00:00:00\", \"1997-10-01T00:00:00\", \"1998-10-01T00:00:00\", \"1999-10-01T00:00:00\", \"2000-10-01T00:00:00\", \"2001-10-01T00:00:00\", \"2002-10-01T00:00:00\", \"2003-10-01T00:00:00\", \"2004-10-01T00:00:00\", \"2005-10-01T00:00:00\", \"2006-10-01T00:00:00\", \"2007-10-01T00:00:00\", \"2008-10-01T00:00:00\", \"2009-10-01T00:00:00\", \"2010-10-01T00:00:00\", \"2011-10-01T00:00:00\", \"2012-10-01T00:00:00\", \"2013-10-01T00:00:00\", \"1978-11-01T00:00:00\", \"1979-11-01T00:00:00\", \"1980-11-01T00:00:00\", \"1981-11-01T00:00:00\", \"1982-11-01T00:00:00\", \"1983-11-01T00:00:00\", \"1984-11-01T00:00:00\", \"1985-11-01T00:00:00\", \"1986-11-01T00:00:00\", \"1987-11-01T00:00:00\", \"1988-11-01T00:00:00\", \"1989-11-01T00:00:00\", \"1990-11-01T00:00:00\", \"1991-11-01T00:00:00\", \"1992-11-01T00:00:00\", \"1993-11-01T00:00:00\", \"1994-11-01T00:00:00\", \"1995-11-01T00:00:00\", \"1996-11-01T00:00:00\", \"1997-11-01T00:00:00\", \"1998-11-01T00:00:00\", \"1999-11-01T00:00:00\", \"2000-11-01T00:00:00\", \"2001-11-01T00:00:00\", \"2002-11-01T00:00:00\", \"2003-11-01T00:00:00\", \"2004-11-01T00:00:00\", \"2005-11-01T00:00:00\", \"2006-11-01T00:00:00\", \"2007-11-01T00:00:00\", \"2008-11-01T00:00:00\", \"2009-11-01T00:00:00\", \"2010-11-01T00:00:00\", \"2011-11-01T00:00:00\", \"2012-11-01T00:00:00\", \"2013-11-01T00:00:00\", \"1978-12-01T00:00:00\", \"1979-12-01T00:00:00\", \"1980-12-01T00:00:00\", \"1981-12-01T00:00:00\", \"1982-12-01T00:00:00\", \"1983-12-01T00:00:00\", \"1984-12-01T00:00:00\", \"1985-12-01T00:00:00\", \"1986-12-01T00:00:00\", \"1988-12-01T00:00:00\", \"1989-12-01T00:00:00\", \"1990-12-01T00:00:00\", \"1991-12-01T00:00:00\", \"1992-12-01T00:00:00\", \"1993-12-01T00:00:00\", \"1994-12-01T00:00:00\", \"1995-12-01T00:00:00\", \"1996-12-01T00:00:00\", \"1997-12-01T00:00:00\", \"1998-12-01T00:00:00\", \"1999-12-01T00:00:00\", \"2000-12-01T00:00:00\", \"2001-12-01T00:00:00\", \"2002-12-01T00:00:00\", \"2003-12-01T00:00:00\", \"2004-12-01T00:00:00\", \"2005-12-01T00:00:00\", \"2006-12-01T00:00:00\", \"2007-12-01T00:00:00\", \"2008-12-01T00:00:00\", \"2009-12-01T00:00:00\", \"2010-12-01T00:00:00\", \"2011-12-01T00:00:00\", \"2012-12-01T00:00:00\", \"2013-12-01T00:00:00\"], \"xaxis\": \"x\", \"y\": [15.54, 14.96, 15.03, 15.26, 15.1, 14.61, 14.86, 15.02, 15.2, 15.12, 14.95, 14.46, 14.72, 15.08, 14.82, 14.62, 14.21, 14.47, 14.81, 14.47, 14.41, 14.31, 14.45, 14.46, 14.03, 13.66, 13.6, 13.77, 14.05, 14.08, 13.8, 13.57, 13.77, 13.78, 13.73, 16.31, 15.98, 15.65, 16.06, 16.02, 15.32, 15.67, 15.89, 16.11, 15.61, 15.56, 15.56, 15.26, 15.5, 15.73, 15.61, 15.24, 15.17, 15.52, 15.77, 15.37, 15.18, 15.27, 15.36, 15.25, 14.93, 14.36, 14.42, 14.53, 15.01, 14.85, 14.59, 14.38, 14.59, 14.69, 14.44, 16.45, 16.13, 15.61, 16.15, 16.1, 15.62, 16.06, 16.08, 15.95, 16.13, 15.52, 15.88, 15.5, 15.47, 15.88, 15.58, 15.32, 15.13, 15.58, 15.66, 15.4, 15.27, 15.61, 15.44, 15.49, 15.05, 14.74, 14.43, 14.65, 15.22, 15.14, 15.11, 14.58, 15.24, 15.04, 15.46, 15.49, 15.12, 15.57, 15.3, 15.15, 15.34, 15.15, 15.33, 15.21, 14.44, 14.68, 14.93, 14.7, 15.18, 14.95, 14.59, 14.22, 14.59, 14.89, 15.13, 14.63, 14.86, 14.37, 14.57, 14.11, 14.07, 13.97, 13.87, 14.42, 14.57, 14.7, 14.16, 14.72, 14.37, 14.06, 14.04, 13.9, 14.17, 13.54, 13.68, 14.23, 13.52, 13.81, 13.69, 12.98, 13.3, 13.51, 13.25, 13.54, 13.73, 13.04, 13.06, 13.32, 13.8, 13.86, 13.18, 13.72, 13.12, 13.0, 12.58, 12.99, 12.62, 12.89, 13.19, 13.4, 13.11, 12.81, 13.12, 13.1, 12.59, 12.31, 12.57, 12.69, 12.36, 12.2, 12.4, 12.1, 12.57, 12.02, 12.31, 11.68, 12.23, 12.13, 11.99, 12.1, 11.55, 12.1, 11.91, 11.85, 12.1, 11.71, 11.69, 11.69, 11.77, 11.51, 11.29, 11.06, 11.49, 11.36, 11.46, 10.82, 10.99, 10.92, 11.58, 10.47, 10.39, 10.62, 10.75, 10.91, 10.15, 10.09, 10.47, 9.98, 10.04, 10.38, 9.62, 9.68, 10.61, 9.66, 10.22, 9.15, 10.36, 9.59, 9.62, 9.59, 9.75, 9.22, 9.49, 9.46, 9.6, 8.93, 8.67, 8.13, 8.99, 8.8, 8.36, 7.91, 7.93, 8.45, 8.15, 8.04, 7.86, 8.26, 8.36, 7.87, 7.46, 8.01, 7.69, 7.9, 7.92, 6.82, 7.4, 7.86, 7.29, 7.61, 6.68, 8.17, 7.3, 7.49, 7.38, 7.21, 7.47, 6.53, 6.85, 6.83, 6.3, 6.52, 5.36, 6.05, 6.28, 6.01, 5.55, 4.71, 6.09, 7.2, 7.85, 7.25, 7.45, 7.52, 7.17, 6.93, 7.54, 7.48, 7.49, 7.04, 6.24, 6.55, 7.55, 6.5, 7.18, 6.13, 7.88, 6.74, 6.56, 6.24, 6.32, 6.75, 5.96, 6.15, 6.05, 5.57, 5.92, 4.3, 4.73, 5.39, 4.93, 4.63, 3.63, 5.35, 9.39, 9.46, 9.19, 9.98, 9.64, 8.84, 8.88, 9.89, 9.29, 9.47, 9.52, 9.35, 9.16, 9.6, 9.18, 9.48, 8.94, 9.39, 8.76, 8.85, 9.1, 8.92, 8.59, 8.81, 8.65, 8.48, 8.45, 8.33, 6.77, 8.42, 7.52, 7.71, 7.14, 7.07, 8.1, 12.01, 11.16, 11.69, 11.17, 11.91, 11.64, 11.29, 11.39, 11.78, 11.52, 11.69, 11.5, 11.31, 11.12, 11.87, 11.73, 11.3, 10.97, 10.56, 10.91, 10.75, 10.99, 10.54, 10.92, 10.78, 10.29, 10.65, 10.47, 9.84, 10.05, 10.62, 10.27, 9.88, 10.0, 9.92, 10.24, 14.12, 13.54, 13.72, 13.74, 13.83, 13.44, 13.18, 13.19, 13.4, 13.78, 13.47, 13.27, 13.17, 13.46, 13.52, 13.53, 12.98, 13.14, 13.29, 13.26, 12.88, 12.81, 12.84, 12.82, 12.82, 12.72, 12.47, 12.27, 12.39, 12.52, 12.51, 12.02, 12.4, 12.2, 12.38], \"yaxis\": \"y\"}, {\"hoverlabel\": {\"namelength\": 0}, \"hovertemplate\": \"<b>OLS trendline</b><br>extent = -0.000000 * date + 13.253422<br>R<sup>2</sup>=0.033269<br><br>date=%{x}<br>extent=%{y} <b>(trend)</b>\", \"legendgroup\": \"\", \"line\": {\"color\": \"darkblue\"}, \"marker\": {\"color\": \"#636efa\", \"symbol\": \"circle\"}, \"mode\": \"lines\", \"name\": \"\", \"showlegend\": false, \"type\": \"scatter\", \"x\": [\"1978-11-01T00:00:00\", \"1978-12-01T00:00:00\", \"1979-01-01T00:00:00\", \"1979-02-01T00:00:00\", \"1979-03-01T00:00:00\", \"1979-04-01T00:00:00\", \"1979-05-01T00:00:00\", \"1979-06-01T00:00:00\", \"1979-07-01T00:00:00\", \"1979-08-01T00:00:00\", \"1979-09-01T00:00:00\", \"1979-10-01T00:00:00\", \"1979-11-01T00:00:00\", \"1979-12-01T00:00:00\", \"1980-01-01T00:00:00\", \"1980-02-01T00:00:00\", \"1980-03-01T00:00:00\", \"1980-04-01T00:00:00\", \"1980-05-01T00:00:00\", \"1980-06-01T00:00:00\", \"1980-07-01T00:00:00\", \"1980-08-01T00:00:00\", \"1980-09-01T00:00:00\", \"1980-10-01T00:00:00\", \"1980-11-01T00:00:00\", \"1980-12-01T00:00:00\", \"1981-01-01T00:00:00\", \"1981-02-01T00:00:00\", \"1981-03-01T00:00:00\", \"1981-04-01T00:00:00\", \"1981-05-01T00:00:00\", \"1981-06-01T00:00:00\", \"1981-07-01T00:00:00\", \"1981-08-01T00:00:00\", \"1981-09-01T00:00:00\", \"1981-10-01T00:00:00\", \"1981-11-01T00:00:00\", \"1981-12-01T00:00:00\", \"1982-01-01T00:00:00\", \"1982-02-01T00:00:00\", \"1982-03-01T00:00:00\", \"1982-04-01T00:00:00\", \"1982-05-01T00:00:00\", \"1982-06-01T00:00:00\", \"1982-07-01T00:00:00\", \"1982-08-01T00:00:00\", \"1982-09-01T00:00:00\", \"1982-10-01T00:00:00\", \"1982-11-01T00:00:00\", \"1982-12-01T00:00:00\", \"1983-01-01T00:00:00\", \"1983-02-01T00:00:00\", \"1983-03-01T00:00:00\", \"1983-04-01T00:00:00\", \"1983-05-01T00:00:00\", \"1983-06-01T00:00:00\", \"1983-07-01T00:00:00\", \"1983-08-01T00:00:00\", \"1983-09-01T00:00:00\", \"1983-10-01T00:00:00\", \"1983-11-01T00:00:00\", \"1983-12-01T00:00:00\", \"1984-01-01T00:00:00\", \"1984-02-01T00:00:00\", \"1984-03-01T00:00:00\", \"1984-04-01T00:00:00\", \"1984-05-01T00:00:00\", \"1984-06-01T00:00:00\", \"1984-07-01T00:00:00\", \"1984-08-01T00:00:00\", \"1984-09-01T00:00:00\", \"1984-10-01T00:00:00\", \"1984-11-01T00:00:00\", \"1984-12-01T00:00:00\", \"1985-01-01T00:00:00\", \"1985-02-01T00:00:00\", \"1985-03-01T00:00:00\", \"1985-04-01T00:00:00\", \"1985-05-01T00:00:00\", \"1985-06-01T00:00:00\", \"1985-07-01T00:00:00\", \"1985-08-01T00:00:00\", \"1985-09-01T00:00:00\", \"1985-10-01T00:00:00\", \"1985-11-01T00:00:00\", \"1985-12-01T00:00:00\", \"1986-01-01T00:00:00\", \"1986-02-01T00:00:00\", \"1986-03-01T00:00:00\", \"1986-04-01T00:00:00\", \"1986-05-01T00:00:00\", \"1986-06-01T00:00:00\", \"1986-07-01T00:00:00\", \"1986-08-01T00:00:00\", \"1986-09-01T00:00:00\", \"1986-10-01T00:00:00\", \"1986-11-01T00:00:00\", \"1986-12-01T00:00:00\", \"1987-01-01T00:00:00\", \"1987-02-01T00:00:00\", \"1987-03-01T00:00:00\", \"1987-04-01T00:00:00\", \"1987-05-01T00:00:00\", \"1987-06-01T00:00:00\", \"1987-07-01T00:00:00\", \"1987-08-01T00:00:00\", \"1987-09-01T00:00:00\", \"1987-10-01T00:00:00\", \"1987-11-01T00:00:00\", \"1988-02-01T00:00:00\", \"1988-03-01T00:00:00\", \"1988-04-01T00:00:00\", \"1988-05-01T00:00:00\", \"1988-06-01T00:00:00\", \"1988-07-01T00:00:00\", \"1988-08-01T00:00:00\", \"1988-09-01T00:00:00\", \"1988-10-01T00:00:00\", \"1988-11-01T00:00:00\", \"1988-12-01T00:00:00\", \"1989-01-01T00:00:00\", \"1989-02-01T00:00:00\", \"1989-03-01T00:00:00\", \"1989-04-01T00:00:00\", \"1989-05-01T00:00:00\", \"1989-06-01T00:00:00\", \"1989-07-01T00:00:00\", \"1989-08-01T00:00:00\", \"1989-09-01T00:00:00\", \"1989-10-01T00:00:00\", \"1989-11-01T00:00:00\", \"1989-12-01T00:00:00\", \"1990-01-01T00:00:00\", \"1990-02-01T00:00:00\", \"1990-03-01T00:00:00\", \"1990-04-01T00:00:00\", \"1990-05-01T00:00:00\", \"1990-06-01T00:00:00\", \"1990-07-01T00:00:00\", \"1990-08-01T00:00:00\", \"1990-09-01T00:00:00\", \"1990-10-01T00:00:00\", \"1990-11-01T00:00:00\", \"1990-12-01T00:00:00\", \"1991-01-01T00:00:00\", \"1991-02-01T00:00:00\", \"1991-03-01T00:00:00\", \"1991-04-01T00:00:00\", \"1991-05-01T00:00:00\", \"1991-06-01T00:00:00\", \"1991-07-01T00:00:00\", \"1991-08-01T00:00:00\", \"1991-09-01T00:00:00\", \"1991-10-01T00:00:00\", \"1991-11-01T00:00:00\", \"1991-12-01T00:00:00\", \"1992-01-01T00:00:00\", \"1992-02-01T00:00:00\", \"1992-03-01T00:00:00\", \"1992-04-01T00:00:00\", \"1992-05-01T00:00:00\", \"1992-06-01T00:00:00\", \"1992-07-01T00:00:00\", \"1992-08-01T00:00:00\", \"1992-09-01T00:00:00\", \"1992-10-01T00:00:00\", \"1992-11-01T00:00:00\", \"1992-12-01T00:00:00\", \"1993-01-01T00:00:00\", \"1993-02-01T00:00:00\", \"1993-03-01T00:00:00\", \"1993-04-01T00:00:00\", \"1993-05-01T00:00:00\", \"1993-06-01T00:00:00\", \"1993-07-01T00:00:00\", \"1993-08-01T00:00:00\", \"1993-09-01T00:00:00\", \"1993-10-01T00:00:00\", \"1993-11-01T00:00:00\", \"1993-12-01T00:00:00\", \"1994-01-01T00:00:00\", \"1994-02-01T00:00:00\", \"1994-03-01T00:00:00\", \"1994-04-01T00:00:00\", \"1994-05-01T00:00:00\", \"1994-06-01T00:00:00\", \"1994-07-01T00:00:00\", \"1994-08-01T00:00:00\", \"1994-09-01T00:00:00\", \"1994-10-01T00:00:00\", \"1994-11-01T00:00:00\", \"1994-12-01T00:00:00\", \"1995-01-01T00:00:00\", \"1995-02-01T00:00:00\", \"1995-03-01T00:00:00\", \"1995-04-01T00:00:00\", \"1995-05-01T00:00:00\", \"1995-06-01T00:00:00\", \"1995-07-01T00:00:00\", \"1995-08-01T00:00:00\", \"1995-09-01T00:00:00\", \"1995-10-01T00:00:00\", \"1995-11-01T00:00:00\", \"1995-12-01T00:00:00\", \"1996-01-01T00:00:00\", \"1996-02-01T00:00:00\", \"1996-03-01T00:00:00\", \"1996-04-01T00:00:00\", \"1996-05-01T00:00:00\", \"1996-06-01T00:00:00\", \"1996-07-01T00:00:00\", \"1996-08-01T00:00:00\", \"1996-09-01T00:00:00\", \"1996-10-01T00:00:00\", \"1996-11-01T00:00:00\", \"1996-12-01T00:00:00\", \"1997-01-01T00:00:00\", \"1997-02-01T00:00:00\", \"1997-03-01T00:00:00\", \"1997-04-01T00:00:00\", \"1997-05-01T00:00:00\", \"1997-06-01T00:00:00\", \"1997-07-01T00:00:00\", \"1997-08-01T00:00:00\", \"1997-09-01T00:00:00\", \"1997-10-01T00:00:00\", \"1997-11-01T00:00:00\", \"1997-12-01T00:00:00\", \"1998-01-01T00:00:00\", \"1998-02-01T00:00:00\", \"1998-03-01T00:00:00\", \"1998-04-01T00:00:00\", \"1998-05-01T00:00:00\", \"1998-06-01T00:00:00\", \"1998-07-01T00:00:00\", \"1998-08-01T00:00:00\", \"1998-09-01T00:00:00\", \"1998-10-01T00:00:00\", \"1998-11-01T00:00:00\", \"1998-12-01T00:00:00\", \"1999-01-01T00:00:00\", \"1999-02-01T00:00:00\", \"1999-03-01T00:00:00\", \"1999-04-01T00:00:00\", \"1999-05-01T00:00:00\", \"1999-06-01T00:00:00\", \"1999-07-01T00:00:00\", \"1999-08-01T00:00:00\", \"1999-09-01T00:00:00\", \"1999-10-01T00:00:00\", \"1999-11-01T00:00:00\", \"1999-12-01T00:00:00\", \"2000-01-01T00:00:00\", \"2000-02-01T00:00:00\", \"2000-03-01T00:00:00\", \"2000-04-01T00:00:00\", \"2000-05-01T00:00:00\", \"2000-06-01T00:00:00\", \"2000-07-01T00:00:00\", \"2000-08-01T00:00:00\", \"2000-09-01T00:00:00\", \"2000-10-01T00:00:00\", \"2000-11-01T00:00:00\", \"2000-12-01T00:00:00\", \"2001-01-01T00:00:00\", \"2001-02-01T00:00:00\", \"2001-03-01T00:00:00\", \"2001-04-01T00:00:00\", \"2001-05-01T00:00:00\", \"2001-06-01T00:00:00\", \"2001-07-01T00:00:00\", \"2001-08-01T00:00:00\", \"2001-09-01T00:00:00\", \"2001-10-01T00:00:00\", \"2001-11-01T00:00:00\", \"2001-12-01T00:00:00\", \"2002-01-01T00:00:00\", \"2002-02-01T00:00:00\", \"2002-03-01T00:00:00\", \"2002-04-01T00:00:00\", \"2002-05-01T00:00:00\", \"2002-06-01T00:00:00\", \"2002-07-01T00:00:00\", \"2002-08-01T00:00:00\", \"2002-09-01T00:00:00\", \"2002-10-01T00:00:00\", \"2002-11-01T00:00:00\", \"2002-12-01T00:00:00\", \"2003-01-01T00:00:00\", \"2003-02-01T00:00:00\", \"2003-03-01T00:00:00\", \"2003-04-01T00:00:00\", \"2003-05-01T00:00:00\", \"2003-06-01T00:00:00\", \"2003-07-01T00:00:00\", \"2003-08-01T00:00:00\", \"2003-09-01T00:00:00\", \"2003-10-01T00:00:00\", \"2003-11-01T00:00:00\", \"2003-12-01T00:00:00\", \"2004-01-01T00:00:00\", \"2004-02-01T00:00:00\", \"2004-03-01T00:00:00\", \"2004-04-01T00:00:00\", \"2004-05-01T00:00:00\", \"2004-06-01T00:00:00\", \"2004-07-01T00:00:00\", \"2004-08-01T00:00:00\", \"2004-09-01T00:00:00\", \"2004-10-01T00:00:00\", \"2004-11-01T00:00:00\", \"2004-12-01T00:00:00\", \"2005-01-01T00:00:00\", \"2005-02-01T00:00:00\", \"2005-03-01T00:00:00\", \"2005-04-01T00:00:00\", \"2005-05-01T00:00:00\", \"2005-06-01T00:00:00\", \"2005-07-01T00:00:00\", \"2005-08-01T00:00:00\", \"2005-09-01T00:00:00\", \"2005-10-01T00:00:00\", \"2005-11-01T00:00:00\", \"2005-12-01T00:00:00\", \"2006-01-01T00:00:00\", \"2006-02-01T00:00:00\", \"2006-03-01T00:00:00\", \"2006-04-01T00:00:00\", \"2006-05-01T00:00:00\", \"2006-06-01T00:00:00\", \"2006-07-01T00:00:00\", \"2006-08-01T00:00:00\", \"2006-09-01T00:00:00\", \"2006-10-01T00:00:00\", \"2006-11-01T00:00:00\", \"2006-12-01T00:00:00\", \"2007-01-01T00:00:00\", \"2007-02-01T00:00:00\", \"2007-03-01T00:00:00\", \"2007-04-01T00:00:00\", \"2007-05-01T00:00:00\", \"2007-06-01T00:00:00\", \"2007-07-01T00:00:00\", \"2007-08-01T00:00:00\", \"2007-09-01T00:00:00\", \"2007-10-01T00:00:00\", \"2007-11-01T00:00:00\", \"2007-12-01T00:00:00\", \"2008-01-01T00:00:00\", \"2008-02-01T00:00:00\", \"2008-03-01T00:00:00\", \"2008-04-01T00:00:00\", \"2008-05-01T00:00:00\", \"2008-06-01T00:00:00\", \"2008-07-01T00:00:00\", \"2008-08-01T00:00:00\", \"2008-09-01T00:00:00\", \"2008-10-01T00:00:00\", \"2008-11-01T00:00:00\", \"2008-12-01T00:00:00\", \"2009-01-01T00:00:00\", \"2009-02-01T00:00:00\", \"2009-03-01T00:00:00\", \"2009-04-01T00:00:00\", \"2009-05-01T00:00:00\", \"2009-06-01T00:00:00\", \"2009-07-01T00:00:00\", \"2009-08-01T00:00:00\", \"2009-09-01T00:00:00\", \"2009-10-01T00:00:00\", \"2009-11-01T00:00:00\", \"2009-12-01T00:00:00\", \"2010-01-01T00:00:00\", \"2010-02-01T00:00:00\", \"2010-03-01T00:00:00\", \"2010-04-01T00:00:00\", \"2010-05-01T00:00:00\", \"2010-06-01T00:00:00\", \"2010-07-01T00:00:00\", \"2010-08-01T00:00:00\", \"2010-09-01T00:00:00\", \"2010-10-01T00:00:00\", \"2010-11-01T00:00:00\", \"2010-12-01T00:00:00\", \"2011-01-01T00:00:00\", \"2011-02-01T00:00:00\", \"2011-03-01T00:00:00\", \"2011-04-01T00:00:00\", \"2011-05-01T00:00:00\", \"2011-06-01T00:00:00\", \"2011-07-01T00:00:00\", \"2011-08-01T00:00:00\", \"2011-09-01T00:00:00\", \"2011-10-01T00:00:00\", \"2011-11-01T00:00:00\", \"2011-12-01T00:00:00\", \"2012-01-01T00:00:00\", \"2012-02-01T00:00:00\", \"2012-03-01T00:00:00\", \"2012-04-01T00:00:00\", \"2012-05-01T00:00:00\", \"2012-06-01T00:00:00\", \"2012-07-01T00:00:00\", \"2012-08-01T00:00:00\", \"2012-09-01T00:00:00\", \"2012-10-01T00:00:00\", \"2012-11-01T00:00:00\", \"2012-12-01T00:00:00\", \"2013-01-01T00:00:00\", \"2013-02-01T00:00:00\", \"2013-03-01T00:00:00\", \"2013-04-01T00:00:00\", \"2013-05-01T00:00:00\", \"2013-06-01T00:00:00\", \"2013-07-01T00:00:00\", \"2013-08-01T00:00:00\", \"2013-09-01T00:00:00\", \"2013-10-01T00:00:00\", \"2013-11-01T00:00:00\", \"2013-12-01T00:00:00\", \"2014-01-01T00:00:00\", \"2014-02-01T00:00:00\"], \"xaxis\": \"x\", \"y\": [12.761465882590821, 12.756890963605798, 12.752163547321276, 12.747436131036752, 12.74316620665073, 12.738438790366207, 12.733863871381185, 12.729136455096661, 12.724561536111638, 12.719834119827116, 12.715106703542592, 12.710531784557569, 12.705804368273046, 12.701229449288023, 12.6965020330035, 12.691774616718977, 12.687352195033455, 12.68262477874893, 12.67804985976391, 12.673322443479385, 12.668747524494362, 12.66402010820984, 12.659292691925316, 12.654717772940293, 12.64999035665577, 12.645415437670747, 12.640688021386223, 12.635960605101701, 12.631690680715678, 12.626963264431156, 12.622388345446133, 12.617660929161609, 12.613086010176588, 12.608358593892063, 12.603631177607541, 12.599056258622518, 12.594328842337994, 12.589753923352971, 12.585026507068449, 12.580299090783924, 12.576029166397904, 12.571301750113381, 12.566726831128358, 12.561999414843834, 12.557424495858811, 12.552697079574289, 12.547969663289765, 12.543394744304742, 12.53866732802022, 12.534092409035196, 12.529364992750672, 12.52463757646615, 12.520367652080129, 12.515640235795605, 12.511065316810582, 12.50633790052606, 12.501762981541036, 12.497035565256512, 12.49230814897199, 12.487733229986967, 12.483005813702443, 12.478430894717421, 12.473703478432897, 12.468976062148373, 12.464553640462853, 12.459826224178329, 12.455251305193306, 12.450523888908783, 12.44594896992376, 12.441221553639236, 12.436494137354714, 12.431919218369691, 12.427191802085167, 12.422616883100144, 12.417889466815621, 12.413162050531097, 12.408892126145076, 12.404164709860552, 12.399589790875531, 12.394862374591007, 12.390287455605984, 12.385560039321462, 12.380832623036937, 12.376257704051914, 12.371530287767392, 12.366955368782369, 12.362227952497845, 12.357500536213323, 12.353230611827302, 12.348503195542778, 12.343928276557754, 12.339200860273232, 12.334625941288209, 12.329898525003685, 12.325171108719163, 12.32059618973414, 12.315868773449616, 12.311293854464594, 12.30656643818007, 12.301839021895546, 12.297569097509525, 12.292841681225003, 12.28826676223998, 12.283539345955456, 12.278964426970434, 12.27423701068591, 12.269509594401386, 12.264934675416365, 12.26020725913184, 12.246177507577771, 12.24175508589225, 12.237027669607727, 12.232452750622704, 12.22772533433818, 12.223150415353157, 12.218422999068634, 12.21369558278411, 12.209120663799087, 12.204393247514565, 12.199818328529542, 12.195090912245018, 12.190363495960495, 12.186093571574474, 12.18136615528995, 12.176791236304927, 12.172063820020405, 12.167488901035382, 12.162761484750858, 12.158034068466335, 12.153459149481312, 12.148731733196788, 12.144156814211767, 12.139429397927243, 12.134701981642719, 12.130432057256698, 12.125704640972176, 12.121129721987153, 12.116402305702628, 12.111827386717607, 12.107099970433083, 12.102372554148559, 12.097797635163538, 12.093070218879014, 12.08849529989399, 12.083767883609468, 12.079040467324944, 12.074770542938923, 12.070043126654399, 12.065468207669376, 12.060740791384854, 12.05616587239983, 12.051438456115308, 12.046711039830784, 12.042136120845761, 12.037408704561239, 12.032833785576216, 12.028106369291692, 12.02337895300717, 12.018956531321647, 12.014229115037123, 12.0096541960521, 12.004926779767578, 12.000351860782555, 11.99562444449803, 11.990897028213508, 11.986322109228485, 11.981594692943961, 11.97701977395894, 11.972292357674416, 11.967564941389892, 11.96329501700387, 11.958567600719348, 11.953992681734325, 11.949265265449801, 11.94469034646478, 11.939962930180256, 11.935235513895732, 11.93066059491071, 11.925933178626186, 11.921358259641163, 11.916630843356641, 11.911903427072117, 11.907633502686096, 11.902906086401572, 11.89833116741655, 11.893603751132027, 11.889028832147003, 11.884301415862481, 11.879573999577957, 11.874999080592934, 11.870271664308412, 11.865696745323389, 11.860969329038864, 11.856241912754342, 11.85197198836832, 11.847244572083797, 11.842669653098774, 11.837942236814252, 11.833367317829229, 11.828639901544705, 11.823912485260182, 11.81933756627516, 11.814610149990635, 11.810035231005614, 11.80530781472109, 11.800580398436566, 11.796157976751044, 11.791430560466521, 11.786855641481498, 11.782128225196974, 11.777553306211953, 11.772825889927429, 11.768098473642905, 11.763523554657883, 11.75879613837336, 11.754221219388336, 11.749493803103814, 11.74476638681929, 11.740496462433269, 11.735769046148745, 11.731194127163722, 11.7264667108792, 11.721891791894176, 11.717164375609654, 11.71243695932513, 11.707862040340107, 11.703134624055584, 11.698559705070561, 11.693832288786037, 11.689104872501515, 11.684834948115494, 11.68010753183097, 11.675532612845947, 11.670805196561425, 11.666230277576402, 11.661502861291877, 11.656775445007355, 11.652200526022332, 11.647473109737808, 11.642898190752785, 11.638170774468263, 11.633443358183738, 11.629173433797718, 11.624446017513193, 11.619871098528172, 11.615143682243648, 11.610568763258625, 11.605841346974103, 11.601113930689579, 11.596539011704555, 11.591811595420033, 11.58723667643501, 11.582509260150488, 11.577781843865964, 11.573359422180442, 11.568632005895918, 11.564057086910896, 11.559329670626372, 11.55475475164135, 11.550027335356827, 11.545299919072303, 11.54072500008728, 11.535997583802757, 11.531422664817734, 11.52669524853321, 11.521967832248688, 11.517697907862665, 11.512970491578143, 11.50839557259312, 11.503668156308596, 11.499093237323574, 11.49436582103905, 11.489638404754528, 11.485063485769505, 11.48033606948498, 11.47576115049996, 11.471033734215435, 11.466306317930911, 11.46203639354489, 11.457308977260368, 11.452734058275345, 11.44800664199082, 11.443431723005798, 11.438704306721275, 11.433976890436751, 11.429401971451728, 11.424674555167206, 11.420099636182183, 11.415372219897659, 11.410644803613136, 11.406374879227116, 11.401647462942591, 11.397072543957568, 11.392345127673046, 11.387770208688023, 11.383042792403499, 11.378315376118977, 11.373740457133954, 11.369013040849431, 11.364438121864408, 11.359710705579884, 11.354983289295362, 11.35056086760984, 11.345833451325316, 11.341258532340293, 11.33653111605577, 11.331956197070747, 11.327228780786223, 11.3225013645017, 11.317926445516678, 11.313199029232154, 11.30862411024713, 11.303896693962608, 11.299169277678084, 11.294899353292063, 11.290171937007539, 11.285597018022518, 11.280869601737994, 11.27629468275297, 11.271567266468448, 11.266839850183924, 11.262264931198901, 11.257537514914379, 11.252962595929356, 11.248235179644833, 11.24350776336031, 11.239237838974288, 11.234510422689764, 11.229935503704741, 11.225208087420219, 11.220633168435196, 11.215905752150672, 11.21117833586615, 11.206603416881126, 11.201876000596602, 11.197301081611581, 11.192573665327057, 11.187846249042533, 11.183576324656512, 11.17884890837199, 11.174273989386966, 11.169546573102444, 11.16497165411742, 11.160244237832897, 11.155516821548375, 11.150941902563352, 11.146214486278827, 11.141639567293804, 11.136912151009282, 11.132184734724758, 11.127762313039236, 11.123034896754714, 11.11845997776969, 11.113732561485167, 11.109157642500143, 11.104430226215621, 11.099702809931097, 11.095127890946074, 11.090400474661552, 11.085825555676529, 11.081098139392004, 11.076370723107482, 11.072100798721461, 11.067373382436937, 11.062798463451914, 11.058071047167392, 11.053496128182369, 11.048768711897846, 11.044041295613322, 11.0394663766283, 11.034738960343777, 11.030164041358754, 11.02543662507423, 11.020709208789707, 11.016439284403685, 11.011711868119162, 11.00713694913414, 11.002409532849615, 10.997834613864594, 10.99310719758007, 10.988379781295546, 10.983804862310524, 10.979077446026, 10.974502527040977, 10.969775110756455, 10.96504769447193, 10.96077777008591, 10.956050353801386, 10.951475434816363, 10.94674801853184, 10.942173099546817, 10.937445683262293, 10.932718266977771, 10.928143347992748, 10.923415931708226, 10.918841012723203, 10.914113596438678, 10.909386180154156, 10.904963758468634, 10.90023634218411, 10.895661423199087, 10.890934006914565, 10.886359087929542, 10.881631671645017, 10.876904255360495, 10.872329336375472, 10.867601920090948, 10.863027001105927, 10.858299584821403, 10.853572168536878, 10.849302244150858, 10.844574827866335, 10.839999908881312, 10.83527249259679, 10.830697573611765, 10.825970157327243, 10.82124274104272, 10.816667822057697, 10.811940405773173, 10.80736548678815, 10.802638070503628, 10.797910654219104], \"yaxis\": \"y\"}],\n",
              "                        {\"legend\": {\"tracegroupgap\": 0}, \"margin\": {\"t\": 60}, \"template\": {\"data\": {\"bar\": [{\"error_x\": {\"color\": \"#2a3f5f\"}, \"error_y\": {\"color\": \"#2a3f5f\"}, \"marker\": {\"line\": {\"color\": \"#E5ECF6\", \"width\": 0.5}}, \"type\": \"bar\"}], \"barpolar\": [{\"marker\": {\"line\": {\"color\": \"#E5ECF6\", \"width\": 0.5}}, \"type\": \"barpolar\"}], \"carpet\": [{\"aaxis\": {\"endlinecolor\": \"#2a3f5f\", \"gridcolor\": \"white\", \"linecolor\": \"white\", \"minorgridcolor\": \"white\", \"startlinecolor\": \"#2a3f5f\"}, \"baxis\": {\"endlinecolor\": \"#2a3f5f\", \"gridcolor\": \"white\", \"linecolor\": \"white\", \"minorgridcolor\": \"white\", \"startlinecolor\": \"#2a3f5f\"}, \"type\": \"carpet\"}], \"choropleth\": [{\"colorbar\": {\"outlinewidth\": 0, \"ticks\": \"\"}, \"type\": \"choropleth\"}], \"contour\": [{\"colorbar\": {\"outlinewidth\": 0, \"ticks\": \"\"}, \"colorscale\": [[0.0, \"#0d0887\"], [0.1111111111111111, \"#46039f\"], [0.2222222222222222, \"#7201a8\"], [0.3333333333333333, \"#9c179e\"], [0.4444444444444444, \"#bd3786\"], [0.5555555555555556, \"#d8576b\"], [0.6666666666666666, \"#ed7953\"], [0.7777777777777778, \"#fb9f3a\"], [0.8888888888888888, \"#fdca26\"], [1.0, \"#f0f921\"]], \"type\": \"contour\"}], \"contourcarpet\": [{\"colorbar\": {\"outlinewidth\": 0, \"ticks\": \"\"}, \"type\": \"contourcarpet\"}], \"heatmap\": [{\"colorbar\": {\"outlinewidth\": 0, \"ticks\": \"\"}, \"colorscale\": [[0.0, \"#0d0887\"], [0.1111111111111111, \"#46039f\"], [0.2222222222222222, \"#7201a8\"], [0.3333333333333333, \"#9c179e\"], [0.4444444444444444, \"#bd3786\"], [0.5555555555555556, \"#d8576b\"], [0.6666666666666666, \"#ed7953\"], [0.7777777777777778, \"#fb9f3a\"], [0.8888888888888888, \"#fdca26\"], [1.0, \"#f0f921\"]], \"type\": \"heatmap\"}], \"heatmapgl\": [{\"colorbar\": {\"outlinewidth\": 0, \"ticks\": \"\"}, \"colorscale\": [[0.0, \"#0d0887\"], [0.1111111111111111, \"#46039f\"], [0.2222222222222222, \"#7201a8\"], [0.3333333333333333, \"#9c179e\"], [0.4444444444444444, \"#bd3786\"], [0.5555555555555556, \"#d8576b\"], [0.6666666666666666, \"#ed7953\"], [0.7777777777777778, \"#fb9f3a\"], [0.8888888888888888, \"#fdca26\"], [1.0, \"#f0f921\"]], \"type\": \"heatmapgl\"}], \"histogram\": [{\"marker\": {\"colorbar\": {\"outlinewidth\": 0, \"ticks\": \"\"}}, \"type\": \"histogram\"}], \"histogram2d\": [{\"colorbar\": {\"outlinewidth\": 0, \"ticks\": \"\"}, \"colorscale\": [[0.0, \"#0d0887\"], [0.1111111111111111, \"#46039f\"], [0.2222222222222222, \"#7201a8\"], [0.3333333333333333, \"#9c179e\"], [0.4444444444444444, \"#bd3786\"], [0.5555555555555556, \"#d8576b\"], [0.6666666666666666, \"#ed7953\"], [0.7777777777777778, \"#fb9f3a\"], [0.8888888888888888, \"#fdca26\"], [1.0, \"#f0f921\"]], \"type\": \"histogram2d\"}], \"histogram2dcontour\": [{\"colorbar\": {\"outlinewidth\": 0, \"ticks\": \"\"}, \"colorscale\": [[0.0, \"#0d0887\"], [0.1111111111111111, \"#46039f\"], [0.2222222222222222, \"#7201a8\"], [0.3333333333333333, \"#9c179e\"], [0.4444444444444444, \"#bd3786\"], [0.5555555555555556, \"#d8576b\"], [0.6666666666666666, \"#ed7953\"], [0.7777777777777778, \"#fb9f3a\"], [0.8888888888888888, \"#fdca26\"], [1.0, \"#f0f921\"]], \"type\": \"histogram2dcontour\"}], \"mesh3d\": [{\"colorbar\": {\"outlinewidth\": 0, \"ticks\": \"\"}, \"type\": \"mesh3d\"}], \"parcoords\": [{\"line\": {\"colorbar\": {\"outlinewidth\": 0, \"ticks\": \"\"}}, \"type\": \"parcoords\"}], \"pie\": [{\"automargin\": true, \"type\": \"pie\"}], \"scatter\": [{\"marker\": {\"colorbar\": {\"outlinewidth\": 0, \"ticks\": \"\"}}, \"type\": \"scatter\"}], \"scatter3d\": [{\"line\": {\"colorbar\": {\"outlinewidth\": 0, \"ticks\": \"\"}}, \"marker\": {\"colorbar\": {\"outlinewidth\": 0, \"ticks\": \"\"}}, \"type\": \"scatter3d\"}], \"scattercarpet\": [{\"marker\": {\"colorbar\": {\"outlinewidth\": 0, \"ticks\": \"\"}}, \"type\": \"scattercarpet\"}], \"scattergeo\": [{\"marker\": {\"colorbar\": {\"outlinewidth\": 0, \"ticks\": \"\"}}, \"type\": \"scattergeo\"}], \"scattergl\": [{\"marker\": {\"colorbar\": {\"outlinewidth\": 0, \"ticks\": \"\"}}, \"type\": \"scattergl\"}], \"scattermapbox\": [{\"marker\": {\"colorbar\": {\"outlinewidth\": 0, \"ticks\": \"\"}}, \"type\": \"scattermapbox\"}], \"scatterpolar\": [{\"marker\": {\"colorbar\": {\"outlinewidth\": 0, \"ticks\": \"\"}}, \"type\": \"scatterpolar\"}], \"scatterpolargl\": [{\"marker\": {\"colorbar\": {\"outlinewidth\": 0, \"ticks\": \"\"}}, \"type\": \"scatterpolargl\"}], \"scatterternary\": [{\"marker\": {\"colorbar\": {\"outlinewidth\": 0, \"ticks\": \"\"}}, \"type\": \"scatterternary\"}], \"surface\": [{\"colorbar\": {\"outlinewidth\": 0, \"ticks\": \"\"}, \"colorscale\": [[0.0, \"#0d0887\"], [0.1111111111111111, \"#46039f\"], [0.2222222222222222, \"#7201a8\"], [0.3333333333333333, \"#9c179e\"], [0.4444444444444444, \"#bd3786\"], [0.5555555555555556, \"#d8576b\"], [0.6666666666666666, \"#ed7953\"], [0.7777777777777778, \"#fb9f3a\"], [0.8888888888888888, \"#fdca26\"], [1.0, \"#f0f921\"]], \"type\": \"surface\"}], \"table\": [{\"cells\": {\"fill\": {\"color\": \"#EBF0F8\"}, \"line\": {\"color\": \"white\"}}, \"header\": {\"fill\": {\"color\": \"#C8D4E3\"}, \"line\": {\"color\": \"white\"}}, \"type\": \"table\"}]}, \"layout\": {\"annotationdefaults\": {\"arrowcolor\": \"#2a3f5f\", \"arrowhead\": 0, \"arrowwidth\": 1}, \"coloraxis\": {\"colorbar\": {\"outlinewidth\": 0, \"ticks\": \"\"}}, \"colorscale\": {\"diverging\": [[0, \"#8e0152\"], [0.1, \"#c51b7d\"], [0.2, \"#de77ae\"], [0.3, \"#f1b6da\"], [0.4, \"#fde0ef\"], [0.5, \"#f7f7f7\"], [0.6, \"#e6f5d0\"], [0.7, \"#b8e186\"], [0.8, \"#7fbc41\"], [0.9, \"#4d9221\"], [1, \"#276419\"]], \"sequential\": [[0.0, \"#0d0887\"], [0.1111111111111111, \"#46039f\"], [0.2222222222222222, \"#7201a8\"], [0.3333333333333333, \"#9c179e\"], [0.4444444444444444, \"#bd3786\"], [0.5555555555555556, \"#d8576b\"], [0.6666666666666666, \"#ed7953\"], [0.7777777777777778, \"#fb9f3a\"], [0.8888888888888888, \"#fdca26\"], [1.0, \"#f0f921\"]], \"sequentialminus\": [[0.0, \"#0d0887\"], [0.1111111111111111, \"#46039f\"], [0.2222222222222222, \"#7201a8\"], [0.3333333333333333, \"#9c179e\"], [0.4444444444444444, \"#bd3786\"], [0.5555555555555556, \"#d8576b\"], [0.6666666666666666, \"#ed7953\"], [0.7777777777777778, \"#fb9f3a\"], [0.8888888888888888, \"#fdca26\"], [1.0, \"#f0f921\"]]}, \"colorway\": [\"#636efa\", \"#EF553B\", \"#00cc96\", \"#ab63fa\", \"#FFA15A\", \"#19d3f3\", \"#FF6692\", \"#B6E880\", \"#FF97FF\", \"#FECB52\"], \"font\": {\"color\": \"#2a3f5f\"}, \"geo\": {\"bgcolor\": \"white\", \"lakecolor\": \"white\", \"landcolor\": \"#E5ECF6\", \"showlakes\": true, \"showland\": true, \"subunitcolor\": \"white\"}, \"hoverlabel\": {\"align\": \"left\"}, \"hovermode\": \"closest\", \"mapbox\": {\"style\": \"light\"}, \"paper_bgcolor\": \"white\", \"plot_bgcolor\": \"#E5ECF6\", \"polar\": {\"angularaxis\": {\"gridcolor\": \"white\", \"linecolor\": \"white\", \"ticks\": \"\"}, \"bgcolor\": \"#E5ECF6\", \"radialaxis\": {\"gridcolor\": \"white\", \"linecolor\": \"white\", \"ticks\": \"\"}}, \"scene\": {\"xaxis\": {\"backgroundcolor\": \"#E5ECF6\", \"gridcolor\": \"white\", \"gridwidth\": 2, \"linecolor\": \"white\", \"showbackground\": true, \"ticks\": \"\", \"zerolinecolor\": \"white\"}, \"yaxis\": {\"backgroundcolor\": \"#E5ECF6\", \"gridcolor\": \"white\", \"gridwidth\": 2, \"linecolor\": \"white\", \"showbackground\": true, \"ticks\": \"\", \"zerolinecolor\": \"white\"}, \"zaxis\": {\"backgroundcolor\": \"#E5ECF6\", \"gridcolor\": \"white\", \"gridwidth\": 2, \"linecolor\": \"white\", \"showbackground\": true, \"ticks\": \"\", \"zerolinecolor\": \"white\"}}, \"shapedefaults\": {\"line\": {\"color\": \"#2a3f5f\"}}, \"ternary\": {\"aaxis\": {\"gridcolor\": \"white\", \"linecolor\": \"white\", \"ticks\": \"\"}, \"baxis\": {\"gridcolor\": \"white\", \"linecolor\": \"white\", \"ticks\": \"\"}, \"bgcolor\": \"#E5ECF6\", \"caxis\": {\"gridcolor\": \"white\", \"linecolor\": \"white\", \"ticks\": \"\"}}, \"title\": {\"x\": 0.05}, \"xaxis\": {\"automargin\": true, \"gridcolor\": \"white\", \"linecolor\": \"white\", \"ticks\": \"\", \"title\": {\"standoff\": 15}, \"zerolinecolor\": \"white\", \"zerolinewidth\": 2}, \"yaxis\": {\"automargin\": true, \"gridcolor\": \"white\", \"linecolor\": \"white\", \"ticks\": \"\", \"title\": {\"standoff\": 15}, \"zerolinecolor\": \"white\", \"zerolinewidth\": 2}}}, \"xaxis\": {\"anchor\": \"y\", \"domain\": [0.0, 1.0], \"rangeslider\": {\"visible\": true}, \"title\": {\"text\": \"date\"}}, \"yaxis\": {\"anchor\": \"x\", \"domain\": [0.0, 1.0], \"title\": {\"text\": \"extent\"}}},\n",
              "                        {\"responsive\": true}\n",
              "                    ).then(function(){\n",
              "                            \n",
              "var gd = document.getElementById('7f29e9f8-5a20-4f26-9be0-9b0c65ed284b');\n",
              "var x = new MutationObserver(function (mutations, observer) {{\n",
              "        var display = window.getComputedStyle(gd).display;\n",
              "        if (!display || display === 'none') {{\n",
              "            console.log([gd, 'removed!']);\n",
              "            Plotly.purge(gd);\n",
              "            observer.disconnect();\n",
              "        }}\n",
              "}});\n",
              "\n",
              "// Listen for the removal of the full notebook cells\n",
              "var notebookContainer = gd.closest('#notebook-container');\n",
              "if (notebookContainer) {{\n",
              "    x.observe(notebookContainer, {childList: true});\n",
              "}}\n",
              "\n",
              "// Listen for the clearing of the current output cell\n",
              "var outputEl = gd.closest('.output');\n",
              "if (outputEl) {{\n",
              "    x.observe(outputEl, {childList: true});\n",
              "}}\n",
              "\n",
              "                        })\n",
              "                };\n",
              "                \n",
              "            </script>\n",
              "        </div>\n",
              "</body>\n",
              "</html>"
            ]
          },
          "metadata": {}
        }
      ]
    },
    {
      "cell_type": "code",
      "metadata": {
        "colab": {
          "base_uri": "https://localhost:8080/",
          "height": 206
        },
        "id": "bm1YtASIgN6t",
        "outputId": "46bbf774-1d42-4db7-da74-0344c5232ec4"
      },
      "source": [
        "#Finalmente obtenemos la media y la varianza de extent por cada mes.\n",
        "#Obtenemos el resumen estadístico de extent agrupado por meses:\n",
        "extent_summary = df.groupby(['mo']).describe().extent.reset_index()\n",
        "extent_summary.head()"
      ],
      "execution_count": 58,
      "outputs": [
        {
          "output_type": "execute_result",
          "data": {
            "text/html": [
              "<div>\n",
              "<style scoped>\n",
              "    .dataframe tbody tr th:only-of-type {\n",
              "        vertical-align: middle;\n",
              "    }\n",
              "\n",
              "    .dataframe tbody tr th {\n",
              "        vertical-align: top;\n",
              "    }\n",
              "\n",
              "    .dataframe thead th {\n",
              "        text-align: right;\n",
              "    }\n",
              "</style>\n",
              "<table border=\"1\" class=\"dataframe\">\n",
              "  <thead>\n",
              "    <tr style=\"text-align: right;\">\n",
              "      <th></th>\n",
              "      <th>mo</th>\n",
              "      <th>count</th>\n",
              "      <th>mean</th>\n",
              "      <th>std</th>\n",
              "      <th>min</th>\n",
              "      <th>25%</th>\n",
              "      <th>50%</th>\n",
              "      <th>75%</th>\n",
              "      <th>max</th>\n",
              "    </tr>\n",
              "  </thead>\n",
              "  <tbody>\n",
              "    <tr>\n",
              "      <th>0</th>\n",
              "      <td>1</td>\n",
              "      <td>35.0</td>\n",
              "      <td>14.479429</td>\n",
              "      <td>0.552183</td>\n",
              "      <td>13.57</td>\n",
              "      <td>14.04</td>\n",
              "      <td>14.47</td>\n",
              "      <td>14.955</td>\n",
              "      <td>15.54</td>\n",
              "    </tr>\n",
              "    <tr>\n",
              "      <th>1</th>\n",
              "      <td>2</td>\n",
              "      <td>36.0</td>\n",
              "      <td>15.298889</td>\n",
              "      <td>0.543879</td>\n",
              "      <td>14.36</td>\n",
              "      <td>14.91</td>\n",
              "      <td>15.34</td>\n",
              "      <td>15.655</td>\n",
              "      <td>16.31</td>\n",
              "    </tr>\n",
              "    <tr>\n",
              "      <th>2</th>\n",
              "      <td>3</td>\n",
              "      <td>35.0</td>\n",
              "      <td>15.491714</td>\n",
              "      <td>0.487041</td>\n",
              "      <td>14.43</td>\n",
              "      <td>15.18</td>\n",
              "      <td>15.50</td>\n",
              "      <td>15.880</td>\n",
              "      <td>16.45</td>\n",
              "    </tr>\n",
              "    <tr>\n",
              "      <th>3</th>\n",
              "      <td>4</td>\n",
              "      <td>35.0</td>\n",
              "      <td>14.766000</td>\n",
              "      <td>0.464088</td>\n",
              "      <td>13.87</td>\n",
              "      <td>14.43</td>\n",
              "      <td>14.70</td>\n",
              "      <td>15.150</td>\n",
              "      <td>15.57</td>\n",
              "    </tr>\n",
              "    <tr>\n",
              "      <th>4</th>\n",
              "      <td>5</td>\n",
              "      <td>35.0</td>\n",
              "      <td>13.396000</td>\n",
              "      <td>0.435777</td>\n",
              "      <td>12.58</td>\n",
              "      <td>13.08</td>\n",
              "      <td>13.32</td>\n",
              "      <td>13.725</td>\n",
              "      <td>14.23</td>\n",
              "    </tr>\n",
              "  </tbody>\n",
              "</table>\n",
              "</div>"
            ],
            "text/plain": [
              "   mo  count       mean       std    min    25%    50%     75%    max\n",
              "0   1   35.0  14.479429  0.552183  13.57  14.04  14.47  14.955  15.54\n",
              "1   2   36.0  15.298889  0.543879  14.36  14.91  15.34  15.655  16.31\n",
              "2   3   35.0  15.491714  0.487041  14.43  15.18  15.50  15.880  16.45\n",
              "3   4   35.0  14.766000  0.464088  13.87  14.43  14.70  15.150  15.57\n",
              "4   5   35.0  13.396000  0.435777  12.58  13.08  13.32  13.725  14.23"
            ]
          },
          "metadata": {},
          "execution_count": 58
        }
      ]
    },
    {
      "cell_type": "code",
      "metadata": {
        "colab": {
          "base_uri": "https://localhost:8080/"
        },
        "id": "N1EugOR9hCTe",
        "outputId": "429e1497-097a-488a-f233-fc8f0f911c82"
      },
      "source": [
        "#Guardamos las medias.\n",
        "#Como esperábamos, la mayor es la de marzo y la menor la de septiembre.\n",
        "mo_means = extent_summary['mean']\n",
        "print(mo_means)"
      ],
      "execution_count": 59,
      "outputs": [
        {
          "output_type": "stream",
          "name": "stdout",
          "text": [
            "0     14.479429\n",
            "1     15.298889\n",
            "2     15.491714\n",
            "3     14.766000\n",
            "4     13.396000\n",
            "5     11.860000\n",
            "6      9.601143\n",
            "7      7.122286\n",
            "8      6.404857\n",
            "9      8.809143\n",
            "10    10.964722\n",
            "11    13.059429\n",
            "Name: mean, dtype: float64\n"
          ]
        }
      ]
    },
    {
      "cell_type": "code",
      "metadata": {
        "colab": {
          "base_uri": "https://localhost:8080/"
        },
        "id": "nkIihnvYhgr9",
        "outputId": "b63ff22a-519d-4fb6-d8a9-db46fea6ce9a"
      },
      "source": [
        "#Guardamos las varianzas.\n",
        "#El mes de mayor variabilidad es septiembre y el de menos es mayo.\n",
        "mo_var = extent_summary['std']**2\n",
        "print(mo_var)"
      ],
      "execution_count": 60,
      "outputs": [
        {
          "output_type": "stream",
          "name": "stdout",
          "text": [
            "0     0.304906\n",
            "1     0.295804\n",
            "2     0.237209\n",
            "3     0.215378\n",
            "4     0.189901\n",
            "5     0.247918\n",
            "6     0.679175\n",
            "7     0.824577\n",
            "8     1.143902\n",
            "9     0.630361\n",
            "10    0.412511\n",
            "11    0.284870\n",
            "Name: std, dtype: float64\n"
          ]
        }
      ]
    },
    {
      "cell_type": "markdown",
      "metadata": {
        "id": "jbElTBno_2QD"
      },
      "source": [
        "Normalize the SIE data: subtract the monthly mean and then convert to percent difference by dividing by the monthly mean and then multiplying by 100. Use the normalized SIE for the rest of the exercise."
      ]
    },
    {
      "cell_type": "code",
      "metadata": {
        "id": "vH8Z4ld_mb7A"
      },
      "source": [
        "#Obtenemos las medias de extent por mes correspondientes a cada fila de df\n",
        "mo_means_df=mo_means[df['mo']-1].values"
      ],
      "execution_count": 61,
      "outputs": []
    },
    {
      "cell_type": "code",
      "metadata": {
        "id": "C3CRY3G59gOu",
        "colab": {
          "base_uri": "https://localhost:8080/",
          "height": 206
        },
        "outputId": "49b57d5f-749e-410c-bac0-67a912414223"
      },
      "source": [
        "#Añadimos una nueva columna al dataframe con extent normalizado.\n",
        "df['n_extent'] = (df['extent']- mo_means_df)/mo_means_df\n",
        "df.head()"
      ],
      "execution_count": 62,
      "outputs": [
        {
          "output_type": "execute_result",
          "data": {
            "text/html": [
              "<div>\n",
              "<style scoped>\n",
              "    .dataframe tbody tr th:only-of-type {\n",
              "        vertical-align: middle;\n",
              "    }\n",
              "\n",
              "    .dataframe tbody tr th {\n",
              "        vertical-align: top;\n",
              "    }\n",
              "\n",
              "    .dataframe thead th {\n",
              "        text-align: right;\n",
              "    }\n",
              "</style>\n",
              "<table border=\"1\" class=\"dataframe\">\n",
              "  <thead>\n",
              "    <tr style=\"text-align: right;\">\n",
              "      <th></th>\n",
              "      <th>year</th>\n",
              "      <th>mo</th>\n",
              "      <th>data_type</th>\n",
              "      <th>extent</th>\n",
              "      <th>area</th>\n",
              "      <th>date</th>\n",
              "      <th>n_extent</th>\n",
              "    </tr>\n",
              "  </thead>\n",
              "  <tbody>\n",
              "    <tr>\n",
              "      <th>0</th>\n",
              "      <td>1979</td>\n",
              "      <td>1</td>\n",
              "      <td>Goddard</td>\n",
              "      <td>15.54</td>\n",
              "      <td>12.33</td>\n",
              "      <td>1979-01-01</td>\n",
              "      <td>0.073247</td>\n",
              "    </tr>\n",
              "    <tr>\n",
              "      <th>1</th>\n",
              "      <td>1980</td>\n",
              "      <td>1</td>\n",
              "      <td>Goddard</td>\n",
              "      <td>14.96</td>\n",
              "      <td>11.85</td>\n",
              "      <td>1980-01-01</td>\n",
              "      <td>0.033190</td>\n",
              "    </tr>\n",
              "    <tr>\n",
              "      <th>2</th>\n",
              "      <td>1981</td>\n",
              "      <td>1</td>\n",
              "      <td>Goddard</td>\n",
              "      <td>15.03</td>\n",
              "      <td>11.82</td>\n",
              "      <td>1981-01-01</td>\n",
              "      <td>0.038024</td>\n",
              "    </tr>\n",
              "    <tr>\n",
              "      <th>3</th>\n",
              "      <td>1982</td>\n",
              "      <td>1</td>\n",
              "      <td>Goddard</td>\n",
              "      <td>15.26</td>\n",
              "      <td>12.11</td>\n",
              "      <td>1982-01-01</td>\n",
              "      <td>0.053909</td>\n",
              "    </tr>\n",
              "    <tr>\n",
              "      <th>4</th>\n",
              "      <td>1983</td>\n",
              "      <td>1</td>\n",
              "      <td>Goddard</td>\n",
              "      <td>15.10</td>\n",
              "      <td>11.92</td>\n",
              "      <td>1983-01-01</td>\n",
              "      <td>0.042859</td>\n",
              "    </tr>\n",
              "  </tbody>\n",
              "</table>\n",
              "</div>"
            ],
            "text/plain": [
              "   year  mo data_type  extent   area       date  n_extent\n",
              "0  1979   1   Goddard   15.54  12.33 1979-01-01  0.073247\n",
              "1  1980   1   Goddard   14.96  11.85 1980-01-01  0.033190\n",
              "2  1981   1   Goddard   15.03  11.82 1981-01-01  0.038024\n",
              "3  1982   1   Goddard   15.26  12.11 1982-01-01  0.053909\n",
              "4  1983   1   Goddard   15.10  11.92 1983-01-01  0.042859"
            ]
          },
          "metadata": {},
          "execution_count": 62
        }
      ]
    },
    {
      "cell_type": "markdown",
      "metadata": {
        "id": "6JisOPhO9gOu"
      },
      "source": [
        "Visualize the trend of SIE per year considering:1) all months, 2) January, 3) August"
      ]
    },
    {
      "cell_type": "code",
      "metadata": {
        "colab": {
          "base_uri": "https://localhost:8080/",
          "height": 542
        },
        "id": "g5o_OuHPFGLr",
        "outputId": "bf31edf3-4558-4bb4-f19f-54fecff56c42"
      },
      "source": [
        "#Aprovechando df1, podemos dibujar una regresión para los datos normalizados\n",
        "#de cada mes a lo largo del tiempo.\n",
        "\n",
        "mo_means_df1 = df1.groupby(['mo']).describe().extent.reset_index()['mean'][df1['mo']-1].values\n",
        "df1['n_extent'] = (df1['extent']- mo_means_df1)/mo_means_df1\n",
        "\n",
        "px.scatter(df1, x = 'year', y = 'n_extent',\n",
        "  animation_frame = \"mo\", opacity = 0.65,\n",
        "  trendline='ols', trendline_color_override='darkblue',\n",
        "  range_y=[df1['n_extent'].min()-0.25,df1['n_extent'].max()+0.25],\n",
        "  labels = {'mo': 'Month', 'extent':'Extent', 'year':'Year'})"
      ],
      "execution_count": 73,
      "outputs": [
        {
          "output_type": "display_data",
          "data": {
            "text/html": [
              "<html>\n",
              "<head><meta charset=\"utf-8\" /></head>\n",
              "<body>\n",
              "    <div>\n",
              "            <script src=\"https://cdnjs.cloudflare.com/ajax/libs/mathjax/2.7.5/MathJax.js?config=TeX-AMS-MML_SVG\"></script><script type=\"text/javascript\">if (window.MathJax) {MathJax.Hub.Config({SVG: {font: \"STIX-Web\"}});}</script>\n",
              "                <script type=\"text/javascript\">window.PlotlyConfig = {MathJaxConfig: 'local'};</script>\n",
              "        <script src=\"https://cdn.plot.ly/plotly-latest.min.js\"></script>    \n",
              "            <div id=\"8882e082-6682-4d38-a87f-769fe08d6cb7\" class=\"plotly-graph-div\" style=\"height:525px; width:100%;\"></div>\n",
              "            <script type=\"text/javascript\">\n",
              "                \n",
              "                    window.PLOTLYENV=window.PLOTLYENV || {};\n",
              "                    \n",
              "                if (document.getElementById(\"8882e082-6682-4d38-a87f-769fe08d6cb7\")) {\n",
              "                    Plotly.newPlot(\n",
              "                        '8882e082-6682-4d38-a87f-769fe08d6cb7',\n",
              "                        [{\"hoverlabel\": {\"namelength\": 0}, \"hovertemplate\": \"Month=1<br>Year=%{x}<br>n_extent=%{y}\", \"legendgroup\": \"\", \"marker\": {\"color\": \"#636efa\", \"opacity\": 0.65, \"symbol\": \"circle\"}, \"mode\": \"markers\", \"name\": \"\", \"showlegend\": false, \"type\": \"scatter\", \"x\": [1979, 1980, 1981, 1982, 1983, 1984, 1985, 1986, 1987, 1988, 1989, 1990, 1991, 1992, 1993, 1994, 1995, 1996, 1997, 1998, 1999, 2000, 2001, 2002, 2003, 2004, 2005, 2006, 2007, 2008, 2009, 2010, 2011, 2012, 2013], \"xaxis\": \"x\", \"y\": [0.07070090652283034, 0.030739096626868967, 0.03556207368327801, 0.0514089982971938, 0.04038505073968718, 0.006624211344823139, 0.023849129403427233, 0.03487307696093386, 0.04727501796312879, 0.029016604821008287, 0.04176304418437547, 0.030050099904524695, -0.0037107394903392182, 0.014203175290609023, 0.03900705729499888, 0.021093142514050638, 0.007313208067167288, -0.02093565754894331, -0.0030217427679950695, 0.020404145791706487, -0.0030217427679950695, -0.007155723102060086, -0.014045690325501698, -0.004399736212683489, -0.0037107394903392182, -0.03333759855113836, -0.05883047727787236, -0.06296445761193738, -0.0512515133320866, -0.03195960510644994, -0.029892614939417493, -0.049184523165054034, -0.06503144777896983, -0.0512515133320866, -0.05056251660974245], \"yaxis\": \"y\"}, {\"hoverlabel\": {\"namelength\": 0}, \"hovertemplate\": \"<b>OLS trendline</b><br>n_extent = -0.003284 * year + 6.555684<br>R<sup>2</sup>=0.813582<br><br>Month=1<br>Year=%{x}<br>n_extent=%{y} <b>(trend)</b>\", \"legendgroup\": \"\", \"line\": {\"color\": \"darkblue\"}, \"marker\": {\"color\": \"#636efa\", \"symbol\": \"circle\"}, \"mode\": \"lines\", \"name\": \"\", \"showlegend\": false, \"type\": \"scatter\", \"x\": [1979, 1980, 1981, 1982, 1983, 1984, 1985, 1986, 1987, 1988, 1989, 1990, 1991, 1992, 1993, 1994, 1995, 1996, 1997, 1998, 1999, 2000, 2001, 2002, 2003, 2004, 2005, 2006, 2007, 2008, 2009, 2010, 2011, 2012, 2013], \"xaxis\": \"x\", \"y\": [0.05583498200406112, 0.05255057129793972, 0.04926616059181832, 0.04598174988569692, 0.04269733917957641, 0.03941292847345501, 0.03612851776733361, 0.03284410706121221, 0.029559696355090814, 0.026275285648969415, 0.022990874942848905, 0.019706464236727506, 0.016422053530606107, 0.013137642824484708, 0.009853232118363309, 0.00656882141224191, 0.0032844107061205108, 0.0, -0.003284410706121399, -0.006568821412242798, -0.009853232118364197, -0.013137642824485596, -0.016422053530606995, -0.019706464236728394, -0.022990874942848905, -0.026275285648970303, -0.029559696355091702, -0.0328441070612131, -0.0361285177673345, -0.0394129284734559, -0.0426973391795773, -0.04598174988569781, -0.04926616059181921, -0.05255057129794061, -0.055834982004062006], \"yaxis\": \"y\"}],\n",
              "                        {\"legend\": {\"tracegroupgap\": 0}, \"margin\": {\"t\": 60}, \"sliders\": [{\"active\": 0, \"currentvalue\": {\"prefix\": \"Month=\"}, \"len\": 0.9, \"pad\": {\"b\": 10, \"t\": 60}, \"steps\": [{\"args\": [[\"1\"], {\"frame\": {\"duration\": 0, \"redraw\": false}, \"fromcurrent\": true, \"mode\": \"immediate\", \"transition\": {\"duration\": 0, \"easing\": \"linear\"}}], \"label\": \"1\", \"method\": \"animate\"}, {\"args\": [[\"2\"], {\"frame\": {\"duration\": 0, \"redraw\": false}, \"fromcurrent\": true, \"mode\": \"immediate\", \"transition\": {\"duration\": 0, \"easing\": \"linear\"}}], \"label\": \"2\", \"method\": \"animate\"}, {\"args\": [[\"3\"], {\"frame\": {\"duration\": 0, \"redraw\": false}, \"fromcurrent\": true, \"mode\": \"immediate\", \"transition\": {\"duration\": 0, \"easing\": \"linear\"}}], \"label\": \"3\", \"method\": \"animate\"}, {\"args\": [[\"4\"], {\"frame\": {\"duration\": 0, \"redraw\": false}, \"fromcurrent\": true, \"mode\": \"immediate\", \"transition\": {\"duration\": 0, \"easing\": \"linear\"}}], \"label\": \"4\", \"method\": \"animate\"}, {\"args\": [[\"5\"], {\"frame\": {\"duration\": 0, \"redraw\": false}, \"fromcurrent\": true, \"mode\": \"immediate\", \"transition\": {\"duration\": 0, \"easing\": \"linear\"}}], \"label\": \"5\", \"method\": \"animate\"}, {\"args\": [[\"6\"], {\"frame\": {\"duration\": 0, \"redraw\": false}, \"fromcurrent\": true, \"mode\": \"immediate\", \"transition\": {\"duration\": 0, \"easing\": \"linear\"}}], \"label\": \"6\", \"method\": \"animate\"}, {\"args\": [[\"7\"], {\"frame\": {\"duration\": 0, \"redraw\": false}, \"fromcurrent\": true, \"mode\": \"immediate\", \"transition\": {\"duration\": 0, \"easing\": \"linear\"}}], \"label\": \"7\", \"method\": \"animate\"}, {\"args\": [[\"8\"], {\"frame\": {\"duration\": 0, \"redraw\": false}, \"fromcurrent\": true, \"mode\": \"immediate\", \"transition\": {\"duration\": 0, \"easing\": \"linear\"}}], \"label\": \"8\", \"method\": \"animate\"}, {\"args\": [[\"9\"], {\"frame\": {\"duration\": 0, \"redraw\": false}, \"fromcurrent\": true, \"mode\": \"immediate\", \"transition\": {\"duration\": 0, \"easing\": \"linear\"}}], \"label\": \"9\", \"method\": \"animate\"}, {\"args\": [[\"10\"], {\"frame\": {\"duration\": 0, \"redraw\": false}, \"fromcurrent\": true, \"mode\": \"immediate\", \"transition\": {\"duration\": 0, \"easing\": \"linear\"}}], \"label\": \"10\", \"method\": \"animate\"}, {\"args\": [[\"11\"], {\"frame\": {\"duration\": 0, \"redraw\": false}, \"fromcurrent\": true, \"mode\": \"immediate\", \"transition\": {\"duration\": 0, \"easing\": \"linear\"}}], \"label\": \"11\", \"method\": \"animate\"}, {\"args\": [[\"12\"], {\"frame\": {\"duration\": 0, \"redraw\": false}, \"fromcurrent\": true, \"mode\": \"immediate\", \"transition\": {\"duration\": 0, \"easing\": \"linear\"}}], \"label\": \"12\", \"method\": \"animate\"}], \"x\": 0.1, \"xanchor\": \"left\", \"y\": 0, \"yanchor\": \"top\"}], \"template\": {\"data\": {\"bar\": [{\"error_x\": {\"color\": \"#2a3f5f\"}, \"error_y\": {\"color\": \"#2a3f5f\"}, \"marker\": {\"line\": {\"color\": \"#E5ECF6\", \"width\": 0.5}}, \"type\": \"bar\"}], \"barpolar\": [{\"marker\": {\"line\": {\"color\": \"#E5ECF6\", \"width\": 0.5}}, \"type\": \"barpolar\"}], \"carpet\": [{\"aaxis\": {\"endlinecolor\": \"#2a3f5f\", \"gridcolor\": \"white\", \"linecolor\": \"white\", \"minorgridcolor\": \"white\", \"startlinecolor\": \"#2a3f5f\"}, \"baxis\": {\"endlinecolor\": \"#2a3f5f\", \"gridcolor\": \"white\", \"linecolor\": \"white\", \"minorgridcolor\": \"white\", \"startlinecolor\": \"#2a3f5f\"}, \"type\": \"carpet\"}], \"choropleth\": [{\"colorbar\": {\"outlinewidth\": 0, \"ticks\": \"\"}, \"type\": \"choropleth\"}], \"contour\": [{\"colorbar\": {\"outlinewidth\": 0, \"ticks\": \"\"}, \"colorscale\": [[0.0, \"#0d0887\"], [0.1111111111111111, \"#46039f\"], [0.2222222222222222, \"#7201a8\"], [0.3333333333333333, \"#9c179e\"], [0.4444444444444444, \"#bd3786\"], [0.5555555555555556, \"#d8576b\"], [0.6666666666666666, \"#ed7953\"], [0.7777777777777778, \"#fb9f3a\"], [0.8888888888888888, \"#fdca26\"], [1.0, \"#f0f921\"]], \"type\": \"contour\"}], \"contourcarpet\": [{\"colorbar\": {\"outlinewidth\": 0, \"ticks\": \"\"}, \"type\": \"contourcarpet\"}], \"heatmap\": [{\"colorbar\": {\"outlinewidth\": 0, \"ticks\": \"\"}, \"colorscale\": [[0.0, \"#0d0887\"], [0.1111111111111111, \"#46039f\"], [0.2222222222222222, \"#7201a8\"], [0.3333333333333333, \"#9c179e\"], [0.4444444444444444, \"#bd3786\"], [0.5555555555555556, \"#d8576b\"], [0.6666666666666666, \"#ed7953\"], [0.7777777777777778, \"#fb9f3a\"], [0.8888888888888888, \"#fdca26\"], [1.0, \"#f0f921\"]], \"type\": \"heatmap\"}], \"heatmapgl\": [{\"colorbar\": {\"outlinewidth\": 0, \"ticks\": \"\"}, \"colorscale\": [[0.0, \"#0d0887\"], [0.1111111111111111, \"#46039f\"], [0.2222222222222222, \"#7201a8\"], [0.3333333333333333, \"#9c179e\"], [0.4444444444444444, \"#bd3786\"], [0.5555555555555556, \"#d8576b\"], [0.6666666666666666, \"#ed7953\"], [0.7777777777777778, \"#fb9f3a\"], [0.8888888888888888, \"#fdca26\"], [1.0, \"#f0f921\"]], \"type\": \"heatmapgl\"}], \"histogram\": [{\"marker\": {\"colorbar\": {\"outlinewidth\": 0, \"ticks\": \"\"}}, \"type\": \"histogram\"}], \"histogram2d\": [{\"colorbar\": {\"outlinewidth\": 0, \"ticks\": \"\"}, \"colorscale\": [[0.0, \"#0d0887\"], [0.1111111111111111, \"#46039f\"], [0.2222222222222222, \"#7201a8\"], [0.3333333333333333, \"#9c179e\"], [0.4444444444444444, \"#bd3786\"], [0.5555555555555556, \"#d8576b\"], [0.6666666666666666, \"#ed7953\"], [0.7777777777777778, \"#fb9f3a\"], [0.8888888888888888, \"#fdca26\"], [1.0, \"#f0f921\"]], \"type\": \"histogram2d\"}], \"histogram2dcontour\": [{\"colorbar\": {\"outlinewidth\": 0, \"ticks\": \"\"}, \"colorscale\": [[0.0, \"#0d0887\"], [0.1111111111111111, \"#46039f\"], [0.2222222222222222, \"#7201a8\"], [0.3333333333333333, \"#9c179e\"], [0.4444444444444444, \"#bd3786\"], [0.5555555555555556, \"#d8576b\"], [0.6666666666666666, \"#ed7953\"], [0.7777777777777778, \"#fb9f3a\"], [0.8888888888888888, \"#fdca26\"], [1.0, \"#f0f921\"]], \"type\": \"histogram2dcontour\"}], \"mesh3d\": [{\"colorbar\": {\"outlinewidth\": 0, \"ticks\": \"\"}, \"type\": \"mesh3d\"}], \"parcoords\": [{\"line\": {\"colorbar\": {\"outlinewidth\": 0, \"ticks\": \"\"}}, \"type\": \"parcoords\"}], \"pie\": [{\"automargin\": true, \"type\": \"pie\"}], \"scatter\": [{\"marker\": {\"colorbar\": {\"outlinewidth\": 0, \"ticks\": \"\"}}, \"type\": \"scatter\"}], \"scatter3d\": [{\"line\": {\"colorbar\": {\"outlinewidth\": 0, \"ticks\": \"\"}}, \"marker\": {\"colorbar\": {\"outlinewidth\": 0, \"ticks\": \"\"}}, \"type\": \"scatter3d\"}], \"scattercarpet\": [{\"marker\": {\"colorbar\": {\"outlinewidth\": 0, \"ticks\": \"\"}}, \"type\": \"scattercarpet\"}], \"scattergeo\": [{\"marker\": {\"colorbar\": {\"outlinewidth\": 0, \"ticks\": \"\"}}, \"type\": \"scattergeo\"}], \"scattergl\": [{\"marker\": {\"colorbar\": {\"outlinewidth\": 0, \"ticks\": \"\"}}, \"type\": \"scattergl\"}], \"scattermapbox\": [{\"marker\": {\"colorbar\": {\"outlinewidth\": 0, \"ticks\": \"\"}}, \"type\": \"scattermapbox\"}], \"scatterpolar\": [{\"marker\": {\"colorbar\": {\"outlinewidth\": 0, \"ticks\": \"\"}}, \"type\": \"scatterpolar\"}], \"scatterpolargl\": [{\"marker\": {\"colorbar\": {\"outlinewidth\": 0, \"ticks\": \"\"}}, \"type\": \"scatterpolargl\"}], \"scatterternary\": [{\"marker\": {\"colorbar\": {\"outlinewidth\": 0, \"ticks\": \"\"}}, \"type\": \"scatterternary\"}], \"surface\": [{\"colorbar\": {\"outlinewidth\": 0, \"ticks\": \"\"}, \"colorscale\": [[0.0, \"#0d0887\"], [0.1111111111111111, \"#46039f\"], [0.2222222222222222, \"#7201a8\"], [0.3333333333333333, \"#9c179e\"], [0.4444444444444444, \"#bd3786\"], [0.5555555555555556, \"#d8576b\"], [0.6666666666666666, \"#ed7953\"], [0.7777777777777778, \"#fb9f3a\"], [0.8888888888888888, \"#fdca26\"], [1.0, \"#f0f921\"]], \"type\": \"surface\"}], \"table\": [{\"cells\": {\"fill\": {\"color\": \"#EBF0F8\"}, \"line\": {\"color\": \"white\"}}, \"header\": {\"fill\": {\"color\": \"#C8D4E3\"}, \"line\": {\"color\": \"white\"}}, \"type\": \"table\"}]}, \"layout\": {\"annotationdefaults\": {\"arrowcolor\": \"#2a3f5f\", \"arrowhead\": 0, \"arrowwidth\": 1}, \"coloraxis\": {\"colorbar\": {\"outlinewidth\": 0, \"ticks\": \"\"}}, \"colorscale\": {\"diverging\": [[0, \"#8e0152\"], [0.1, \"#c51b7d\"], [0.2, \"#de77ae\"], [0.3, \"#f1b6da\"], [0.4, \"#fde0ef\"], [0.5, \"#f7f7f7\"], [0.6, \"#e6f5d0\"], [0.7, \"#b8e186\"], [0.8, \"#7fbc41\"], [0.9, \"#4d9221\"], [1, \"#276419\"]], \"sequential\": [[0.0, \"#0d0887\"], [0.1111111111111111, \"#46039f\"], [0.2222222222222222, \"#7201a8\"], [0.3333333333333333, \"#9c179e\"], [0.4444444444444444, \"#bd3786\"], [0.5555555555555556, \"#d8576b\"], [0.6666666666666666, \"#ed7953\"], [0.7777777777777778, \"#fb9f3a\"], [0.8888888888888888, \"#fdca26\"], [1.0, \"#f0f921\"]], \"sequentialminus\": [[0.0, \"#0d0887\"], [0.1111111111111111, \"#46039f\"], [0.2222222222222222, \"#7201a8\"], [0.3333333333333333, \"#9c179e\"], [0.4444444444444444, \"#bd3786\"], [0.5555555555555556, \"#d8576b\"], [0.6666666666666666, \"#ed7953\"], [0.7777777777777778, \"#fb9f3a\"], [0.8888888888888888, \"#fdca26\"], [1.0, \"#f0f921\"]]}, \"colorway\": [\"#636efa\", \"#EF553B\", \"#00cc96\", \"#ab63fa\", \"#FFA15A\", \"#19d3f3\", \"#FF6692\", \"#B6E880\", \"#FF97FF\", \"#FECB52\"], \"font\": {\"color\": \"#2a3f5f\"}, \"geo\": {\"bgcolor\": \"white\", \"lakecolor\": \"white\", \"landcolor\": \"#E5ECF6\", \"showlakes\": true, \"showland\": true, \"subunitcolor\": \"white\"}, \"hoverlabel\": {\"align\": \"left\"}, \"hovermode\": \"closest\", \"mapbox\": {\"style\": \"light\"}, \"paper_bgcolor\": \"white\", \"plot_bgcolor\": \"#E5ECF6\", \"polar\": {\"angularaxis\": {\"gridcolor\": \"white\", \"linecolor\": \"white\", \"ticks\": \"\"}, \"bgcolor\": \"#E5ECF6\", \"radialaxis\": {\"gridcolor\": \"white\", \"linecolor\": \"white\", \"ticks\": \"\"}}, \"scene\": {\"xaxis\": {\"backgroundcolor\": \"#E5ECF6\", \"gridcolor\": \"white\", \"gridwidth\": 2, \"linecolor\": \"white\", \"showbackground\": true, \"ticks\": \"\", \"zerolinecolor\": \"white\"}, \"yaxis\": {\"backgroundcolor\": \"#E5ECF6\", \"gridcolor\": \"white\", \"gridwidth\": 2, \"linecolor\": \"white\", \"showbackground\": true, \"ticks\": \"\", \"zerolinecolor\": \"white\"}, \"zaxis\": {\"backgroundcolor\": \"#E5ECF6\", \"gridcolor\": \"white\", \"gridwidth\": 2, \"linecolor\": \"white\", \"showbackground\": true, \"ticks\": \"\", \"zerolinecolor\": \"white\"}}, \"shapedefaults\": {\"line\": {\"color\": \"#2a3f5f\"}}, \"ternary\": {\"aaxis\": {\"gridcolor\": \"white\", \"linecolor\": \"white\", \"ticks\": \"\"}, \"baxis\": {\"gridcolor\": \"white\", \"linecolor\": \"white\", \"ticks\": \"\"}, \"bgcolor\": \"#E5ECF6\", \"caxis\": {\"gridcolor\": \"white\", \"linecolor\": \"white\", \"ticks\": \"\"}}, \"title\": {\"x\": 0.05}, \"xaxis\": {\"automargin\": true, \"gridcolor\": \"white\", \"linecolor\": \"white\", \"ticks\": \"\", \"title\": {\"standoff\": 15}, \"zerolinecolor\": \"white\", \"zerolinewidth\": 2}, \"yaxis\": {\"automargin\": true, \"gridcolor\": \"white\", \"linecolor\": \"white\", \"ticks\": \"\", \"title\": {\"standoff\": 15}, \"zerolinecolor\": \"white\", \"zerolinewidth\": 2}}}, \"updatemenus\": [{\"buttons\": [{\"args\": [null, {\"frame\": {\"duration\": 500, \"redraw\": false}, \"fromcurrent\": true, \"mode\": \"immediate\", \"transition\": {\"duration\": 500, \"easing\": \"linear\"}}], \"label\": \"&#9654;\", \"method\": \"animate\"}, {\"args\": [[null], {\"frame\": {\"duration\": 0, \"redraw\": false}, \"fromcurrent\": true, \"mode\": \"immediate\", \"transition\": {\"duration\": 0, \"easing\": \"linear\"}}], \"label\": \"&#9724;\", \"method\": \"animate\"}], \"direction\": \"left\", \"pad\": {\"r\": 10, \"t\": 70}, \"showactive\": false, \"type\": \"buttons\", \"x\": 0.1, \"xanchor\": \"right\", \"y\": 0, \"yanchor\": \"top\"}], \"xaxis\": {\"anchor\": \"y\", \"domain\": [0.0, 1.0], \"title\": {\"text\": \"Year\"}}, \"yaxis\": {\"anchor\": \"x\", \"domain\": [0.0, 1.0], \"range\": [-0.6832426283624036, 0.4803162778248651], \"title\": {\"text\": \"n_extent\"}}},\n",
              "                        {\"responsive\": true}\n",
              "                    ).then(function(){\n",
              "                            Plotly.addFrames('8882e082-6682-4d38-a87f-769fe08d6cb7', [{\"data\": [{\"hoverlabel\": {\"namelength\": 0}, \"hovertemplate\": \"Month=1<br>Year=%{x}<br>n_extent=%{y}\", \"legendgroup\": \"\", \"marker\": {\"color\": \"#636efa\", \"opacity\": 0.65, \"symbol\": \"circle\"}, \"mode\": \"markers\", \"name\": \"\", \"showlegend\": false, \"x\": [1979, 1980, 1981, 1982, 1983, 1984, 1985, 1986, 1987, 1988, 1989, 1990, 1991, 1992, 1993, 1994, 1995, 1996, 1997, 1998, 1999, 2000, 2001, 2002, 2003, 2004, 2005, 2006, 2007, 2008, 2009, 2010, 2011, 2012, 2013], \"xaxis\": \"x\", \"y\": [0.07070090652283034, 0.030739096626868967, 0.03556207368327801, 0.0514089982971938, 0.04038505073968718, 0.006624211344823139, 0.023849129403427233, 0.03487307696093386, 0.04727501796312879, 0.029016604821008287, 0.04176304418437547, 0.030050099904524695, -0.0037107394903392182, 0.014203175290609023, 0.03900705729499888, 0.021093142514050638, 0.007313208067167288, -0.02093565754894331, -0.0030217427679950695, 0.020404145791706487, -0.0030217427679950695, -0.007155723102060086, -0.014045690325501698, -0.004399736212683489, -0.0037107394903392182, -0.03333759855113836, -0.05883047727787236, -0.06296445761193738, -0.0512515133320866, -0.03195960510644994, -0.029892614939417493, -0.049184523165054034, -0.06503144777896983, -0.0512515133320866, -0.05056251660974245], \"yaxis\": \"y\", \"type\": \"scatter\"}, {\"hoverlabel\": {\"namelength\": 0}, \"hovertemplate\": \"<b>OLS trendline</b><br>n_extent = -0.003284 * year + 6.555684<br>R<sup>2</sup>=0.813582<br><br>Month=1<br>Year=%{x}<br>n_extent=%{y} <b>(trend)</b>\", \"legendgroup\": \"\", \"line\": {\"color\": \"darkblue\"}, \"marker\": {\"color\": \"#636efa\", \"symbol\": \"circle\"}, \"mode\": \"lines\", \"name\": \"\", \"showlegend\": false, \"x\": [1979, 1980, 1981, 1982, 1983, 1984, 1985, 1986, 1987, 1988, 1989, 1990, 1991, 1992, 1993, 1994, 1995, 1996, 1997, 1998, 1999, 2000, 2001, 2002, 2003, 2004, 2005, 2006, 2007, 2008, 2009, 2010, 2011, 2012, 2013], \"xaxis\": \"x\", \"y\": [0.05583498200406112, 0.05255057129793972, 0.04926616059181832, 0.04598174988569692, 0.04269733917957641, 0.03941292847345501, 0.03612851776733361, 0.03284410706121221, 0.029559696355090814, 0.026275285648969415, 0.022990874942848905, 0.019706464236727506, 0.016422053530606107, 0.013137642824484708, 0.009853232118363309, 0.00656882141224191, 0.0032844107061205108, 0.0, -0.003284410706121399, -0.006568821412242798, -0.009853232118364197, -0.013137642824485596, -0.016422053530606995, -0.019706464236728394, -0.022990874942848905, -0.026275285648970303, -0.029559696355091702, -0.0328441070612131, -0.0361285177673345, -0.0394129284734559, -0.0426973391795773, -0.04598174988569781, -0.04926616059181921, -0.05255057129794061, -0.055834982004062006], \"yaxis\": \"y\", \"type\": \"scatter\"}], \"name\": \"1\"}, {\"data\": [{\"hoverlabel\": {\"namelength\": 0}, \"hovertemplate\": \"Month=2<br>Year=%{x}<br>n_extent=%{y}\", \"legendgroup\": \"\", \"marker\": {\"color\": \"#636efa\", \"opacity\": 0.65, \"symbol\": \"circle\"}, \"mode\": \"markers\", \"name\": \"\", \"showlegend\": false, \"x\": [1979, 1980, 1981, 1982, 1983, 1984, 1985, 1986, 1987, 1988, 1989, 1990, 1991, 1992, 1993, 1994, 1995, 1996, 1997, 1998, 1999, 2000, 2001, 2002, 2003, 2004, 2005, 2006, 2007, 2008, 2009, 2010, 2011, 2012, 2013], \"xaxis\": \"x\", \"y\": [0.064383204057279, 0.04284755369928389, 0.02131190334128866, 0.048068317422434136, 0.04545793556085901, -0.00022374701670656828, 0.02261709427207622, 0.036974194510739744, 0.05133129474940316, 0.01870152147971342, 0.015438544152744517, 0.015438544152744517, -0.004139319809069369, 0.011522971360381717, 0.026532667064439023, 0.01870152147971342, -0.0054445107398569306, -0.010012678997613511, 0.012828162291169279, 0.029143048926014145, 0.0030392303102623353, -0.00936008353221973, -0.003486724343675588, 0.0023866348448685548, -0.004791915274463149, -0.025674970167064597, -0.06287291169451091, -0.05895733890214811, -0.05177878878281641, -0.020454206443914234, -0.03089573389021496, -0.04786321599045361, -0.06156772076372324, -0.04786321599045361, -0.041337261336515684], \"yaxis\": \"y\", \"type\": \"scatter\"}, {\"hoverlabel\": {\"namelength\": 0}, \"hovertemplate\": \"<b>OLS trendline</b><br>n_extent = -0.002959 * year + 5.905397<br>R<sup>2</sup>=0.764786<br><br>Month=2<br>Year=%{x}<br>n_extent=%{y} <b>(trend)</b>\", \"legendgroup\": \"\", \"line\": {\"color\": \"darkblue\"}, \"marker\": {\"color\": \"#636efa\", \"symbol\": \"circle\"}, \"mode\": \"lines\", \"name\": \"\", \"showlegend\": false, \"x\": [1979, 1980, 1981, 1982, 1983, 1984, 1985, 1986, 1987, 1988, 1989, 1990, 1991, 1992, 1993, 1994, 1995, 1996, 1997, 1998, 1999, 2000, 2001, 2002, 2003, 2004, 2005, 2006, 2007, 2008, 2009, 2010, 2011, 2012, 2013], \"xaxis\": \"x\", \"y\": [0.050296464797134455, 0.04733784922083206, 0.04437923364453056, 0.041420618068228165, 0.03846200249192577, 0.03550338691562427, 0.032544771339321876, 0.029586155763019484, 0.02662754018671798, 0.023668924610415587, 0.020710309034113195, 0.01775169345781169, 0.014793077881509298, 0.011834462305206905, 0.008875846728905401, 0.005917231152603009, 0.002958615576300616, -8.881784197001252e-16, -0.0029586155763032806, -0.005917231152605673, -0.008875846728908066, -0.01183446230520957, -0.014793077881511962, -0.017751693457814355, -0.02071030903411586, -0.02366892461041825, -0.026627540186720644, -0.02958615576302215, -0.03254477133932454, -0.03550338691562693, -0.03846200249192844, -0.04142061806823083, -0.04437923364453322, -0.04733784922083473, -0.05029646479713712], \"yaxis\": \"y\", \"type\": \"scatter\"}], \"name\": \"2\"}, {\"data\": [{\"hoverlabel\": {\"namelength\": 0}, \"hovertemplate\": \"Month=3<br>Year=%{x}<br>n_extent=%{y}\", \"legendgroup\": \"\", \"marker\": {\"color\": \"#636efa\", \"opacity\": 0.65, \"symbol\": \"circle\"}, \"mode\": \"markers\", \"name\": \"\", \"showlegend\": false, \"x\": [1979, 1980, 1981, 1982, 1983, 1984, 1985, 1986, 1987, 1988, 1989, 1990, 1991, 1992, 1993, 1994, 1995, 1996, 1997, 1998, 1999, 2000, 2001, 2002, 2003, 2004, 2005, 2006, 2007, 2008, 2009, 2010, 2011, 2012, 2013], \"xaxis\": \"x\", \"y\": [0.06185795171612481, 0.041201748400066435, 0.007635418011471631, 0.04249276110732005, 0.039265229339186115, 0.008280924365098441, 0.03668320392467865, 0.03797421663193227, 0.029582634034783624, 0.041201748400066435, 0.0018258608288302274, 0.025064089559395954, 0.0005348481215766077, -0.0014016709393038218, 0.025064089559395954, 0.005698898950591201, -0.0110842662437062, -0.023348886962615816, 0.005698898950591201, 0.010862949779605795, -0.005920215414691605, -0.014311798011840363, 0.007635418011471631, -0.003338190000184366, -0.00011065823205020214, -0.02851293779163041, -0.048523634754061976, -0.06853433171649354, -0.05433319193670338, -0.01753932977997441, -0.022703380608989007, -0.02463989966986955, -0.05885173641209116, -0.016248317072720793, -0.029158444145257333], \"yaxis\": \"y\", \"type\": \"scatter\"}, {\"hoverlabel\": {\"namelength\": 0}, \"hovertemplate\": \"<b>OLS trendline</b><br>n_extent = -0.002552 * year + 5.094534<br>R<sup>2</sup>=0.692063<br><br>Month=3<br>Year=%{x}<br>n_extent=%{y} <b>(trend)</b>\", \"legendgroup\": \"\", \"line\": {\"color\": \"darkblue\"}, \"marker\": {\"color\": \"#636efa\", \"symbol\": \"circle\"}, \"mode\": \"lines\", \"name\": \"\", \"showlegend\": false, \"x\": [1979, 1980, 1981, 1982, 1983, 1984, 1985, 1986, 1987, 1988, 1989, 1990, 1991, 1992, 1993, 1994, 1995, 1996, 1997, 1998, 1999, 2000, 2001, 2002, 2003, 2004, 2005, 2006, 2007, 2008, 2009, 2010, 2011, 2012, 2013], \"xaxis\": \"x\", \"y\": [0.043390322322839125, 0.04083795042149596, 0.038285578520152797, 0.035733206618808744, 0.03318083471746558, 0.030628462816122415, 0.028076090914778362, 0.025523719013435198, 0.022971347112092033, 0.02041897521074798, 0.017866603309404816, 0.015314231408060763, 0.012761859506717599, 0.010209487605374434, 0.007657115704030382, 0.005104743802687217, 0.0025523719013440527, 0.0, -0.0025523719013431645, -0.005104743802686329, -0.007657115704030382, -0.010209487605373546, -0.01276185950671671, -0.015314231408060763, -0.017866603309403928, -0.020418975210747092, -0.022971347112091145, -0.02552371901343431, -0.028076090914778362, -0.030628462816121527, -0.03318083471746469, -0.035733206618808744, -0.03828557852015191, -0.04083795042149507, -0.043390322322839125], \"yaxis\": \"y\", \"type\": \"scatter\"}], \"name\": \"3\"}, {\"data\": [{\"hoverlabel\": {\"namelength\": 0}, \"hovertemplate\": \"Month=4<br>Year=%{x}<br>n_extent=%{y}\", \"legendgroup\": \"\", \"marker\": {\"color\": \"#636efa\", \"opacity\": 0.65, \"symbol\": \"circle\"}, \"mode\": \"markers\", \"name\": \"\", \"showlegend\": false, \"x\": [1979, 1980, 1981, 1982, 1983, 1984, 1985, 1986, 1987, 1988, 1989, 1990, 1991, 1992, 1993, 1994, 1995, 1996, 1997, 1998, 1999, 2000, 2001, 2002, 2003, 2004, 2005, 2006, 2007, 2008, 2009, 2010, 2011, 2012, 2013], \"xaxis\": \"x\", \"y\": [0.04699986455370439, 0.049031558986861595, 0.02397399431125541, 0.054449410808614276, 0.03616416091019903, 0.02600568874441274, 0.038873086821075306, 0.02600568874441274, 0.03819585534335624, 0.03006907761072728, -0.022077746173642304, -0.005824190708384265, 0.011106596234592842, -0.004469727752946126, 0.02803738317756995, 0.012461059190030982, -0.011919274007856015, -0.036976838683462084, -0.011919274007856015, 0.008397670323716563, 0.0246512257889746, -0.009210348096979615, 0.0063659758905592325, -0.026818366517675912, -0.013273736963294154, -0.04442638493837209, -0.04713531084924837, -0.053907625626439186, -0.06067994040363013, -0.023432209129080443, -0.013273736963294154, -0.004469727752946126, -0.04104022754977662, -0.0031152647975078657, -0.026818366517675912], \"yaxis\": \"y\", \"type\": \"scatter\"}, {\"hoverlabel\": {\"namelength\": 0}, \"hovertemplate\": \"<b>OLS trendline</b><br>n_extent = -0.002383 * year + 4.757265<br>R<sup>2</sup>=0.603821<br><br>Month=4<br>Year=%{x}<br>n_extent=%{y} <b>(trend)</b>\", \"legendgroup\": \"\", \"line\": {\"color\": \"darkblue\"}, \"marker\": {\"color\": \"#636efa\", \"symbol\": \"circle\"}, \"mode\": \"lines\", \"name\": \"\", \"showlegend\": false, \"x\": [1979, 1980, 1981, 1982, 1983, 1984, 1985, 1986, 1987, 1988, 1989, 1990, 1991, 1992, 1993, 1994, 1995, 1996, 1997, 1998, 1999, 2000, 2001, 2002, 2003, 2004, 2005, 2006, 2007, 2008, 2009, 2010, 2011, 2012, 2013], \"xaxis\": \"x\", \"y\": [0.040517791838393435, 0.038134392318487365, 0.03575099279858218, 0.033367593278677, 0.030984193758770928, 0.028600794238865745, 0.026217394718960563, 0.023833995199054492, 0.02145059567914931, 0.019067196159244126, 0.016683796639338055, 0.014300397119432873, 0.01191699759952769, 0.009533598079621619, 0.007150198559716436, 0.004766799039811254, 0.0023833995199051827, 0.0, -0.0023833995199051827, -0.004766799039811254, -0.007150198559716436, -0.009533598079621619, -0.01191699759952769, -0.014300397119432873, -0.016683796639338055, -0.019067196159243238, -0.02145059567914931, -0.023833995199054492, -0.026217394718959675, -0.028600794238865745, -0.030984193758770928, -0.03336759327867611, -0.03575099279858218, -0.038134392318487365, -0.04051779183839255], \"yaxis\": \"y\", \"type\": \"scatter\"}], \"name\": \"4\"}, {\"data\": [{\"hoverlabel\": {\"namelength\": 0}, \"hovertemplate\": \"Month=5<br>Year=%{x}<br>n_extent=%{y}\", \"legendgroup\": \"\", \"marker\": {\"color\": \"#636efa\", \"opacity\": 0.65, \"symbol\": \"circle\"}, \"mode\": \"markers\", \"name\": \"\", \"showlegend\": false, \"x\": [1979, 1980, 1981, 1982, 1983, 1984, 1985, 1986, 1987, 1988, 1989, 1990, 1991, 1992, 1993, 1994, 1995, 1996, 1997, 1998, 1999, 2000, 2001, 2002, 2003, 2004, 2005, 2006, 2007, 2008, 2009, 2010, 2011, 2012, 2013], \"xaxis\": \"x\", \"y\": [0.049567034935801564, 0.04807405195580744, 0.03762317109584933, 0.057778441325768676, 0.010749477455956745, 0.02120035831591498, 0.0622573902657508, 0.009256494475962749, 0.03090474768587622, 0.02194684980591198, -0.031054045983875938, -0.007166318303971473, 0.008510002985965751, -0.010898775753956595, 0.010749477455956745, 0.024932815765900104, -0.02657509704389395, -0.025082114063899822, -0.005673335323977477, 0.030158256195879224, 0.03463720513586121, -0.016124216183935714, 0.024186324275903105, -0.020603165123917834, -0.029561063003881942, -0.06091370558375652, -0.03030755449387894, -0.05792773962376853, -0.037772469393849054, -0.015377724693938716, 0.0002985965959986401, -0.02134965661391483, -0.04374440131382517, -0.020603165123917834, -0.02209614810391183], \"yaxis\": \"y\", \"type\": \"scatter\"}, {\"hoverlabel\": {\"namelength\": 0}, \"hovertemplate\": \"<b>OLS trendline</b><br>n_extent = -0.002273 * year + 4.537604<br>R<sup>2</sup>=0.512795<br><br>Month=5<br>Year=%{x}<br>n_extent=%{y} <b>(trend)</b>\", \"legendgroup\": \"\", \"line\": {\"color\": \"darkblue\"}, \"marker\": {\"color\": \"#636efa\", \"symbol\": \"circle\"}, \"mode\": \"lines\", \"name\": \"\", \"showlegend\": false, \"x\": [1979, 1980, 1981, 1982, 1983, 1984, 1985, 1986, 1987, 1988, 1989, 1990, 1991, 1992, 1993, 1994, 1995, 1996, 1997, 1998, 1999, 2000, 2001, 2002, 2003, 2004, 2005, 2006, 2007, 2008, 2009, 2010, 2011, 2012, 2013], \"xaxis\": \"x\", \"y\": [0.038646930853559525, 0.0363735819798201, 0.03410023310608157, 0.03182688423234303, 0.02955353535860361, 0.027280186484865077, 0.025006837611126542, 0.02273348873738712, 0.020460139863648585, 0.01818679098991005, 0.015913442116171517, 0.013640093242432094, 0.01136674436869356, 0.009093395494955026, 0.006820046621215603, 0.004546697747477069, 0.0022733488737385343, -8.881784197001252e-16, -0.0022733488737394225, -0.004546697747477957, -0.006820046621216491, -0.009093395494955914, -0.011366744368694448, -0.013640093242432982, -0.015913442116172405, -0.01818679098991094, -0.020460139863649474, -0.022733488737388008, -0.02500683761112743, -0.027280186484865965, -0.0295535353586045, -0.03182688423234392, -0.034100233106082456, -0.03637358197982099, -0.03864693085356041], \"yaxis\": \"y\", \"type\": \"scatter\"}], \"name\": \"5\"}, {\"data\": [{\"hoverlabel\": {\"namelength\": 0}, \"hovertemplate\": \"Month=6<br>Year=%{x}<br>n_extent=%{y}\", \"legendgroup\": \"\", \"marker\": {\"color\": \"#636efa\", \"opacity\": 0.65, \"symbol\": \"circle\"}, \"mode\": \"markers\", \"name\": \"\", \"showlegend\": false, \"x\": [1979, 1980, 1981, 1982, 1983, 1984, 1985, 1986, 1987, 1988, 1989, 1990, 1991, 1992, 1993, 1994, 1995, 1996, 1997, 1998, 1999, 2000, 2001, 2002, 2003, 2004, 2005, 2006, 2007, 2008, 2009, 2010, 2011, 2012, 2013], \"xaxis\": \"x\", \"y\": [0.061551433389544725, 0.03794266441821257, 0.05986509274873532, 0.06998313659359191, 0.04215851602023609, 0.02866779089376053, 0.04553119730185506, 0.020236087689713342, 0.05986509274873532, 0.013490725126475561, 0.03794266441821257, -0.015177065767284968, 0.03119730185497479, 0.0227655986509276, 0.010961214165261449, 0.020236087689713342, -0.026138279932546266, 0.020236087689713342, 0.004215851602023669, -0.0008431703204047038, 0.020236087689713342, -0.012647554806070707, -0.014333895446880265, -0.014333895446880265, -0.007588532883642484, -0.029510961214165233, -0.048060708263069164, -0.06745362563237765, -0.03119730185497464, -0.04215851602023609, -0.03372681281618875, -0.087689713322091, -0.07335581787521073, -0.0792580101180438, -0.023608768971332156], \"yaxis\": \"y\", \"type\": \"scatter\"}, {\"hoverlabel\": {\"namelength\": 0}, \"hovertemplate\": \"<b>OLS trendline</b><br>n_extent = -0.003661 * year + 7.306532<br>R<sup>2</sup>=0.798275<br><br>Month=6<br>Year=%{x}<br>n_extent=%{y} <b>(trend)</b>\", \"legendgroup\": \"\", \"line\": {\"color\": \"darkblue\"}, \"marker\": {\"color\": \"#636efa\", \"symbol\": \"circle\"}, \"mode\": \"lines\", \"name\": \"\", \"showlegend\": false, \"x\": [1979, 1980, 1981, 1982, 1983, 1984, 1985, 1986, 1987, 1988, 1989, 1990, 1991, 1992, 1993, 1994, 1995, 1996, 1997, 1998, 1999, 2000, 2001, 2002, 2003, 2004, 2005, 2006, 2007, 2008, 2009, 2010, 2011, 2012, 2013], \"xaxis\": \"x\", \"y\": [0.06222998474263264, 0.05856939740483025, 0.054908810067028746, 0.051248222729226356, 0.047587635391424854, 0.04392704805362335, 0.04026646071582096, 0.03660587337801946, 0.03294528604021707, 0.029284698702415568, 0.025624111364613178, 0.021963524026811676, 0.018302936689010174, 0.014642349351207784, 0.010981762013406282, 0.007321174675603892, 0.00366058733780239, 0.0, -0.003660587337801502, -0.007321174675603004, -0.010981762013405394, -0.014642349351206896, -0.018302936689009286, -0.021963524026810788, -0.025624111364613178, -0.02928469870241468, -0.03294528604021618, -0.03660587337801857, -0.040266460715820074, -0.043927048053622464, -0.047587635391423966, -0.051248222729226356, -0.05490881006702786, -0.05856939740482936, -0.06222998474263175], \"yaxis\": \"y\", \"type\": \"scatter\"}], \"name\": \"6\"}, {\"data\": [{\"hoverlabel\": {\"namelength\": 0}, \"hovertemplate\": \"Month=7<br>Year=%{x}<br>n_extent=%{y}\", \"legendgroup\": \"\", \"marker\": {\"color\": \"#636efa\", \"opacity\": 0.65, \"symbol\": \"circle\"}, \"mode\": \"markers\", \"name\": \"\", \"showlegend\": false, \"x\": [1979, 1980, 1981, 1982, 1983, 1984, 1985, 1986, 1987, 1988, 1989, 1990, 1991, 1992, 1993, 1994, 1995, 1996, 1997, 1998, 1999, 2000, 2001, 2002, 2003, 2004, 2005, 2006, 2007, 2008, 2009, 2010, 2011, 2012, 2013], \"xaxis\": \"x\", \"y\": [0.09049517914533947, 0.08216283775740946, 0.10611831924770808, 0.11965837400309443, 0.13632305677895445, 0.05716581359361942, 0.05091655755267187, 0.09049517914533947, 0.03945958814426817, 0.04570884418521554, 0.08112129508391823, 0.0019640518985830206, 0.008213307939530576, 0.10507677657421685, 0.006130222592548119, 0.0644566123080582, -0.046988453755505644, 0.0790382097369356, -0.0011605761218906646, 0.0019640518985830206, -0.0011605761218906646, 0.01550410665396936, -0.03969765504106686, -0.011576002856803134, -0.01470063087727682, -0.00011903344839943628, -0.06990239257231322, -0.09698250208308572, -0.15322580645161316, -0.06365313653136566, -0.08344244732769937, -0.12927032496131455, -0.17613974526842074, -0.1740566599214383, -0.11989644089989329], \"yaxis\": \"y\", \"type\": \"scatter\"}, {\"hoverlabel\": {\"namelength\": 0}, \"hovertemplate\": \"<b>OLS trendline</b><br>n_extent = -0.007458 * year + 14.885527<br>R<sup>2</sup>=0.792612<br><br>Month=7<br>Year=%{x}<br>n_extent=%{y} <b>(trend)</b>\", \"legendgroup\": \"\", \"line\": {\"color\": \"darkblue\"}, \"marker\": {\"color\": \"#636efa\", \"symbol\": \"circle\"}, \"mode\": \"lines\", \"name\": \"\", \"showlegend\": false, \"x\": [1979, 1980, 1981, 1982, 1983, 1984, 1985, 1986, 1987, 1988, 1989, 1990, 1991, 1992, 1993, 1994, 1995, 1996, 1997, 1998, 1999, 2000, 2001, 2002, 2003, 2004, 2005, 2006, 2007, 2008, 2009, 2010, 2011, 2012, 2013], \"xaxis\": \"x\", \"y\": [0.1267805419989667, 0.11932286305785134, 0.11186518411673596, 0.10440750517562059, 0.09694982623450521, 0.08949214729338806, 0.08203446835227268, 0.07457678941115731, 0.06711911047004193, 0.05966143152892478, 0.052203752587809404, 0.04474607364669403, 0.037288394705578654, 0.029830715764463278, 0.022373036823346126, 0.014915357882230751, 0.0074576789411153754, 0.0, -0.0074576789411153754, -0.014915357882232527, -0.022373036823347903, -0.029830715764463278, -0.037288394705578654, -0.04474607364669403, -0.05220375258781118, -0.059661431528926556, -0.06711911047004193, -0.07457678941115731, -0.08203446835227268, -0.08949214729338983, -0.09694982623450521, -0.10440750517562059, -0.11186518411673596, -0.11932286305785311, -0.1267805419989685], \"yaxis\": \"y\", \"type\": \"scatter\"}], \"name\": \"7\"}, {\"data\": [{\"hoverlabel\": {\"namelength\": 0}, \"hovertemplate\": \"Month=8<br>Year=%{x}<br>n_extent=%{y}\", \"legendgroup\": \"\", \"marker\": {\"color\": \"#636efa\", \"opacity\": 0.65, \"symbol\": \"circle\"}, \"mode\": \"markers\", \"name\": \"\", \"showlegend\": false, \"x\": [1979, 1980, 1981, 1982, 1983, 1984, 1985, 1986, 1987, 1988, 1989, 1990, 1991, 1992, 1993, 1994, 1995, 1996, 1997, 1998, 1999, 2000, 2001, 2002, 2003, 2004, 2005, 2006, 2007, 2008, 2009, 2010, 2011, 2012, 2013], \"xaxis\": \"x\", \"y\": [0.14429557124518583, 0.12885109114248988, 0.103578305519897, 0.1597400513478815, 0.1737804878048776, 0.10498234916559658, 0.04741655969191237, 0.12463896020539114, 0.07970956354300356, 0.10919448010269546, 0.11200256739409463, -0.04244223363286291, 0.03899229781771474, 0.103578305519897, 0.023547817715018935, 0.06847721437740664, -0.06209884467265759, 0.147103658536585, 0.02495186136071852, 0.05162869062901125, 0.036184210526315444, 0.01231546854942201, 0.048820603337611956, -0.08315949935815173, -0.03823010269576416, -0.041038189987163326, -0.11545250320924293, -0.08456354300385144, -0.24743260590500663, -0.1505535943517333, -0.1182605905006421, -0.15616976893453174, -0.220755776636714, -0.3386954428754816, -0.14493741976893482], \"yaxis\": \"y\", \"type\": \"scatter\"}, {\"hoverlabel\": {\"namelength\": 0}, \"hovertemplate\": \"<b>OLS trendline</b><br>n_extent = -0.010746 * year + 21.448717<br>R<sup>2</sup>=0.745896<br><br>Month=8<br>Year=%{x}<br>n_extent=%{y} <b>(trend)</b>\", \"legendgroup\": \"\", \"line\": {\"color\": \"darkblue\"}, \"marker\": {\"color\": \"#636efa\", \"symbol\": \"circle\"}, \"mode\": \"lines\", \"name\": \"\", \"showlegend\": false, \"x\": [1979, 1980, 1981, 1982, 1983, 1984, 1985, 1986, 1987, 1988, 1989, 1990, 1991, 1992, 1993, 1994, 1995, 1996, 1997, 1998, 1999, 2000, 2001, 2002, 2003, 2004, 2005, 2006, 2007, 2008, 2009, 2010, 2011, 2012, 2013], \"xaxis\": \"x\", \"y\": [0.1826794501497595, 0.1719336001409495, 0.16118775013213948, 0.15044190012332948, 0.13969605011451947, 0.12895020010570946, 0.11820435009689945, 0.10745850008808944, 0.09671265007928298, 0.08596680007047297, 0.07522095006166296, 0.06447510005285295, 0.05372925004404294, 0.04298340003523293, 0.03223755002642292, 0.021491700017612914, 0.010745850008802904, -7.105427357601002e-15, -0.010745850008813562, -0.021491700017623572, -0.03223755002643358, -0.04298340003524359, -0.0537292500440536, -0.06447510005286361, -0.07522095006167362, -0.08596680007048363, -0.09671265007929364, -0.1074585000881001, -0.1182043500969101, -0.12895020010572011, -0.13969605011453012, -0.15044190012334013, -0.16118775013215014, -0.17193360014096015, -0.18267945014977016], \"yaxis\": \"y\", \"type\": \"scatter\"}], \"name\": \"8\"}, {\"data\": [{\"hoverlabel\": {\"namelength\": 0}, \"hovertemplate\": \"Month=9<br>Year=%{x}<br>n_extent=%{y}\", \"legendgroup\": \"\", \"marker\": {\"color\": \"#636efa\", \"opacity\": 0.65, \"symbol\": \"circle\"}, \"mode\": \"markers\", \"name\": \"\", \"showlegend\": false, \"x\": [1979, 1980, 1981, 1982, 1983, 1984, 1985, 1986, 1987, 1988, 1989, 1990, 1991, 1992, 1993, 1994, 1995, 1996, 1997, 1998, 1999, 2000, 2001, 2002, 2003, 2004, 2005, 2006, 2007, 2008, 2009, 2010, 2011, 2012, 2013], \"xaxis\": \"x\", \"y\": [0.12414685283490212, 0.2256323326047196, 0.13195342820181113, 0.16317972966944733, 0.1741089351831199, 0.11946290761475666, 0.08199134585359322, 0.17723156532988357, 0.1678636748895928, 0.16942498996297456, 0.09916581166079316, -0.025739394209751486, 0.022661373065084516, 0.17879288040326535, 0.0148547976981755, 0.12102422268813844, -0.04291386001695143, 0.23031627782486505, 0.05232635945933894, 0.02422268813846629, -0.025739394209751486, -0.013248873622697008, 0.05388767453272071, -0.06945621626444216, -0.03979122987018774, -0.05540438060400591, -0.13034750412633264, -0.0757014765579694, -0.32863451844582237, -0.26149797029040456, -0.1584511754472053, -0.23027166882276848, -0.2771111210242227, -0.43324262836240357, -0.16469643574073253], \"yaxis\": \"y\", \"type\": \"scatter\"}, {\"hoverlabel\": {\"namelength\": 0}, \"hovertemplate\": \"<b>OLS trendline</b><br>n_extent = -0.013890 * year + 27.724477<br>R<sup>2</sup>=0.726482<br><br>Month=9<br>Year=%{x}<br>n_extent=%{y} <b>(trend)</b>\", \"legendgroup\": \"\", \"line\": {\"color\": \"darkblue\"}, \"marker\": {\"color\": \"#636efa\", \"symbol\": \"circle\"}, \"mode\": \"lines\", \"name\": \"\", \"showlegend\": false, \"x\": [1979, 1980, 1981, 1982, 1983, 1984, 1985, 1986, 1987, 1988, 1989, 1990, 1991, 1992, 1993, 1994, 1995, 1996, 1997, 1998, 1999, 2000, 2001, 2002, 2003, 2004, 2005, 2006, 2007, 2008, 2009, 2010, 2011, 2012, 2013], \"xaxis\": \"x\", \"y\": [0.23613031776478266, 0.22224029907273746, 0.2083502803806887, 0.1944602616886435, 0.18057024299659474, 0.16668022430454954, 0.15279020561250434, 0.13890018692045558, 0.12501016822841038, 0.11112014953636518, 0.09723013084431642, 0.08334011215227122, 0.06945009346022601, 0.05556007476817726, 0.041670056076132056, 0.0277800373840833, 0.013890018692038097, -7.105427357601002e-15, -0.013890018692055861, -0.027780037384101064, -0.04167005607614627, -0.05556007476819502, -0.06945009346024023, -0.08334011215228543, -0.09723013084433418, -0.11112014953637939, -0.1250101682284246, -0.13890018692047335, -0.15279020561251855, -0.1666802243045673, -0.1805702429966125, -0.1944602616886577, -0.20835028038070647, -0.22224029907275167, -0.23613031776479687], \"yaxis\": \"y\", \"type\": \"scatter\"}], \"name\": \"9\"}, {\"data\": [{\"hoverlabel\": {\"namelength\": 0}, \"hovertemplate\": \"Month=10<br>Year=%{x}<br>n_extent=%{y}\", \"legendgroup\": \"\", \"marker\": {\"color\": \"#636efa\", \"opacity\": 0.65, \"symbol\": \"circle\"}, \"mode\": \"markers\", \"name\": \"\", \"showlegend\": false, \"x\": [1979, 1980, 1981, 1982, 1983, 1984, 1985, 1986, 1987, 1988, 1989, 1990, 1991, 1992, 1993, 1994, 1995, 1996, 1997, 1998, 1999, 2000, 2001, 2002, 2003, 2004, 2005, 2006, 2007, 2008, 2009, 2010, 2011, 2012, 2013], \"xaxis\": \"x\", \"y\": [0.06593798650752487, 0.07388427607680358, 0.0432343020238714, 0.13291385573430223, 0.09431759211209156, 0.0035028541774780784, 0.008043591074208854, 0.12269719771665825, 0.054586144265698036, 0.07501946030098622, 0.08069538142189944, 0.0613972496107941, 0.039828749351323474, 0.08977685521536079, 0.04209911779968876, 0.07615464452516886, 0.014854696419304713, 0.06593798650752487, -0.00557861961598327, 0.004638038401660722, 0.03301764400622741, 0.012584327970939427, -0.02487675142708861, 9.730150493014827e-05, -0.01806564608199255, -0.03736377789309789, -0.04076933056564602, -0.05439154125583794, -0.23148028022833414, -0.04417488323819395, -0.14634146341463405, -0.12477296315516334, -0.18947846393357543, -0.19742475350285402, -0.08050077841203934], \"yaxis\": \"y\", \"type\": \"scatter\"}, {\"hoverlabel\": {\"namelength\": 0}, \"hovertemplate\": \"<b>OLS trendline</b><br>n_extent = -0.007192 * year + 14.354685<br>R<sup>2</sup>=0.668549<br><br>Month=10<br>Year=%{x}<br>n_extent=%{y} <b>(trend)</b>\", \"legendgroup\": \"\", \"line\": {\"color\": \"darkblue\"}, \"marker\": {\"color\": \"#636efa\", \"symbol\": \"circle\"}, \"mode\": \"lines\", \"name\": \"\", \"showlegend\": false, \"x\": [1979, 1980, 1981, 1982, 1983, 1984, 1985, 1986, 1987, 1988, 1989, 1990, 1991, 1992, 1993, 1994, 1995, 1996, 1997, 1998, 1999, 2000, 2001, 2002, 2003, 2004, 2005, 2006, 2007, 2008, 2009, 2010, 2011, 2012, 2013], \"xaxis\": \"x\", \"y\": [0.12225934094447055, 0.11506761500656104, 0.10787588906864976, 0.10068416313074025, 0.09349243719283074, 0.08630071125491945, 0.07910898531700994, 0.07191725937909865, 0.06472553344118914, 0.05753380750327963, 0.050342081565368346, 0.043150355627458836, 0.035958629689549326, 0.02876690375163804, 0.02157517781372853, 0.01438345187581902, 0.007191725937907734, -1.7763568394002505e-15, -0.007191725937913063, -0.014383451875822573, -0.021575177813732083, -0.02876690375164337, -0.03595862968955288, -0.04315035562746239, -0.050342081565373675, -0.057533807503283185, -0.0647255334411927, -0.07191725937910398, -0.07910898531701349, -0.08630071125492478, -0.09349243719283429, -0.1006841631307438, -0.10787588906865508, -0.1150676150065646, -0.1222593409444741], \"yaxis\": \"y\", \"type\": \"scatter\"}], \"name\": \"10\"}, {\"data\": [{\"hoverlabel\": {\"namelength\": 0}, \"hovertemplate\": \"Month=11<br>Year=%{x}<br>n_extent=%{y}\", \"legendgroup\": \"\", \"marker\": {\"color\": \"#636efa\", \"opacity\": 0.65, \"symbol\": \"circle\"}, \"mode\": \"markers\", \"name\": \"\", \"showlegend\": false, \"x\": [1979, 1980, 1981, 1982, 1983, 1984, 1985, 1986, 1987, 1988, 1989, 1990, 1991, 1992, 1993, 1994, 1995, 1996, 1997, 1998, 1999, 2000, 2001, 2002, 2003, 2004, 2005, 2006, 2007, 2008, 2009, 2010, 2011, 2012, 2013], \"xaxis\": \"x\", \"y\": [0.020589464882943057, 0.06905831939799316, 0.021503971571906248, 0.08917746655518385, 0.06448578595317721, 0.0324780518394647, 0.041623118729096936, 0.07728887959866204, 0.05351170568561858, 0.06905831939799316, 0.0516826923076922, 0.03430706521739125, 0.01693143812709013, 0.08551943979933092, 0.07271634615384609, 0.033392558528428054, 0.0032138377926420993, -0.03428093645484955, -0.00227320234113721, -0.016905309364548593, 0.005042851170568481, -0.03610994983277609, -0.0013586956521740186, -0.014161789297659018, -0.05897261705685636, -0.026050376254180666, -0.042511496655518434, -0.10012541806020077, -0.08092077759197328, -0.028793896321070402, -0.06080163043478274, -0.09646739130434784, -0.0854933110367894, -0.09280936454849507, -0.06354515050167231], \"yaxis\": \"y\", \"type\": \"scatter\"}, {\"hoverlabel\": {\"namelength\": 0}, \"hovertemplate\": \"<b>OLS trendline</b><br>n_extent = -0.004843 * year + 9.665691<br>R<sup>2</sup>=0.751845<br><br>Month=11<br>Year=%{x}<br>n_extent=%{y} <b>(trend)</b>\", \"legendgroup\": \"\", \"line\": {\"color\": \"darkblue\"}, \"marker\": {\"color\": \"#636efa\", \"symbol\": \"circle\"}, \"mode\": \"lines\", \"name\": \"\", \"showlegend\": false, \"x\": [1979, 1980, 1981, 1982, 1983, 1984, 1985, 1986, 1987, 1988, 1989, 1990, 1991, 1992, 1993, 1994, 1995, 1996, 1997, 1998, 1999, 2000, 2001, 2002, 2003, 2004, 2005, 2006, 2007, 2008, 2009, 2010, 2011, 2012, 2013], \"xaxis\": \"x\", \"y\": [0.08232302118171475, 0.07748049052396588, 0.0726379598662188, 0.06779542920846993, 0.06295289855072284, 0.05811036789297397, 0.05326783723522688, 0.04842530657747801, 0.04358277591973092, 0.038740245261982054, 0.03389771460423496, 0.029055183946486096, 0.024212653288739006, 0.01937012263099014, 0.014527591973243048, 0.009685061315494181, 0.004842530657747091, -1.7763568394002505e-15, -0.004842530657750643, -0.009685061315497734, -0.0145275919732466, -0.01937012263099369, -0.02421265328874256, -0.02905518394648965, -0.033897714604238516, -0.038740245261985606, -0.04358277591973447, -0.048425306577481564, -0.05326783723523043, -0.05811036789297752, -0.06295289855072639, -0.06779542920847348, -0.07263795986622235, -0.07748049052396944, -0.0823230211817183], \"yaxis\": \"y\", \"type\": \"scatter\"}], \"name\": \"11\"}, {\"data\": [{\"hoverlabel\": {\"namelength\": 0}, \"hovertemplate\": \"Month=12<br>Year=%{x}<br>n_extent=%{y}\", \"legendgroup\": \"\", \"marker\": {\"color\": \"#636efa\", \"opacity\": 0.65, \"symbol\": \"circle\"}, \"mode\": \"markers\", \"name\": \"\", \"showlegend\": false, \"x\": [1979, 1980, 1981, 1982, 1983, 1984, 1985, 1986, 1987, 1988, 1989, 1990, 1991, 1992, 1993, 1994, 1995, 1996, 1997, 1998, 1999, 2000, 2001, 2002, 2003, 2004, 2005, 2006, 2007, 2008, 2009, 2010, 2011, 2012, 2013], \"xaxis\": \"x\", \"y\": [0.03847628786910409, 0.05228173335037738, 0.053815671737185475, 0.06071839447782205, 0.030806595935063467, 0.010865396906557788, 0.011632366099961837, 0.02773871916144727, 0.026332608973539735, 0.05688354851080167, 0.03310750351527575, 0.017768119647194363, 0.01009842771315374, 0.0323405343218717, 0.036942349482295994, 0.03770931867570004, -0.004473986961523459, 0.007797520132941594, 0.01930205803400246, 0.017001150453790314, -0.012143678895564083, -0.01751246324939256, -0.015211555669180414, -0.016745494055988512, -0.016745494055988512, -0.024415185990029134, -0.04358941582513076, -0.058928799693212144, -0.04972516937236329, -0.03975456985811052, -0.040521539051514566, -0.07810302952831377, -0.048958200178959244, -0.06429758404704063, -0.050492138565767335], \"yaxis\": \"y\", \"type\": \"scatter\"}, {\"hoverlabel\": {\"namelength\": 0}, \"hovertemplate\": \"<b>OLS trendline</b><br>n_extent = -0.003436 * year + 6.857828<br>R<sup>2</sup>=0.828317<br><br>Month=12<br>Year=%{x}<br>n_extent=%{y} <b>(trend)</b>\", \"legendgroup\": \"\", \"line\": {\"color\": \"darkblue\"}, \"marker\": {\"color\": \"#636efa\", \"symbol\": \"circle\"}, \"mode\": \"lines\", \"name\": \"\", \"showlegend\": false, \"x\": [1979, 1980, 1981, 1982, 1983, 1984, 1985, 1986, 1987, 1988, 1989, 1990, 1991, 1992, 1993, 1994, 1995, 1996, 1997, 1998, 1999, 2000, 2001, 2002, 2003, 2004, 2005, 2006, 2007, 2008, 2009, 2010, 2011, 2012, 2013], \"xaxis\": \"x\", \"y\": [0.05840835631197283, 0.05497257064656225, 0.05153678498115255, 0.048100999315741966, 0.04466521365033138, 0.041229427984921685, 0.0377936423195111, 0.034357856654101404, 0.03092207098869082, 0.027486285323281123, 0.02405049965787054, 0.020614713992459954, 0.017178928327050258, 0.013743142661639673, 0.010307356996229977, 0.006871571330819393, 0.0034357856654096963, -8.881784197001252e-16, -0.0034357856654114727, -0.006871571330821169, -0.010307356996231753, -0.01374314266164145, -0.017178928327052034, -0.02061471399246173, -0.024050499657872315, -0.0274862853232829, -0.030922070988692596, -0.03435785665410318, -0.03779364231951288, -0.04122942798492346, -0.044665213650334046, -0.04810099931574374, -0.05153678498115433, -0.05497257064656402, -0.05840835631197461], \"yaxis\": \"y\", \"type\": \"scatter\"}], \"name\": \"12\"}]);\n",
              "                        }).then(function(){\n",
              "                            \n",
              "var gd = document.getElementById('8882e082-6682-4d38-a87f-769fe08d6cb7');\n",
              "var x = new MutationObserver(function (mutations, observer) {{\n",
              "        var display = window.getComputedStyle(gd).display;\n",
              "        if (!display || display === 'none') {{\n",
              "            console.log([gd, 'removed!']);\n",
              "            Plotly.purge(gd);\n",
              "            observer.disconnect();\n",
              "        }}\n",
              "}});\n",
              "\n",
              "// Listen for the removal of the full notebook cells\n",
              "var notebookContainer = gd.closest('#notebook-container');\n",
              "if (notebookContainer) {{\n",
              "    x.observe(notebookContainer, {childList: true});\n",
              "}}\n",
              "\n",
              "// Listen for the clearing of the current output cell\n",
              "var outputEl = gd.closest('.output');\n",
              "if (outputEl) {{\n",
              "    x.observe(outputEl, {childList: true});\n",
              "}}\n",
              "\n",
              "                        })\n",
              "                };\n",
              "                \n",
              "            </script>\n",
              "        </div>\n",
              "</body>\n",
              "</html>"
            ]
          },
          "metadata": {}
        }
      ]
    },
    {
      "cell_type": "code",
      "metadata": {
        "colab": {
          "base_uri": "https://localhost:8080/",
          "height": 542
        },
        "id": "rmkN4S1v4IFD",
        "outputId": "ac138335-3286-4438-cae0-31dee81fdc17"
      },
      "source": [
        "#Al normalizar del modo en el que lo hemos hecho,\n",
        "#se elimina el efecto de la estacionalidad y \n",
        "#obtenemos mejores predicciones.\n",
        "#En la gráfica con year en el eje x hemos pasado de\n",
        "#un coeficiente de determinación de 0.4 a uno de 0.51.\n",
        "#En la que usa date, pasamos de 0.33 a 0.51\n",
        "px.scatter(df, x = 'year', y = 'n_extent',\n",
        "           opacity=0.65, trendline='ols', \n",
        "           trendline_color_override='darkblue')"
      ],
      "execution_count": 63,
      "outputs": [
        {
          "output_type": "display_data",
          "data": {
            "text/html": [
              "<html>\n",
              "<head><meta charset=\"utf-8\" /></head>\n",
              "<body>\n",
              "    <div>\n",
              "            <script src=\"https://cdnjs.cloudflare.com/ajax/libs/mathjax/2.7.5/MathJax.js?config=TeX-AMS-MML_SVG\"></script><script type=\"text/javascript\">if (window.MathJax) {MathJax.Hub.Config({SVG: {font: \"STIX-Web\"}});}</script>\n",
              "                <script type=\"text/javascript\">window.PlotlyConfig = {MathJaxConfig: 'local'};</script>\n",
              "        <script src=\"https://cdn.plot.ly/plotly-latest.min.js\"></script>    \n",
              "            <div id=\"d7038c01-f2ba-4fdd-8469-aadd0e033522\" class=\"plotly-graph-div\" style=\"height:525px; width:100%;\"></div>\n",
              "            <script type=\"text/javascript\">\n",
              "                \n",
              "                    window.PLOTLYENV=window.PLOTLYENV || {};\n",
              "                    \n",
              "                if (document.getElementById(\"d7038c01-f2ba-4fdd-8469-aadd0e033522\")) {\n",
              "                    Plotly.newPlot(\n",
              "                        'd7038c01-f2ba-4fdd-8469-aadd0e033522',\n",
              "                        [{\"hoverlabel\": {\"namelength\": 0}, \"hovertemplate\": \"year=%{x}<br>n_extent=%{y}\", \"legendgroup\": \"\", \"marker\": {\"color\": \"#636efa\", \"opacity\": 0.65, \"symbol\": \"circle\"}, \"mode\": \"markers\", \"name\": \"\", \"showlegend\": false, \"type\": \"scatter\", \"x\": [1979, 1980, 1981, 1982, 1983, 1984, 1985, 1986, 1987, 1989, 1990, 1991, 1992, 1993, 1994, 1995, 1996, 1997, 1998, 1999, 2000, 2001, 2002, 2003, 2004, 2005, 2006, 2007, 2008, 2009, 2010, 2011, 2012, 2013, 2014, 1979, 1980, 1981, 1982, 1983, 1984, 1985, 1986, 1987, 1988, 1989, 1990, 1991, 1992, 1993, 1994, 1995, 1996, 1997, 1998, 1999, 2000, 2001, 2002, 2003, 2004, 2005, 2006, 2007, 2008, 2009, 2010, 2011, 2012, 2013, 2014, 1979, 1980, 1981, 1982, 1983, 1984, 1985, 1986, 1987, 1988, 1989, 1990, 1991, 1992, 1993, 1994, 1995, 1996, 1997, 1998, 1999, 2000, 2001, 2002, 2003, 2004, 2005, 2006, 2007, 2008, 2009, 2010, 2011, 2012, 2013, 1979, 1980, 1981, 1982, 1983, 1984, 1985, 1986, 1987, 1988, 1989, 1990, 1991, 1992, 1993, 1994, 1995, 1996, 1997, 1998, 1999, 2000, 2001, 2002, 2003, 2004, 2005, 2006, 2007, 2008, 2009, 2010, 2011, 2012, 2013, 1979, 1980, 1981, 1982, 1983, 1984, 1985, 1986, 1987, 1988, 1989, 1990, 1991, 1992, 1993, 1994, 1995, 1996, 1997, 1998, 1999, 2000, 2001, 2002, 2003, 2004, 2005, 2006, 2007, 2008, 2009, 2010, 2011, 2012, 2013, 1979, 1980, 1981, 1982, 1983, 1984, 1985, 1986, 1987, 1988, 1989, 1990, 1991, 1992, 1993, 1994, 1995, 1996, 1997, 1998, 1999, 2000, 2001, 2002, 2003, 2004, 2005, 2006, 2007, 2008, 2009, 2010, 2011, 2012, 2013, 1979, 1980, 1981, 1982, 1983, 1984, 1985, 1986, 1987, 1988, 1989, 1990, 1991, 1992, 1993, 1994, 1995, 1996, 1997, 1998, 1999, 2000, 2001, 2002, 2003, 2004, 2005, 2006, 2007, 2008, 2009, 2010, 2011, 2012, 2013, 1979, 1980, 1981, 1982, 1983, 1984, 1985, 1986, 1987, 1988, 1989, 1990, 1991, 1992, 1993, 1994, 1995, 1996, 1997, 1998, 1999, 2000, 2001, 2002, 2003, 2004, 2005, 2006, 2007, 2008, 2009, 2010, 2011, 2012, 2013, 1979, 1980, 1981, 1982, 1983, 1984, 1985, 1986, 1987, 1988, 1989, 1990, 1991, 1992, 1993, 1994, 1995, 1996, 1997, 1998, 1999, 2000, 2001, 2002, 2003, 2004, 2005, 2006, 2007, 2008, 2009, 2010, 2011, 2012, 2013, 1979, 1980, 1981, 1982, 1983, 1984, 1985, 1986, 1987, 1988, 1989, 1990, 1991, 1992, 1993, 1994, 1995, 1996, 1997, 1998, 1999, 2000, 2001, 2002, 2003, 2004, 2005, 2006, 2007, 2008, 2009, 2010, 2011, 2012, 2013, 1978, 1979, 1980, 1981, 1982, 1983, 1984, 1985, 1986, 1987, 1988, 1989, 1990, 1991, 1992, 1993, 1994, 1995, 1996, 1997, 1998, 1999, 2000, 2001, 2002, 2003, 2004, 2005, 2006, 2007, 2008, 2009, 2010, 2011, 2012, 2013, 1978, 1979, 1980, 1981, 1982, 1983, 1984, 1985, 1986, 1988, 1989, 1990, 1991, 1992, 1993, 1994, 1995, 1996, 1997, 1998, 1999, 2000, 2001, 2002, 2003, 2004, 2005, 2006, 2007, 2008, 2009, 2010, 2011, 2012, 2013], \"xaxis\": \"x\", \"y\": [0.07324677374797729, 0.03318994435455226, 0.03802438928134485, 0.053908994040806575, 0.042858834208137554, 0.009017719720588707, 0.02628359445913403, 0.03733375429180305, 0.04976518410355566, 0.04424010418722115, 0.03249930936501034, -0.0013418051225383895, 0.016614704605548734, 0.04147756422905396, 0.023521054500966837, 0.009708354710130505, -0.018607679861083713, -0.0006511701329965912, 0.02283041951142504, -0.0006511701329965912, -0.004794980070247503, -0.011701329965665608, -0.0020324401120803103, -0.0013418051225383895, -0.03103910967283645, -0.056592604285883474, -0.06073641422313439, -0.04899561940092357, -0.02965783969375273, -0.027585934725127336, -0.04692371443229806, -0.06280831919175978, -0.04899561940092357, -0.04830498441138177, -0.05175815935909076, 0.06609049313675623, 0.04452029922289187, 0.022950105309027396, 0.04974943714140436, 0.04713486818214812, 0.0013799113951629145, 0.024257389788655517, 0.03863751906456521, 0.05301764834047478, 0.020335536349771033, 0.017067325150700727, 0.017067325150700727, -0.0025419420437215678, 0.013145471711816245, 0.02817924322754, 0.020335536349771033, -0.00384922652334969, -0.008424722202048233, 0.014452756191444368, 0.030793812186796242, 0.00464812259423322, -0.007771079962234173, -0.001888299803907507, 0.003994480354419159, -0.003195584283535629, -0.02411213595758605, -0.06136974362698834, -0.05744789018810386, -0.05025782555014907, -0.018882998039073444, -0.029341273876098653, -0.04633597211126459, -0.0600624591473601, -0.04633597211126459, -0.03979954971312386, -0.05614060570847574, 0.06185795171612481, 0.041201748400066435, 0.007635418011471631, 0.04249276110732005, 0.039265229339186115, 0.008280924365098441, 0.03668320392467865, 0.03797421663193227, 0.029582634034783624, 0.041201748400066435, 0.0018258608288302274, 0.025064089559395954, 0.0005348481215766077, -0.0014016709393038218, 0.025064089559395954, 0.005698898950591201, -0.0110842662437062, -0.023348886962615816, 0.005698898950591201, 0.010862949779605795, -0.005920215414691605, -0.014311798011840363, 0.007635418011471631, -0.003338190000184366, -0.00011065823205020214, -0.02851293779163041, -0.048523634754061976, -0.06853433171649354, -0.05433319193670338, -0.01753932977997441, -0.022703380608989007, -0.02463989966986955, -0.05885173641209116, -0.016248317072720793, -0.029158444145257333, 0.04699986455370439, 0.049031558986861595, 0.02397399431125541, 0.054449410808614276, 0.03616416091019903, 0.02600568874441274, 0.038873086821075306, 0.02600568874441274, 0.03819585534335624, 0.03006907761072728, -0.022077746173642304, -0.005824190708384265, 0.011106596234592842, -0.004469727752946126, 0.02803738317756995, 0.012461059190030982, -0.011919274007856015, -0.036976838683462084, -0.011919274007856015, 0.008397670323716563, 0.0246512257889746, -0.009210348096979615, 0.0063659758905592325, -0.026818366517675912, -0.013273736963294154, -0.04442638493837209, -0.04713531084924837, -0.053907625626439186, -0.06067994040363013, -0.023432209129080443, -0.013273736963294154, -0.004469727752946126, -0.04104022754977662, -0.0031152647975078657, -0.026818366517675912, 0.049567034935801564, 0.04807405195580744, 0.03762317109584933, 0.057778441325768676, 0.010749477455956745, 0.02120035831591498, 0.0622573902657508, 0.009256494475962749, 0.03090474768587622, 0.02194684980591198, -0.031054045983875938, -0.007166318303971473, 0.008510002985965751, -0.010898775753956595, 0.010749477455956745, 0.024932815765900104, -0.02657509704389395, -0.025082114063899822, -0.005673335323977477, 0.030158256195879224, 0.03463720513586121, -0.016124216183935714, 0.024186324275903105, -0.020603165123917834, -0.029561063003881942, -0.06091370558375652, -0.03030755449387894, -0.05792773962376853, -0.037772469393849054, -0.015377724693938716, 0.0002985965959986401, -0.02134965661391483, -0.04374440131382517, -0.020603165123917834, -0.02209614810391183, 0.061551433389544725, 0.03794266441821257, 0.05986509274873532, 0.06998313659359191, 0.04215851602023609, 0.02866779089376053, 0.04553119730185506, 0.020236087689713342, 0.05986509274873532, 0.013490725126475561, 0.03794266441821257, -0.015177065767284968, 0.03119730185497479, 0.0227655986509276, 0.010961214165261449, 0.020236087689713342, -0.026138279932546266, 0.020236087689713342, 0.004215851602023669, -0.0008431703204047038, 0.020236087689713342, -0.012647554806070707, -0.014333895446880265, -0.014333895446880265, -0.007588532883642484, -0.029510961214165233, -0.048060708263069164, -0.06745362563237765, -0.03119730185497464, -0.04215851602023609, -0.03372681281618875, -0.087689713322091, -0.07335581787521073, -0.0792580101180438, -0.023608768971332156, 0.09049517914533947, 0.08216283775740946, 0.10611831924770808, 0.11965837400309443, 0.13632305677895445, 0.05716581359361942, 0.05091655755267187, 0.09049517914533947, 0.03945958814426817, 0.04570884418521554, 0.08112129508391823, 0.0019640518985830206, 0.008213307939530576, 0.10507677657421685, 0.006130222592548119, 0.0644566123080582, -0.046988453755505644, 0.0790382097369356, -0.0011605761218906646, 0.0019640518985830206, -0.0011605761218906646, 0.01550410665396936, -0.03969765504106686, -0.011576002856803134, -0.01470063087727682, -0.00011903344839943628, -0.06990239257231322, -0.09698250208308572, -0.15322580645161316, -0.06365313653136566, -0.08344244732769937, -0.12927032496131455, -0.17613974526842074, -0.1740566599214383, -0.11989644089989329, 0.14429557124518583, 0.12885109114248988, 0.103578305519897, 0.1597400513478815, 0.1737804878048776, 0.10498234916559658, 0.04741655969191237, 0.12463896020539114, 0.07970956354300356, 0.10919448010269546, 0.11200256739409463, -0.04244223363286291, 0.03899229781771474, 0.103578305519897, 0.023547817715018935, 0.06847721437740664, -0.06209884467265759, 0.147103658536585, 0.02495186136071852, 0.05162869062901125, 0.036184210526315444, 0.01231546854942201, 0.048820603337611956, -0.08315949935815173, -0.03823010269576416, -0.041038189987163326, -0.11545250320924293, -0.08456354300385144, -0.24743260590500663, -0.1505535943517333, -0.1182605905006421, -0.15616976893453174, -0.220755776636714, -0.3386954428754816, -0.14493741976893482, 0.12414685283490212, 0.2256323326047196, 0.13195342820181113, 0.16317972966944733, 0.1741089351831199, 0.11946290761475666, 0.08199134585359322, 0.17723156532988357, 0.1678636748895928, 0.16942498996297456, 0.09916581166079316, -0.025739394209751486, 0.022661373065084516, 0.17879288040326535, 0.0148547976981755, 0.12102422268813844, -0.04291386001695143, 0.23031627782486505, 0.05232635945933894, 0.02422268813846629, -0.025739394209751486, -0.013248873622697008, 0.05388767453272071, -0.06945621626444216, -0.03979122987018774, -0.05540438060400591, -0.13034750412633264, -0.0757014765579694, -0.32863451844582237, -0.26149797029040456, -0.1584511754472053, -0.23027166882276848, -0.2771111210242227, -0.43324262836240357, -0.16469643574073253, 0.06593798650752487, 0.07388427607680358, 0.0432343020238714, 0.13291385573430223, 0.09431759211209156, 0.0035028541774780784, 0.008043591074208854, 0.12269719771665825, 0.054586144265698036, 0.07501946030098622, 0.08069538142189944, 0.0613972496107941, 0.039828749351323474, 0.08977685521536079, 0.04209911779968876, 0.07615464452516886, 0.014854696419304713, 0.06593798650752487, -0.00557861961598327, 0.004638038401660722, 0.03301764400622741, 0.012584327970939427, -0.02487675142708861, 9.730150493014827e-05, -0.01806564608199255, -0.03736377789309789, -0.04076933056564602, -0.05439154125583794, -0.23148028022833414, -0.04417488323819395, -0.14634146341463405, -0.12477296315516334, -0.18947846393357543, -0.19742475350285402, -0.08050077841203934, 0.09533098573708602, 0.0178096420337952, 0.06614647987231767, 0.01872165784206919, 0.08621082765434596, 0.06158640083094772, 0.02966584754135724, 0.03878600562409747, 0.07435462214678375, 0.05064221113165951, 0.06614647987231767, 0.048818179515111526, 0.03148987915790538, 0.014161578800699076, 0.08256276442124982, 0.0697945431054138, 0.030577863349631394, 0.0004813416765890551, -0.03691130646264537, -0.00499075317305505, -0.019583006105439223, 0.0023053732931370362, -0.038735338079193514, -0.00407873736478106, -0.016846958680617252, -0.06153573328604376, -0.02870316418817929, -0.04511944873711145, -0.10257644465837415, -0.08342411268461986, -0.03143921161300142, -0.06335976490259175, -0.09892838142527803, -0.08798419172598998, -0.09528031819218206, -0.06609581232741371, 0.08121116653539877, 0.03679880983635263, 0.050581955018815336, 0.05211341559464448, 0.05900498818587577, 0.029141506957206773, 0.009232519471427492, 0.009998249759342064, 0.026078585805548487, 0.05517633674630277, 0.03143869782095063, 0.016124092062658777, 0.008466789183512919, 0.030672967533036055, 0.03526734926052349, 0.03603307954843806, -0.006082086286864222, 0.006169598319769203, 0.01765555263848792, 0.015358361774744204, -0.013739389166010078, -0.01909950118141222, -0.016802310317668503, -0.018333770893497647, -0.018333770893497647, -0.025991073772643505, -0.045134330970508216, -0.060448936728800064, -0.05126017327382493, -0.041305679530935356, -0.04207140981884992, -0.07959219392666478, -0.050494442985910354, -0.06580904874420221, -0.0520259035617395], \"yaxis\": \"y\"}, {\"hoverlabel\": {\"namelength\": 0}, \"hovertemplate\": \"<b>OLS trendline</b><br>n_extent = -0.005354 * year + 10.686546<br>R<sup>2</sup>=0.512344<br><br>year=%{x}<br>n_extent=%{y} <b>(trend)</b>\", \"legendgroup\": \"\", \"line\": {\"color\": \"darkblue\"}, \"marker\": {\"color\": \"#636efa\", \"symbol\": \"circle\"}, \"mode\": \"lines\", \"name\": \"\", \"showlegend\": false, \"type\": \"scatter\", \"x\": [1978, 1978, 1979, 1979, 1979, 1979, 1979, 1979, 1979, 1979, 1979, 1979, 1979, 1979, 1980, 1980, 1980, 1980, 1980, 1980, 1980, 1980, 1980, 1980, 1980, 1980, 1981, 1981, 1981, 1981, 1981, 1981, 1981, 1981, 1981, 1981, 1981, 1981, 1982, 1982, 1982, 1982, 1982, 1982, 1982, 1982, 1982, 1982, 1982, 1982, 1983, 1983, 1983, 1983, 1983, 1983, 1983, 1983, 1983, 1983, 1983, 1983, 1984, 1984, 1984, 1984, 1984, 1984, 1984, 1984, 1984, 1984, 1984, 1984, 1985, 1985, 1985, 1985, 1985, 1985, 1985, 1985, 1985, 1985, 1985, 1985, 1986, 1986, 1986, 1986, 1986, 1986, 1986, 1986, 1986, 1986, 1986, 1986, 1987, 1987, 1987, 1987, 1987, 1987, 1987, 1987, 1987, 1987, 1987, 1988, 1988, 1988, 1988, 1988, 1988, 1988, 1988, 1988, 1988, 1988, 1989, 1989, 1989, 1989, 1989, 1989, 1989, 1989, 1989, 1989, 1989, 1989, 1990, 1990, 1990, 1990, 1990, 1990, 1990, 1990, 1990, 1990, 1990, 1990, 1991, 1991, 1991, 1991, 1991, 1991, 1991, 1991, 1991, 1991, 1991, 1991, 1992, 1992, 1992, 1992, 1992, 1992, 1992, 1992, 1992, 1992, 1992, 1992, 1993, 1993, 1993, 1993, 1993, 1993, 1993, 1993, 1993, 1993, 1993, 1993, 1994, 1994, 1994, 1994, 1994, 1994, 1994, 1994, 1994, 1994, 1994, 1994, 1995, 1995, 1995, 1995, 1995, 1995, 1995, 1995, 1995, 1995, 1995, 1995, 1996, 1996, 1996, 1996, 1996, 1996, 1996, 1996, 1996, 1996, 1996, 1996, 1997, 1997, 1997, 1997, 1997, 1997, 1997, 1997, 1997, 1997, 1997, 1997, 1998, 1998, 1998, 1998, 1998, 1998, 1998, 1998, 1998, 1998, 1998, 1998, 1999, 1999, 1999, 1999, 1999, 1999, 1999, 1999, 1999, 1999, 1999, 1999, 2000, 2000, 2000, 2000, 2000, 2000, 2000, 2000, 2000, 2000, 2000, 2000, 2001, 2001, 2001, 2001, 2001, 2001, 2001, 2001, 2001, 2001, 2001, 2001, 2002, 2002, 2002, 2002, 2002, 2002, 2002, 2002, 2002, 2002, 2002, 2002, 2003, 2003, 2003, 2003, 2003, 2003, 2003, 2003, 2003, 2003, 2003, 2003, 2004, 2004, 2004, 2004, 2004, 2004, 2004, 2004, 2004, 2004, 2004, 2004, 2005, 2005, 2005, 2005, 2005, 2005, 2005, 2005, 2005, 2005, 2005, 2005, 2006, 2006, 2006, 2006, 2006, 2006, 2006, 2006, 2006, 2006, 2006, 2006, 2007, 2007, 2007, 2007, 2007, 2007, 2007, 2007, 2007, 2007, 2007, 2007, 2008, 2008, 2008, 2008, 2008, 2008, 2008, 2008, 2008, 2008, 2008, 2008, 2009, 2009, 2009, 2009, 2009, 2009, 2009, 2009, 2009, 2009, 2009, 2009, 2010, 2010, 2010, 2010, 2010, 2010, 2010, 2010, 2010, 2010, 2010, 2010, 2011, 2011, 2011, 2011, 2011, 2011, 2011, 2011, 2011, 2011, 2011, 2011, 2012, 2012, 2012, 2012, 2012, 2012, 2012, 2012, 2012, 2012, 2012, 2012, 2013, 2013, 2013, 2013, 2013, 2013, 2013, 2013, 2013, 2013, 2013, 2013, 2014, 2014], \"xaxis\": \"x\", \"y\": [0.09658538872710665, 0.09658538872710665, 0.09123151587240663, 0.09123151587240663, 0.09123151587240663, 0.09123151587240663, 0.09123151587240663, 0.09123151587240663, 0.09123151587240663, 0.09123151587240663, 0.09123151587240663, 0.09123151587240663, 0.09123151587240663, 0.09123151587240663, 0.08587764301770662, 0.08587764301770662, 0.08587764301770662, 0.08587764301770662, 0.08587764301770662, 0.08587764301770662, 0.08587764301770662, 0.08587764301770662, 0.08587764301770662, 0.08587764301770662, 0.08587764301770662, 0.08587764301770662, 0.08052377016300483, 0.08052377016300483, 0.08052377016300483, 0.08052377016300483, 0.08052377016300483, 0.08052377016300483, 0.08052377016300483, 0.08052377016300483, 0.08052377016300483, 0.08052377016300483, 0.08052377016300483, 0.08052377016300483, 0.07516989730830481, 0.07516989730830481, 0.07516989730830481, 0.07516989730830481, 0.07516989730830481, 0.07516989730830481, 0.07516989730830481, 0.07516989730830481, 0.07516989730830481, 0.07516989730830481, 0.07516989730830481, 0.07516989730830481, 0.0698160244536048, 0.0698160244536048, 0.0698160244536048, 0.0698160244536048, 0.0698160244536048, 0.0698160244536048, 0.0698160244536048, 0.0698160244536048, 0.0698160244536048, 0.0698160244536048, 0.0698160244536048, 0.0698160244536048, 0.064462151598903, 0.064462151598903, 0.064462151598903, 0.064462151598903, 0.064462151598903, 0.064462151598903, 0.064462151598903, 0.064462151598903, 0.064462151598903, 0.064462151598903, 0.064462151598903, 0.064462151598903, 0.05910827874420299, 0.05910827874420299, 0.05910827874420299, 0.05910827874420299, 0.05910827874420299, 0.05910827874420299, 0.05910827874420299, 0.05910827874420299, 0.05910827874420299, 0.05910827874420299, 0.05910827874420299, 0.05910827874420299, 0.0537544058895012, 0.0537544058895012, 0.0537544058895012, 0.0537544058895012, 0.0537544058895012, 0.0537544058895012, 0.0537544058895012, 0.0537544058895012, 0.0537544058895012, 0.0537544058895012, 0.0537544058895012, 0.0537544058895012, 0.048400533034801185, 0.048400533034801185, 0.048400533034801185, 0.048400533034801185, 0.048400533034801185, 0.048400533034801185, 0.048400533034801185, 0.048400533034801185, 0.048400533034801185, 0.048400533034801185, 0.048400533034801185, 0.04304666018010117, 0.04304666018010117, 0.04304666018010117, 0.04304666018010117, 0.04304666018010117, 0.04304666018010117, 0.04304666018010117, 0.04304666018010117, 0.04304666018010117, 0.04304666018010117, 0.04304666018010117, 0.03769278732539938, 0.03769278732539938, 0.03769278732539938, 0.03769278732539938, 0.03769278732539938, 0.03769278732539938, 0.03769278732539938, 0.03769278732539938, 0.03769278732539938, 0.03769278732539938, 0.03769278732539938, 0.03769278732539938, 0.032338914470699365, 0.032338914470699365, 0.032338914470699365, 0.032338914470699365, 0.032338914470699365, 0.032338914470699365, 0.032338914470699365, 0.032338914470699365, 0.032338914470699365, 0.032338914470699365, 0.032338914470699365, 0.032338914470699365, 0.02698504161599935, 0.02698504161599935, 0.02698504161599935, 0.02698504161599935, 0.02698504161599935, 0.02698504161599935, 0.02698504161599935, 0.02698504161599935, 0.02698504161599935, 0.02698504161599935, 0.02698504161599935, 0.02698504161599935, 0.02163116876129756, 0.02163116876129756, 0.02163116876129756, 0.02163116876129756, 0.02163116876129756, 0.02163116876129756, 0.02163116876129756, 0.02163116876129756, 0.02163116876129756, 0.02163116876129756, 0.02163116876129756, 0.02163116876129756, 0.016277295906597544, 0.016277295906597544, 0.016277295906597544, 0.016277295906597544, 0.016277295906597544, 0.016277295906597544, 0.016277295906597544, 0.016277295906597544, 0.016277295906597544, 0.016277295906597544, 0.016277295906597544, 0.016277295906597544, 0.010923423051895753, 0.010923423051895753, 0.010923423051895753, 0.010923423051895753, 0.010923423051895753, 0.010923423051895753, 0.010923423051895753, 0.010923423051895753, 0.010923423051895753, 0.010923423051895753, 0.010923423051895753, 0.010923423051895753, 0.005569550197195738, 0.005569550197195738, 0.005569550197195738, 0.005569550197195738, 0.005569550197195738, 0.005569550197195738, 0.005569550197195738, 0.005569550197195738, 0.005569550197195738, 0.005569550197195738, 0.005569550197195738, 0.005569550197195738, 0.00021567734249572368, 0.00021567734249572368, 0.00021567734249572368, 0.00021567734249572368, 0.00021567734249572368, 0.00021567734249572368, 0.00021567734249572368, 0.00021567734249572368, 0.00021567734249572368, 0.00021567734249572368, 0.00021567734249572368, 0.00021567734249572368, -0.005138195512206067, -0.005138195512206067, -0.005138195512206067, -0.005138195512206067, -0.005138195512206067, -0.005138195512206067, -0.005138195512206067, -0.005138195512206067, -0.005138195512206067, -0.005138195512206067, -0.005138195512206067, -0.005138195512206067, -0.010492068366906082, -0.010492068366906082, -0.010492068366906082, -0.010492068366906082, -0.010492068366906082, -0.010492068366906082, -0.010492068366906082, -0.010492068366906082, -0.010492068366906082, -0.010492068366906082, -0.010492068366906082, -0.010492068366906082, -0.015845941221606097, -0.015845941221606097, -0.015845941221606097, -0.015845941221606097, -0.015845941221606097, -0.015845941221606097, -0.015845941221606097, -0.015845941221606097, -0.015845941221606097, -0.015845941221606097, -0.015845941221606097, -0.015845941221606097, -0.021199814076307888, -0.021199814076307888, -0.021199814076307888, -0.021199814076307888, -0.021199814076307888, -0.021199814076307888, -0.021199814076307888, -0.021199814076307888, -0.021199814076307888, -0.021199814076307888, -0.021199814076307888, -0.021199814076307888, -0.026553686931007903, -0.026553686931007903, -0.026553686931007903, -0.026553686931007903, -0.026553686931007903, -0.026553686931007903, -0.026553686931007903, -0.026553686931007903, -0.026553686931007903, -0.026553686931007903, -0.026553686931007903, -0.026553686931007903, -0.031907559785709694, -0.031907559785709694, -0.031907559785709694, -0.031907559785709694, -0.031907559785709694, -0.031907559785709694, -0.031907559785709694, -0.031907559785709694, -0.031907559785709694, -0.031907559785709694, -0.031907559785709694, -0.031907559785709694, -0.03726143264040971, -0.03726143264040971, -0.03726143264040971, -0.03726143264040971, -0.03726143264040971, -0.03726143264040971, -0.03726143264040971, -0.03726143264040971, -0.03726143264040971, -0.03726143264040971, -0.03726143264040971, -0.03726143264040971, -0.04261530549510972, -0.04261530549510972, -0.04261530549510972, -0.04261530549510972, -0.04261530549510972, -0.04261530549510972, -0.04261530549510972, -0.04261530549510972, -0.04261530549510972, -0.04261530549510972, -0.04261530549510972, -0.04261530549510972, -0.047969178349811514, -0.047969178349811514, -0.047969178349811514, -0.047969178349811514, -0.047969178349811514, -0.047969178349811514, -0.047969178349811514, -0.047969178349811514, -0.047969178349811514, -0.047969178349811514, -0.047969178349811514, -0.047969178349811514, -0.05332305120451153, -0.05332305120451153, -0.05332305120451153, -0.05332305120451153, -0.05332305120451153, -0.05332305120451153, -0.05332305120451153, -0.05332305120451153, -0.05332305120451153, -0.05332305120451153, -0.05332305120451153, -0.05332305120451153, -0.05867692405921332, -0.05867692405921332, -0.05867692405921332, -0.05867692405921332, -0.05867692405921332, -0.05867692405921332, -0.05867692405921332, -0.05867692405921332, -0.05867692405921332, -0.05867692405921332, -0.05867692405921332, -0.05867692405921332, -0.06403079691391333, -0.06403079691391333, -0.06403079691391333, -0.06403079691391333, -0.06403079691391333, -0.06403079691391333, -0.06403079691391333, -0.06403079691391333, -0.06403079691391333, -0.06403079691391333, -0.06403079691391333, -0.06403079691391333, -0.06938466976861335, -0.06938466976861335, -0.06938466976861335, -0.06938466976861335, -0.06938466976861335, -0.06938466976861335, -0.06938466976861335, -0.06938466976861335, -0.06938466976861335, -0.06938466976861335, -0.06938466976861335, -0.06938466976861335, -0.07473854262331514, -0.07473854262331514, -0.07473854262331514, -0.07473854262331514, -0.07473854262331514, -0.07473854262331514, -0.07473854262331514, -0.07473854262331514, -0.07473854262331514, -0.07473854262331514, -0.07473854262331514, -0.07473854262331514, -0.08009241547801516, -0.08009241547801516, -0.08009241547801516, -0.08009241547801516, -0.08009241547801516, -0.08009241547801516, -0.08009241547801516, -0.08009241547801516, -0.08009241547801516, -0.08009241547801516, -0.08009241547801516, -0.08009241547801516, -0.08544628833271517, -0.08544628833271517, -0.08544628833271517, -0.08544628833271517, -0.08544628833271517, -0.08544628833271517, -0.08544628833271517, -0.08544628833271517, -0.08544628833271517, -0.08544628833271517, -0.08544628833271517, -0.08544628833271517, -0.09080016118741696, -0.09080016118741696, -0.09080016118741696, -0.09080016118741696, -0.09080016118741696, -0.09080016118741696, -0.09080016118741696, -0.09080016118741696, -0.09080016118741696, -0.09080016118741696, -0.09080016118741696, -0.09080016118741696, -0.09615403404211698, -0.09615403404211698], \"yaxis\": \"y\"}],\n",
              "                        {\"legend\": {\"tracegroupgap\": 0}, \"margin\": {\"t\": 60}, \"template\": {\"data\": {\"bar\": [{\"error_x\": {\"color\": \"#2a3f5f\"}, \"error_y\": {\"color\": \"#2a3f5f\"}, \"marker\": {\"line\": {\"color\": \"#E5ECF6\", \"width\": 0.5}}, \"type\": \"bar\"}], \"barpolar\": [{\"marker\": {\"line\": {\"color\": \"#E5ECF6\", \"width\": 0.5}}, \"type\": \"barpolar\"}], \"carpet\": [{\"aaxis\": {\"endlinecolor\": \"#2a3f5f\", \"gridcolor\": \"white\", \"linecolor\": \"white\", \"minorgridcolor\": \"white\", \"startlinecolor\": \"#2a3f5f\"}, \"baxis\": {\"endlinecolor\": \"#2a3f5f\", \"gridcolor\": \"white\", \"linecolor\": \"white\", \"minorgridcolor\": \"white\", \"startlinecolor\": \"#2a3f5f\"}, \"type\": \"carpet\"}], \"choropleth\": [{\"colorbar\": {\"outlinewidth\": 0, \"ticks\": \"\"}, \"type\": \"choropleth\"}], \"contour\": [{\"colorbar\": {\"outlinewidth\": 0, \"ticks\": \"\"}, \"colorscale\": [[0.0, \"#0d0887\"], [0.1111111111111111, \"#46039f\"], [0.2222222222222222, \"#7201a8\"], [0.3333333333333333, \"#9c179e\"], [0.4444444444444444, \"#bd3786\"], [0.5555555555555556, \"#d8576b\"], [0.6666666666666666, \"#ed7953\"], [0.7777777777777778, \"#fb9f3a\"], [0.8888888888888888, \"#fdca26\"], [1.0, \"#f0f921\"]], \"type\": \"contour\"}], \"contourcarpet\": [{\"colorbar\": {\"outlinewidth\": 0, \"ticks\": \"\"}, \"type\": \"contourcarpet\"}], \"heatmap\": [{\"colorbar\": {\"outlinewidth\": 0, \"ticks\": \"\"}, \"colorscale\": [[0.0, \"#0d0887\"], [0.1111111111111111, \"#46039f\"], [0.2222222222222222, \"#7201a8\"], [0.3333333333333333, \"#9c179e\"], [0.4444444444444444, \"#bd3786\"], [0.5555555555555556, \"#d8576b\"], [0.6666666666666666, \"#ed7953\"], [0.7777777777777778, \"#fb9f3a\"], [0.8888888888888888, \"#fdca26\"], [1.0, \"#f0f921\"]], \"type\": \"heatmap\"}], \"heatmapgl\": [{\"colorbar\": {\"outlinewidth\": 0, \"ticks\": \"\"}, \"colorscale\": [[0.0, \"#0d0887\"], [0.1111111111111111, \"#46039f\"], [0.2222222222222222, \"#7201a8\"], [0.3333333333333333, \"#9c179e\"], [0.4444444444444444, \"#bd3786\"], [0.5555555555555556, \"#d8576b\"], [0.6666666666666666, \"#ed7953\"], [0.7777777777777778, \"#fb9f3a\"], [0.8888888888888888, \"#fdca26\"], [1.0, \"#f0f921\"]], \"type\": \"heatmapgl\"}], \"histogram\": [{\"marker\": {\"colorbar\": {\"outlinewidth\": 0, \"ticks\": \"\"}}, \"type\": \"histogram\"}], \"histogram2d\": [{\"colorbar\": {\"outlinewidth\": 0, \"ticks\": \"\"}, \"colorscale\": [[0.0, \"#0d0887\"], [0.1111111111111111, \"#46039f\"], [0.2222222222222222, \"#7201a8\"], [0.3333333333333333, \"#9c179e\"], [0.4444444444444444, \"#bd3786\"], [0.5555555555555556, \"#d8576b\"], [0.6666666666666666, \"#ed7953\"], [0.7777777777777778, \"#fb9f3a\"], [0.8888888888888888, \"#fdca26\"], [1.0, \"#f0f921\"]], \"type\": \"histogram2d\"}], \"histogram2dcontour\": [{\"colorbar\": {\"outlinewidth\": 0, \"ticks\": \"\"}, \"colorscale\": [[0.0, \"#0d0887\"], [0.1111111111111111, \"#46039f\"], [0.2222222222222222, \"#7201a8\"], [0.3333333333333333, \"#9c179e\"], [0.4444444444444444, \"#bd3786\"], [0.5555555555555556, \"#d8576b\"], [0.6666666666666666, \"#ed7953\"], [0.7777777777777778, \"#fb9f3a\"], [0.8888888888888888, \"#fdca26\"], [1.0, \"#f0f921\"]], \"type\": \"histogram2dcontour\"}], \"mesh3d\": [{\"colorbar\": {\"outlinewidth\": 0, \"ticks\": \"\"}, \"type\": \"mesh3d\"}], \"parcoords\": [{\"line\": {\"colorbar\": {\"outlinewidth\": 0, \"ticks\": \"\"}}, \"type\": \"parcoords\"}], \"pie\": [{\"automargin\": true, \"type\": \"pie\"}], \"scatter\": [{\"marker\": {\"colorbar\": {\"outlinewidth\": 0, \"ticks\": \"\"}}, \"type\": \"scatter\"}], \"scatter3d\": [{\"line\": {\"colorbar\": {\"outlinewidth\": 0, \"ticks\": \"\"}}, \"marker\": {\"colorbar\": {\"outlinewidth\": 0, \"ticks\": \"\"}}, \"type\": \"scatter3d\"}], \"scattercarpet\": [{\"marker\": {\"colorbar\": {\"outlinewidth\": 0, \"ticks\": \"\"}}, \"type\": \"scattercarpet\"}], \"scattergeo\": [{\"marker\": {\"colorbar\": {\"outlinewidth\": 0, \"ticks\": \"\"}}, \"type\": \"scattergeo\"}], \"scattergl\": [{\"marker\": {\"colorbar\": {\"outlinewidth\": 0, \"ticks\": \"\"}}, \"type\": \"scattergl\"}], \"scattermapbox\": [{\"marker\": {\"colorbar\": {\"outlinewidth\": 0, \"ticks\": \"\"}}, \"type\": \"scattermapbox\"}], \"scatterpolar\": [{\"marker\": {\"colorbar\": {\"outlinewidth\": 0, \"ticks\": \"\"}}, \"type\": \"scatterpolar\"}], \"scatterpolargl\": [{\"marker\": {\"colorbar\": {\"outlinewidth\": 0, \"ticks\": \"\"}}, \"type\": \"scatterpolargl\"}], \"scatterternary\": [{\"marker\": {\"colorbar\": {\"outlinewidth\": 0, \"ticks\": \"\"}}, \"type\": \"scatterternary\"}], \"surface\": [{\"colorbar\": {\"outlinewidth\": 0, \"ticks\": \"\"}, \"colorscale\": [[0.0, \"#0d0887\"], [0.1111111111111111, \"#46039f\"], [0.2222222222222222, \"#7201a8\"], [0.3333333333333333, \"#9c179e\"], [0.4444444444444444, \"#bd3786\"], [0.5555555555555556, \"#d8576b\"], [0.6666666666666666, \"#ed7953\"], [0.7777777777777778, \"#fb9f3a\"], [0.8888888888888888, \"#fdca26\"], [1.0, \"#f0f921\"]], \"type\": \"surface\"}], \"table\": [{\"cells\": {\"fill\": {\"color\": \"#EBF0F8\"}, \"line\": {\"color\": \"white\"}}, \"header\": {\"fill\": {\"color\": \"#C8D4E3\"}, \"line\": {\"color\": \"white\"}}, \"type\": \"table\"}]}, \"layout\": {\"annotationdefaults\": {\"arrowcolor\": \"#2a3f5f\", \"arrowhead\": 0, \"arrowwidth\": 1}, \"coloraxis\": {\"colorbar\": {\"outlinewidth\": 0, \"ticks\": \"\"}}, \"colorscale\": {\"diverging\": [[0, \"#8e0152\"], [0.1, \"#c51b7d\"], [0.2, \"#de77ae\"], [0.3, \"#f1b6da\"], [0.4, \"#fde0ef\"], [0.5, \"#f7f7f7\"], [0.6, \"#e6f5d0\"], [0.7, \"#b8e186\"], [0.8, \"#7fbc41\"], [0.9, \"#4d9221\"], [1, \"#276419\"]], \"sequential\": [[0.0, \"#0d0887\"], [0.1111111111111111, \"#46039f\"], [0.2222222222222222, \"#7201a8\"], [0.3333333333333333, \"#9c179e\"], [0.4444444444444444, \"#bd3786\"], [0.5555555555555556, \"#d8576b\"], [0.6666666666666666, \"#ed7953\"], [0.7777777777777778, \"#fb9f3a\"], [0.8888888888888888, \"#fdca26\"], [1.0, \"#f0f921\"]], \"sequentialminus\": [[0.0, \"#0d0887\"], [0.1111111111111111, \"#46039f\"], [0.2222222222222222, \"#7201a8\"], [0.3333333333333333, \"#9c179e\"], [0.4444444444444444, \"#bd3786\"], [0.5555555555555556, \"#d8576b\"], [0.6666666666666666, \"#ed7953\"], [0.7777777777777778, \"#fb9f3a\"], [0.8888888888888888, \"#fdca26\"], [1.0, \"#f0f921\"]]}, \"colorway\": [\"#636efa\", \"#EF553B\", \"#00cc96\", \"#ab63fa\", \"#FFA15A\", \"#19d3f3\", \"#FF6692\", \"#B6E880\", \"#FF97FF\", \"#FECB52\"], \"font\": {\"color\": \"#2a3f5f\"}, \"geo\": {\"bgcolor\": \"white\", \"lakecolor\": \"white\", \"landcolor\": \"#E5ECF6\", \"showlakes\": true, \"showland\": true, \"subunitcolor\": \"white\"}, \"hoverlabel\": {\"align\": \"left\"}, \"hovermode\": \"closest\", \"mapbox\": {\"style\": \"light\"}, \"paper_bgcolor\": \"white\", \"plot_bgcolor\": \"#E5ECF6\", \"polar\": {\"angularaxis\": {\"gridcolor\": \"white\", \"linecolor\": \"white\", \"ticks\": \"\"}, \"bgcolor\": \"#E5ECF6\", \"radialaxis\": {\"gridcolor\": \"white\", \"linecolor\": \"white\", \"ticks\": \"\"}}, \"scene\": {\"xaxis\": {\"backgroundcolor\": \"#E5ECF6\", \"gridcolor\": \"white\", \"gridwidth\": 2, \"linecolor\": \"white\", \"showbackground\": true, \"ticks\": \"\", \"zerolinecolor\": \"white\"}, \"yaxis\": {\"backgroundcolor\": \"#E5ECF6\", \"gridcolor\": \"white\", \"gridwidth\": 2, \"linecolor\": \"white\", \"showbackground\": true, \"ticks\": \"\", \"zerolinecolor\": \"white\"}, \"zaxis\": {\"backgroundcolor\": \"#E5ECF6\", \"gridcolor\": \"white\", \"gridwidth\": 2, \"linecolor\": \"white\", \"showbackground\": true, \"ticks\": \"\", \"zerolinecolor\": \"white\"}}, \"shapedefaults\": {\"line\": {\"color\": \"#2a3f5f\"}}, \"ternary\": {\"aaxis\": {\"gridcolor\": \"white\", \"linecolor\": \"white\", \"ticks\": \"\"}, \"baxis\": {\"gridcolor\": \"white\", \"linecolor\": \"white\", \"ticks\": \"\"}, \"bgcolor\": \"#E5ECF6\", \"caxis\": {\"gridcolor\": \"white\", \"linecolor\": \"white\", \"ticks\": \"\"}}, \"title\": {\"x\": 0.05}, \"xaxis\": {\"automargin\": true, \"gridcolor\": \"white\", \"linecolor\": \"white\", \"ticks\": \"\", \"title\": {\"standoff\": 15}, \"zerolinecolor\": \"white\", \"zerolinewidth\": 2}, \"yaxis\": {\"automargin\": true, \"gridcolor\": \"white\", \"linecolor\": \"white\", \"ticks\": \"\", \"title\": {\"standoff\": 15}, \"zerolinecolor\": \"white\", \"zerolinewidth\": 2}}}, \"xaxis\": {\"anchor\": \"y\", \"domain\": [0.0, 1.0], \"title\": {\"text\": \"year\"}}, \"yaxis\": {\"anchor\": \"x\", \"domain\": [0.0, 1.0], \"title\": {\"text\": \"n_extent\"}}},\n",
              "                        {\"responsive\": true}\n",
              "                    ).then(function(){\n",
              "                            \n",
              "var gd = document.getElementById('d7038c01-f2ba-4fdd-8469-aadd0e033522');\n",
              "var x = new MutationObserver(function (mutations, observer) {{\n",
              "        var display = window.getComputedStyle(gd).display;\n",
              "        if (!display || display === 'none') {{\n",
              "            console.log([gd, 'removed!']);\n",
              "            Plotly.purge(gd);\n",
              "            observer.disconnect();\n",
              "        }}\n",
              "}});\n",
              "\n",
              "// Listen for the removal of the full notebook cells\n",
              "var notebookContainer = gd.closest('#notebook-container');\n",
              "if (notebookContainer) {{\n",
              "    x.observe(notebookContainer, {childList: true});\n",
              "}}\n",
              "\n",
              "// Listen for the clearing of the current output cell\n",
              "var outputEl = gd.closest('.output');\n",
              "if (outputEl) {{\n",
              "    x.observe(outputEl, {childList: true});\n",
              "}}\n",
              "\n",
              "                        })\n",
              "                };\n",
              "                \n",
              "            </script>\n",
              "        </div>\n",
              "</body>\n",
              "</html>"
            ]
          },
          "metadata": {}
        }
      ]
    },
    {
      "cell_type": "code",
      "metadata": {
        "colab": {
          "base_uri": "https://localhost:8080/",
          "height": 542
        },
        "id": "Qzapf5Cwy-S9",
        "outputId": "a622beb9-5f6c-4882-cf45-00a42cdf71e2"
      },
      "source": [
        "fig = px.scatter(df, x = 'date', y = 'n_extent',\n",
        "           opacity=0.65, trendline='ols', \n",
        "           trendline_color_override='darkblue')\n",
        "\n",
        "fig.update_xaxes(rangeslider_visible = True)\n",
        "fig.show()\n",
        "\n",
        "results = px.get_trendline_results(fig)"
      ],
      "execution_count": 64,
      "outputs": [
        {
          "output_type": "display_data",
          "data": {
            "text/html": [
              "<html>\n",
              "<head><meta charset=\"utf-8\" /></head>\n",
              "<body>\n",
              "    <div>\n",
              "            <script src=\"https://cdnjs.cloudflare.com/ajax/libs/mathjax/2.7.5/MathJax.js?config=TeX-AMS-MML_SVG\"></script><script type=\"text/javascript\">if (window.MathJax) {MathJax.Hub.Config({SVG: {font: \"STIX-Web\"}});}</script>\n",
              "                <script type=\"text/javascript\">window.PlotlyConfig = {MathJaxConfig: 'local'};</script>\n",
              "        <script src=\"https://cdn.plot.ly/plotly-latest.min.js\"></script>    \n",
              "            <div id=\"4c122444-577f-4cba-bd23-c60de384f4e5\" class=\"plotly-graph-div\" style=\"height:525px; width:100%;\"></div>\n",
              "            <script type=\"text/javascript\">\n",
              "                \n",
              "                    window.PLOTLYENV=window.PLOTLYENV || {};\n",
              "                    \n",
              "                if (document.getElementById(\"4c122444-577f-4cba-bd23-c60de384f4e5\")) {\n",
              "                    Plotly.newPlot(\n",
              "                        '4c122444-577f-4cba-bd23-c60de384f4e5',\n",
              "                        [{\"hoverlabel\": {\"namelength\": 0}, \"hovertemplate\": \"date=%{x}<br>n_extent=%{y}\", \"legendgroup\": \"\", \"marker\": {\"color\": \"#636efa\", \"opacity\": 0.65, \"symbol\": \"circle\"}, \"mode\": \"markers\", \"name\": \"\", \"showlegend\": false, \"type\": \"scatter\", \"x\": [\"1979-01-01T00:00:00\", \"1980-01-01T00:00:00\", \"1981-01-01T00:00:00\", \"1982-01-01T00:00:00\", \"1983-01-01T00:00:00\", \"1984-01-01T00:00:00\", \"1985-01-01T00:00:00\", \"1986-01-01T00:00:00\", \"1987-01-01T00:00:00\", \"1989-01-01T00:00:00\", \"1990-01-01T00:00:00\", \"1991-01-01T00:00:00\", \"1992-01-01T00:00:00\", \"1993-01-01T00:00:00\", \"1994-01-01T00:00:00\", \"1995-01-01T00:00:00\", \"1996-01-01T00:00:00\", \"1997-01-01T00:00:00\", \"1998-01-01T00:00:00\", \"1999-01-01T00:00:00\", \"2000-01-01T00:00:00\", \"2001-01-01T00:00:00\", \"2002-01-01T00:00:00\", \"2003-01-01T00:00:00\", \"2004-01-01T00:00:00\", \"2005-01-01T00:00:00\", \"2006-01-01T00:00:00\", \"2007-01-01T00:00:00\", \"2008-01-01T00:00:00\", \"2009-01-01T00:00:00\", \"2010-01-01T00:00:00\", \"2011-01-01T00:00:00\", \"2012-01-01T00:00:00\", \"2013-01-01T00:00:00\", \"2014-01-01T00:00:00\", \"1979-02-01T00:00:00\", \"1980-02-01T00:00:00\", \"1981-02-01T00:00:00\", \"1982-02-01T00:00:00\", \"1983-02-01T00:00:00\", \"1984-02-01T00:00:00\", \"1985-02-01T00:00:00\", \"1986-02-01T00:00:00\", \"1987-02-01T00:00:00\", \"1988-02-01T00:00:00\", \"1989-02-01T00:00:00\", \"1990-02-01T00:00:00\", \"1991-02-01T00:00:00\", \"1992-02-01T00:00:00\", \"1993-02-01T00:00:00\", \"1994-02-01T00:00:00\", \"1995-02-01T00:00:00\", \"1996-02-01T00:00:00\", \"1997-02-01T00:00:00\", \"1998-02-01T00:00:00\", \"1999-02-01T00:00:00\", \"2000-02-01T00:00:00\", \"2001-02-01T00:00:00\", \"2002-02-01T00:00:00\", \"2003-02-01T00:00:00\", \"2004-02-01T00:00:00\", \"2005-02-01T00:00:00\", \"2006-02-01T00:00:00\", \"2007-02-01T00:00:00\", \"2008-02-01T00:00:00\", \"2009-02-01T00:00:00\", \"2010-02-01T00:00:00\", \"2011-02-01T00:00:00\", \"2012-02-01T00:00:00\", \"2013-02-01T00:00:00\", \"2014-02-01T00:00:00\", \"1979-03-01T00:00:00\", \"1980-03-01T00:00:00\", \"1981-03-01T00:00:00\", \"1982-03-01T00:00:00\", \"1983-03-01T00:00:00\", \"1984-03-01T00:00:00\", \"1985-03-01T00:00:00\", \"1986-03-01T00:00:00\", \"1987-03-01T00:00:00\", \"1988-03-01T00:00:00\", \"1989-03-01T00:00:00\", \"1990-03-01T00:00:00\", \"1991-03-01T00:00:00\", \"1992-03-01T00:00:00\", \"1993-03-01T00:00:00\", \"1994-03-01T00:00:00\", \"1995-03-01T00:00:00\", \"1996-03-01T00:00:00\", \"1997-03-01T00:00:00\", \"1998-03-01T00:00:00\", \"1999-03-01T00:00:00\", \"2000-03-01T00:00:00\", \"2001-03-01T00:00:00\", \"2002-03-01T00:00:00\", \"2003-03-01T00:00:00\", \"2004-03-01T00:00:00\", \"2005-03-01T00:00:00\", \"2006-03-01T00:00:00\", \"2007-03-01T00:00:00\", \"2008-03-01T00:00:00\", \"2009-03-01T00:00:00\", \"2010-03-01T00:00:00\", \"2011-03-01T00:00:00\", \"2012-03-01T00:00:00\", \"2013-03-01T00:00:00\", \"1979-04-01T00:00:00\", \"1980-04-01T00:00:00\", \"1981-04-01T00:00:00\", \"1982-04-01T00:00:00\", \"1983-04-01T00:00:00\", \"1984-04-01T00:00:00\", \"1985-04-01T00:00:00\", \"1986-04-01T00:00:00\", \"1987-04-01T00:00:00\", \"1988-04-01T00:00:00\", \"1989-04-01T00:00:00\", \"1990-04-01T00:00:00\", \"1991-04-01T00:00:00\", \"1992-04-01T00:00:00\", \"1993-04-01T00:00:00\", \"1994-04-01T00:00:00\", \"1995-04-01T00:00:00\", \"1996-04-01T00:00:00\", \"1997-04-01T00:00:00\", \"1998-04-01T00:00:00\", \"1999-04-01T00:00:00\", \"2000-04-01T00:00:00\", \"2001-04-01T00:00:00\", \"2002-04-01T00:00:00\", \"2003-04-01T00:00:00\", \"2004-04-01T00:00:00\", \"2005-04-01T00:00:00\", \"2006-04-01T00:00:00\", \"2007-04-01T00:00:00\", \"2008-04-01T00:00:00\", \"2009-04-01T00:00:00\", \"2010-04-01T00:00:00\", \"2011-04-01T00:00:00\", \"2012-04-01T00:00:00\", \"2013-04-01T00:00:00\", \"1979-05-01T00:00:00\", \"1980-05-01T00:00:00\", \"1981-05-01T00:00:00\", \"1982-05-01T00:00:00\", \"1983-05-01T00:00:00\", \"1984-05-01T00:00:00\", \"1985-05-01T00:00:00\", \"1986-05-01T00:00:00\", \"1987-05-01T00:00:00\", \"1988-05-01T00:00:00\", \"1989-05-01T00:00:00\", \"1990-05-01T00:00:00\", \"1991-05-01T00:00:00\", \"1992-05-01T00:00:00\", \"1993-05-01T00:00:00\", \"1994-05-01T00:00:00\", \"1995-05-01T00:00:00\", \"1996-05-01T00:00:00\", \"1997-05-01T00:00:00\", \"1998-05-01T00:00:00\", \"1999-05-01T00:00:00\", \"2000-05-01T00:00:00\", \"2001-05-01T00:00:00\", \"2002-05-01T00:00:00\", \"2003-05-01T00:00:00\", \"2004-05-01T00:00:00\", \"2005-05-01T00:00:00\", \"2006-05-01T00:00:00\", \"2007-05-01T00:00:00\", \"2008-05-01T00:00:00\", \"2009-05-01T00:00:00\", \"2010-05-01T00:00:00\", \"2011-05-01T00:00:00\", \"2012-05-01T00:00:00\", \"2013-05-01T00:00:00\", \"1979-06-01T00:00:00\", \"1980-06-01T00:00:00\", \"1981-06-01T00:00:00\", \"1982-06-01T00:00:00\", \"1983-06-01T00:00:00\", \"1984-06-01T00:00:00\", \"1985-06-01T00:00:00\", \"1986-06-01T00:00:00\", \"1987-06-01T00:00:00\", \"1988-06-01T00:00:00\", \"1989-06-01T00:00:00\", \"1990-06-01T00:00:00\", \"1991-06-01T00:00:00\", \"1992-06-01T00:00:00\", \"1993-06-01T00:00:00\", \"1994-06-01T00:00:00\", \"1995-06-01T00:00:00\", \"1996-06-01T00:00:00\", \"1997-06-01T00:00:00\", \"1998-06-01T00:00:00\", \"1999-06-01T00:00:00\", \"2000-06-01T00:00:00\", \"2001-06-01T00:00:00\", \"2002-06-01T00:00:00\", \"2003-06-01T00:00:00\", \"2004-06-01T00:00:00\", \"2005-06-01T00:00:00\", \"2006-06-01T00:00:00\", \"2007-06-01T00:00:00\", \"2008-06-01T00:00:00\", \"2009-06-01T00:00:00\", \"2010-06-01T00:00:00\", \"2011-06-01T00:00:00\", \"2012-06-01T00:00:00\", \"2013-06-01T00:00:00\", \"1979-07-01T00:00:00\", \"1980-07-01T00:00:00\", \"1981-07-01T00:00:00\", \"1982-07-01T00:00:00\", \"1983-07-01T00:00:00\", \"1984-07-01T00:00:00\", \"1985-07-01T00:00:00\", \"1986-07-01T00:00:00\", \"1987-07-01T00:00:00\", \"1988-07-01T00:00:00\", \"1989-07-01T00:00:00\", \"1990-07-01T00:00:00\", \"1991-07-01T00:00:00\", \"1992-07-01T00:00:00\", \"1993-07-01T00:00:00\", \"1994-07-01T00:00:00\", \"1995-07-01T00:00:00\", \"1996-07-01T00:00:00\", \"1997-07-01T00:00:00\", \"1998-07-01T00:00:00\", \"1999-07-01T00:00:00\", \"2000-07-01T00:00:00\", \"2001-07-01T00:00:00\", \"2002-07-01T00:00:00\", \"2003-07-01T00:00:00\", \"2004-07-01T00:00:00\", \"2005-07-01T00:00:00\", \"2006-07-01T00:00:00\", \"2007-07-01T00:00:00\", \"2008-07-01T00:00:00\", \"2009-07-01T00:00:00\", \"2010-07-01T00:00:00\", \"2011-07-01T00:00:00\", \"2012-07-01T00:00:00\", \"2013-07-01T00:00:00\", \"1979-08-01T00:00:00\", \"1980-08-01T00:00:00\", \"1981-08-01T00:00:00\", \"1982-08-01T00:00:00\", \"1983-08-01T00:00:00\", \"1984-08-01T00:00:00\", \"1985-08-01T00:00:00\", \"1986-08-01T00:00:00\", \"1987-08-01T00:00:00\", \"1988-08-01T00:00:00\", \"1989-08-01T00:00:00\", \"1990-08-01T00:00:00\", \"1991-08-01T00:00:00\", \"1992-08-01T00:00:00\", \"1993-08-01T00:00:00\", \"1994-08-01T00:00:00\", \"1995-08-01T00:00:00\", \"1996-08-01T00:00:00\", \"1997-08-01T00:00:00\", \"1998-08-01T00:00:00\", \"1999-08-01T00:00:00\", \"2000-08-01T00:00:00\", \"2001-08-01T00:00:00\", \"2002-08-01T00:00:00\", \"2003-08-01T00:00:00\", \"2004-08-01T00:00:00\", \"2005-08-01T00:00:00\", \"2006-08-01T00:00:00\", \"2007-08-01T00:00:00\", \"2008-08-01T00:00:00\", \"2009-08-01T00:00:00\", \"2010-08-01T00:00:00\", \"2011-08-01T00:00:00\", \"2012-08-01T00:00:00\", \"2013-08-01T00:00:00\", \"1979-09-01T00:00:00\", \"1980-09-01T00:00:00\", \"1981-09-01T00:00:00\", \"1982-09-01T00:00:00\", \"1983-09-01T00:00:00\", \"1984-09-01T00:00:00\", \"1985-09-01T00:00:00\", \"1986-09-01T00:00:00\", \"1987-09-01T00:00:00\", \"1988-09-01T00:00:00\", \"1989-09-01T00:00:00\", \"1990-09-01T00:00:00\", \"1991-09-01T00:00:00\", \"1992-09-01T00:00:00\", \"1993-09-01T00:00:00\", \"1994-09-01T00:00:00\", \"1995-09-01T00:00:00\", \"1996-09-01T00:00:00\", \"1997-09-01T00:00:00\", \"1998-09-01T00:00:00\", \"1999-09-01T00:00:00\", \"2000-09-01T00:00:00\", \"2001-09-01T00:00:00\", \"2002-09-01T00:00:00\", \"2003-09-01T00:00:00\", \"2004-09-01T00:00:00\", \"2005-09-01T00:00:00\", \"2006-09-01T00:00:00\", \"2007-09-01T00:00:00\", \"2008-09-01T00:00:00\", \"2009-09-01T00:00:00\", \"2010-09-01T00:00:00\", \"2011-09-01T00:00:00\", \"2012-09-01T00:00:00\", \"2013-09-01T00:00:00\", \"1979-10-01T00:00:00\", \"1980-10-01T00:00:00\", \"1981-10-01T00:00:00\", \"1982-10-01T00:00:00\", \"1983-10-01T00:00:00\", \"1984-10-01T00:00:00\", \"1985-10-01T00:00:00\", \"1986-10-01T00:00:00\", \"1987-10-01T00:00:00\", \"1988-10-01T00:00:00\", \"1989-10-01T00:00:00\", \"1990-10-01T00:00:00\", \"1991-10-01T00:00:00\", \"1992-10-01T00:00:00\", \"1993-10-01T00:00:00\", \"1994-10-01T00:00:00\", \"1995-10-01T00:00:00\", \"1996-10-01T00:00:00\", \"1997-10-01T00:00:00\", \"1998-10-01T00:00:00\", \"1999-10-01T00:00:00\", \"2000-10-01T00:00:00\", \"2001-10-01T00:00:00\", \"2002-10-01T00:00:00\", \"2003-10-01T00:00:00\", \"2004-10-01T00:00:00\", \"2005-10-01T00:00:00\", \"2006-10-01T00:00:00\", \"2007-10-01T00:00:00\", \"2008-10-01T00:00:00\", \"2009-10-01T00:00:00\", \"2010-10-01T00:00:00\", \"2011-10-01T00:00:00\", \"2012-10-01T00:00:00\", \"2013-10-01T00:00:00\", \"1978-11-01T00:00:00\", \"1979-11-01T00:00:00\", \"1980-11-01T00:00:00\", \"1981-11-01T00:00:00\", \"1982-11-01T00:00:00\", \"1983-11-01T00:00:00\", \"1984-11-01T00:00:00\", \"1985-11-01T00:00:00\", \"1986-11-01T00:00:00\", \"1987-11-01T00:00:00\", \"1988-11-01T00:00:00\", \"1989-11-01T00:00:00\", \"1990-11-01T00:00:00\", \"1991-11-01T00:00:00\", \"1992-11-01T00:00:00\", \"1993-11-01T00:00:00\", \"1994-11-01T00:00:00\", \"1995-11-01T00:00:00\", \"1996-11-01T00:00:00\", \"1997-11-01T00:00:00\", \"1998-11-01T00:00:00\", \"1999-11-01T00:00:00\", \"2000-11-01T00:00:00\", \"2001-11-01T00:00:00\", \"2002-11-01T00:00:00\", \"2003-11-01T00:00:00\", \"2004-11-01T00:00:00\", \"2005-11-01T00:00:00\", \"2006-11-01T00:00:00\", \"2007-11-01T00:00:00\", \"2008-11-01T00:00:00\", \"2009-11-01T00:00:00\", \"2010-11-01T00:00:00\", \"2011-11-01T00:00:00\", \"2012-11-01T00:00:00\", \"2013-11-01T00:00:00\", \"1978-12-01T00:00:00\", \"1979-12-01T00:00:00\", \"1980-12-01T00:00:00\", \"1981-12-01T00:00:00\", \"1982-12-01T00:00:00\", \"1983-12-01T00:00:00\", \"1984-12-01T00:00:00\", \"1985-12-01T00:00:00\", \"1986-12-01T00:00:00\", \"1988-12-01T00:00:00\", \"1989-12-01T00:00:00\", \"1990-12-01T00:00:00\", \"1991-12-01T00:00:00\", \"1992-12-01T00:00:00\", \"1993-12-01T00:00:00\", \"1994-12-01T00:00:00\", \"1995-12-01T00:00:00\", \"1996-12-01T00:00:00\", \"1997-12-01T00:00:00\", \"1998-12-01T00:00:00\", \"1999-12-01T00:00:00\", \"2000-12-01T00:00:00\", \"2001-12-01T00:00:00\", \"2002-12-01T00:00:00\", \"2003-12-01T00:00:00\", \"2004-12-01T00:00:00\", \"2005-12-01T00:00:00\", \"2006-12-01T00:00:00\", \"2007-12-01T00:00:00\", \"2008-12-01T00:00:00\", \"2009-12-01T00:00:00\", \"2010-12-01T00:00:00\", \"2011-12-01T00:00:00\", \"2012-12-01T00:00:00\", \"2013-12-01T00:00:00\"], \"xaxis\": \"x\", \"y\": [0.07324677374797729, 0.03318994435455226, 0.03802438928134485, 0.053908994040806575, 0.042858834208137554, 0.009017719720588707, 0.02628359445913403, 0.03733375429180305, 0.04976518410355566, 0.04424010418722115, 0.03249930936501034, -0.0013418051225383895, 0.016614704605548734, 0.04147756422905396, 0.023521054500966837, 0.009708354710130505, -0.018607679861083713, -0.0006511701329965912, 0.02283041951142504, -0.0006511701329965912, -0.004794980070247503, -0.011701329965665608, -0.0020324401120803103, -0.0013418051225383895, -0.03103910967283645, -0.056592604285883474, -0.06073641422313439, -0.04899561940092357, -0.02965783969375273, -0.027585934725127336, -0.04692371443229806, -0.06280831919175978, -0.04899561940092357, -0.04830498441138177, -0.05175815935909076, 0.06609049313675623, 0.04452029922289187, 0.022950105309027396, 0.04974943714140436, 0.04713486818214812, 0.0013799113951629145, 0.024257389788655517, 0.03863751906456521, 0.05301764834047478, 0.020335536349771033, 0.017067325150700727, 0.017067325150700727, -0.0025419420437215678, 0.013145471711816245, 0.02817924322754, 0.020335536349771033, -0.00384922652334969, -0.008424722202048233, 0.014452756191444368, 0.030793812186796242, 0.00464812259423322, -0.007771079962234173, -0.001888299803907507, 0.003994480354419159, -0.003195584283535629, -0.02411213595758605, -0.06136974362698834, -0.05744789018810386, -0.05025782555014907, -0.018882998039073444, -0.029341273876098653, -0.04633597211126459, -0.0600624591473601, -0.04633597211126459, -0.03979954971312386, -0.05614060570847574, 0.06185795171612481, 0.041201748400066435, 0.007635418011471631, 0.04249276110732005, 0.039265229339186115, 0.008280924365098441, 0.03668320392467865, 0.03797421663193227, 0.029582634034783624, 0.041201748400066435, 0.0018258608288302274, 0.025064089559395954, 0.0005348481215766077, -0.0014016709393038218, 0.025064089559395954, 0.005698898950591201, -0.0110842662437062, -0.023348886962615816, 0.005698898950591201, 0.010862949779605795, -0.005920215414691605, -0.014311798011840363, 0.007635418011471631, -0.003338190000184366, -0.00011065823205020214, -0.02851293779163041, -0.048523634754061976, -0.06853433171649354, -0.05433319193670338, -0.01753932977997441, -0.022703380608989007, -0.02463989966986955, -0.05885173641209116, -0.016248317072720793, -0.029158444145257333, 0.04699986455370439, 0.049031558986861595, 0.02397399431125541, 0.054449410808614276, 0.03616416091019903, 0.02600568874441274, 0.038873086821075306, 0.02600568874441274, 0.03819585534335624, 0.03006907761072728, -0.022077746173642304, -0.005824190708384265, 0.011106596234592842, -0.004469727752946126, 0.02803738317756995, 0.012461059190030982, -0.011919274007856015, -0.036976838683462084, -0.011919274007856015, 0.008397670323716563, 0.0246512257889746, -0.009210348096979615, 0.0063659758905592325, -0.026818366517675912, -0.013273736963294154, -0.04442638493837209, -0.04713531084924837, -0.053907625626439186, -0.06067994040363013, -0.023432209129080443, -0.013273736963294154, -0.004469727752946126, -0.04104022754977662, -0.0031152647975078657, -0.026818366517675912, 0.049567034935801564, 0.04807405195580744, 0.03762317109584933, 0.057778441325768676, 0.010749477455956745, 0.02120035831591498, 0.0622573902657508, 0.009256494475962749, 0.03090474768587622, 0.02194684980591198, -0.031054045983875938, -0.007166318303971473, 0.008510002985965751, -0.010898775753956595, 0.010749477455956745, 0.024932815765900104, -0.02657509704389395, -0.025082114063899822, -0.005673335323977477, 0.030158256195879224, 0.03463720513586121, -0.016124216183935714, 0.024186324275903105, -0.020603165123917834, -0.029561063003881942, -0.06091370558375652, -0.03030755449387894, -0.05792773962376853, -0.037772469393849054, -0.015377724693938716, 0.0002985965959986401, -0.02134965661391483, -0.04374440131382517, -0.020603165123917834, -0.02209614810391183, 0.061551433389544725, 0.03794266441821257, 0.05986509274873532, 0.06998313659359191, 0.04215851602023609, 0.02866779089376053, 0.04553119730185506, 0.020236087689713342, 0.05986509274873532, 0.013490725126475561, 0.03794266441821257, -0.015177065767284968, 0.03119730185497479, 0.0227655986509276, 0.010961214165261449, 0.020236087689713342, -0.026138279932546266, 0.020236087689713342, 0.004215851602023669, -0.0008431703204047038, 0.020236087689713342, -0.012647554806070707, -0.014333895446880265, -0.014333895446880265, -0.007588532883642484, -0.029510961214165233, -0.048060708263069164, -0.06745362563237765, -0.03119730185497464, -0.04215851602023609, -0.03372681281618875, -0.087689713322091, -0.07335581787521073, -0.0792580101180438, -0.023608768971332156, 0.09049517914533947, 0.08216283775740946, 0.10611831924770808, 0.11965837400309443, 0.13632305677895445, 0.05716581359361942, 0.05091655755267187, 0.09049517914533947, 0.03945958814426817, 0.04570884418521554, 0.08112129508391823, 0.0019640518985830206, 0.008213307939530576, 0.10507677657421685, 0.006130222592548119, 0.0644566123080582, -0.046988453755505644, 0.0790382097369356, -0.0011605761218906646, 0.0019640518985830206, -0.0011605761218906646, 0.01550410665396936, -0.03969765504106686, -0.011576002856803134, -0.01470063087727682, -0.00011903344839943628, -0.06990239257231322, -0.09698250208308572, -0.15322580645161316, -0.06365313653136566, -0.08344244732769937, -0.12927032496131455, -0.17613974526842074, -0.1740566599214383, -0.11989644089989329, 0.14429557124518583, 0.12885109114248988, 0.103578305519897, 0.1597400513478815, 0.1737804878048776, 0.10498234916559658, 0.04741655969191237, 0.12463896020539114, 0.07970956354300356, 0.10919448010269546, 0.11200256739409463, -0.04244223363286291, 0.03899229781771474, 0.103578305519897, 0.023547817715018935, 0.06847721437740664, -0.06209884467265759, 0.147103658536585, 0.02495186136071852, 0.05162869062901125, 0.036184210526315444, 0.01231546854942201, 0.048820603337611956, -0.08315949935815173, -0.03823010269576416, -0.041038189987163326, -0.11545250320924293, -0.08456354300385144, -0.24743260590500663, -0.1505535943517333, -0.1182605905006421, -0.15616976893453174, -0.220755776636714, -0.3386954428754816, -0.14493741976893482, 0.12414685283490212, 0.2256323326047196, 0.13195342820181113, 0.16317972966944733, 0.1741089351831199, 0.11946290761475666, 0.08199134585359322, 0.17723156532988357, 0.1678636748895928, 0.16942498996297456, 0.09916581166079316, -0.025739394209751486, 0.022661373065084516, 0.17879288040326535, 0.0148547976981755, 0.12102422268813844, -0.04291386001695143, 0.23031627782486505, 0.05232635945933894, 0.02422268813846629, -0.025739394209751486, -0.013248873622697008, 0.05388767453272071, -0.06945621626444216, -0.03979122987018774, -0.05540438060400591, -0.13034750412633264, -0.0757014765579694, -0.32863451844582237, -0.26149797029040456, -0.1584511754472053, -0.23027166882276848, -0.2771111210242227, -0.43324262836240357, -0.16469643574073253, 0.06593798650752487, 0.07388427607680358, 0.0432343020238714, 0.13291385573430223, 0.09431759211209156, 0.0035028541774780784, 0.008043591074208854, 0.12269719771665825, 0.054586144265698036, 0.07501946030098622, 0.08069538142189944, 0.0613972496107941, 0.039828749351323474, 0.08977685521536079, 0.04209911779968876, 0.07615464452516886, 0.014854696419304713, 0.06593798650752487, -0.00557861961598327, 0.004638038401660722, 0.03301764400622741, 0.012584327970939427, -0.02487675142708861, 9.730150493014827e-05, -0.01806564608199255, -0.03736377789309789, -0.04076933056564602, -0.05439154125583794, -0.23148028022833414, -0.04417488323819395, -0.14634146341463405, -0.12477296315516334, -0.18947846393357543, -0.19742475350285402, -0.08050077841203934, 0.09533098573708602, 0.0178096420337952, 0.06614647987231767, 0.01872165784206919, 0.08621082765434596, 0.06158640083094772, 0.02966584754135724, 0.03878600562409747, 0.07435462214678375, 0.05064221113165951, 0.06614647987231767, 0.048818179515111526, 0.03148987915790538, 0.014161578800699076, 0.08256276442124982, 0.0697945431054138, 0.030577863349631394, 0.0004813416765890551, -0.03691130646264537, -0.00499075317305505, -0.019583006105439223, 0.0023053732931370362, -0.038735338079193514, -0.00407873736478106, -0.016846958680617252, -0.06153573328604376, -0.02870316418817929, -0.04511944873711145, -0.10257644465837415, -0.08342411268461986, -0.03143921161300142, -0.06335976490259175, -0.09892838142527803, -0.08798419172598998, -0.09528031819218206, -0.06609581232741371, 0.08121116653539877, 0.03679880983635263, 0.050581955018815336, 0.05211341559464448, 0.05900498818587577, 0.029141506957206773, 0.009232519471427492, 0.009998249759342064, 0.026078585805548487, 0.05517633674630277, 0.03143869782095063, 0.016124092062658777, 0.008466789183512919, 0.030672967533036055, 0.03526734926052349, 0.03603307954843806, -0.006082086286864222, 0.006169598319769203, 0.01765555263848792, 0.015358361774744204, -0.013739389166010078, -0.01909950118141222, -0.016802310317668503, -0.018333770893497647, -0.018333770893497647, -0.025991073772643505, -0.045134330970508216, -0.060448936728800064, -0.05126017327382493, -0.041305679530935356, -0.04207140981884992, -0.07959219392666478, -0.050494442985910354, -0.06580904874420221, -0.0520259035617395], \"yaxis\": \"y\"}, {\"hoverlabel\": {\"namelength\": 0}, \"hovertemplate\": \"<b>OLS trendline</b><br>n_extent = -0.000000 * date + 0.141934<br>R<sup>2</sup>=0.512615<br><br>date=%{x}<br>n_extent=%{y} <b>(trend)</b>\", \"legendgroup\": \"\", \"line\": {\"color\": \"darkblue\"}, \"marker\": {\"color\": \"#636efa\", \"symbol\": \"circle\"}, \"mode\": \"lines\", \"name\": \"\", \"showlegend\": false, \"type\": \"scatter\", \"x\": [\"1978-11-01T00:00:00\", \"1978-12-01T00:00:00\", \"1979-01-01T00:00:00\", \"1979-02-01T00:00:00\", \"1979-03-01T00:00:00\", \"1979-04-01T00:00:00\", \"1979-05-01T00:00:00\", \"1979-06-01T00:00:00\", \"1979-07-01T00:00:00\", \"1979-08-01T00:00:00\", \"1979-09-01T00:00:00\", \"1979-10-01T00:00:00\", \"1979-11-01T00:00:00\", \"1979-12-01T00:00:00\", \"1980-01-01T00:00:00\", \"1980-02-01T00:00:00\", \"1980-03-01T00:00:00\", \"1980-04-01T00:00:00\", \"1980-05-01T00:00:00\", \"1980-06-01T00:00:00\", \"1980-07-01T00:00:00\", \"1980-08-01T00:00:00\", \"1980-09-01T00:00:00\", \"1980-10-01T00:00:00\", \"1980-11-01T00:00:00\", \"1980-12-01T00:00:00\", \"1981-01-01T00:00:00\", \"1981-02-01T00:00:00\", \"1981-03-01T00:00:00\", \"1981-04-01T00:00:00\", \"1981-05-01T00:00:00\", \"1981-06-01T00:00:00\", \"1981-07-01T00:00:00\", \"1981-08-01T00:00:00\", \"1981-09-01T00:00:00\", \"1981-10-01T00:00:00\", \"1981-11-01T00:00:00\", \"1981-12-01T00:00:00\", \"1982-01-01T00:00:00\", \"1982-02-01T00:00:00\", \"1982-03-01T00:00:00\", \"1982-04-01T00:00:00\", \"1982-05-01T00:00:00\", \"1982-06-01T00:00:00\", \"1982-07-01T00:00:00\", \"1982-08-01T00:00:00\", \"1982-09-01T00:00:00\", \"1982-10-01T00:00:00\", \"1982-11-01T00:00:00\", \"1982-12-01T00:00:00\", \"1983-01-01T00:00:00\", \"1983-02-01T00:00:00\", \"1983-03-01T00:00:00\", \"1983-04-01T00:00:00\", \"1983-05-01T00:00:00\", \"1983-06-01T00:00:00\", \"1983-07-01T00:00:00\", \"1983-08-01T00:00:00\", \"1983-09-01T00:00:00\", \"1983-10-01T00:00:00\", \"1983-11-01T00:00:00\", \"1983-12-01T00:00:00\", \"1984-01-01T00:00:00\", \"1984-02-01T00:00:00\", \"1984-03-01T00:00:00\", \"1984-04-01T00:00:00\", \"1984-05-01T00:00:00\", \"1984-06-01T00:00:00\", \"1984-07-01T00:00:00\", \"1984-08-01T00:00:00\", \"1984-09-01T00:00:00\", \"1984-10-01T00:00:00\", \"1984-11-01T00:00:00\", \"1984-12-01T00:00:00\", \"1985-01-01T00:00:00\", \"1985-02-01T00:00:00\", \"1985-03-01T00:00:00\", \"1985-04-01T00:00:00\", \"1985-05-01T00:00:00\", \"1985-06-01T00:00:00\", \"1985-07-01T00:00:00\", \"1985-08-01T00:00:00\", \"1985-09-01T00:00:00\", \"1985-10-01T00:00:00\", \"1985-11-01T00:00:00\", \"1985-12-01T00:00:00\", \"1986-01-01T00:00:00\", \"1986-02-01T00:00:00\", \"1986-03-01T00:00:00\", \"1986-04-01T00:00:00\", \"1986-05-01T00:00:00\", \"1986-06-01T00:00:00\", \"1986-07-01T00:00:00\", \"1986-08-01T00:00:00\", \"1986-09-01T00:00:00\", \"1986-10-01T00:00:00\", \"1986-11-01T00:00:00\", \"1986-12-01T00:00:00\", \"1987-01-01T00:00:00\", \"1987-02-01T00:00:00\", \"1987-03-01T00:00:00\", \"1987-04-01T00:00:00\", \"1987-05-01T00:00:00\", \"1987-06-01T00:00:00\", \"1987-07-01T00:00:00\", \"1987-08-01T00:00:00\", \"1987-09-01T00:00:00\", \"1987-10-01T00:00:00\", \"1987-11-01T00:00:00\", \"1988-02-01T00:00:00\", \"1988-03-01T00:00:00\", \"1988-04-01T00:00:00\", \"1988-05-01T00:00:00\", \"1988-06-01T00:00:00\", \"1988-07-01T00:00:00\", \"1988-08-01T00:00:00\", \"1988-09-01T00:00:00\", \"1988-10-01T00:00:00\", \"1988-11-01T00:00:00\", \"1988-12-01T00:00:00\", \"1989-01-01T00:00:00\", \"1989-02-01T00:00:00\", \"1989-03-01T00:00:00\", \"1989-04-01T00:00:00\", \"1989-05-01T00:00:00\", \"1989-06-01T00:00:00\", \"1989-07-01T00:00:00\", \"1989-08-01T00:00:00\", \"1989-09-01T00:00:00\", \"1989-10-01T00:00:00\", \"1989-11-01T00:00:00\", \"1989-12-01T00:00:00\", \"1990-01-01T00:00:00\", \"1990-02-01T00:00:00\", \"1990-03-01T00:00:00\", \"1990-04-01T00:00:00\", \"1990-05-01T00:00:00\", \"1990-06-01T00:00:00\", \"1990-07-01T00:00:00\", \"1990-08-01T00:00:00\", \"1990-09-01T00:00:00\", \"1990-10-01T00:00:00\", \"1990-11-01T00:00:00\", \"1990-12-01T00:00:00\", \"1991-01-01T00:00:00\", \"1991-02-01T00:00:00\", \"1991-03-01T00:00:00\", \"1991-04-01T00:00:00\", \"1991-05-01T00:00:00\", \"1991-06-01T00:00:00\", \"1991-07-01T00:00:00\", \"1991-08-01T00:00:00\", \"1991-09-01T00:00:00\", \"1991-10-01T00:00:00\", \"1991-11-01T00:00:00\", \"1991-12-01T00:00:00\", \"1992-01-01T00:00:00\", \"1992-02-01T00:00:00\", \"1992-03-01T00:00:00\", \"1992-04-01T00:00:00\", \"1992-05-01T00:00:00\", \"1992-06-01T00:00:00\", \"1992-07-01T00:00:00\", \"1992-08-01T00:00:00\", \"1992-09-01T00:00:00\", \"1992-10-01T00:00:00\", \"1992-11-01T00:00:00\", \"1992-12-01T00:00:00\", \"1993-01-01T00:00:00\", \"1993-02-01T00:00:00\", \"1993-03-01T00:00:00\", \"1993-04-01T00:00:00\", \"1993-05-01T00:00:00\", \"1993-06-01T00:00:00\", \"1993-07-01T00:00:00\", \"1993-08-01T00:00:00\", \"1993-09-01T00:00:00\", \"1993-10-01T00:00:00\", \"1993-11-01T00:00:00\", \"1993-12-01T00:00:00\", \"1994-01-01T00:00:00\", \"1994-02-01T00:00:00\", \"1994-03-01T00:00:00\", \"1994-04-01T00:00:00\", \"1994-05-01T00:00:00\", \"1994-06-01T00:00:00\", \"1994-07-01T00:00:00\", \"1994-08-01T00:00:00\", \"1994-09-01T00:00:00\", \"1994-10-01T00:00:00\", \"1994-11-01T00:00:00\", \"1994-12-01T00:00:00\", \"1995-01-01T00:00:00\", \"1995-02-01T00:00:00\", \"1995-03-01T00:00:00\", \"1995-04-01T00:00:00\", \"1995-05-01T00:00:00\", \"1995-06-01T00:00:00\", \"1995-07-01T00:00:00\", \"1995-08-01T00:00:00\", \"1995-09-01T00:00:00\", \"1995-10-01T00:00:00\", \"1995-11-01T00:00:00\", \"1995-12-01T00:00:00\", \"1996-01-01T00:00:00\", \"1996-02-01T00:00:00\", \"1996-03-01T00:00:00\", \"1996-04-01T00:00:00\", \"1996-05-01T00:00:00\", \"1996-06-01T00:00:00\", \"1996-07-01T00:00:00\", \"1996-08-01T00:00:00\", \"1996-09-01T00:00:00\", \"1996-10-01T00:00:00\", \"1996-11-01T00:00:00\", \"1996-12-01T00:00:00\", \"1997-01-01T00:00:00\", \"1997-02-01T00:00:00\", \"1997-03-01T00:00:00\", \"1997-04-01T00:00:00\", \"1997-05-01T00:00:00\", \"1997-06-01T00:00:00\", \"1997-07-01T00:00:00\", \"1997-08-01T00:00:00\", \"1997-09-01T00:00:00\", \"1997-10-01T00:00:00\", \"1997-11-01T00:00:00\", \"1997-12-01T00:00:00\", \"1998-01-01T00:00:00\", \"1998-02-01T00:00:00\", \"1998-03-01T00:00:00\", \"1998-04-01T00:00:00\", \"1998-05-01T00:00:00\", \"1998-06-01T00:00:00\", \"1998-07-01T00:00:00\", \"1998-08-01T00:00:00\", \"1998-09-01T00:00:00\", \"1998-10-01T00:00:00\", \"1998-11-01T00:00:00\", \"1998-12-01T00:00:00\", \"1999-01-01T00:00:00\", \"1999-02-01T00:00:00\", \"1999-03-01T00:00:00\", \"1999-04-01T00:00:00\", \"1999-05-01T00:00:00\", \"1999-06-01T00:00:00\", \"1999-07-01T00:00:00\", \"1999-08-01T00:00:00\", \"1999-09-01T00:00:00\", \"1999-10-01T00:00:00\", \"1999-11-01T00:00:00\", \"1999-12-01T00:00:00\", \"2000-01-01T00:00:00\", \"2000-02-01T00:00:00\", \"2000-03-01T00:00:00\", \"2000-04-01T00:00:00\", \"2000-05-01T00:00:00\", \"2000-06-01T00:00:00\", \"2000-07-01T00:00:00\", \"2000-08-01T00:00:00\", \"2000-09-01T00:00:00\", \"2000-10-01T00:00:00\", \"2000-11-01T00:00:00\", \"2000-12-01T00:00:00\", \"2001-01-01T00:00:00\", \"2001-02-01T00:00:00\", \"2001-03-01T00:00:00\", \"2001-04-01T00:00:00\", \"2001-05-01T00:00:00\", \"2001-06-01T00:00:00\", \"2001-07-01T00:00:00\", \"2001-08-01T00:00:00\", \"2001-09-01T00:00:00\", \"2001-10-01T00:00:00\", \"2001-11-01T00:00:00\", \"2001-12-01T00:00:00\", \"2002-01-01T00:00:00\", \"2002-02-01T00:00:00\", \"2002-03-01T00:00:00\", \"2002-04-01T00:00:00\", \"2002-05-01T00:00:00\", \"2002-06-01T00:00:00\", \"2002-07-01T00:00:00\", \"2002-08-01T00:00:00\", \"2002-09-01T00:00:00\", \"2002-10-01T00:00:00\", \"2002-11-01T00:00:00\", \"2002-12-01T00:00:00\", \"2003-01-01T00:00:00\", \"2003-02-01T00:00:00\", \"2003-03-01T00:00:00\", \"2003-04-01T00:00:00\", \"2003-05-01T00:00:00\", \"2003-06-01T00:00:00\", \"2003-07-01T00:00:00\", \"2003-08-01T00:00:00\", \"2003-09-01T00:00:00\", \"2003-10-01T00:00:00\", \"2003-11-01T00:00:00\", \"2003-12-01T00:00:00\", \"2004-01-01T00:00:00\", \"2004-02-01T00:00:00\", \"2004-03-01T00:00:00\", \"2004-04-01T00:00:00\", \"2004-05-01T00:00:00\", \"2004-06-01T00:00:00\", \"2004-07-01T00:00:00\", \"2004-08-01T00:00:00\", \"2004-09-01T00:00:00\", \"2004-10-01T00:00:00\", \"2004-11-01T00:00:00\", \"2004-12-01T00:00:00\", \"2005-01-01T00:00:00\", \"2005-02-01T00:00:00\", \"2005-03-01T00:00:00\", \"2005-04-01T00:00:00\", \"2005-05-01T00:00:00\", \"2005-06-01T00:00:00\", \"2005-07-01T00:00:00\", \"2005-08-01T00:00:00\", \"2005-09-01T00:00:00\", \"2005-10-01T00:00:00\", \"2005-11-01T00:00:00\", \"2005-12-01T00:00:00\", \"2006-01-01T00:00:00\", \"2006-02-01T00:00:00\", \"2006-03-01T00:00:00\", \"2006-04-01T00:00:00\", \"2006-05-01T00:00:00\", \"2006-06-01T00:00:00\", \"2006-07-01T00:00:00\", \"2006-08-01T00:00:00\", \"2006-09-01T00:00:00\", \"2006-10-01T00:00:00\", \"2006-11-01T00:00:00\", \"2006-12-01T00:00:00\", \"2007-01-01T00:00:00\", \"2007-02-01T00:00:00\", \"2007-03-01T00:00:00\", \"2007-04-01T00:00:00\", \"2007-05-01T00:00:00\", \"2007-06-01T00:00:00\", \"2007-07-01T00:00:00\", \"2007-08-01T00:00:00\", \"2007-09-01T00:00:00\", \"2007-10-01T00:00:00\", \"2007-11-01T00:00:00\", \"2007-12-01T00:00:00\", \"2008-01-01T00:00:00\", \"2008-02-01T00:00:00\", \"2008-03-01T00:00:00\", \"2008-04-01T00:00:00\", \"2008-05-01T00:00:00\", \"2008-06-01T00:00:00\", \"2008-07-01T00:00:00\", \"2008-08-01T00:00:00\", \"2008-09-01T00:00:00\", \"2008-10-01T00:00:00\", \"2008-11-01T00:00:00\", \"2008-12-01T00:00:00\", \"2009-01-01T00:00:00\", \"2009-02-01T00:00:00\", \"2009-03-01T00:00:00\", \"2009-04-01T00:00:00\", \"2009-05-01T00:00:00\", \"2009-06-01T00:00:00\", \"2009-07-01T00:00:00\", \"2009-08-01T00:00:00\", \"2009-09-01T00:00:00\", \"2009-10-01T00:00:00\", \"2009-11-01T00:00:00\", \"2009-12-01T00:00:00\", \"2010-01-01T00:00:00\", \"2010-02-01T00:00:00\", \"2010-03-01T00:00:00\", \"2010-04-01T00:00:00\", \"2010-05-01T00:00:00\", \"2010-06-01T00:00:00\", \"2010-07-01T00:00:00\", \"2010-08-01T00:00:00\", \"2010-09-01T00:00:00\", \"2010-10-01T00:00:00\", \"2010-11-01T00:00:00\", \"2010-12-01T00:00:00\", \"2011-01-01T00:00:00\", \"2011-02-01T00:00:00\", \"2011-03-01T00:00:00\", \"2011-04-01T00:00:00\", \"2011-05-01T00:00:00\", \"2011-06-01T00:00:00\", \"2011-07-01T00:00:00\", \"2011-08-01T00:00:00\", \"2011-09-01T00:00:00\", \"2011-10-01T00:00:00\", \"2011-11-01T00:00:00\", \"2011-12-01T00:00:00\", \"2012-01-01T00:00:00\", \"2012-02-01T00:00:00\", \"2012-03-01T00:00:00\", \"2012-04-01T00:00:00\", \"2012-05-01T00:00:00\", \"2012-06-01T00:00:00\", \"2012-07-01T00:00:00\", \"2012-08-01T00:00:00\", \"2012-09-01T00:00:00\", \"2012-10-01T00:00:00\", \"2012-11-01T00:00:00\", \"2012-12-01T00:00:00\", \"2013-01-01T00:00:00\", \"2013-02-01T00:00:00\", \"2013-03-01T00:00:00\", \"2013-04-01T00:00:00\", \"2013-05-01T00:00:00\", \"2013-06-01T00:00:00\", \"2013-07-01T00:00:00\", \"2013-08-01T00:00:00\", \"2013-09-01T00:00:00\", \"2013-10-01T00:00:00\", \"2013-11-01T00:00:00\", \"2013-12-01T00:00:00\", \"2014-01-01T00:00:00\", \"2014-02-01T00:00:00\"], \"xaxis\": \"x\", \"y\": [0.09462165149140675, 0.09418167395916766, 0.09372703050918724, 0.09327238705920682, 0.0928617413624503, 0.09240709791246988, 0.09196712038023078, 0.09151247693025036, 0.09107249939801124, 0.09061785594803082, 0.0901632124980504, 0.08972323496581129, 0.08926859151583087, 0.08882861398359176, 0.08837397053361135, 0.08791932708363093, 0.08749401546913312, 0.0870393720191527, 0.08659939448691359, 0.08614475103693317, 0.08570477350469405, 0.08525013005471363, 0.08479548660473321, 0.0843555090724941, 0.08390086562251368, 0.08346088809027458, 0.08300624464029416, 0.08255160119031374, 0.08214095549355724, 0.08168631204357682, 0.0812463345113377, 0.08079169106135728, 0.08035171352911817, 0.07989707007913775, 0.07944242662915733, 0.07900244909691823, 0.07854780564693781, 0.07810782811469869, 0.07765318466471827, 0.07719854121473785, 0.07678789551798135, 0.07633325206800093, 0.07589327453576182, 0.0754386310857814, 0.07499865355354228, 0.07454401010356186, 0.07408936665358146, 0.07364938912134233, 0.07319474567136192, 0.07275476813912281, 0.07230012468914239, 0.07184548123916197, 0.07143483554240547, 0.07098019209242505, 0.07054021456018593, 0.07008557111020551, 0.0696455935779664, 0.06919095012798598, 0.06873630667800557, 0.06829632914576646, 0.06784168569578604, 0.06740170816354692, 0.0669470647135665, 0.06649242126358608, 0.06606710964908828, 0.06561246619910786, 0.06517248866686874, 0.06471784521688832, 0.06427786768464921, 0.0638232242346688, 0.06336858078468838, 0.06292860325244927, 0.06247395980246885, 0.06203398227022973, 0.06157933882024931, 0.06112469537026889, 0.06071404967351239, 0.06025940622353197, 0.059819428691292864, 0.059364785241312445, 0.058924807709073324, 0.058470164259092905, 0.058015520809112486, 0.05757554327687338, 0.05712089982689296, 0.05668092229465385, 0.05622627884467343, 0.055771635394693014, 0.0553609896979365, 0.054906346247956095, 0.05446636871571697, 0.054011725265736554, 0.053571747733497446, 0.05311710428351703, 0.05266246083353661, 0.0522224833012975, 0.05176783985131708, 0.05132786231907796, 0.05087321886909754, 0.05041857541911712, 0.05000792972236062, 0.049553286272380204, 0.049113308740141096, 0.04865866529016068, 0.048218687757921555, 0.047764044307941136, 0.04730940085796072, 0.04686942332572161, 0.04641477987574119, 0.045065515443541246, 0.044640203829043434, 0.044185560379063016, 0.04374558284682391, 0.04329093939684349, 0.04285096186460437, 0.04239631841462395, 0.04194167496464353, 0.04150169743240442, 0.041047053982424, 0.040607076450184895, 0.04015243300020448, 0.03969778955022406, 0.03928714385346754, 0.03883250040348714, 0.03839252287124802, 0.0379378794212676, 0.03749790188902849, 0.03704325843904807, 0.03658861498906765, 0.036148637456828545, 0.035693994006848126, 0.035254016474609004, 0.034799373024628585, 0.03434472957464817, 0.033934083877891666, 0.03347944042791125, 0.03303946289567214, 0.03258481944569172, 0.0321448419134526, 0.03169019846347218, 0.03123555501349176, 0.030795577481252653, 0.030340934031272235, 0.029900956499033127, 0.029446313049052708, 0.02899166959907229, 0.028581023902315775, 0.028126380452335356, 0.027686402920096248, 0.02723175947011583, 0.02679178193787672, 0.026337138487896303, 0.025882495037915884, 0.025442517505676762, 0.024987874055696357, 0.024547896523457235, 0.024093253073476817, 0.0236386096234964, 0.023213298008998587, 0.022758654559018168, 0.02231867702677906, 0.02186403357679864, 0.021424056044559533, 0.020969412594579115, 0.020514769144598696, 0.020074791612359574, 0.01962014816237917, 0.019180170630140048, 0.01872552718015963, 0.01827088373017921, 0.01786023803342271, 0.01740559458344229, 0.016965617051203183, 0.01651097360122275, 0.016070996068983656, 0.015616352619003238, 0.015161709169022819, 0.014721731636783697, 0.014267088186803278, 0.013827110654564156, 0.013372467204583738, 0.01291782375460332, 0.012507178057846818, 0.0120525346078664, 0.011612557075627306, 0.011157913625646887, 0.010717936093407765, 0.010263292643427346, 0.009808649193446928, 0.009368671661207806, 0.008914028211227387, 0.008474050678988293, 0.008019407229007874, 0.007564763779027456, 0.007154118082270927, 0.0066994746322905085, 0.006259497100051414, 0.005804853650070996, 0.005364876117831874, 0.004910232667851455, 0.004455589217871037, 0.004015611685631915, 0.0035609682356515238, 0.003120990703412402, 0.002666347253431983, 0.0022117038034515646, 0.0017863921889537393, 0.0013317487389733207, 0.0008917712067342265, 0.0004371277567538079, -2.8497754853140655e-06, -0.0004574932254657327, -0.0009121366754461513, -0.0013521142076852732, -0.0018067576576656919, -0.002246735189904786, -0.0027013786398852047, -0.0031560220898656233, -0.003566667786622124, -0.004021311236602543, -0.004461288768841665, -0.004915932218822083, -0.005355909751061205, -0.005810553201041624, -0.0062651966510220425, -0.006705174183261137, -0.007159817633241555, -0.007599795165480677, -0.008054438615461096, -0.008509082065441514, -0.008919727762198015, -0.009374371212178434, -0.009814348744417556, -0.010268992194397975, -0.010708969726637069, -0.011163613176617487, -0.011618256626597906, -0.012058234158837028, -0.012512877608817446, -0.012952855141056568, -0.013407498591036987, -0.013862142041017406, -0.014272787737773907, -0.014727431187754325, -0.015167408719993447, -0.015622052169973838, -0.01606202970221296, -0.01651667315219338, -0.016971316602173797, -0.01741129413441292, -0.017865937584393338, -0.018305915116632432, -0.01876055856661285, -0.01921520201659327, -0.019640513631091094, -0.020095157081071513, -0.020535134613310635, -0.020989778063291026, -0.021429755595530148, -0.021884399045510566, -0.022339042495490985, -0.022779020027730107, -0.023233663477710526, -0.02367364100994962, -0.02412828445993004, -0.024582927909910457, -0.024993573606666986, -0.025448217056647404, -0.0258881945888865, -0.026342838038866917, -0.02678281557110604, -0.027237459021086458, -0.027692102471066876, -0.028132080003305998, -0.028586723453286417, -0.02902670098552551, -0.02948134443550593, -0.029935987885486348, -0.03034663358224285, -0.030801277032223268, -0.03124125456446239, -0.03169589801444281, -0.03213587554668193, -0.03259051899666235, -0.03304516244664277, -0.03348513997888186, -0.03393978342886228, -0.0343797609611014, -0.03483440441108182, -0.03528904786106224, -0.03569969355781874, -0.03615433700779916, -0.03659431454003828, -0.0370489579900187, -0.037488935522257794, -0.03794357897223821, -0.03839822242221863, -0.03883819995445775, -0.03929284340443817, -0.03973282093667729, -0.04018746438665771, -0.04064210783663813, -0.04106741945113593, -0.04152206290111635, -0.04196204043335547, -0.04241668388333589, -0.04285666141557498, -0.0433113048655554, -0.04376594831553582, -0.04420592584777494, -0.04466056929775536, -0.04510054682999448, -0.0455551902799749, -0.04600983372995532, -0.04642047942671182, -0.04687512287669224, -0.04731510040893136, -0.04776974385891178, -0.04820972139115087, -0.04866436484113129, -0.04911900829111171, -0.04955898582335083, -0.05001362927333125, -0.05045360680557037, -0.05090825025555076, -0.05136289370553118, -0.05177353940228771, -0.05222818285226813, -0.05266816038450722, -0.05312280383448764, -0.053562781366726764, -0.05401742481670718, -0.0544720682666876, -0.05491204579892672, -0.05536668924890714, -0.055806666781146236, -0.056261310231126654, -0.05671595368110707, -0.057126599377863574, -0.05758124282784399, -0.058021220360083114, -0.05847586381006353, -0.058915841342302655, -0.059370484792283074, -0.05982512824226349, -0.060265105774502586, -0.060719749224483005, -0.06115972675672213, -0.061614370206702546, -0.062069013656682964, -0.06249432527118076, -0.06294896872116118, -0.0633889462534003, -0.06384358970338072, -0.06428356723561984, -0.06473821068560026, -0.06519285413558068, -0.06563283166781977, -0.06608747511780019, -0.06652745265003931, -0.06698209610001973, -0.06743673955000015, -0.06784738524675665, -0.06830202869673707, -0.0687420062289762, -0.06919664967895661, -0.0696366272111957, -0.07009127066117612, -0.07054591411115654, -0.07098589164339567, -0.07144053509337608, -0.0718805126256152, -0.07233515607559562, -0.07278979952557604, -0.07320044522233254, -0.07365508867231296, -0.07409506620455208, -0.0745497096545325, -0.0749896871867716, -0.07544433063675202, -0.07589897408673243, -0.07633895161897156, -0.07679359506895198, -0.0772335726011911, -0.07768821605117152, -0.0781428595011519, -0.07855350519790844, -0.07900814864788885, -0.07944812618012795, -0.07990276963010837, -0.08034274716234749, -0.08079739061232791, -0.08125203406230833, -0.08169201159454745, -0.08214665504452787, -0.08258663257676696, -0.08304127602674738, -0.0834959194767278, -0.08392123109122562, -0.08437587454120604, -0.08481585207344514, -0.08527049552342555, -0.08571047305566468, -0.0861651165056451, -0.08661975995562551, -0.08705973748786464, -0.08751438093784505, -0.08795435847008415, -0.08840900192006457, -0.08886364537004499, -0.08927429106680149, -0.0897289345167819, -0.09016891204902103, -0.09062355549900145, -0.09106353303124057, -0.09151817648122099, -0.0919728199312014, -0.0924127974634405, -0.09286744091342092, -0.09330741844566004, -0.09376206189564046, -0.09421670534562088], \"yaxis\": \"y\"}],\n",
              "                        {\"legend\": {\"tracegroupgap\": 0}, \"margin\": {\"t\": 60}, \"template\": {\"data\": {\"bar\": [{\"error_x\": {\"color\": \"#2a3f5f\"}, \"error_y\": {\"color\": \"#2a3f5f\"}, \"marker\": {\"line\": {\"color\": \"#E5ECF6\", \"width\": 0.5}}, \"type\": \"bar\"}], \"barpolar\": [{\"marker\": {\"line\": {\"color\": \"#E5ECF6\", \"width\": 0.5}}, \"type\": \"barpolar\"}], \"carpet\": [{\"aaxis\": {\"endlinecolor\": \"#2a3f5f\", \"gridcolor\": \"white\", \"linecolor\": \"white\", \"minorgridcolor\": \"white\", \"startlinecolor\": \"#2a3f5f\"}, \"baxis\": {\"endlinecolor\": \"#2a3f5f\", \"gridcolor\": \"white\", \"linecolor\": \"white\", \"minorgridcolor\": \"white\", \"startlinecolor\": \"#2a3f5f\"}, \"type\": \"carpet\"}], \"choropleth\": [{\"colorbar\": {\"outlinewidth\": 0, \"ticks\": \"\"}, \"type\": \"choropleth\"}], \"contour\": [{\"colorbar\": {\"outlinewidth\": 0, \"ticks\": \"\"}, \"colorscale\": [[0.0, \"#0d0887\"], [0.1111111111111111, \"#46039f\"], [0.2222222222222222, \"#7201a8\"], [0.3333333333333333, \"#9c179e\"], [0.4444444444444444, \"#bd3786\"], [0.5555555555555556, \"#d8576b\"], [0.6666666666666666, \"#ed7953\"], [0.7777777777777778, \"#fb9f3a\"], [0.8888888888888888, \"#fdca26\"], [1.0, \"#f0f921\"]], \"type\": \"contour\"}], \"contourcarpet\": [{\"colorbar\": {\"outlinewidth\": 0, \"ticks\": \"\"}, \"type\": \"contourcarpet\"}], \"heatmap\": [{\"colorbar\": {\"outlinewidth\": 0, \"ticks\": \"\"}, \"colorscale\": [[0.0, \"#0d0887\"], [0.1111111111111111, \"#46039f\"], [0.2222222222222222, \"#7201a8\"], [0.3333333333333333, \"#9c179e\"], [0.4444444444444444, \"#bd3786\"], [0.5555555555555556, \"#d8576b\"], [0.6666666666666666, \"#ed7953\"], [0.7777777777777778, \"#fb9f3a\"], [0.8888888888888888, \"#fdca26\"], [1.0, \"#f0f921\"]], \"type\": \"heatmap\"}], \"heatmapgl\": [{\"colorbar\": {\"outlinewidth\": 0, \"ticks\": \"\"}, \"colorscale\": [[0.0, \"#0d0887\"], [0.1111111111111111, \"#46039f\"], [0.2222222222222222, \"#7201a8\"], [0.3333333333333333, \"#9c179e\"], [0.4444444444444444, \"#bd3786\"], [0.5555555555555556, \"#d8576b\"], [0.6666666666666666, \"#ed7953\"], [0.7777777777777778, \"#fb9f3a\"], [0.8888888888888888, \"#fdca26\"], [1.0, \"#f0f921\"]], \"type\": \"heatmapgl\"}], \"histogram\": [{\"marker\": {\"colorbar\": {\"outlinewidth\": 0, \"ticks\": \"\"}}, \"type\": \"histogram\"}], \"histogram2d\": [{\"colorbar\": {\"outlinewidth\": 0, \"ticks\": \"\"}, \"colorscale\": [[0.0, \"#0d0887\"], [0.1111111111111111, \"#46039f\"], [0.2222222222222222, \"#7201a8\"], [0.3333333333333333, \"#9c179e\"], [0.4444444444444444, \"#bd3786\"], [0.5555555555555556, \"#d8576b\"], [0.6666666666666666, \"#ed7953\"], [0.7777777777777778, \"#fb9f3a\"], [0.8888888888888888, \"#fdca26\"], [1.0, \"#f0f921\"]], \"type\": \"histogram2d\"}], \"histogram2dcontour\": [{\"colorbar\": {\"outlinewidth\": 0, \"ticks\": \"\"}, \"colorscale\": [[0.0, \"#0d0887\"], [0.1111111111111111, \"#46039f\"], [0.2222222222222222, \"#7201a8\"], [0.3333333333333333, \"#9c179e\"], [0.4444444444444444, \"#bd3786\"], [0.5555555555555556, \"#d8576b\"], [0.6666666666666666, \"#ed7953\"], [0.7777777777777778, \"#fb9f3a\"], [0.8888888888888888, \"#fdca26\"], [1.0, \"#f0f921\"]], \"type\": \"histogram2dcontour\"}], \"mesh3d\": [{\"colorbar\": {\"outlinewidth\": 0, \"ticks\": \"\"}, \"type\": \"mesh3d\"}], \"parcoords\": [{\"line\": {\"colorbar\": {\"outlinewidth\": 0, \"ticks\": \"\"}}, \"type\": \"parcoords\"}], \"pie\": [{\"automargin\": true, \"type\": \"pie\"}], \"scatter\": [{\"marker\": {\"colorbar\": {\"outlinewidth\": 0, \"ticks\": \"\"}}, \"type\": \"scatter\"}], \"scatter3d\": [{\"line\": {\"colorbar\": {\"outlinewidth\": 0, \"ticks\": \"\"}}, \"marker\": {\"colorbar\": {\"outlinewidth\": 0, \"ticks\": \"\"}}, \"type\": \"scatter3d\"}], \"scattercarpet\": [{\"marker\": {\"colorbar\": {\"outlinewidth\": 0, \"ticks\": \"\"}}, \"type\": \"scattercarpet\"}], \"scattergeo\": [{\"marker\": {\"colorbar\": {\"outlinewidth\": 0, \"ticks\": \"\"}}, \"type\": \"scattergeo\"}], \"scattergl\": [{\"marker\": {\"colorbar\": {\"outlinewidth\": 0, \"ticks\": \"\"}}, \"type\": \"scattergl\"}], \"scattermapbox\": [{\"marker\": {\"colorbar\": {\"outlinewidth\": 0, \"ticks\": \"\"}}, \"type\": \"scattermapbox\"}], \"scatterpolar\": [{\"marker\": {\"colorbar\": {\"outlinewidth\": 0, \"ticks\": \"\"}}, \"type\": \"scatterpolar\"}], \"scatterpolargl\": [{\"marker\": {\"colorbar\": {\"outlinewidth\": 0, \"ticks\": \"\"}}, \"type\": \"scatterpolargl\"}], \"scatterternary\": [{\"marker\": {\"colorbar\": {\"outlinewidth\": 0, \"ticks\": \"\"}}, \"type\": \"scatterternary\"}], \"surface\": [{\"colorbar\": {\"outlinewidth\": 0, \"ticks\": \"\"}, \"colorscale\": [[0.0, \"#0d0887\"], [0.1111111111111111, \"#46039f\"], [0.2222222222222222, \"#7201a8\"], [0.3333333333333333, \"#9c179e\"], [0.4444444444444444, \"#bd3786\"], [0.5555555555555556, \"#d8576b\"], [0.6666666666666666, \"#ed7953\"], [0.7777777777777778, \"#fb9f3a\"], [0.8888888888888888, \"#fdca26\"], [1.0, \"#f0f921\"]], \"type\": \"surface\"}], \"table\": [{\"cells\": {\"fill\": {\"color\": \"#EBF0F8\"}, \"line\": {\"color\": \"white\"}}, \"header\": {\"fill\": {\"color\": \"#C8D4E3\"}, \"line\": {\"color\": \"white\"}}, \"type\": \"table\"}]}, \"layout\": {\"annotationdefaults\": {\"arrowcolor\": \"#2a3f5f\", \"arrowhead\": 0, \"arrowwidth\": 1}, \"coloraxis\": {\"colorbar\": {\"outlinewidth\": 0, \"ticks\": \"\"}}, \"colorscale\": {\"diverging\": [[0, \"#8e0152\"], [0.1, \"#c51b7d\"], [0.2, \"#de77ae\"], [0.3, \"#f1b6da\"], [0.4, \"#fde0ef\"], [0.5, \"#f7f7f7\"], [0.6, \"#e6f5d0\"], [0.7, \"#b8e186\"], [0.8, \"#7fbc41\"], [0.9, \"#4d9221\"], [1, \"#276419\"]], \"sequential\": [[0.0, \"#0d0887\"], [0.1111111111111111, \"#46039f\"], [0.2222222222222222, \"#7201a8\"], [0.3333333333333333, \"#9c179e\"], [0.4444444444444444, \"#bd3786\"], [0.5555555555555556, \"#d8576b\"], [0.6666666666666666, \"#ed7953\"], [0.7777777777777778, \"#fb9f3a\"], [0.8888888888888888, \"#fdca26\"], [1.0, \"#f0f921\"]], \"sequentialminus\": [[0.0, \"#0d0887\"], [0.1111111111111111, \"#46039f\"], [0.2222222222222222, \"#7201a8\"], [0.3333333333333333, \"#9c179e\"], [0.4444444444444444, \"#bd3786\"], [0.5555555555555556, \"#d8576b\"], [0.6666666666666666, \"#ed7953\"], [0.7777777777777778, \"#fb9f3a\"], [0.8888888888888888, \"#fdca26\"], [1.0, \"#f0f921\"]]}, \"colorway\": [\"#636efa\", \"#EF553B\", \"#00cc96\", \"#ab63fa\", \"#FFA15A\", \"#19d3f3\", \"#FF6692\", \"#B6E880\", \"#FF97FF\", \"#FECB52\"], \"font\": {\"color\": \"#2a3f5f\"}, \"geo\": {\"bgcolor\": \"white\", \"lakecolor\": \"white\", \"landcolor\": \"#E5ECF6\", \"showlakes\": true, \"showland\": true, \"subunitcolor\": \"white\"}, \"hoverlabel\": {\"align\": \"left\"}, \"hovermode\": \"closest\", \"mapbox\": {\"style\": \"light\"}, \"paper_bgcolor\": \"white\", \"plot_bgcolor\": \"#E5ECF6\", \"polar\": {\"angularaxis\": {\"gridcolor\": \"white\", \"linecolor\": \"white\", \"ticks\": \"\"}, \"bgcolor\": \"#E5ECF6\", \"radialaxis\": {\"gridcolor\": \"white\", \"linecolor\": \"white\", \"ticks\": \"\"}}, \"scene\": {\"xaxis\": {\"backgroundcolor\": \"#E5ECF6\", \"gridcolor\": \"white\", \"gridwidth\": 2, \"linecolor\": \"white\", \"showbackground\": true, \"ticks\": \"\", \"zerolinecolor\": \"white\"}, \"yaxis\": {\"backgroundcolor\": \"#E5ECF6\", \"gridcolor\": \"white\", \"gridwidth\": 2, \"linecolor\": \"white\", \"showbackground\": true, \"ticks\": \"\", \"zerolinecolor\": \"white\"}, \"zaxis\": {\"backgroundcolor\": \"#E5ECF6\", \"gridcolor\": \"white\", \"gridwidth\": 2, \"linecolor\": \"white\", \"showbackground\": true, \"ticks\": \"\", \"zerolinecolor\": \"white\"}}, \"shapedefaults\": {\"line\": {\"color\": \"#2a3f5f\"}}, \"ternary\": {\"aaxis\": {\"gridcolor\": \"white\", \"linecolor\": \"white\", \"ticks\": \"\"}, \"baxis\": {\"gridcolor\": \"white\", \"linecolor\": \"white\", \"ticks\": \"\"}, \"bgcolor\": \"#E5ECF6\", \"caxis\": {\"gridcolor\": \"white\", \"linecolor\": \"white\", \"ticks\": \"\"}}, \"title\": {\"x\": 0.05}, \"xaxis\": {\"automargin\": true, \"gridcolor\": \"white\", \"linecolor\": \"white\", \"ticks\": \"\", \"title\": {\"standoff\": 15}, \"zerolinecolor\": \"white\", \"zerolinewidth\": 2}, \"yaxis\": {\"automargin\": true, \"gridcolor\": \"white\", \"linecolor\": \"white\", \"ticks\": \"\", \"title\": {\"standoff\": 15}, \"zerolinecolor\": \"white\", \"zerolinewidth\": 2}}}, \"xaxis\": {\"anchor\": \"y\", \"domain\": [0.0, 1.0], \"rangeslider\": {\"visible\": true}, \"title\": {\"text\": \"date\"}}, \"yaxis\": {\"anchor\": \"x\", \"domain\": [0.0, 1.0], \"title\": {\"text\": \"n_extent\"}}},\n",
              "                        {\"responsive\": true}\n",
              "                    ).then(function(){\n",
              "                            \n",
              "var gd = document.getElementById('4c122444-577f-4cba-bd23-c60de384f4e5');\n",
              "var x = new MutationObserver(function (mutations, observer) {{\n",
              "        var display = window.getComputedStyle(gd).display;\n",
              "        if (!display || display === 'none') {{\n",
              "            console.log([gd, 'removed!']);\n",
              "            Plotly.purge(gd);\n",
              "            observer.disconnect();\n",
              "        }}\n",
              "}});\n",
              "\n",
              "// Listen for the removal of the full notebook cells\n",
              "var notebookContainer = gd.closest('#notebook-container');\n",
              "if (notebookContainer) {{\n",
              "    x.observe(notebookContainer, {childList: true});\n",
              "}}\n",
              "\n",
              "// Listen for the clearing of the current output cell\n",
              "var outputEl = gd.closest('.output');\n",
              "if (outputEl) {{\n",
              "    x.observe(outputEl, {childList: true});\n",
              "}}\n",
              "\n",
              "                        })\n",
              "                };\n",
              "                \n",
              "            </script>\n",
              "        </div>\n",
              "</body>\n",
              "</html>"
            ]
          },
          "metadata": {}
        }
      ]
    },
    {
      "cell_type": "markdown",
      "metadata": {
        "id": "E1HdGwTHCC-x"
      },
      "source": [
        "Calculate the Pearson correlation coefficient and the p-value for testing non-correlation of the SIE temporal trend (consider all months). Is it significant?"
      ]
    },
    {
      "cell_type": "code",
      "metadata": {
        "colab": {
          "base_uri": "https://localhost:8080/",
          "height": 81
        },
        "id": "3BO-ivGTASLz",
        "outputId": "37bbbbc6-99ba-47b6-849b-40453f7523bb"
      },
      "source": [
        "#Podemos obtener los datos a partir del último ajuste.\n",
        "results.head()"
      ],
      "execution_count": 65,
      "outputs": [
        {
          "output_type": "execute_result",
          "data": {
            "text/html": [
              "<div>\n",
              "<style scoped>\n",
              "    .dataframe tbody tr th:only-of-type {\n",
              "        vertical-align: middle;\n",
              "    }\n",
              "\n",
              "    .dataframe tbody tr th {\n",
              "        vertical-align: top;\n",
              "    }\n",
              "\n",
              "    .dataframe thead th {\n",
              "        text-align: right;\n",
              "    }\n",
              "</style>\n",
              "<table border=\"1\" class=\"dataframe\">\n",
              "  <thead>\n",
              "    <tr style=\"text-align: right;\">\n",
              "      <th></th>\n",
              "      <th>px_fit_results</th>\n",
              "    </tr>\n",
              "  </thead>\n",
              "  <tbody>\n",
              "    <tr>\n",
              "      <th>0</th>\n",
              "      <td>&lt;statsmodels.regression.linear_model.Regressio...</td>\n",
              "    </tr>\n",
              "  </tbody>\n",
              "</table>\n",
              "</div>"
            ],
            "text/plain": [
              "                                      px_fit_results\n",
              "0  <statsmodels.regression.linear_model.Regressio..."
            ]
          },
          "metadata": {},
          "execution_count": 65
        }
      ]
    },
    {
      "cell_type": "code",
      "metadata": {
        "id": "o-6AvL2wJE3v",
        "colab": {
          "base_uri": "https://localhost:8080/"
        },
        "outputId": "34d7650f-aba3-49b9-f20f-bea6255a1ed9"
      },
      "source": [
        "type(results['px_fit_results'][0])"
      ],
      "execution_count": 66,
      "outputs": [
        {
          "output_type": "execute_result",
          "data": {
            "text/plain": [
              "statsmodels.regression.linear_model.RegressionResultsWrapper"
            ]
          },
          "metadata": {},
          "execution_count": 66
        }
      ]
    },
    {
      "cell_type": "code",
      "metadata": {
        "id": "m_3RBUMbCR3E",
        "colab": {
          "base_uri": "https://localhost:8080/"
        },
        "outputId": "9036415a-e43d-4172-f30e-b7dca2d50c25"
      },
      "source": [
        "#Teniendo en cuenta que R^2 = r^2, el coeficiente de correlación de Pearson es:\n",
        "-np.sqrt(results['px_fit_results'][0].rsquared)\n",
        "#Sabiendo que la relación entre las variables es negativa."
      ],
      "execution_count": 69,
      "outputs": [
        {
          "output_type": "execute_result",
          "data": {
            "text/plain": [
              "-0.715971456558494"
            ]
          },
          "metadata": {},
          "execution_count": 69
        }
      ]
    },
    {
      "cell_type": "code",
      "metadata": {
        "colab": {
          "base_uri": "https://localhost:8080/"
        },
        "id": "2BtNxBmYrAXA",
        "outputId": "4fc91fc0-6958-46c4-be1c-d185d6f33df4"
      },
      "source": [
        "#El p-valor asociado es:\n",
        "results['px_fit_results'][0].f_pvalue\n",
        "#Obtenemos un valor muy pequeño por lo que rechazamos la hipótesis de que\n",
        "#no existe correlación entre las dos variables"
      ],
      "execution_count": 70,
      "outputs": [
        {
          "output_type": "execute_result",
          "data": {
            "text/plain": [
              "1.539280743510228e-67"
            ]
          },
          "metadata": {},
          "execution_count": 70
        }
      ]
    },
    {
      "cell_type": "code",
      "metadata": {
        "colab": {
          "base_uri": "https://localhost:8080/"
        },
        "id": "nieQDgwArYbX",
        "outputId": "3756c24a-7806-4c47-9ccd-fbc713bb2e2b"
      },
      "source": [
        "#También podemos obtener los valores utlizando las siguientes líneas:\n",
        "from scipy.stats import pearsonr\n",
        "df['num_date'] = df['year'] + ((df['mo']-1)*(1/12))\n",
        "pearsonr(df['num_date'], df['n_extent'])"
      ],
      "execution_count": 71,
      "outputs": [
        {
          "output_type": "execute_result",
          "data": {
            "text/plain": [
              "(-0.7159775875167703, 1.533456024637984e-67)"
            ]
          },
          "metadata": {},
          "execution_count": 71
        }
      ]
    },
    {
      "cell_type": "code",
      "metadata": {
        "colab": {
          "base_uri": "https://localhost:8080/"
        },
        "id": "AQoY3T6nnLwB",
        "outputId": "f9d0718a-098f-432f-f521-3311878391b1"
      },
      "source": [
        "#Ya hemos visto que podemos acceder a los datos de la regresión que se \n",
        "#muestra en la última gráfica.\n",
        "#La recta se ha construido utilizando la librería statsmodels,\n",
        "#conviertiendo la fecha a datetime en formato unix epoch\n",
        "#siguiendo los siguientes pasos:\n",
        "\n",
        "datetimes=df['date'].astype('datetime64')\n",
        "datetimes"
      ],
      "execution_count": 76,
      "outputs": [
        {
          "output_type": "execute_result",
          "data": {
            "text/plain": [
              "0     1979-01-01\n",
              "1     1980-01-01\n",
              "2     1981-01-01\n",
              "3     1982-01-01\n",
              "4     1983-01-01\n",
              "         ...    \n",
              "417   2009-12-01\n",
              "418   2010-12-01\n",
              "419   2011-12-01\n",
              "420   2012-12-01\n",
              "421   2013-12-01\n",
              "Name: date, Length: 422, dtype: datetime64[ns]"
            ]
          },
          "metadata": {},
          "execution_count": 76
        }
      ]
    },
    {
      "cell_type": "code",
      "metadata": {
        "colab": {
          "base_uri": "https://localhost:8080/"
        },
        "id": "h1uf1iWKo51P",
        "outputId": "fe4e831a-8263-4cf3-c381-dfecba7fe94a"
      },
      "source": [
        "datetimes=datetimes.astype(int)\n",
        "datetimes"
      ],
      "execution_count": 77,
      "outputs": [
        {
          "output_type": "execute_result",
          "data": {
            "text/plain": [
              "0       283996800000000000\n",
              "1       315532800000000000\n",
              "2       347155200000000000\n",
              "3       378691200000000000\n",
              "4       410227200000000000\n",
              "              ...         \n",
              "417    1259625600000000000\n",
              "418    1291161600000000000\n",
              "419    1322697600000000000\n",
              "420    1354320000000000000\n",
              "421    1385856000000000000\n",
              "Name: date, Length: 422, dtype: int64"
            ]
          },
          "metadata": {},
          "execution_count": 77
        }
      ]
    },
    {
      "cell_type": "code",
      "metadata": {
        "id": "sRiqaC3nlc93"
      },
      "source": [
        "y = df['n_extent']\n",
        "x = datetimes/10**9\n",
        "x = sm.add_constant(x)\n",
        "model = sm.OLS(y, x)\n",
        "fit = model.fit()"
      ],
      "execution_count": 82,
      "outputs": []
    },
    {
      "cell_type": "code",
      "metadata": {
        "colab": {
          "base_uri": "https://localhost:8080/"
        },
        "id": "39zwot2JpGUa",
        "outputId": "b0d433fc-b432-4242-b999-dfe4fc514c7e"
      },
      "source": [
        "#Los coeficientes de ambas regresiones son los mismos\n",
        "#por lo tanto, son el mismo ajuste.\n",
        "fit.params - results['px_fit_results'][0].params"
      ],
      "execution_count": 83,
      "outputs": [
        {
          "output_type": "execute_result",
          "data": {
            "text/plain": [
              "const    8.326673e-17\n",
              "date    -7.754818e-26\n",
              "dtype: float64"
            ]
          },
          "metadata": {},
          "execution_count": 83
        }
      ]
    },
    {
      "cell_type": "code",
      "metadata": {
        "id": "uhG_OWNTIRQ_"
      },
      "source": [
        "#Una vez que sabemos como transforma las fechas, podemos utilizar\n",
        "#los datos de la gráfica para completar el resto de apartados."
      ],
      "execution_count": null,
      "outputs": []
    },
    {
      "cell_type": "markdown",
      "metadata": {
        "id": "0AeC2mAkFqp0"
      },
      "source": [
        "### 3. Compute the trend as a simple linear regression (OLS) and quantitatively evaluate it.\n",
        "\n",
        "Provide the estimated parameters for the linear regression. \n",
        "Evaluate the quality of fit quantitatively and graphically."
      ]
    },
    {
      "cell_type": "code",
      "metadata": {
        "colab": {
          "base_uri": "https://localhost:8080/",
          "height": 486
        },
        "id": "zp095ybBI69C",
        "outputId": "fd4b0525-bdfa-4787-b573-3ac0a2ba9d4a"
      },
      "source": [
        "fit0 = results['px_fit_results'][0]\n",
        "fit0.summary()"
      ],
      "execution_count": 85,
      "outputs": [
        {
          "output_type": "execute_result",
          "data": {
            "text/html": [
              "<table class=\"simpletable\">\n",
              "<caption>OLS Regression Results</caption>\n",
              "<tr>\n",
              "  <th>Dep. Variable:</th>            <td>y</td>        <th>  R-squared:         </th> <td>   0.513</td>\n",
              "</tr>\n",
              "<tr>\n",
              "  <th>Model:</th>                   <td>OLS</td>       <th>  Adj. R-squared:    </th> <td>   0.511</td>\n",
              "</tr>\n",
              "<tr>\n",
              "  <th>Method:</th>             <td>Least Squares</td>  <th>  F-statistic:       </th> <td>   441.7</td>\n",
              "</tr>\n",
              "<tr>\n",
              "  <th>Date:</th>             <td>Thu, 11 Nov 2021</td> <th>  Prob (F-statistic):</th> <td>1.54e-67</td>\n",
              "</tr>\n",
              "<tr>\n",
              "  <th>Time:</th>                 <td>22:35:10</td>     <th>  Log-Likelihood:    </th> <td>  638.32</td>\n",
              "</tr>\n",
              "<tr>\n",
              "  <th>No. Observations:</th>      <td>   422</td>      <th>  AIC:               </th> <td>  -1273.</td>\n",
              "</tr>\n",
              "<tr>\n",
              "  <th>Df Residuals:</th>          <td>   420</td>      <th>  BIC:               </th> <td>  -1265.</td>\n",
              "</tr>\n",
              "<tr>\n",
              "  <th>Df Model:</th>              <td>     1</td>      <th>                     </th>     <td> </td>   \n",
              "</tr>\n",
              "<tr>\n",
              "  <th>Covariance Type:</th>      <td>nonrobust</td>    <th>                     </th>     <td> </td>   \n",
              "</tr>\n",
              "</table>\n",
              "<table class=\"simpletable\">\n",
              "<tr>\n",
              "    <td></td>       <th>coef</th>     <th>std err</th>      <th>t</th>      <th>P>|t|</th>  <th>[0.025</th>    <th>0.975]</th>  \n",
              "</tr>\n",
              "<tr>\n",
              "  <th>const</th> <td>    0.1419</td> <td>    0.007</td> <td>   19.613</td> <td> 0.000</td> <td>    0.128</td> <td>    0.156</td>\n",
              "</tr>\n",
              "<tr>\n",
              "  <th>x1</th>    <td>-1.697e-10</td> <td> 8.08e-12</td> <td>  -21.018</td> <td> 0.000</td> <td>-1.86e-10</td> <td>-1.54e-10</td>\n",
              "</tr>\n",
              "</table>\n",
              "<table class=\"simpletable\">\n",
              "<tr>\n",
              "  <th>Omnibus:</th>       <td>147.147</td> <th>  Durbin-Watson:     </th> <td>   0.620</td> \n",
              "</tr>\n",
              "<tr>\n",
              "  <th>Prob(Omnibus):</th> <td> 0.000</td>  <th>  Jarque-Bera (JB):  </th> <td>1230.043</td> \n",
              "</tr>\n",
              "<tr>\n",
              "  <th>Skew:</th>          <td>-1.245</td>  <th>  Prob(JB):          </th> <td>7.94e-268</td>\n",
              "</tr>\n",
              "<tr>\n",
              "  <th>Kurtosis:</th>      <td>10.984</td>  <th>  Cond. No.          </th> <td>2.49e+09</td> \n",
              "</tr>\n",
              "</table><br/><br/>Warnings:<br/>[1] Standard Errors assume that the covariance matrix of the errors is correctly specified.<br/>[2] The condition number is large, 2.49e+09. This might indicate that there are<br/>strong multicollinearity or other numerical problems."
            ],
            "text/plain": [
              "<class 'statsmodels.iolib.summary.Summary'>\n",
              "\"\"\"\n",
              "                            OLS Regression Results                            \n",
              "==============================================================================\n",
              "Dep. Variable:                      y   R-squared:                       0.513\n",
              "Model:                            OLS   Adj. R-squared:                  0.511\n",
              "Method:                 Least Squares   F-statistic:                     441.7\n",
              "Date:                Thu, 11 Nov 2021   Prob (F-statistic):           1.54e-67\n",
              "Time:                        22:35:10   Log-Likelihood:                 638.32\n",
              "No. Observations:                 422   AIC:                            -1273.\n",
              "Df Residuals:                     420   BIC:                            -1265.\n",
              "Df Model:                           1                                         \n",
              "Covariance Type:            nonrobust                                         \n",
              "==============================================================================\n",
              "                 coef    std err          t      P>|t|      [0.025      0.975]\n",
              "------------------------------------------------------------------------------\n",
              "const          0.1419      0.007     19.613      0.000       0.128       0.156\n",
              "x1         -1.697e-10   8.08e-12    -21.018      0.000   -1.86e-10   -1.54e-10\n",
              "==============================================================================\n",
              "Omnibus:                      147.147   Durbin-Watson:                   0.620\n",
              "Prob(Omnibus):                  0.000   Jarque-Bera (JB):             1230.043\n",
              "Skew:                          -1.245   Prob(JB):                    7.94e-268\n",
              "Kurtosis:                      10.984   Cond. No.                     2.49e+09\n",
              "==============================================================================\n",
              "\n",
              "Warnings:\n",
              "[1] Standard Errors assume that the covariance matrix of the errors is correctly specified.\n",
              "[2] The condition number is large, 2.49e+09. This might indicate that there are\n",
              "strong multicollinearity or other numerical problems.\n",
              "\"\"\""
            ]
          },
          "metadata": {},
          "execution_count": 85
        }
      ]
    },
    {
      "cell_type": "code",
      "metadata": {
        "colab": {
          "base_uri": "https://localhost:8080/"
        },
        "id": "SJivE8HPIswU",
        "outputId": "88e66961-952f-4c62-eddc-f5f67600a9ea"
      },
      "source": [
        "#Coeficientes\n",
        "print(f'Constante:{fit0.params[0]}')\n",
        "print(f'Pendiente:{fit0.params[1]}')"
      ],
      "execution_count": 97,
      "outputs": [
        {
          "output_type": "stream",
          "name": "stdout",
          "text": [
            "Constante:0.1419339021248528\n",
            "Pendiente:-1.6974441830212723e-10\n"
          ]
        }
      ]
    },
    {
      "cell_type": "code",
      "metadata": {
        "colab": {
          "base_uri": "https://localhost:8080/"
        },
        "id": "SaJPtEAiI3_7",
        "outputId": "636ef843-495e-49c8-d32f-e99c782b8588"
      },
      "source": [
        "#Observamos\n",
        "print(f'R^2:{fit0.rsquared}')\n",
        "print(f'Mean Squared Error:{fit0.mse_total}')\n",
        "print(f'Mean Squared Error of the Model:{fit0.mse_model/422}')\n",
        "print(f'Mean Squared Error of the Residuals:{fit0.mse_resid*420/422}')\n",
        "print(f'Explained Variance Regression Score:{1-(fit0.resid.std()**2)/(df[\"n_extent\"].std()**2)}')"
      ],
      "execution_count": 106,
      "outputs": [
        {
          "output_type": "stream",
          "name": "stdout",
          "text": [
            "R^2:0.5126151266064916\n",
            "Mean Squared Error:0.005845877080661787\n",
            "Mean Squared Error of the Model:0.0029895838704933407\n",
            "Mean Squared Error of the Residuals:0.0028424404208777787\n",
            "Explained Variance Regression Score:0.5137700670647704\n"
          ]
        }
      ]
    },
    {
      "cell_type": "markdown",
      "metadata": {
        "id": "gxp66GqG9gOv"
      },
      "source": [
        "### 4. Estimate the sea ice extent for January 2025\n",
        "\n",
        " Is there a negative trend in the evolution of sea ice extent over recent years? "
      ]
    },
    {
      "cell_type": "code",
      "metadata": {
        "id": "suEhutXK9gOw",
        "colab": {
          "base_uri": "https://localhost:8080/",
          "height": 329
        },
        "outputId": "64fff872-5379-49f2-a237-bc25b87b0092"
      },
      "source": [
        "j_2005 = pd.to_datetime(2025, 1, 1)"
      ],
      "execution_count": 129,
      "outputs": [
        {
          "output_type": "error",
          "ename": "AssertionError",
          "evalue": "ignored",
          "traceback": [
            "\u001b[0;31m---------------------------------------------------------------------------\u001b[0m",
            "\u001b[0;31mAssertionError\u001b[0m                            Traceback (most recent call last)",
            "\u001b[0;32m<ipython-input-129-634036c91ba0>\u001b[0m in \u001b[0;36m<module>\u001b[0;34m()\u001b[0m\n\u001b[0;32m----> 1\u001b[0;31m \u001b[0mj_2005\u001b[0m \u001b[0;34m=\u001b[0m \u001b[0mpd\u001b[0m\u001b[0;34m.\u001b[0m\u001b[0mto_datetime\u001b[0m\u001b[0;34m(\u001b[0m\u001b[0;36m2025\u001b[0m\u001b[0;34m,\u001b[0m \u001b[0;36m1\u001b[0m\u001b[0;34m,\u001b[0m \u001b[0;36m1\u001b[0m\u001b[0;34m)\u001b[0m\u001b[0;34m\u001b[0m\u001b[0;34m\u001b[0m\u001b[0m\n\u001b[0m",
            "\u001b[0;32m/usr/local/lib/python3.7/dist-packages/pandas/core/tools/datetimes.py\u001b[0m in \u001b[0;36mto_datetime\u001b[0;34m(arg, errors, dayfirst, yearfirst, utc, format, exact, unit, infer_datetime_format, origin, cache)\u001b[0m\n\u001b[1;32m    828\u001b[0m             \u001b[0mresult\u001b[0m \u001b[0;34m=\u001b[0m \u001b[0mconvert_listlike\u001b[0m\u001b[0;34m(\u001b[0m\u001b[0marg\u001b[0m\u001b[0;34m,\u001b[0m \u001b[0mformat\u001b[0m\u001b[0;34m)\u001b[0m\u001b[0;34m\u001b[0m\u001b[0;34m\u001b[0m\u001b[0m\n\u001b[1;32m    829\u001b[0m     \u001b[0;32melse\u001b[0m\u001b[0;34m:\u001b[0m\u001b[0;34m\u001b[0m\u001b[0;34m\u001b[0m\u001b[0m\n\u001b[0;32m--> 830\u001b[0;31m         \u001b[0mresult\u001b[0m \u001b[0;34m=\u001b[0m \u001b[0mconvert_listlike\u001b[0m\u001b[0;34m(\u001b[0m\u001b[0mnp\u001b[0m\u001b[0;34m.\u001b[0m\u001b[0marray\u001b[0m\u001b[0;34m(\u001b[0m\u001b[0;34m[\u001b[0m\u001b[0marg\u001b[0m\u001b[0;34m]\u001b[0m\u001b[0;34m)\u001b[0m\u001b[0;34m,\u001b[0m \u001b[0mformat\u001b[0m\u001b[0;34m)\u001b[0m\u001b[0;34m[\u001b[0m\u001b[0;36m0\u001b[0m\u001b[0;34m]\u001b[0m\u001b[0;34m\u001b[0m\u001b[0;34m\u001b[0m\u001b[0m\n\u001b[0m\u001b[1;32m    831\u001b[0m \u001b[0;34m\u001b[0m\u001b[0m\n\u001b[1;32m    832\u001b[0m     \u001b[0;32mreturn\u001b[0m \u001b[0mresult\u001b[0m\u001b[0;34m\u001b[0m\u001b[0;34m\u001b[0m\u001b[0m\n",
            "\u001b[0;32m/usr/local/lib/python3.7/dist-packages/pandas/core/tools/datetimes.py\u001b[0m in \u001b[0;36m_convert_listlike_datetimes\u001b[0;34m(arg, format, name, tz, unit, errors, infer_datetime_format, dayfirst, yearfirst, exact)\u001b[0m\n\u001b[1;32m    464\u001b[0m             \u001b[0merrors\u001b[0m\u001b[0;34m=\u001b[0m\u001b[0merrors\u001b[0m\u001b[0;34m,\u001b[0m\u001b[0;34m\u001b[0m\u001b[0;34m\u001b[0m\u001b[0m\n\u001b[1;32m    465\u001b[0m             \u001b[0mrequire_iso8601\u001b[0m\u001b[0;34m=\u001b[0m\u001b[0mrequire_iso8601\u001b[0m\u001b[0;34m,\u001b[0m\u001b[0;34m\u001b[0m\u001b[0;34m\u001b[0m\u001b[0m\n\u001b[0;32m--> 466\u001b[0;31m             \u001b[0mallow_object\u001b[0m\u001b[0;34m=\u001b[0m\u001b[0;32mTrue\u001b[0m\u001b[0;34m,\u001b[0m\u001b[0;34m\u001b[0m\u001b[0;34m\u001b[0m\u001b[0m\n\u001b[0m\u001b[1;32m    467\u001b[0m         )\n\u001b[1;32m    468\u001b[0m \u001b[0;34m\u001b[0m\u001b[0m\n",
            "\u001b[0;32m/usr/local/lib/python3.7/dist-packages/pandas/core/arrays/datetimes.py\u001b[0m in \u001b[0;36mobjects_to_datetime64ns\u001b[0;34m(data, dayfirst, yearfirst, utc, errors, require_iso8601, allow_object)\u001b[0m\n\u001b[1;32m   2041\u001b[0m     \u001b[0mValueError\u001b[0m \u001b[0;34m:\u001b[0m \u001b[0;32mif\u001b[0m \u001b[0mdata\u001b[0m \u001b[0mcannot\u001b[0m \u001b[0mbe\u001b[0m \u001b[0mconverted\u001b[0m \u001b[0mto\u001b[0m \u001b[0mdatetimes\u001b[0m\u001b[0;34m\u001b[0m\u001b[0;34m\u001b[0m\u001b[0m\n\u001b[1;32m   2042\u001b[0m     \"\"\"\n\u001b[0;32m-> 2043\u001b[0;31m     \u001b[0;32massert\u001b[0m \u001b[0merrors\u001b[0m \u001b[0;32min\u001b[0m \u001b[0;34m[\u001b[0m\u001b[0;34m\"raise\"\u001b[0m\u001b[0;34m,\u001b[0m \u001b[0;34m\"ignore\"\u001b[0m\u001b[0;34m,\u001b[0m \u001b[0;34m\"coerce\"\u001b[0m\u001b[0;34m]\u001b[0m\u001b[0;34m\u001b[0m\u001b[0;34m\u001b[0m\u001b[0m\n\u001b[0m\u001b[1;32m   2044\u001b[0m \u001b[0;34m\u001b[0m\u001b[0m\n\u001b[1;32m   2045\u001b[0m     \u001b[0;31m# if str-dtype, convert\u001b[0m\u001b[0;34m\u001b[0m\u001b[0;34m\u001b[0m\u001b[0;34m\u001b[0m\u001b[0m\n",
            "\u001b[0;31mAssertionError\u001b[0m: "
          ]
        }
      ]
    },
    {
      "cell_type": "code",
      "metadata": {
        "id": "ctq-riwyVdTR"
      },
      "source": [
        "'datetime64'"
      ],
      "execution_count": null,
      "outputs": []
    }
  ]
}